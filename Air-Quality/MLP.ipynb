{
 "cells": [
  {
   "cell_type": "markdown",
   "id": "passive-procedure",
   "metadata": {},
   "source": [
    "# Linear  Regression using Mutli-Layer-Perceptron"
   ]
  },
  {
   "cell_type": "code",
   "execution_count": 35,
   "id": "uniform-thumb",
   "metadata": {},
   "outputs": [
    {
     "data": {
      "text/html": [
       "<div>\n",
       "<style scoped>\n",
       "    .dataframe tbody tr th:only-of-type {\n",
       "        vertical-align: middle;\n",
       "    }\n",
       "\n",
       "    .dataframe tbody tr th {\n",
       "        vertical-align: top;\n",
       "    }\n",
       "\n",
       "    .dataframe thead th {\n",
       "        text-align: right;\n",
       "    }\n",
       "</style>\n",
       "<table border=\"1\" class=\"dataframe\">\n",
       "  <thead>\n",
       "    <tr style=\"text-align: right;\">\n",
       "      <th></th>\n",
       "      <th>PT08.S1(CO)</th>\n",
       "      <th>PT08.S2(NMHC)</th>\n",
       "      <th>PT08.S3(NOx)</th>\n",
       "      <th>PT08.S4(NO2)</th>\n",
       "      <th>PT08.S5(O3)</th>\n",
       "      <th>T</th>\n",
       "      <th>RH</th>\n",
       "      <th>AH</th>\n",
       "      <th>is_weekend</th>\n",
       "      <th>month_April</th>\n",
       "      <th>...</th>\n",
       "      <th>month_November</th>\n",
       "      <th>month_October</th>\n",
       "      <th>month_September</th>\n",
       "      <th>day_Friday</th>\n",
       "      <th>day_Monday</th>\n",
       "      <th>day_Saturday</th>\n",
       "      <th>day_Sunday</th>\n",
       "      <th>day_Thursday</th>\n",
       "      <th>day_Tuesday</th>\n",
       "      <th>day_Wednesday</th>\n",
       "    </tr>\n",
       "    <tr>\n",
       "      <th>datetime</th>\n",
       "      <th></th>\n",
       "      <th></th>\n",
       "      <th></th>\n",
       "      <th></th>\n",
       "      <th></th>\n",
       "      <th></th>\n",
       "      <th></th>\n",
       "      <th></th>\n",
       "      <th></th>\n",
       "      <th></th>\n",
       "      <th></th>\n",
       "      <th></th>\n",
       "      <th></th>\n",
       "      <th></th>\n",
       "      <th></th>\n",
       "      <th></th>\n",
       "      <th></th>\n",
       "      <th></th>\n",
       "      <th></th>\n",
       "      <th></th>\n",
       "      <th></th>\n",
       "    </tr>\n",
       "  </thead>\n",
       "  <tbody>\n",
       "    <tr>\n",
       "      <th>2004-10-03 18:00:00</th>\n",
       "      <td>1360.0</td>\n",
       "      <td>1046.0</td>\n",
       "      <td>1056.0</td>\n",
       "      <td>1692.0</td>\n",
       "      <td>1268.0</td>\n",
       "      <td>13.6</td>\n",
       "      <td>48.9</td>\n",
       "      <td>0.7578</td>\n",
       "      <td>1</td>\n",
       "      <td>0</td>\n",
       "      <td>...</td>\n",
       "      <td>0</td>\n",
       "      <td>1</td>\n",
       "      <td>0</td>\n",
       "      <td>0</td>\n",
       "      <td>0</td>\n",
       "      <td>0</td>\n",
       "      <td>1</td>\n",
       "      <td>0</td>\n",
       "      <td>0</td>\n",
       "      <td>0</td>\n",
       "    </tr>\n",
       "    <tr>\n",
       "      <th>2004-10-03 19:00:00</th>\n",
       "      <td>1292.0</td>\n",
       "      <td>955.0</td>\n",
       "      <td>1174.0</td>\n",
       "      <td>1559.0</td>\n",
       "      <td>972.0</td>\n",
       "      <td>13.3</td>\n",
       "      <td>47.7</td>\n",
       "      <td>0.7255</td>\n",
       "      <td>1</td>\n",
       "      <td>0</td>\n",
       "      <td>...</td>\n",
       "      <td>0</td>\n",
       "      <td>1</td>\n",
       "      <td>0</td>\n",
       "      <td>0</td>\n",
       "      <td>0</td>\n",
       "      <td>0</td>\n",
       "      <td>1</td>\n",
       "      <td>0</td>\n",
       "      <td>0</td>\n",
       "      <td>0</td>\n",
       "    </tr>\n",
       "    <tr>\n",
       "      <th>2004-10-03 20:00:00</th>\n",
       "      <td>1402.0</td>\n",
       "      <td>939.0</td>\n",
       "      <td>1140.0</td>\n",
       "      <td>1555.0</td>\n",
       "      <td>1074.0</td>\n",
       "      <td>11.9</td>\n",
       "      <td>54.0</td>\n",
       "      <td>0.7502</td>\n",
       "      <td>1</td>\n",
       "      <td>0</td>\n",
       "      <td>...</td>\n",
       "      <td>0</td>\n",
       "      <td>1</td>\n",
       "      <td>0</td>\n",
       "      <td>0</td>\n",
       "      <td>0</td>\n",
       "      <td>0</td>\n",
       "      <td>1</td>\n",
       "      <td>0</td>\n",
       "      <td>0</td>\n",
       "      <td>0</td>\n",
       "    </tr>\n",
       "    <tr>\n",
       "      <th>2004-10-03 21:00:00</th>\n",
       "      <td>1376.0</td>\n",
       "      <td>948.0</td>\n",
       "      <td>1092.0</td>\n",
       "      <td>1584.0</td>\n",
       "      <td>1203.0</td>\n",
       "      <td>11.0</td>\n",
       "      <td>60.0</td>\n",
       "      <td>0.7867</td>\n",
       "      <td>1</td>\n",
       "      <td>0</td>\n",
       "      <td>...</td>\n",
       "      <td>0</td>\n",
       "      <td>1</td>\n",
       "      <td>0</td>\n",
       "      <td>0</td>\n",
       "      <td>0</td>\n",
       "      <td>0</td>\n",
       "      <td>1</td>\n",
       "      <td>0</td>\n",
       "      <td>0</td>\n",
       "      <td>0</td>\n",
       "    </tr>\n",
       "    <tr>\n",
       "      <th>2004-10-03 22:00:00</th>\n",
       "      <td>1272.0</td>\n",
       "      <td>836.0</td>\n",
       "      <td>1205.0</td>\n",
       "      <td>1490.0</td>\n",
       "      <td>1110.0</td>\n",
       "      <td>11.2</td>\n",
       "      <td>59.6</td>\n",
       "      <td>0.7888</td>\n",
       "      <td>1</td>\n",
       "      <td>0</td>\n",
       "      <td>...</td>\n",
       "      <td>0</td>\n",
       "      <td>1</td>\n",
       "      <td>0</td>\n",
       "      <td>0</td>\n",
       "      <td>0</td>\n",
       "      <td>0</td>\n",
       "      <td>1</td>\n",
       "      <td>0</td>\n",
       "      <td>0</td>\n",
       "      <td>0</td>\n",
       "    </tr>\n",
       "  </tbody>\n",
       "</table>\n",
       "<p>5 rows × 28 columns</p>\n",
       "</div>"
      ],
      "text/plain": [
       "                     PT08.S1(CO)  PT08.S2(NMHC)  PT08.S3(NOx)  PT08.S4(NO2)  \\\n",
       "datetime                                                                      \n",
       "2004-10-03 18:00:00       1360.0         1046.0        1056.0        1692.0   \n",
       "2004-10-03 19:00:00       1292.0          955.0        1174.0        1559.0   \n",
       "2004-10-03 20:00:00       1402.0          939.0        1140.0        1555.0   \n",
       "2004-10-03 21:00:00       1376.0          948.0        1092.0        1584.0   \n",
       "2004-10-03 22:00:00       1272.0          836.0        1205.0        1490.0   \n",
       "\n",
       "                     PT08.S5(O3)     T    RH      AH  is_weekend  month_April  \\\n",
       "datetime                                                                        \n",
       "2004-10-03 18:00:00       1268.0  13.6  48.9  0.7578           1            0   \n",
       "2004-10-03 19:00:00        972.0  13.3  47.7  0.7255           1            0   \n",
       "2004-10-03 20:00:00       1074.0  11.9  54.0  0.7502           1            0   \n",
       "2004-10-03 21:00:00       1203.0  11.0  60.0  0.7867           1            0   \n",
       "2004-10-03 22:00:00       1110.0  11.2  59.6  0.7888           1            0   \n",
       "\n",
       "                     ...  month_November  month_October  month_September  \\\n",
       "datetime             ...                                                   \n",
       "2004-10-03 18:00:00  ...               0              1                0   \n",
       "2004-10-03 19:00:00  ...               0              1                0   \n",
       "2004-10-03 20:00:00  ...               0              1                0   \n",
       "2004-10-03 21:00:00  ...               0              1                0   \n",
       "2004-10-03 22:00:00  ...               0              1                0   \n",
       "\n",
       "                     day_Friday  day_Monday  day_Saturday  day_Sunday  \\\n",
       "datetime                                                                \n",
       "2004-10-03 18:00:00           0           0             0           1   \n",
       "2004-10-03 19:00:00           0           0             0           1   \n",
       "2004-10-03 20:00:00           0           0             0           1   \n",
       "2004-10-03 21:00:00           0           0             0           1   \n",
       "2004-10-03 22:00:00           0           0             0           1   \n",
       "\n",
       "                     day_Thursday  day_Tuesday  day_Wednesday  \n",
       "datetime                                                       \n",
       "2004-10-03 18:00:00             0            0              0  \n",
       "2004-10-03 19:00:00             0            0              0  \n",
       "2004-10-03 20:00:00             0            0              0  \n",
       "2004-10-03 21:00:00             0            0              0  \n",
       "2004-10-03 22:00:00             0            0              0  \n",
       "\n",
       "[5 rows x 28 columns]"
      ]
     },
     "execution_count": 35,
     "metadata": {},
     "output_type": "execute_result"
    }
   ],
   "source": [
    "from sklearn.neural_network import MLPRegressor\n",
    "import pandas as pd\n",
    "import numpy as np\n",
    "%matplotlib inline\n",
    "import matplotlib.pyplot as plt\n",
    "from sklearn.model_selection import train_test_split\n",
    "from sklearn.linear_model import LinearRegression\n",
    "df = pd.read_pickle('data/df_encoded.pkl')\n",
    "# df = pd.read_pickle('data/df_ground_truth.pkl')\n",
    "df.head()"
   ]
  },
  {
   "cell_type": "code",
   "execution_count": 36,
   "id": "noticed-designer",
   "metadata": {},
   "outputs": [],
   "source": [
    "df['TxRH'] = df['T'] * df['RH']"
   ]
  },
  {
   "cell_type": "code",
   "execution_count": 37,
   "id": "civic-functionality",
   "metadata": {},
   "outputs": [],
   "source": [
    "y = df[['PT08.S1(CO)']]\n",
    "X = df.drop(['PT08.S1(CO)'],axis=1)\n",
    "X_train,X_test,y_train,y_test = train_test_split(X,y, train_size=0.8, random_state=42)"
   ]
  },
  {
   "cell_type": "markdown",
   "id": "imposed-organ",
   "metadata": {},
   "source": [
    "## We will use all the columns ( ones engineered from the datetime index ) to see if we have a significant improvement. also we need to Neural networks or sklearn's Multi Layer Preceptron to train our model"
   ]
  },
  {
   "cell_type": "code",
   "execution_count": 38,
   "id": "satellite-alexander",
   "metadata": {},
   "outputs": [],
   "source": [
    "def graph_real_and_predicted(y, yhat, col_name=''):\n",
    "    fig = plt.figure(dpi=80, figsize=(10, 4))\n",
    "    ax = fig.add_subplot(111)\n",
    "    ax.scatter(y, yhat, c='b', label='Estimated CO Levels', s = 1)\n",
    "    ax.set_xlabel('Actual '+col_name)\n",
    "    ax.set_ylabel('Predicted'+col_name)\n",
    "    plt.legend()\n"
   ]
  },
  {
   "cell_type": "code",
   "execution_count": 39,
   "id": "finnish-blind",
   "metadata": {},
   "outputs": [
    {
     "name": "stderr",
     "output_type": "stream",
     "text": [
      "/home/manoj/.virtualenvs/datascience/lib/python3.8/site-packages/sklearn/utils/validation.py:63: DataConversionWarning: A column-vector y was passed when a 1d array was expected. Please change the shape of y to (n_samples, ), for example using ravel().\n",
      "  return f(*args, **kwargs)\n"
     ]
    }
   ],
   "source": [
    "model = MLPRegressor().fit(X_train, y_train)\n",
    "y_pred = model.predict(X_test)"
   ]
  },
  {
   "cell_type": "code",
   "execution_count": 40,
   "id": "simple-secretariat",
   "metadata": {},
   "outputs": [
    {
     "data": {
      "image/png": "[encoded data removed]",
      "text/plain": [
       "<Figure size 800x320 with 1 Axes>"
      ]
     },
     "metadata": {
      "needs_background": "light"
     },
     "output_type": "display_data"
    }
   ],
   "source": [
    "graph_real_and_predicted(y_test,y_pred,col_name='PT01.S1(CO)')"
   ]
  },
  {
   "cell_type": "code",
   "execution_count": 41,
   "id": "rising-phenomenon",
   "metadata": {},
   "outputs": [
    {
     "name": "stdout",
     "output_type": "stream",
     "text": [
      "90.0799232377239 %\n"
     ]
    }
   ],
   "source": [
    "print(model.score(X_test,y_test)*100,\"%\")"
   ]
  },
  {
   "cell_type": "code",
   "execution_count": 42,
   "id": "embedded-fabric",
   "metadata": {},
   "outputs": [],
   "source": [
    "num_samples = df.shape[0]\n",
    "cutoff = (num_samples * 3) // 4\n",
    "Xtrn = df.drop('PT08.S1(CO)', 1).iloc[:cutoff,:]\n",
    "Ytrn = df['PT08.S1(CO)'].iloc[:cutoff]\n",
    "Xval = df.drop('PT08.S1(CO)', 1).iloc[cutoff:,:]\n",
    "Yval = df['PT08.S1(CO)'].iloc[cutoff:]\n"
   ]
  },
  {
   "cell_type": "code",
   "execution_count": 44,
   "id": "controlling-affect",
   "metadata": {},
   "outputs": [
    {
     "name": "stderr",
     "output_type": "stream",
     "text": [
      "/home/manoj/.virtualenvs/datascience/lib/python3.8/site-packages/sklearn/neural_network/_multilayer_perceptron.py:500: ConvergenceWarning: lbfgs failed to converge (status=1):\n",
      "STOP: TOTAL NO. of ITERATIONS REACHED LIMIT.\n",
      "\n",
      "Increase the number of iterations (max_iter) or scale the data as shown in:\n",
      "    https://scikit-learn.org/stable/modules/preprocessing.html\n",
      "  self.n_iter_ = _check_optimize_result(\"lbfgs\", opt_res, self.max_iter)\n"
     ]
    }
   ],
   "source": [
    "model = MLPRegressor(60, validation_fraction = 0, solver='lbfgs', max_iter= 400).fit(Xtrn, Ytrn)\n",
    "\n"
   ]
  },
  {
   "cell_type": "code",
   "execution_count": 45,
   "id": "cognitive-accent",
   "metadata": {},
   "outputs": [],
   "source": [
    "coefs = model.coefs_\n",
    "yhat = model.predict(X)\n",
    "yhatval = model.predict(Xval)\n",
    "loss = np.square(Yval - yhatval).mean()\n",
    "hiddens = coefs[0].T\n",
    "final_mlp = coefs[1].flatten()\n",
    "\n"
   ]
  },
  {
   "cell_type": "code",
   "execution_count": 53,
   "id": "suspended-jefferson",
   "metadata": {},
   "outputs": [
    {
     "name": "stdout",
     "output_type": "stream",
     "text": [
      "loss: 16850.02974382088\n",
      "feature 0 = 0.21 * NMHC + 0.2 * NOx + -0.16\n",
      "feature 1 = -0.02 * NMHC + 0.04 * NOx + 0.02\n",
      "feature 2 = -0.14 * NMHC + 0.15 * NOx + -0.24\n",
      "feature 3 = -0.33 * NMHC + -0.11 * NOx + 0.2\n",
      "feature 4 = -0.15 * NMHC + -0.12 * NOx + -0.03\n",
      "feature 5 = -0.0 * NMHC + -0.09 * NOx + -0.2\n",
      "feature 6 = -0.21 * NMHC + -0.02 * NOx + -0.04\n",
      "feature 7 = -0.26 * NMHC + -0.22 * NOx + -0.16\n",
      "feature 8 = 0.1 * NMHC + 0.14 * NOx + 0.1\n",
      "feature 9 = 0.05 * NMHC + -0.17 * NOx + 0.14\n",
      "feature 10 = -0.63 * NMHC + -0.39 * NOx + -0.09\n",
      "feature 11 = -0.17 * NMHC + -0.31 * NOx + 0.13\n",
      "feature 12 = -0.25 * NMHC + -0.29 * NOx + -0.23\n",
      "feature 13 = -0.16 * NMHC + 0.07 * NOx + 0.25\n",
      "feature 14 = 0.02 * NMHC + 0.22 * NOx + 0.11\n",
      "feature 15 = 0.08 * NMHC + -0.37 * NOx + 0.04\n",
      "feature 16 = -0.2 * NMHC + -0.03 * NOx + -0.15\n",
      "feature 17 = -0.09 * NMHC + -0.05 * NOx + 0.08\n",
      "feature 18 = -0.0 * NMHC + 0.07 * NOx + 0.02\n",
      "feature 19 = 0.1 * NMHC + 0.14 * NOx + 0.03\n",
      "feature 20 = 0.23 * NMHC + 0.16 * NOx + -0.12\n",
      "feature 21 = -0.15 * NMHC + 0.21 * NOx + -0.12\n",
      "feature 22 = 0.15 * NMHC + 0.13 * NOx + 0.23\n",
      "feature 23 = -0.25 * NMHC + -0.17 * NOx + -0.21\n",
      "feature 24 = 0.17 * NMHC + 0.01 * NOx + -0.14\n",
      "feature 25 = 0.04 * NMHC + 0.43 * NOx + 0.18\n",
      "feature 26 = 0.24 * NMHC + 0.26 * NOx + 0.17\n",
      "feature 27 = -0.16 * NMHC + 0.06 * NOx + 0.22\n",
      "feature 28 = 0.17 * NMHC + -0.2 * NOx + -0.07\n",
      "feature 29 = -0.23 * NMHC + 0.06 * NOx + -0.23\n",
      "feature 30 = 0.15 * NMHC + -0.12 * NOx + -0.07\n",
      "feature 31 = 0.3 * NMHC + 0.03 * NOx + -0.03\n",
      "feature 32 = 0.22 * NMHC + -0.19 * NOx + -0.26\n",
      "feature 33 = -0.24 * NMHC + -0.17 * NOx + -0.08\n",
      "feature 34 = -0.24 * NMHC + -0.25 * NOx + 0.02\n",
      "feature 35 = 0.58 * NMHC + -0.15 * NOx + -0.21\n",
      "feature 36 = -0.22 * NMHC + -0.03 * NOx + -0.23\n",
      "feature 37 = -0.05 * NMHC + 0.26 * NOx + -0.04\n",
      "feature 38 = -0.2 * NMHC + 0.0 * NOx + 0.13\n",
      "feature 39 = -0.48 * NMHC + 0.46 * NOx + 0.17\n",
      "feature 40 = -0.07 * NMHC + -0.27 * NOx + 0.09\n",
      "feature 41 = -0.1 * NMHC + -0.23 * NOx + -0.08\n",
      "feature 42 = 0.27 * NMHC + 0.15 * NOx + 0.2\n",
      "feature 43 = -0.29 * NMHC + -0.06 * NOx + 0.06\n",
      "feature 44 = 0.21 * NMHC + 0.15 * NOx + -0.2\n",
      "feature 45 = 0.06 * NMHC + -0.04 * NOx + 0.21\n",
      "feature 46 = 0.03 * NMHC + -0.23 * NOx + -0.08\n",
      "feature 47 = 0.15 * NMHC + 0.24 * NOx + 0.16\n",
      "feature 48 = 0.17 * NMHC + 0.2 * NOx + -0.08\n",
      "feature 49 = -0.12 * NMHC + -0.26 * NOx + -0.01\n",
      "feature 50 = 0.08 * NMHC + 0.26 * NOx + 0.11\n",
      "feature 51 = -0.2 * NMHC + 0.14 * NOx + 0.14\n",
      "feature 52 = 0.21 * NMHC + 0.0 * NOx + -0.18\n",
      "feature 53 = 0.08 * NMHC + 0.2 * NOx + -0.02\n",
      "feature 54 = -0.22 * NMHC + 0.23 * NOx + 0.08\n",
      "feature 55 = -0.39 * NMHC + -0.02 * NOx + -0.01\n",
      "feature 56 = 0.01 * NMHC + -0.21 * NOx + -0.22\n",
      "feature 57 = -0.12 * NMHC + 0.03 * NOx + 0.14\n",
      "feature 58 = -0.07 * NMHC + 0.11 * NOx + 0.21\n",
      "feature 59 = 0.02 * NMHC + 0.22 * NOx + -0.19\n",
      "yhat = -0.0 * feat 0 + 0.59 * feat 1 + -0.33 * feat 2 + -0.15 * feat 3 + -0.14 * feat 4 + -0.05 * feat 5 + 0.13 * feat 6 + 0.0 * feat 7 + 0.28 * feat 8 + 0.06 * feat 9 + -0.56 * feat 10 + 0.29 * feat 11 + 0.19 * feat 12 + -0.25 * feat 13 + 0.2 * feat 14 + 0.59 * feat 15 + -0.46 * feat 16 + 0.35 * feat 17 + 0.08 * feat 18 + -0.05 * feat 19 + 0.55 * feat 20 + 0.58 * feat 21 + -0.27 * feat 22 + -0.22 * feat 23 + 0.1 * feat 24 + -0.22 * feat 25 + 0.08 * feat 26 + 0.26 * feat 27 + -0.12 * feat 28 + -0.13 * feat 29 + -0.09 * feat 30 + 0.13 * feat 31 + -0.01 * feat 32 + -0.28 * feat 33 + 0.08 * feat 34 + -0.57 * feat 35 + 0.19 * feat 36 + -0.05 * feat 37 + 0.03 * feat 38 + -0.35 * feat 39 + -0.32 * feat 40 + -0.04 * feat 41 + 0.33 * feat 42 + 0.11 * feat 43 + -0.39 * feat 44 + -0.23 * feat 45 + 0.26 * feat 46 + 0.35 * feat 47 + -0.03 * feat 48 + 0.21 * feat 49 + -0.23 * feat 50 + -0.06 * feat 51 + 0.1 * feat 52 + 0.45 * feat 53 + -0.39 * feat 54 + 0.61 * feat 55 + -0.01 * feat 56 + -0.25 * feat 57 + 0.04 * feat 58 + 0.34 * feat 59 + -0.15\n"
     ]
    }
   ],
   "source": [
    "coefs = list(zip([dict(zip(X.columns, h)) for h in hiddens],\n",
    "                 [['output mult:', m] for m in  final_mlp.flatten()], \n",
    "                 [['intercept:', i] for i in  model.intercepts_[0]]))\n",
    "print('loss:', loss)\n",
    "\n",
    "for idx, c in enumerate(coefs):\n",
    "    f1, o, i = c\n",
    "    print('feature', idx, '=', f1['PT08.S2(NMHC)'].round(2), '* NMHC +', f1['PT08.S3(NOx)'].round(2), '* NOx', '+', i[1].round(2))\n",
    "    \n",
    "output = 'yhat = '\n",
    "for fidx, v in enumerate(final_mlp):\n",
    "    output = output + str(v.round(2)) + ' * feat ' + str(fidx) + ' + '\n",
    "output = output + str(model.intercepts_[1][0].round(2))\n",
    "print(output)"
   ]
  },
  {
   "cell_type": "code",
   "execution_count": null,
   "id": "discrete-recording",
   "metadata": {},
   "outputs": [],
   "source": []
  },
  {
   "cell_type": "code",
   "execution_count": null,
   "id": "regulation-likelihood",
   "metadata": {},
   "outputs": [],
   "source": []
  }
 ],
 "metadata": {
  "kernelspec": {
   "display_name": "Python 3",
   "language": "python",
   "name": "python3"
  },
  "language_info": {
   "codemirror_mode": {
    "name": "ipython",
    "version": 3
   },
   "file_extension": ".py",
   "mimetype": "text/x-python",
   "name": "python",
   "nbconvert_exporter": "python",
   "pygments_lexer": "ipython3",
   "version": "3.8.5"
  }
 },
 "nbformat": 4,
 "nbformat_minor": 5
}
