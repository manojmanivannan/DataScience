{
 "cells": [
  {
   "cell_type": "markdown",
   "id": "bearing-gathering",
   "metadata": {},
   "source": [
    "# Linear  Regression using Mutli-Layer-Perceptron"
   ]
  },
  {
   "cell_type": "code",
   "execution_count": 14,
   "id": "ultimate-bulgaria",
   "metadata": {},
   "outputs": [
    {
     "data": {
      "text/html": [
       "<div>\n",
       "<style scoped>\n",
       "    .dataframe tbody tr th:only-of-type {\n",
       "        vertical-align: middle;\n",
       "    }\n",
       "\n",
       "    .dataframe tbody tr th {\n",
       "        vertical-align: top;\n",
       "    }\n",
       "\n",
       "    .dataframe thead th {\n",
       "        text-align: right;\n",
       "    }\n",
       "</style>\n",
       "<table border=\"1\" class=\"dataframe\">\n",
       "  <thead>\n",
       "    <tr style=\"text-align: right;\">\n",
       "      <th></th>\n",
       "      <th>PT08.S1(CO)</th>\n",
       "      <th>PT08.S2(NMHC)</th>\n",
       "      <th>PT08.S3(NOx)</th>\n",
       "      <th>PT08.S4(NO2)</th>\n",
       "      <th>PT08.S5(O3)</th>\n",
       "      <th>T</th>\n",
       "      <th>RH</th>\n",
       "      <th>AH</th>\n",
       "      <th>is_weekend</th>\n",
       "      <th>month_April</th>\n",
       "      <th>...</th>\n",
       "      <th>month_November</th>\n",
       "      <th>month_October</th>\n",
       "      <th>month_September</th>\n",
       "      <th>day_Friday</th>\n",
       "      <th>day_Monday</th>\n",
       "      <th>day_Saturday</th>\n",
       "      <th>day_Sunday</th>\n",
       "      <th>day_Thursday</th>\n",
       "      <th>day_Tuesday</th>\n",
       "      <th>day_Wednesday</th>\n",
       "    </tr>\n",
       "    <tr>\n",
       "      <th>datetime</th>\n",
       "      <th></th>\n",
       "      <th></th>\n",
       "      <th></th>\n",
       "      <th></th>\n",
       "      <th></th>\n",
       "      <th></th>\n",
       "      <th></th>\n",
       "      <th></th>\n",
       "      <th></th>\n",
       "      <th></th>\n",
       "      <th></th>\n",
       "      <th></th>\n",
       "      <th></th>\n",
       "      <th></th>\n",
       "      <th></th>\n",
       "      <th></th>\n",
       "      <th></th>\n",
       "      <th></th>\n",
       "      <th></th>\n",
       "      <th></th>\n",
       "      <th></th>\n",
       "    </tr>\n",
       "  </thead>\n",
       "  <tbody>\n",
       "    <tr>\n",
       "      <th>2004-10-03 18:00:00</th>\n",
       "      <td>1360.0</td>\n",
       "      <td>1046.0</td>\n",
       "      <td>1056.0</td>\n",
       "      <td>1692.0</td>\n",
       "      <td>1268.0</td>\n",
       "      <td>13.6</td>\n",
       "      <td>48.9</td>\n",
       "      <td>0.7578</td>\n",
       "      <td>1</td>\n",
       "      <td>0</td>\n",
       "      <td>...</td>\n",
       "      <td>0</td>\n",
       "      <td>1</td>\n",
       "      <td>0</td>\n",
       "      <td>0</td>\n",
       "      <td>0</td>\n",
       "      <td>0</td>\n",
       "      <td>1</td>\n",
       "      <td>0</td>\n",
       "      <td>0</td>\n",
       "      <td>0</td>\n",
       "    </tr>\n",
       "    <tr>\n",
       "      <th>2004-10-03 19:00:00</th>\n",
       "      <td>1292.0</td>\n",
       "      <td>955.0</td>\n",
       "      <td>1174.0</td>\n",
       "      <td>1559.0</td>\n",
       "      <td>972.0</td>\n",
       "      <td>13.3</td>\n",
       "      <td>47.7</td>\n",
       "      <td>0.7255</td>\n",
       "      <td>1</td>\n",
       "      <td>0</td>\n",
       "      <td>...</td>\n",
       "      <td>0</td>\n",
       "      <td>1</td>\n",
       "      <td>0</td>\n",
       "      <td>0</td>\n",
       "      <td>0</td>\n",
       "      <td>0</td>\n",
       "      <td>1</td>\n",
       "      <td>0</td>\n",
       "      <td>0</td>\n",
       "      <td>0</td>\n",
       "    </tr>\n",
       "    <tr>\n",
       "      <th>2004-10-03 20:00:00</th>\n",
       "      <td>1402.0</td>\n",
       "      <td>939.0</td>\n",
       "      <td>1140.0</td>\n",
       "      <td>1555.0</td>\n",
       "      <td>1074.0</td>\n",
       "      <td>11.9</td>\n",
       "      <td>54.0</td>\n",
       "      <td>0.7502</td>\n",
       "      <td>1</td>\n",
       "      <td>0</td>\n",
       "      <td>...</td>\n",
       "      <td>0</td>\n",
       "      <td>1</td>\n",
       "      <td>0</td>\n",
       "      <td>0</td>\n",
       "      <td>0</td>\n",
       "      <td>0</td>\n",
       "      <td>1</td>\n",
       "      <td>0</td>\n",
       "      <td>0</td>\n",
       "      <td>0</td>\n",
       "    </tr>\n",
       "    <tr>\n",
       "      <th>2004-10-03 21:00:00</th>\n",
       "      <td>1376.0</td>\n",
       "      <td>948.0</td>\n",
       "      <td>1092.0</td>\n",
       "      <td>1584.0</td>\n",
       "      <td>1203.0</td>\n",
       "      <td>11.0</td>\n",
       "      <td>60.0</td>\n",
       "      <td>0.7867</td>\n",
       "      <td>1</td>\n",
       "      <td>0</td>\n",
       "      <td>...</td>\n",
       "      <td>0</td>\n",
       "      <td>1</td>\n",
       "      <td>0</td>\n",
       "      <td>0</td>\n",
       "      <td>0</td>\n",
       "      <td>0</td>\n",
       "      <td>1</td>\n",
       "      <td>0</td>\n",
       "      <td>0</td>\n",
       "      <td>0</td>\n",
       "    </tr>\n",
       "    <tr>\n",
       "      <th>2004-10-03 22:00:00</th>\n",
       "      <td>1272.0</td>\n",
       "      <td>836.0</td>\n",
       "      <td>1205.0</td>\n",
       "      <td>1490.0</td>\n",
       "      <td>1110.0</td>\n",
       "      <td>11.2</td>\n",
       "      <td>59.6</td>\n",
       "      <td>0.7888</td>\n",
       "      <td>1</td>\n",
       "      <td>0</td>\n",
       "      <td>...</td>\n",
       "      <td>0</td>\n",
       "      <td>1</td>\n",
       "      <td>0</td>\n",
       "      <td>0</td>\n",
       "      <td>0</td>\n",
       "      <td>0</td>\n",
       "      <td>1</td>\n",
       "      <td>0</td>\n",
       "      <td>0</td>\n",
       "      <td>0</td>\n",
       "    </tr>\n",
       "  </tbody>\n",
       "</table>\n",
       "<p>5 rows × 28 columns</p>\n",
       "</div>"
      ],
      "text/plain": [
       "                     PT08.S1(CO)  PT08.S2(NMHC)  PT08.S3(NOx)  PT08.S4(NO2)  \\\n",
       "datetime                                                                      \n",
       "2004-10-03 18:00:00       1360.0         1046.0        1056.0        1692.0   \n",
       "2004-10-03 19:00:00       1292.0          955.0        1174.0        1559.0   \n",
       "2004-10-03 20:00:00       1402.0          939.0        1140.0        1555.0   \n",
       "2004-10-03 21:00:00       1376.0          948.0        1092.0        1584.0   \n",
       "2004-10-03 22:00:00       1272.0          836.0        1205.0        1490.0   \n",
       "\n",
       "                     PT08.S5(O3)     T    RH      AH  is_weekend  month_April  \\\n",
       "datetime                                                                        \n",
       "2004-10-03 18:00:00       1268.0  13.6  48.9  0.7578           1            0   \n",
       "2004-10-03 19:00:00        972.0  13.3  47.7  0.7255           1            0   \n",
       "2004-10-03 20:00:00       1074.0  11.9  54.0  0.7502           1            0   \n",
       "2004-10-03 21:00:00       1203.0  11.0  60.0  0.7867           1            0   \n",
       "2004-10-03 22:00:00       1110.0  11.2  59.6  0.7888           1            0   \n",
       "\n",
       "                     ...  month_November  month_October  month_September  \\\n",
       "datetime             ...                                                   \n",
       "2004-10-03 18:00:00  ...               0              1                0   \n",
       "2004-10-03 19:00:00  ...               0              1                0   \n",
       "2004-10-03 20:00:00  ...               0              1                0   \n",
       "2004-10-03 21:00:00  ...               0              1                0   \n",
       "2004-10-03 22:00:00  ...               0              1                0   \n",
       "\n",
       "                     day_Friday  day_Monday  day_Saturday  day_Sunday  \\\n",
       "datetime                                                                \n",
       "2004-10-03 18:00:00           0           0             0           1   \n",
       "2004-10-03 19:00:00           0           0             0           1   \n",
       "2004-10-03 20:00:00           0           0             0           1   \n",
       "2004-10-03 21:00:00           0           0             0           1   \n",
       "2004-10-03 22:00:00           0           0             0           1   \n",
       "\n",
       "                     day_Thursday  day_Tuesday  day_Wednesday  \n",
       "datetime                                                       \n",
       "2004-10-03 18:00:00             0            0              0  \n",
       "2004-10-03 19:00:00             0            0              0  \n",
       "2004-10-03 20:00:00             0            0              0  \n",
       "2004-10-03 21:00:00             0            0              0  \n",
       "2004-10-03 22:00:00             0            0              0  \n",
       "\n",
       "[5 rows x 28 columns]"
      ]
     },
     "execution_count": 14,
     "metadata": {},
     "output_type": "execute_result"
    }
   ],
   "source": [
    "from sklearn.neural_network import MLPRegressor\n",
    "from sklearn.model_selection import GridSearchCV\n",
    "import pandas as pd\n",
    "import numpy as np\n",
    "%matplotlib inline\n",
    "import matplotlib.pyplot as plt\n",
    "from sklearn.model_selection import train_test_split\n",
    "from sklearn.linear_model import LinearRegression\n",
    "df = pd.read_pickle('data/df_encoded.pkl')\n",
    "# df = pd.read_pickle('data/df_ground_truth.pkl')\n",
    "df.head()"
   ]
  },
  {
   "cell_type": "code",
   "execution_count": 15,
   "id": "guilty-arrival",
   "metadata": {},
   "outputs": [],
   "source": [
    "df['TxRH'] = df['T'] * df['RH']"
   ]
  },
  {
   "cell_type": "code",
   "execution_count": 16,
   "id": "valid-scientist",
   "metadata": {},
   "outputs": [],
   "source": [
    "y = df[['PT08.S1(CO)']]\n",
    "X = df.drop(['PT08.S1(CO)'],axis=1)\n",
    "X_train,X_test,y_train,y_test = train_test_split(X,y, train_size=0.8, random_state=42)"
   ]
  },
  {
   "cell_type": "markdown",
   "id": "optimum-basic",
   "metadata": {},
   "source": [
    "## We will use all the columns ( ones engineered from the datetime index ) to see if we have a significant improvement. Also we will use Neural networks from sklearn's Multi Layer Preceptron to train our model"
   ]
  },
  {
   "cell_type": "code",
   "execution_count": 17,
   "id": "ordinary-attachment",
   "metadata": {
    "tags": []
   },
   "outputs": [],
   "source": [
    "# model = MLPRegressor()\n",
    "# parameters = {\n",
    "#     'hidden_layer_sizes': [(50,50), (100,50)],\n",
    "#     'activation': ['tanh', 'relu'],\n",
    "#     'solver': ['sgd', 'adam'],\n",
    "#     'alpha': [0.0001, 0.05],\n",
    "#     'learning_rate': ['constant','adaptive'],\n",
    "# }\n",
    "# grid = GridSearchCV(model,parameters,n_jobs=-1, cv=3)\n",
    "# grid.fit(X,y)\n",
    "\n",
    "# print('Best parameters found:\\n', grid.best_params_)"
   ]
  },
  {
   "cell_type": "code",
   "execution_count": 18,
   "id": "transparent-sector",
   "metadata": {},
   "outputs": [
    {
     "name": "stderr",
     "output_type": "stream",
     "text": [
      "/home/manoj/.virtualenvs/datascience/lib/python3.8/site-packages/sklearn/utils/validation.py:63: DataConversionWarning: A column-vector y was passed when a 1d array was expected. Please change the shape of y to (n_samples, ), for example using ravel().\n",
      "  return f(*args, **kwargs)\n",
      "/home/manoj/.virtualenvs/datascience/lib/python3.8/site-packages/sklearn/neural_network/_multilayer_perceptron.py:614: ConvergenceWarning: Stochastic Optimizer: Maximum iterations (200) reached and the optimization hasn't converged yet.\n",
      "  warnings.warn(\n"
     ]
    }
   ],
   "source": [
    "best_model = MLPRegressor(activation='relu', alpha=0.05, hidden_layer_sizes=(100,50), learning_rate='constant', solver='adam')\n",
    "best_model.fit(X_train,y_train)\n",
    "y_pred = best_model.predict(X_test)"
   ]
  },
  {
   "cell_type": "code",
   "execution_count": 19,
   "id": "prostate-jaguar",
   "metadata": {},
   "outputs": [
    {
     "data": {
      "text/plain": [
       "<matplotlib.legend.Legend at 0x7f9f30e7b550>"
      ]
     },
     "execution_count": 19,
     "metadata": {},
     "output_type": "execute_result"
    },
    {
     "data": {
      "image/png": "[encoded data removed]",
      "text/plain": [
       "<Figure size 800x320 with 1 Axes>"
      ]
     },
     "metadata": {
      "needs_background": "light"
     },
     "output_type": "display_data"
    }
   ],
   "source": [
    "col_name='PT01.S1(CO)'\n",
    "fig = plt.figure(dpi=80, figsize=(10, 4))\n",
    "ax = fig.add_subplot(111)\n",
    "ax.scatter(y_test, y_pred, c='b', label='Estimated CO Levels', s = 1)\n",
    "ax.set_xlabel('Actual '+col_name)\n",
    "ax.set_ylabel('Predicted'+col_name)\n",
    "plt.legend()"
   ]
  },
  {
   "cell_type": "code",
   "execution_count": 20,
   "id": "worth-reconstruction",
   "metadata": {},
   "outputs": [
    {
     "name": "stdout",
     "output_type": "stream",
     "text": [
      "The Prediction R² score is 0.928\n"
     ]
    }
   ],
   "source": [
    "print(\"The Prediction R\\u00b2 score is {}\".format(round(best_model.score(X_train,y_train),3)))"
   ]
  },
  {
   "cell_type": "markdown",
   "id": "incorporated-marsh",
   "metadata": {},
   "source": [
    "## This is not any different from linear regression yeilding a score of 0.921. we see only a marginal improvement in score. As you saw from the correlation matrix, features/columns which did not have much influence on the target columns. "
   ]
  },
  {
   "cell_type": "code",
   "execution_count": null,
   "id": "aquatic-journal",
   "metadata": {},
   "outputs": [],
   "source": []
  },
  {
   "cell_type": "code",
   "execution_count": null,
   "id": "resident-dinner",
   "metadata": {},
   "outputs": [],
   "source": []
  }
 ],
 "metadata": {
  "kernelspec": {
   "display_name": "Python 3",
   "language": "python",
   "name": "python3"
  },
  "language_info": {
   "codemirror_mode": {
    "name": "ipython",
    "version": 3
   },
   "file_extension": ".py",
   "mimetype": "text/x-python",
   "name": "python",
   "nbconvert_exporter": "python",
   "pygments_lexer": "ipython3",
   "version": "3.8.5"
  }
 },
 "nbformat": 4,
 "nbformat_minor": 5
}
