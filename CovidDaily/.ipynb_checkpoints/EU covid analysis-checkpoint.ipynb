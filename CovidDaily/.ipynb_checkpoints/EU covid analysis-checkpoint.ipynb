{
 "cells": [
  {
   "cell_type": "markdown",
   "id": "incident-occurrence",
   "metadata": {},
   "source": [
    "# COVID Data Visualization\n",
    "## Source: https://github.com/owid/covid-19-data/tree/master/public/data"
   ]
  },
  {
   "cell_type": "code",
   "execution_count": 1,
   "id": "consecutive-istanbul",
   "metadata": {},
   "outputs": [],
   "source": [
    "import pandas as pd\n",
    "import numpy as np\n",
    "%matplotlib inline\n",
    "import matplotlib.pyplot as plt\n",
    "plt.rcParams['figure.figsize'] = [18, 11]\n",
    "import plotly.express as px\n",
    "from plotly.subplots import make_subplots"
   ]
  },
  {
   "cell_type": "code",
   "execution_count": 2,
   "id": "integrated-listing",
   "metadata": {},
   "outputs": [],
   "source": [
    "df = pd.read_csv('https://raw.githubusercontent.com/owid/covid-19-data/master/public/data/owid-covid-data.csv',parse_dates=['date'])"
   ]
  },
  {
   "cell_type": "code",
   "execution_count": 3,
   "id": "frank-basics",
   "metadata": {},
   "outputs": [
    {
     "data": {
      "text/html": [
       "<div>\n",
       "<style scoped>\n",
       "    .dataframe tbody tr th:only-of-type {\n",
       "        vertical-align: middle;\n",
       "    }\n",
       "\n",
       "    .dataframe tbody tr th {\n",
       "        vertical-align: top;\n",
       "    }\n",
       "\n",
       "    .dataframe thead th {\n",
       "        text-align: right;\n",
       "    }\n",
       "</style>\n",
       "<table border=\"1\" class=\"dataframe\">\n",
       "  <thead>\n",
       "    <tr style=\"text-align: right;\">\n",
       "      <th></th>\n",
       "      <th>iso_code</th>\n",
       "      <th>continent</th>\n",
       "      <th>location</th>\n",
       "      <th>date</th>\n",
       "      <th>total_cases</th>\n",
       "      <th>new_cases</th>\n",
       "      <th>new_cases_smoothed</th>\n",
       "      <th>total_deaths</th>\n",
       "      <th>new_deaths</th>\n",
       "      <th>new_deaths_smoothed</th>\n",
       "      <th>...</th>\n",
       "      <th>female_smokers</th>\n",
       "      <th>male_smokers</th>\n",
       "      <th>handwashing_facilities</th>\n",
       "      <th>hospital_beds_per_thousand</th>\n",
       "      <th>life_expectancy</th>\n",
       "      <th>human_development_index</th>\n",
       "      <th>excess_mortality_cumulative_absolute</th>\n",
       "      <th>excess_mortality_cumulative</th>\n",
       "      <th>excess_mortality</th>\n",
       "      <th>excess_mortality_cumulative_per_million</th>\n",
       "    </tr>\n",
       "  </thead>\n",
       "  <tbody>\n",
       "    <tr>\n",
       "      <th>0</th>\n",
       "      <td>AFG</td>\n",
       "      <td>Asia</td>\n",
       "      <td>Afghanistan</td>\n",
       "      <td>2020-02-24</td>\n",
       "      <td>5.0</td>\n",
       "      <td>5.0</td>\n",
       "      <td>NaN</td>\n",
       "      <td>NaN</td>\n",
       "      <td>NaN</td>\n",
       "      <td>NaN</td>\n",
       "      <td>...</td>\n",
       "      <td>NaN</td>\n",
       "      <td>NaN</td>\n",
       "      <td>37.746</td>\n",
       "      <td>0.5</td>\n",
       "      <td>64.83</td>\n",
       "      <td>0.511</td>\n",
       "      <td>NaN</td>\n",
       "      <td>NaN</td>\n",
       "      <td>NaN</td>\n",
       "      <td>NaN</td>\n",
       "    </tr>\n",
       "    <tr>\n",
       "      <th>1</th>\n",
       "      <td>AFG</td>\n",
       "      <td>Asia</td>\n",
       "      <td>Afghanistan</td>\n",
       "      <td>2020-02-25</td>\n",
       "      <td>5.0</td>\n",
       "      <td>0.0</td>\n",
       "      <td>NaN</td>\n",
       "      <td>NaN</td>\n",
       "      <td>NaN</td>\n",
       "      <td>NaN</td>\n",
       "      <td>...</td>\n",
       "      <td>NaN</td>\n",
       "      <td>NaN</td>\n",
       "      <td>37.746</td>\n",
       "      <td>0.5</td>\n",
       "      <td>64.83</td>\n",
       "      <td>0.511</td>\n",
       "      <td>NaN</td>\n",
       "      <td>NaN</td>\n",
       "      <td>NaN</td>\n",
       "      <td>NaN</td>\n",
       "    </tr>\n",
       "    <tr>\n",
       "      <th>2</th>\n",
       "      <td>AFG</td>\n",
       "      <td>Asia</td>\n",
       "      <td>Afghanistan</td>\n",
       "      <td>2020-02-26</td>\n",
       "      <td>5.0</td>\n",
       "      <td>0.0</td>\n",
       "      <td>NaN</td>\n",
       "      <td>NaN</td>\n",
       "      <td>NaN</td>\n",
       "      <td>NaN</td>\n",
       "      <td>...</td>\n",
       "      <td>NaN</td>\n",
       "      <td>NaN</td>\n",
       "      <td>37.746</td>\n",
       "      <td>0.5</td>\n",
       "      <td>64.83</td>\n",
       "      <td>0.511</td>\n",
       "      <td>NaN</td>\n",
       "      <td>NaN</td>\n",
       "      <td>NaN</td>\n",
       "      <td>NaN</td>\n",
       "    </tr>\n",
       "    <tr>\n",
       "      <th>3</th>\n",
       "      <td>AFG</td>\n",
       "      <td>Asia</td>\n",
       "      <td>Afghanistan</td>\n",
       "      <td>2020-02-27</td>\n",
       "      <td>5.0</td>\n",
       "      <td>0.0</td>\n",
       "      <td>NaN</td>\n",
       "      <td>NaN</td>\n",
       "      <td>NaN</td>\n",
       "      <td>NaN</td>\n",
       "      <td>...</td>\n",
       "      <td>NaN</td>\n",
       "      <td>NaN</td>\n",
       "      <td>37.746</td>\n",
       "      <td>0.5</td>\n",
       "      <td>64.83</td>\n",
       "      <td>0.511</td>\n",
       "      <td>NaN</td>\n",
       "      <td>NaN</td>\n",
       "      <td>NaN</td>\n",
       "      <td>NaN</td>\n",
       "    </tr>\n",
       "    <tr>\n",
       "      <th>4</th>\n",
       "      <td>AFG</td>\n",
       "      <td>Asia</td>\n",
       "      <td>Afghanistan</td>\n",
       "      <td>2020-02-28</td>\n",
       "      <td>5.0</td>\n",
       "      <td>0.0</td>\n",
       "      <td>NaN</td>\n",
       "      <td>NaN</td>\n",
       "      <td>NaN</td>\n",
       "      <td>NaN</td>\n",
       "      <td>...</td>\n",
       "      <td>NaN</td>\n",
       "      <td>NaN</td>\n",
       "      <td>37.746</td>\n",
       "      <td>0.5</td>\n",
       "      <td>64.83</td>\n",
       "      <td>0.511</td>\n",
       "      <td>NaN</td>\n",
       "      <td>NaN</td>\n",
       "      <td>NaN</td>\n",
       "      <td>NaN</td>\n",
       "    </tr>\n",
       "  </tbody>\n",
       "</table>\n",
       "<p>5 rows × 65 columns</p>\n",
       "</div>"
      ],
      "text/plain": [
       "  iso_code continent     location       date  total_cases  new_cases  \\\n",
       "0      AFG      Asia  Afghanistan 2020-02-24          5.0        5.0   \n",
       "1      AFG      Asia  Afghanistan 2020-02-25          5.0        0.0   \n",
       "2      AFG      Asia  Afghanistan 2020-02-26          5.0        0.0   \n",
       "3      AFG      Asia  Afghanistan 2020-02-27          5.0        0.0   \n",
       "4      AFG      Asia  Afghanistan 2020-02-28          5.0        0.0   \n",
       "\n",
       "   new_cases_smoothed  total_deaths  new_deaths  new_deaths_smoothed  ...  \\\n",
       "0                 NaN           NaN         NaN                  NaN  ...   \n",
       "1                 NaN           NaN         NaN                  NaN  ...   \n",
       "2                 NaN           NaN         NaN                  NaN  ...   \n",
       "3                 NaN           NaN         NaN                  NaN  ...   \n",
       "4                 NaN           NaN         NaN                  NaN  ...   \n",
       "\n",
       "   female_smokers  male_smokers  handwashing_facilities  \\\n",
       "0             NaN           NaN                  37.746   \n",
       "1             NaN           NaN                  37.746   \n",
       "2             NaN           NaN                  37.746   \n",
       "3             NaN           NaN                  37.746   \n",
       "4             NaN           NaN                  37.746   \n",
       "\n",
       "   hospital_beds_per_thousand  life_expectancy  human_development_index  \\\n",
       "0                         0.5            64.83                    0.511   \n",
       "1                         0.5            64.83                    0.511   \n",
       "2                         0.5            64.83                    0.511   \n",
       "3                         0.5            64.83                    0.511   \n",
       "4                         0.5            64.83                    0.511   \n",
       "\n",
       "   excess_mortality_cumulative_absolute  excess_mortality_cumulative  \\\n",
       "0                                   NaN                          NaN   \n",
       "1                                   NaN                          NaN   \n",
       "2                                   NaN                          NaN   \n",
       "3                                   NaN                          NaN   \n",
       "4                                   NaN                          NaN   \n",
       "\n",
       "   excess_mortality  excess_mortality_cumulative_per_million  \n",
       "0               NaN                                      NaN  \n",
       "1               NaN                                      NaN  \n",
       "2               NaN                                      NaN  \n",
       "3               NaN                                      NaN  \n",
       "4               NaN                                      NaN  \n",
       "\n",
       "[5 rows x 65 columns]"
      ]
     },
     "execution_count": 3,
     "metadata": {},
     "output_type": "execute_result"
    }
   ],
   "source": [
    "df.head()"
   ]
  },
  {
   "cell_type": "code",
   "execution_count": 4,
   "id": "express-table",
   "metadata": {},
   "outputs": [
    {
     "data": {
      "text/html": [
       "<div>\n",
       "<style scoped>\n",
       "    .dataframe tbody tr th:only-of-type {\n",
       "        vertical-align: middle;\n",
       "    }\n",
       "\n",
       "    .dataframe tbody tr th {\n",
       "        vertical-align: top;\n",
       "    }\n",
       "\n",
       "    .dataframe thead th {\n",
       "        text-align: right;\n",
       "    }\n",
       "</style>\n",
       "<table border=\"1\" class=\"dataframe\">\n",
       "  <thead>\n",
       "    <tr style=\"text-align: right;\">\n",
       "      <th></th>\n",
       "      <th>total_cases</th>\n",
       "      <th>new_cases</th>\n",
       "      <th>new_cases_smoothed</th>\n",
       "      <th>total_deaths</th>\n",
       "      <th>new_deaths</th>\n",
       "      <th>new_deaths_smoothed</th>\n",
       "      <th>total_cases_per_million</th>\n",
       "      <th>new_cases_per_million</th>\n",
       "      <th>new_cases_smoothed_per_million</th>\n",
       "      <th>total_deaths_per_million</th>\n",
       "      <th>...</th>\n",
       "      <th>female_smokers</th>\n",
       "      <th>male_smokers</th>\n",
       "      <th>handwashing_facilities</th>\n",
       "      <th>hospital_beds_per_thousand</th>\n",
       "      <th>life_expectancy</th>\n",
       "      <th>human_development_index</th>\n",
       "      <th>excess_mortality_cumulative_absolute</th>\n",
       "      <th>excess_mortality_cumulative</th>\n",
       "      <th>excess_mortality</th>\n",
       "      <th>excess_mortality_cumulative_per_million</th>\n",
       "    </tr>\n",
       "  </thead>\n",
       "  <tbody>\n",
       "    <tr>\n",
       "      <th>count</th>\n",
       "      <td>1.145080e+05</td>\n",
       "      <td>114505.000000</td>\n",
       "      <td>113490.000000</td>\n",
       "      <td>1.037330e+05</td>\n",
       "      <td>103888.000000</td>\n",
       "      <td>113490.000000</td>\n",
       "      <td>113905.000000</td>\n",
       "      <td>113902.000000</td>\n",
       "      <td>112892.000000</td>\n",
       "      <td>103143.000000</td>\n",
       "      <td>...</td>\n",
       "      <td>83345.000000</td>\n",
       "      <td>82135.000000</td>\n",
       "      <td>53636.000000</td>\n",
       "      <td>97058.000000</td>\n",
       "      <td>114378.000000</td>\n",
       "      <td>106842.000000</td>\n",
       "      <td>4129.000000</td>\n",
       "      <td>4129.000000</td>\n",
       "      <td>4275.000000</td>\n",
       "      <td>4129.000000</td>\n",
       "    </tr>\n",
       "    <tr>\n",
       "      <th>mean</th>\n",
       "      <td>1.422928e+06</td>\n",
       "      <td>6460.530387</td>\n",
       "      <td>6478.195278</td>\n",
       "      <td>3.614406e+04</td>\n",
       "      <td>145.552374</td>\n",
       "      <td>132.535030</td>\n",
       "      <td>17599.630363</td>\n",
       "      <td>83.248566</td>\n",
       "      <td>83.243541</td>\n",
       "      <td>368.820669</td>\n",
       "      <td>...</td>\n",
       "      <td>10.592976</td>\n",
       "      <td>32.737300</td>\n",
       "      <td>50.741617</td>\n",
       "      <td>3.023784</td>\n",
       "      <td>73.259529</td>\n",
       "      <td>0.726512</td>\n",
       "      <td>28797.991911</td>\n",
       "      <td>8.189964</td>\n",
       "      <td>15.036756</td>\n",
       "      <td>701.842569</td>\n",
       "    </tr>\n",
       "    <tr>\n",
       "      <th>std</th>\n",
       "      <td>9.531309e+06</td>\n",
       "      <td>39383.642226</td>\n",
       "      <td>38973.282855</td>\n",
       "      <td>2.154047e+05</td>\n",
       "      <td>793.439125</td>\n",
       "      <td>741.948274</td>\n",
       "      <td>30051.437448</td>\n",
       "      <td>193.749834</td>\n",
       "      <td>163.764583</td>\n",
       "      <td>625.768309</td>\n",
       "      <td>...</td>\n",
       "      <td>10.505467</td>\n",
       "      <td>13.504572</td>\n",
       "      <td>31.753267</td>\n",
       "      <td>2.453280</td>\n",
       "      <td>7.541998</td>\n",
       "      <td>0.150224</td>\n",
       "      <td>83446.267382</td>\n",
       "      <td>16.122688</td>\n",
       "      <td>31.190051</td>\n",
       "      <td>1097.894609</td>\n",
       "    </tr>\n",
       "    <tr>\n",
       "      <th>min</th>\n",
       "      <td>1.000000e+00</td>\n",
       "      <td>-74347.000000</td>\n",
       "      <td>-6223.000000</td>\n",
       "      <td>1.000000e+00</td>\n",
       "      <td>-1918.000000</td>\n",
       "      <td>-232.143000</td>\n",
       "      <td>0.001000</td>\n",
       "      <td>-3125.829000</td>\n",
       "      <td>-272.971000</td>\n",
       "      <td>0.001000</td>\n",
       "      <td>...</td>\n",
       "      <td>0.100000</td>\n",
       "      <td>7.700000</td>\n",
       "      <td>1.188000</td>\n",
       "      <td>0.100000</td>\n",
       "      <td>53.280000</td>\n",
       "      <td>0.394000</td>\n",
       "      <td>-31959.400000</td>\n",
       "      <td>-27.350000</td>\n",
       "      <td>-95.920000</td>\n",
       "      <td>-1728.844404</td>\n",
       "    </tr>\n",
       "    <tr>\n",
       "      <th>25%</th>\n",
       "      <td>1.962000e+03</td>\n",
       "      <td>3.000000</td>\n",
       "      <td>9.143000</td>\n",
       "      <td>6.700000e+01</td>\n",
       "      <td>0.000000</td>\n",
       "      <td>0.000000</td>\n",
       "      <td>341.505000</td>\n",
       "      <td>0.279000</td>\n",
       "      <td>1.537000</td>\n",
       "      <td>10.179000</td>\n",
       "      <td>...</td>\n",
       "      <td>1.900000</td>\n",
       "      <td>21.600000</td>\n",
       "      <td>19.351000</td>\n",
       "      <td>1.300000</td>\n",
       "      <td>67.920000</td>\n",
       "      <td>0.602000</td>\n",
       "      <td>-292.600000</td>\n",
       "      <td>-1.600000</td>\n",
       "      <td>-1.555000</td>\n",
       "      <td>-65.792976</td>\n",
       "    </tr>\n",
       "    <tr>\n",
       "      <th>50%</th>\n",
       "      <td>2.028050e+04</td>\n",
       "      <td>92.000000</td>\n",
       "      <td>114.143000</td>\n",
       "      <td>5.990000e+02</td>\n",
       "      <td>2.000000</td>\n",
       "      <td>1.714000</td>\n",
       "      <td>2672.154000</td>\n",
       "      <td>10.615500</td>\n",
       "      <td>14.545000</td>\n",
       "      <td>67.531000</td>\n",
       "      <td>...</td>\n",
       "      <td>6.300000</td>\n",
       "      <td>31.400000</td>\n",
       "      <td>49.839000</td>\n",
       "      <td>2.400000</td>\n",
       "      <td>74.620000</td>\n",
       "      <td>0.744000</td>\n",
       "      <td>1279.200000</td>\n",
       "      <td>4.520000</td>\n",
       "      <td>5.640000</td>\n",
       "      <td>271.653432</td>\n",
       "    </tr>\n",
       "    <tr>\n",
       "      <th>75%</th>\n",
       "      <td>2.104045e+05</td>\n",
       "      <td>922.000000</td>\n",
       "      <td>972.964250</td>\n",
       "      <td>5.109000e+03</td>\n",
       "      <td>19.000000</td>\n",
       "      <td>15.714000</td>\n",
       "      <td>21107.351000</td>\n",
       "      <td>81.031000</td>\n",
       "      <td>90.478750</td>\n",
       "      <td>444.398000</td>\n",
       "      <td>...</td>\n",
       "      <td>19.300000</td>\n",
       "      <td>41.100000</td>\n",
       "      <td>82.502000</td>\n",
       "      <td>3.861000</td>\n",
       "      <td>78.740000</td>\n",
       "      <td>0.848000</td>\n",
       "      <td>17379.800000</td>\n",
       "      <td>13.170000</td>\n",
       "      <td>21.185000</td>\n",
       "      <td>1194.686160</td>\n",
       "    </tr>\n",
       "    <tr>\n",
       "      <th>max</th>\n",
       "      <td>2.342865e+08</td>\n",
       "      <td>905948.000000</td>\n",
       "      <td>826439.429000</td>\n",
       "      <td>4.791862e+06</td>\n",
       "      <td>17977.000000</td>\n",
       "      <td>14722.857000</td>\n",
       "      <td>217440.097000</td>\n",
       "      <td>8620.690000</td>\n",
       "      <td>3385.473000</td>\n",
       "      <td>5978.013000</td>\n",
       "      <td>...</td>\n",
       "      <td>44.000000</td>\n",
       "      <td>78.100000</td>\n",
       "      <td>100.000000</td>\n",
       "      <td>13.800000</td>\n",
       "      <td>86.750000</td>\n",
       "      <td>0.957000</td>\n",
       "      <td>675683.400000</td>\n",
       "      <td>106.850000</td>\n",
       "      <td>372.820000</td>\n",
       "      <td>6084.213407</td>\n",
       "    </tr>\n",
       "  </tbody>\n",
       "</table>\n",
       "<p>8 rows × 60 columns</p>\n",
       "</div>"
      ],
      "text/plain": [
       "        total_cases      new_cases  new_cases_smoothed  total_deaths  \\\n",
       "count  1.145080e+05  114505.000000       113490.000000  1.037330e+05   \n",
       "mean   1.422928e+06    6460.530387         6478.195278  3.614406e+04   \n",
       "std    9.531309e+06   39383.642226        38973.282855  2.154047e+05   \n",
       "min    1.000000e+00  -74347.000000        -6223.000000  1.000000e+00   \n",
       "25%    1.962000e+03       3.000000            9.143000  6.700000e+01   \n",
       "50%    2.028050e+04      92.000000          114.143000  5.990000e+02   \n",
       "75%    2.104045e+05     922.000000          972.964250  5.109000e+03   \n",
       "max    2.342865e+08  905948.000000       826439.429000  4.791862e+06   \n",
       "\n",
       "          new_deaths  new_deaths_smoothed  total_cases_per_million  \\\n",
       "count  103888.000000        113490.000000            113905.000000   \n",
       "mean      145.552374           132.535030             17599.630363   \n",
       "std       793.439125           741.948274             30051.437448   \n",
       "min     -1918.000000          -232.143000                 0.001000   \n",
       "25%         0.000000             0.000000               341.505000   \n",
       "50%         2.000000             1.714000              2672.154000   \n",
       "75%        19.000000            15.714000             21107.351000   \n",
       "max     17977.000000         14722.857000            217440.097000   \n",
       "\n",
       "       new_cases_per_million  new_cases_smoothed_per_million  \\\n",
       "count          113902.000000                   112892.000000   \n",
       "mean               83.248566                       83.243541   \n",
       "std               193.749834                      163.764583   \n",
       "min             -3125.829000                     -272.971000   \n",
       "25%                 0.279000                        1.537000   \n",
       "50%                10.615500                       14.545000   \n",
       "75%                81.031000                       90.478750   \n",
       "max              8620.690000                     3385.473000   \n",
       "\n",
       "       total_deaths_per_million  ...  female_smokers  male_smokers  \\\n",
       "count             103143.000000  ...    83345.000000  82135.000000   \n",
       "mean                 368.820669  ...       10.592976     32.737300   \n",
       "std                  625.768309  ...       10.505467     13.504572   \n",
       "min                    0.001000  ...        0.100000      7.700000   \n",
       "25%                   10.179000  ...        1.900000     21.600000   \n",
       "50%                   67.531000  ...        6.300000     31.400000   \n",
       "75%                  444.398000  ...       19.300000     41.100000   \n",
       "max                 5978.013000  ...       44.000000     78.100000   \n",
       "\n",
       "       handwashing_facilities  hospital_beds_per_thousand  life_expectancy  \\\n",
       "count            53636.000000                97058.000000    114378.000000   \n",
       "mean                50.741617                    3.023784        73.259529   \n",
       "std                 31.753267                    2.453280         7.541998   \n",
       "min                  1.188000                    0.100000        53.280000   \n",
       "25%                 19.351000                    1.300000        67.920000   \n",
       "50%                 49.839000                    2.400000        74.620000   \n",
       "75%                 82.502000                    3.861000        78.740000   \n",
       "max                100.000000                   13.800000        86.750000   \n",
       "\n",
       "       human_development_index  excess_mortality_cumulative_absolute  \\\n",
       "count            106842.000000                           4129.000000   \n",
       "mean                  0.726512                          28797.991911   \n",
       "std                   0.150224                          83446.267382   \n",
       "min                   0.394000                         -31959.400000   \n",
       "25%                   0.602000                           -292.600000   \n",
       "50%                   0.744000                           1279.200000   \n",
       "75%                   0.848000                          17379.800000   \n",
       "max                   0.957000                         675683.400000   \n",
       "\n",
       "       excess_mortality_cumulative  excess_mortality  \\\n",
       "count                  4129.000000       4275.000000   \n",
       "mean                      8.189964         15.036756   \n",
       "std                      16.122688         31.190051   \n",
       "min                     -27.350000        -95.920000   \n",
       "25%                      -1.600000         -1.555000   \n",
       "50%                       4.520000          5.640000   \n",
       "75%                      13.170000         21.185000   \n",
       "max                     106.850000        372.820000   \n",
       "\n",
       "       excess_mortality_cumulative_per_million  \n",
       "count                              4129.000000  \n",
       "mean                                701.842569  \n",
       "std                                1097.894609  \n",
       "min                               -1728.844404  \n",
       "25%                                 -65.792976  \n",
       "50%                                 271.653432  \n",
       "75%                                1194.686160  \n",
       "max                                6084.213407  \n",
       "\n",
       "[8 rows x 60 columns]"
      ]
     },
     "execution_count": 4,
     "metadata": {},
     "output_type": "execute_result"
    }
   ],
   "source": [
    "df.describe()"
   ]
  },
  {
   "cell_type": "code",
   "execution_count": 23,
   "id": "square-article",
   "metadata": {},
   "outputs": [
    {
     "data": {
      "application/vnd.plotly.v1+json": {
       "config": {
        "plotlyServerURL": "https://plot.ly"
       },
       "data": [
        {
         "alignmentgroup": "True",
         "hovertemplate": "Country=%{y}<br>Total Deaths=%{x}<extra></extra>",
         "legendgroup": "Europe",
         "marker": {
          "color": "#636efa"
         },
         "name": "Europe",
         "offsetgroup": "Europe",
         "orientation": "h",
         "showlegend": true,
         "textposition": "auto",
         "type": "bar",
         "x": [
          1230191
         ],
         "xaxis": "x",
         "y": [
          "Europe"
         ],
         "yaxis": "y"
        },
        {
         "alignmentgroup": "True",
         "hovertemplate": "Country=%{y}<br>Total Deaths=%{x}<extra></extra>",
         "legendgroup": "South America",
         "marker": {
          "color": "#EF553B"
         },
         "name": "South America",
         "offsetgroup": "South America",
         "orientation": "h",
         "showlegend": true,
         "textposition": "auto",
         "type": "bar",
         "x": [
          1146840
         ],
         "xaxis": "x",
         "y": [
          "South America"
         ],
         "yaxis": "y"
        },
        {
         "alignmentgroup": "True",
         "hovertemplate": "Country=%{y}<br>Total Deaths=%{x}<extra></extra>",
         "legendgroup": "Asia",
         "marker": {
          "color": "#00cc96"
         },
         "name": "Asia",
         "offsetgroup": "Asia",
         "orientation": "h",
         "showlegend": true,
         "textposition": "auto",
         "type": "bar",
         "x": [
          1128359
         ],
         "xaxis": "x",
         "y": [
          "Asia"
         ],
         "yaxis": "y"
        },
        {
         "alignmentgroup": "True",
         "hovertemplate": "Country=%{y}<br>Total Deaths=%{x}<extra></extra>",
         "legendgroup": "North America",
         "marker": {
          "color": "#ab63fa"
         },
         "name": "North America",
         "offsetgroup": "North America",
         "orientation": "h",
         "showlegend": true,
         "textposition": "auto",
         "type": "bar",
         "x": [
          1063847
         ],
         "xaxis": "x",
         "y": [
          "North America"
         ],
         "yaxis": "y"
        },
        {
         "alignmentgroup": "True",
         "hovertemplate": "Country=%{y}<br>Total Deaths=%{x}<extra></extra>",
         "legendgroup": "European Union",
         "marker": {
          "color": "#FFA15A"
         },
         "name": "European Union",
         "offsetgroup": "European Union",
         "orientation": "h",
         "showlegend": true,
         "textposition": "auto",
         "type": "bar",
         "x": [
          771983
         ],
         "xaxis": "x",
         "y": [
          "European Union"
         ],
         "yaxis": "y"
        },
        {
         "alignmentgroup": "True",
         "hovertemplate": "Country=%{y}<br>Total Deaths=%{x}<extra></extra>",
         "legendgroup": "United States",
         "marker": {
          "color": "#19d3f3"
         },
         "name": "United States",
         "offsetgroup": "United States",
         "orientation": "h",
         "showlegend": true,
         "textposition": "auto",
         "type": "bar",
         "x": [
          700285
         ],
         "xaxis": "x",
         "y": [
          "United States"
         ],
         "yaxis": "y"
        },
        {
         "alignmentgroup": "True",
         "hovertemplate": "Country=%{y}<br>Total Deaths=%{x}<extra></extra>",
         "legendgroup": "Brazil",
         "marker": {
          "color": "#FF6692"
         },
         "name": "Brazil",
         "offsetgroup": "Brazil",
         "orientation": "h",
         "showlegend": true,
         "textposition": "auto",
         "type": "bar",
         "x": [
          597255
         ],
         "xaxis": "x",
         "y": [
          "Brazil"
         ],
         "yaxis": "y"
        },
        {
         "alignmentgroup": "True",
         "hovertemplate": "Country=%{y}<br>Total Deaths=%{x}<extra></extra>",
         "legendgroup": "India",
         "marker": {
          "color": "#B6E880"
         },
         "name": "India",
         "offsetgroup": "India",
         "orientation": "h",
         "showlegend": true,
         "textposition": "auto",
         "type": "bar",
         "x": [
          448573
         ],
         "xaxis": "x",
         "y": [
          "India"
         ],
         "yaxis": "y"
        },
        {
         "alignmentgroup": "True",
         "hovertemplate": "Country=%{y}<br>Total Deaths=%{x}<extra></extra>",
         "legendgroup": "Mexico",
         "marker": {
          "color": "#FF97FF"
         },
         "name": "Mexico",
         "offsetgroup": "Mexico",
         "orientation": "h",
         "showlegend": true,
         "textposition": "auto",
         "type": "bar",
         "x": [
          277978
         ],
         "xaxis": "x",
         "y": [
          "Mexico"
         ],
         "yaxis": "y"
        },
        {
         "alignmentgroup": "True",
         "hovertemplate": "Country=%{y}<br>Total Deaths=%{x}<extra></extra>",
         "legendgroup": "Africa",
         "marker": {
          "color": "#FECB52"
         },
         "name": "Africa",
         "offsetgroup": "Africa",
         "orientation": "h",
         "showlegend": true,
         "textposition": "auto",
         "type": "bar",
         "x": [
          211593
         ],
         "xaxis": "x",
         "y": [
          "Africa"
         ],
         "yaxis": "y"
        },
        {
         "alignmentgroup": "True",
         "hovertemplate": "Country=%{y}<br>Total Deaths=%{x}<extra></extra>",
         "legendgroup": "Russia",
         "marker": {
          "color": "#636efa"
         },
         "name": "Russia",
         "offsetgroup": "Russia",
         "orientation": "h",
         "showlegend": true,
         "textposition": "auto",
         "type": "bar",
         "x": [
          204424
         ],
         "xaxis": "x",
         "y": [
          "Russia"
         ],
         "yaxis": "y"
        },
        {
         "alignmentgroup": "True",
         "hovertemplate": "Country=%{y}<br>Total Deaths=%{x}<extra></extra>",
         "legendgroup": "Peru",
         "marker": {
          "color": "#EF553B"
         },
         "name": "Peru",
         "offsetgroup": "Peru",
         "orientation": "h",
         "showlegend": true,
         "textposition": "auto",
         "type": "bar",
         "x": [
          199423
         ],
         "xaxis": "x",
         "y": [
          "Peru"
         ],
         "yaxis": "y"
        },
        {
         "alignmentgroup": "True",
         "hovertemplate": "Country=%{y}<br>Total Deaths=%{x}<extra></extra>",
         "legendgroup": "Indonesia",
         "marker": {
          "color": "#00cc96"
         },
         "name": "Indonesia",
         "offsetgroup": "Indonesia",
         "orientation": "h",
         "showlegend": true,
         "textposition": "auto",
         "type": "bar",
         "x": [
          142026
         ],
         "xaxis": "x",
         "y": [
          "Indonesia"
         ],
         "yaxis": "y"
        },
        {
         "alignmentgroup": "True",
         "hovertemplate": "Country=%{y}<br>Total Deaths=%{x}<extra></extra>",
         "legendgroup": "United Kingdom",
         "marker": {
          "color": "#ab63fa"
         },
         "name": "United Kingdom",
         "offsetgroup": "United Kingdom",
         "orientation": "h",
         "showlegend": true,
         "textposition": "auto",
         "type": "bar",
         "x": [
          137171
         ],
         "xaxis": "x",
         "y": [
          "United Kingdom"
         ],
         "yaxis": "y"
        },
        {
         "alignmentgroup": "True",
         "hovertemplate": "Country=%{y}<br>Total Deaths=%{x}<extra></extra>",
         "legendgroup": "Italy",
         "marker": {
          "color": "#FFA15A"
         },
         "name": "Italy",
         "offsetgroup": "Italy",
         "orientation": "h",
         "showlegend": true,
         "textposition": "auto",
         "type": "bar",
         "x": [
          130973
         ],
         "xaxis": "x",
         "y": [
          "Italy"
         ],
         "yaxis": "y"
        },
        {
         "alignmentgroup": "True",
         "hovertemplate": "Country=%{y}<br>Total Deaths=%{x}<extra></extra>",
         "legendgroup": "Colombia",
         "marker": {
          "color": "#19d3f3"
         },
         "name": "Colombia",
         "offsetgroup": "Colombia",
         "orientation": "h",
         "showlegend": true,
         "textposition": "auto",
         "type": "bar",
         "x": [
          126336
         ],
         "xaxis": "x",
         "y": [
          "Colombia"
         ],
         "yaxis": "y"
        },
        {
         "alignmentgroup": "True",
         "hovertemplate": "Country=%{y}<br>Total Deaths=%{x}<extra></extra>",
         "legendgroup": "Iran",
         "marker": {
          "color": "#FF6692"
         },
         "name": "Iran",
         "offsetgroup": "Iran",
         "orientation": "h",
         "showlegend": true,
         "textposition": "auto",
         "type": "bar",
         "x": [
          120663
         ],
         "xaxis": "x",
         "y": [
          "Iran"
         ],
         "yaxis": "y"
        },
        {
         "alignmentgroup": "True",
         "hovertemplate": "Country=%{y}<br>Total Deaths=%{x}<extra></extra>",
         "legendgroup": "France",
         "marker": {
          "color": "#B6E880"
         },
         "name": "France",
         "offsetgroup": "France",
         "orientation": "h",
         "showlegend": true,
         "textposition": "auto",
         "type": "bar",
         "x": [
          117535
         ],
         "xaxis": "x",
         "y": [
          "France"
         ],
         "yaxis": "y"
        },
        {
         "alignmentgroup": "True",
         "hovertemplate": "Country=%{y}<br>Total Deaths=%{x}<extra></extra>",
         "legendgroup": "Argentina",
         "marker": {
          "color": "#FF97FF"
         },
         "name": "Argentina",
         "offsetgroup": "Argentina",
         "orientation": "h",
         "showlegend": true,
         "textposition": "auto",
         "type": "bar",
         "x": [
          115225
         ],
         "xaxis": "x",
         "y": [
          "Argentina"
         ],
         "yaxis": "y"
        },
        {
         "alignmentgroup": "True",
         "hovertemplate": "Country=%{y}<br>Total Deaths=%{x}<extra></extra>",
         "legendgroup": "Germany",
         "marker": {
          "color": "#FECB52"
         },
         "name": "Germany",
         "offsetgroup": "Germany",
         "orientation": "h",
         "showlegend": true,
         "textposition": "auto",
         "type": "bar",
         "x": [
          93781
         ],
         "xaxis": "x",
         "y": [
          "Germany"
         ],
         "yaxis": "y"
        },
        {
         "alignmentgroup": "True",
         "hovertemplate": "Country=%{y}<br>Total Deaths=%{x}<extra></extra>",
         "legendgroup": "South Africa",
         "marker": {
          "color": "#636efa"
         },
         "name": "South Africa",
         "offsetgroup": "South Africa",
         "orientation": "h",
         "showlegend": true,
         "textposition": "auto",
         "type": "bar",
         "x": [
          87705
         ],
         "xaxis": "x",
         "y": [
          "South Africa"
         ],
         "yaxis": "y"
        },
        {
         "alignmentgroup": "True",
         "hovertemplate": "Country=%{y}<br>Total Deaths=%{x}<extra></extra>",
         "legendgroup": "Spain",
         "marker": {
          "color": "#EF553B"
         },
         "name": "Spain",
         "offsetgroup": "Spain",
         "orientation": "h",
         "showlegend": true,
         "textposition": "auto",
         "type": "bar",
         "x": [
          86463
         ],
         "xaxis": "x",
         "y": [
          "Spain"
         ],
         "yaxis": "y"
        },
        {
         "alignmentgroup": "True",
         "hovertemplate": "Country=%{y}<br>Total Deaths=%{x}<extra></extra>",
         "legendgroup": "Poland",
         "marker": {
          "color": "#00cc96"
         },
         "name": "Poland",
         "offsetgroup": "Poland",
         "orientation": "h",
         "showlegend": true,
         "textposition": "auto",
         "type": "bar",
         "x": [
          75666
         ],
         "xaxis": "x",
         "y": [
          "Poland"
         ],
         "yaxis": "y"
        },
        {
         "alignmentgroup": "True",
         "hovertemplate": "Country=%{y}<br>Total Deaths=%{x}<extra></extra>",
         "legendgroup": "Turkey",
         "marker": {
          "color": "#ab63fa"
         },
         "name": "Turkey",
         "offsetgroup": "Turkey",
         "orientation": "h",
         "showlegend": true,
         "textposition": "auto",
         "type": "bar",
         "x": [
          64037
         ],
         "xaxis": "x",
         "y": [
          "Turkey"
         ],
         "yaxis": "y"
        },
        {
         "alignmentgroup": "True",
         "hovertemplate": "Country=%{y}<br>Total Deaths=%{x}<extra></extra>",
         "legendgroup": "Ukraine",
         "marker": {
          "color": "#FFA15A"
         },
         "name": "Ukraine",
         "offsetgroup": "Ukraine",
         "orientation": "h",
         "showlegend": true,
         "textposition": "auto",
         "type": "bar",
         "x": [
          60164
         ],
         "xaxis": "x",
         "y": [
          "Ukraine"
         ],
         "yaxis": "y"
        },
        {
         "alignmentgroup": "True",
         "hovertemplate": "Country=%{y}<br>Total Deaths=%{x}<extra></extra>",
         "legendgroup": "Philippines",
         "marker": {
          "color": "#19d3f3"
         },
         "name": "Philippines",
         "offsetgroup": "Philippines",
         "orientation": "h",
         "showlegend": true,
         "textposition": "auto",
         "type": "bar",
         "x": [
          38493
         ],
         "xaxis": "x",
         "y": [
          "Philippines"
         ],
         "yaxis": "y"
        },
        {
         "alignmentgroup": "True",
         "hovertemplate": "Country=%{y}<br>Total Deaths=%{x}<extra></extra>",
         "legendgroup": "Chile",
         "marker": {
          "color": "#FF6692"
         },
         "name": "Chile",
         "offsetgroup": "Chile",
         "orientation": "h",
         "showlegend": true,
         "textposition": "auto",
         "type": "bar",
         "x": [
          37476
         ],
         "xaxis": "x",
         "y": [
          "Chile"
         ],
         "yaxis": "y"
        },
        {
         "alignmentgroup": "True",
         "hovertemplate": "Country=%{y}<br>Total Deaths=%{x}<extra></extra>",
         "legendgroup": "Romania",
         "marker": {
          "color": "#B6E880"
         },
         "name": "Romania",
         "offsetgroup": "Romania",
         "orientation": "h",
         "showlegend": true,
         "textposition": "auto",
         "type": "bar",
         "x": [
          37210
         ],
         "xaxis": "x",
         "y": [
          "Romania"
         ],
         "yaxis": "y"
        },
        {
         "alignmentgroup": "True",
         "hovertemplate": "Country=%{y}<br>Total Deaths=%{x}<extra></extra>",
         "legendgroup": "Czechia",
         "marker": {
          "color": "#FF97FF"
         },
         "name": "Czechia",
         "offsetgroup": "Czechia",
         "orientation": "h",
         "showlegend": true,
         "textposition": "auto",
         "type": "bar",
         "x": [
          30475
         ],
         "xaxis": "x",
         "y": [
          "Czechia"
         ],
         "yaxis": "y"
        },
        {
         "alignmentgroup": "True",
         "hovertemplate": "Country=%{y}<br>Total Deaths=%{x}<extra></extra>",
         "legendgroup": "Hungary",
         "marker": {
          "color": "#FECB52"
         },
         "name": "Hungary",
         "offsetgroup": "Hungary",
         "orientation": "h",
         "showlegend": true,
         "textposition": "auto",
         "type": "bar",
         "x": [
          30199
         ],
         "xaxis": "x",
         "y": [
          "Hungary"
         ],
         "yaxis": "y"
        },
        {
         "alignmentgroup": "True",
         "hovertemplate": "Country=%{y}<br>Total Deaths=%{x}<extra></extra>",
         "legendgroup": "Canada",
         "marker": {
          "color": "#636efa"
         },
         "name": "Canada",
         "offsetgroup": "Canada",
         "orientation": "h",
         "showlegend": true,
         "textposition": "auto",
         "type": "bar",
         "x": [
          27974
         ],
         "xaxis": "x",
         "y": [
          "Canada"
         ],
         "yaxis": "y"
        },
        {
         "alignmentgroup": "True",
         "hovertemplate": "Country=%{y}<br>Total Deaths=%{x}<extra></extra>",
         "legendgroup": "Pakistan",
         "marker": {
          "color": "#EF553B"
         },
         "name": "Pakistan",
         "offsetgroup": "Pakistan",
         "orientation": "h",
         "showlegend": true,
         "textposition": "auto",
         "type": "bar",
         "x": [
          27831
         ],
         "xaxis": "x",
         "y": [
          "Pakistan"
         ],
         "yaxis": "y"
        },
        {
         "alignmentgroup": "True",
         "hovertemplate": "Country=%{y}<br>Total Deaths=%{x}<extra></extra>",
         "legendgroup": "Bangladesh",
         "marker": {
          "color": "#00cc96"
         },
         "name": "Bangladesh",
         "offsetgroup": "Bangladesh",
         "orientation": "h",
         "showlegend": true,
         "textposition": "auto",
         "type": "bar",
         "x": [
          27531
         ],
         "xaxis": "x",
         "y": [
          "Bangladesh"
         ],
         "yaxis": "y"
        },
        {
         "alignmentgroup": "True",
         "hovertemplate": "Country=%{y}<br>Total Deaths=%{x}<extra></extra>",
         "legendgroup": "Malaysia",
         "marker": {
          "color": "#ab63fa"
         },
         "name": "Malaysia",
         "offsetgroup": "Malaysia",
         "orientation": "h",
         "showlegend": true,
         "textposition": "auto",
         "type": "bar",
         "x": [
          26456
         ],
         "xaxis": "x",
         "y": [
          "Malaysia"
         ],
         "yaxis": "y"
        },
        {
         "alignmentgroup": "True",
         "hovertemplate": "Country=%{y}<br>Total Deaths=%{x}<extra></extra>",
         "legendgroup": "Belgium",
         "marker": {
          "color": "#FFA15A"
         },
         "name": "Belgium",
         "offsetgroup": "Belgium",
         "orientation": "h",
         "showlegend": true,
         "textposition": "auto",
         "type": "bar",
         "x": [
          25612
         ],
         "xaxis": "x",
         "y": [
          "Belgium"
         ],
         "yaxis": "y"
        },
        {
         "alignmentgroup": "True",
         "hovertemplate": "Country=%{y}<br>Total Deaths=%{x}<extra></extra>",
         "legendgroup": "Tunisia",
         "marker": {
          "color": "#19d3f3"
         },
         "name": "Tunisia",
         "offsetgroup": "Tunisia",
         "orientation": "h",
         "showlegend": true,
         "textposition": "auto",
         "type": "bar",
         "x": [
          24901
         ],
         "xaxis": "x",
         "y": [
          "Tunisia"
         ],
         "yaxis": "y"
        },
        {
         "alignmentgroup": "True",
         "hovertemplate": "Country=%{y}<br>Total Deaths=%{x}<extra></extra>",
         "legendgroup": "Ecuador",
         "marker": {
          "color": "#FF6692"
         },
         "name": "Ecuador",
         "offsetgroup": "Ecuador",
         "orientation": "h",
         "showlegend": true,
         "textposition": "auto",
         "type": "bar",
         "x": [
          23976
         ],
         "xaxis": "x",
         "y": [
          "Ecuador"
         ],
         "yaxis": "y"
        },
        {
         "alignmentgroup": "True",
         "hovertemplate": "Country=%{y}<br>Total Deaths=%{x}<extra></extra>",
         "legendgroup": "Iraq",
         "marker": {
          "color": "#B6E880"
         },
         "name": "Iraq",
         "offsetgroup": "Iraq",
         "orientation": "h",
         "showlegend": true,
         "textposition": "auto",
         "type": "bar",
         "x": [
          22302
         ],
         "xaxis": "x",
         "y": [
          "Iraq"
         ],
         "yaxis": "y"
        },
        {
         "alignmentgroup": "True",
         "hovertemplate": "Country=%{y}<br>Total Deaths=%{x}<extra></extra>",
         "legendgroup": "Bulgaria",
         "marker": {
          "color": "#FF97FF"
         },
         "name": "Bulgaria",
         "offsetgroup": "Bulgaria",
         "orientation": "h",
         "showlegend": true,
         "textposition": "auto",
         "type": "bar",
         "x": [
          20969
         ],
         "xaxis": "x",
         "y": [
          "Bulgaria"
         ],
         "yaxis": "y"
        },
        {
         "alignmentgroup": "True",
         "hovertemplate": "Country=%{y}<br>Total Deaths=%{x}<extra></extra>",
         "legendgroup": "Vietnam",
         "marker": {
          "color": "#FECB52"
         },
         "name": "Vietnam",
         "offsetgroup": "Vietnam",
         "orientation": "h",
         "showlegend": true,
         "textposition": "auto",
         "type": "bar",
         "x": [
          19437
         ],
         "xaxis": "x",
         "y": [
          "Vietnam"
         ],
         "yaxis": "y"
        },
        {
         "alignmentgroup": "True",
         "hovertemplate": "Country=%{y}<br>Total Deaths=%{x}<extra></extra>",
         "legendgroup": "Bolivia",
         "marker": {
          "color": "#636efa"
         },
         "name": "Bolivia",
         "offsetgroup": "Bolivia",
         "orientation": "h",
         "showlegend": true,
         "textposition": "auto",
         "type": "bar",
         "x": [
          18750
         ],
         "xaxis": "x",
         "y": [
          "Bolivia"
         ],
         "yaxis": "y"
        },
        {
         "alignmentgroup": "True",
         "hovertemplate": "Country=%{y}<br>Total Deaths=%{x}<extra></extra>",
         "legendgroup": "Netherlands",
         "marker": {
          "color": "#EF553B"
         },
         "name": "Netherlands",
         "offsetgroup": "Netherlands",
         "orientation": "h",
         "showlegend": true,
         "textposition": "auto",
         "type": "bar",
         "x": [
          18590
         ],
         "xaxis": "x",
         "y": [
          "Netherlands"
         ],
         "yaxis": "y"
        },
        {
         "alignmentgroup": "True",
         "hovertemplate": "Country=%{y}<br>Total Deaths=%{x}<extra></extra>",
         "legendgroup": "Portugal",
         "marker": {
          "color": "#00cc96"
         },
         "name": "Portugal",
         "offsetgroup": "Portugal",
         "orientation": "h",
         "showlegend": true,
         "textposition": "auto",
         "type": "bar",
         "x": [
          17979
         ],
         "xaxis": "x",
         "y": [
          "Portugal"
         ],
         "yaxis": "y"
        },
        {
         "alignmentgroup": "True",
         "hovertemplate": "Country=%{y}<br>Total Deaths=%{x}<extra></extra>",
         "legendgroup": "Myanmar",
         "marker": {
          "color": "#ab63fa"
         },
         "name": "Myanmar",
         "offsetgroup": "Myanmar",
         "orientation": "h",
         "showlegend": true,
         "textposition": "auto",
         "type": "bar",
         "x": [
          17789
         ],
         "xaxis": "x",
         "y": [
          "Myanmar"
         ],
         "yaxis": "y"
        },
        {
         "alignmentgroup": "True",
         "hovertemplate": "Country=%{y}<br>Total Deaths=%{x}<extra></extra>",
         "legendgroup": "Japan",
         "marker": {
          "color": "#FFA15A"
         },
         "name": "Japan",
         "offsetgroup": "Japan",
         "orientation": "h",
         "showlegend": true,
         "textposition": "auto",
         "type": "bar",
         "x": [
          17698
         ],
         "xaxis": "x",
         "y": [
          "Japan"
         ],
         "yaxis": "y"
        },
        {
         "alignmentgroup": "True",
         "hovertemplate": "Country=%{y}<br>Total Deaths=%{x}<extra></extra>",
         "legendgroup": "Egypt",
         "marker": {
          "color": "#19d3f3"
         },
         "name": "Egypt",
         "offsetgroup": "Egypt",
         "orientation": "h",
         "showlegend": true,
         "textposition": "auto",
         "type": "bar",
         "x": [
          17367
         ],
         "xaxis": "x",
         "y": [
          "Egypt"
         ],
         "yaxis": "y"
        },
        {
         "alignmentgroup": "True",
         "hovertemplate": "Country=%{y}<br>Total Deaths=%{x}<extra></extra>",
         "legendgroup": "Thailand",
         "marker": {
          "color": "#FF6692"
         },
         "name": "Thailand",
         "offsetgroup": "Thailand",
         "orientation": "h",
         "showlegend": true,
         "textposition": "auto",
         "type": "bar",
         "x": [
          16850
         ],
         "xaxis": "x",
         "y": [
          "Thailand"
         ],
         "yaxis": "y"
        },
        {
         "alignmentgroup": "True",
         "hovertemplate": "Country=%{y}<br>Total Deaths=%{x}<extra></extra>",
         "legendgroup": "Paraguay",
         "marker": {
          "color": "#B6E880"
         },
         "name": "Paraguay",
         "offsetgroup": "Paraguay",
         "orientation": "h",
         "showlegend": true,
         "textposition": "auto",
         "type": "bar",
         "x": [
          16198
         ],
         "xaxis": "x",
         "y": [
          "Paraguay"
         ],
         "yaxis": "y"
        },
        {
         "alignmentgroup": "True",
         "hovertemplate": "Country=%{y}<br>Total Deaths=%{x}<extra></extra>",
         "legendgroup": "Kazakhstan",
         "marker": {
          "color": "#FF97FF"
         },
         "name": "Kazakhstan",
         "offsetgroup": "Kazakhstan",
         "orientation": "h",
         "showlegend": true,
         "textposition": "auto",
         "type": "bar",
         "x": [
          15907
         ],
         "xaxis": "x",
         "y": [
          "Kazakhstan"
         ],
         "yaxis": "y"
        },
        {
         "alignmentgroup": "True",
         "hovertemplate": "Country=%{y}<br>Total Deaths=%{x}<extra></extra>",
         "legendgroup": "Sweden",
         "marker": {
          "color": "#FECB52"
         },
         "name": "Sweden",
         "offsetgroup": "Sweden",
         "orientation": "h",
         "showlegend": true,
         "textposition": "auto",
         "type": "bar",
         "x": [
          14868
         ],
         "xaxis": "x",
         "y": [
          "Sweden"
         ],
         "yaxis": "y"
        },
        {
         "alignmentgroup": "True",
         "hovertemplate": "Country=%{y}<br>Total Deaths=%{x}<extra></extra>",
         "legendgroup": "Greece",
         "marker": {
          "color": "#636efa"
         },
         "name": "Greece",
         "offsetgroup": "Greece",
         "orientation": "h",
         "showlegend": true,
         "textposition": "auto",
         "type": "bar",
         "x": [
          14860
         ],
         "xaxis": "x",
         "y": [
          "Greece"
         ],
         "yaxis": "y"
        },
        {
         "alignmentgroup": "True",
         "hovertemplate": "Country=%{y}<br>Total Deaths=%{x}<extra></extra>",
         "legendgroup": "Morocco",
         "marker": {
          "color": "#EF553B"
         },
         "name": "Morocco",
         "offsetgroup": "Morocco",
         "orientation": "h",
         "showlegend": true,
         "textposition": "auto",
         "type": "bar",
         "x": [
          14290
         ],
         "xaxis": "x",
         "y": [
          "Morocco"
         ],
         "yaxis": "y"
        },
        {
         "alignmentgroup": "True",
         "hovertemplate": "Country=%{y}<br>Total Deaths=%{x}<extra></extra>",
         "legendgroup": "Guatemala",
         "marker": {
          "color": "#00cc96"
         },
         "name": "Guatemala",
         "offsetgroup": "Guatemala",
         "orientation": "h",
         "showlegend": true,
         "textposition": "auto",
         "type": "bar",
         "x": [
          13625
         ],
         "xaxis": "x",
         "y": [
          "Guatemala"
         ],
         "yaxis": "y"
        },
        {
         "alignmentgroup": "True",
         "hovertemplate": "Country=%{y}<br>Total Deaths=%{x}<extra></extra>",
         "legendgroup": "Sri Lanka",
         "marker": {
          "color": "#ab63fa"
         },
         "name": "Sri Lanka",
         "offsetgroup": "Sri Lanka",
         "orientation": "h",
         "showlegend": true,
         "textposition": "auto",
         "type": "bar",
         "x": [
          12964
         ],
         "xaxis": "x",
         "y": [
          "Sri Lanka"
         ],
         "yaxis": "y"
        },
        {
         "alignmentgroup": "True",
         "hovertemplate": "Country=%{y}<br>Total Deaths=%{x}<extra></extra>",
         "legendgroup": "Slovakia",
         "marker": {
          "color": "#FFA15A"
         },
         "name": "Slovakia",
         "offsetgroup": "Slovakia",
         "orientation": "h",
         "showlegend": true,
         "textposition": "auto",
         "type": "bar",
         "x": [
          12649
         ],
         "xaxis": "x",
         "y": [
          "Slovakia"
         ],
         "yaxis": "y"
        },
        {
         "alignmentgroup": "True",
         "hovertemplate": "Country=%{y}<br>Total Deaths=%{x}<extra></extra>",
         "legendgroup": "Nepal",
         "marker": {
          "color": "#19d3f3"
         },
         "name": "Nepal",
         "offsetgroup": "Nepal",
         "orientation": "h",
         "showlegend": true,
         "textposition": "auto",
         "type": "bar",
         "x": [
          11148
         ],
         "xaxis": "x",
         "y": [
          "Nepal"
         ],
         "yaxis": "y"
        },
        {
         "alignmentgroup": "True",
         "hovertemplate": "Country=%{y}<br>Total Deaths=%{x}<extra></extra>",
         "legendgroup": "Switzerland",
         "marker": {
          "color": "#FF6692"
         },
         "name": "Switzerland",
         "offsetgroup": "Switzerland",
         "orientation": "h",
         "showlegend": true,
         "textposition": "auto",
         "type": "bar",
         "x": [
          11093
         ],
         "xaxis": "x",
         "y": [
          "Switzerland"
         ],
         "yaxis": "y"
        },
        {
         "alignmentgroup": "True",
         "hovertemplate": "Country=%{y}<br>Total Deaths=%{x}<extra></extra>",
         "legendgroup": "Austria",
         "marker": {
          "color": "#B6E880"
         },
         "name": "Austria",
         "offsetgroup": "Austria",
         "orientation": "h",
         "showlegend": true,
         "textposition": "auto",
         "type": "bar",
         "x": [
          11014
         ],
         "xaxis": "x",
         "y": [
          "Austria"
         ],
         "yaxis": "y"
        },
        {
         "alignmentgroup": "True",
         "hovertemplate": "Country=%{y}<br>Total Deaths=%{x}<extra></extra>",
         "legendgroup": "Jordan",
         "marker": {
          "color": "#FF97FF"
         },
         "name": "Jordan",
         "offsetgroup": "Jordan",
         "orientation": "h",
         "showlegend": true,
         "textposition": "auto",
         "type": "bar",
         "x": [
          10727
         ],
         "xaxis": "x",
         "y": [
          "Jordan"
         ],
         "yaxis": "y"
        },
        {
         "alignmentgroup": "True",
         "hovertemplate": "Country=%{y}<br>Total Deaths=%{x}<extra></extra>",
         "legendgroup": "Bosnia and Herzegovina",
         "marker": {
          "color": "#FECB52"
         },
         "name": "Bosnia and Herzegovina",
         "offsetgroup": "Bosnia and Herzegovina",
         "orientation": "h",
         "showlegend": true,
         "textposition": "auto",
         "type": "bar",
         "x": [
          10635
         ],
         "xaxis": "x",
         "y": [
          "Bosnia and Herzegovina"
         ],
         "yaxis": "y"
        },
        {
         "alignmentgroup": "True",
         "hovertemplate": "Country=%{y}<br>Total Deaths=%{x}<extra></extra>",
         "legendgroup": "Honduras",
         "marker": {
          "color": "#636efa"
         },
         "name": "Honduras",
         "offsetgroup": "Honduras",
         "orientation": "h",
         "showlegend": true,
         "textposition": "auto",
         "type": "bar",
         "x": [
          9854
         ],
         "xaxis": "x",
         "y": [
          "Honduras"
         ],
         "yaxis": "y"
        },
        {
         "alignmentgroup": "True",
         "hovertemplate": "Country=%{y}<br>Total Deaths=%{x}<extra></extra>",
         "legendgroup": "Georgia",
         "marker": {
          "color": "#EF553B"
         },
         "name": "Georgia",
         "offsetgroup": "Georgia",
         "orientation": "h",
         "showlegend": true,
         "textposition": "auto",
         "type": "bar",
         "x": [
          8976
         ],
         "xaxis": "x",
         "y": [
          "Georgia"
         ],
         "yaxis": "y"
        },
        {
         "alignmentgroup": "True",
         "hovertemplate": "Country=%{y}<br>Total Deaths=%{x}<extra></extra>",
         "legendgroup": "Saudi Arabia",
         "marker": {
          "color": "#00cc96"
         },
         "name": "Saudi Arabia",
         "offsetgroup": "Saudi Arabia",
         "orientation": "h",
         "showlegend": true,
         "textposition": "auto",
         "type": "bar",
         "x": [
          8716
         ],
         "xaxis": "x",
         "y": [
          "Saudi Arabia"
         ],
         "yaxis": "y"
        },
        {
         "alignmentgroup": "True",
         "hovertemplate": "Country=%{y}<br>Total Deaths=%{x}<extra></extra>",
         "legendgroup": "Croatia",
         "marker": {
          "color": "#ab63fa"
         },
         "name": "Croatia",
         "offsetgroup": "Croatia",
         "orientation": "h",
         "showlegend": true,
         "textposition": "auto",
         "type": "bar",
         "x": [
          8650
         ],
         "xaxis": "x",
         "y": [
          "Croatia"
         ],
         "yaxis": "y"
        },
        {
         "alignmentgroup": "True",
         "hovertemplate": "Country=%{y}<br>Total Deaths=%{x}<extra></extra>",
         "legendgroup": "Lebanon",
         "marker": {
          "color": "#FFA15A"
         },
         "name": "Lebanon",
         "offsetgroup": "Lebanon",
         "orientation": "h",
         "showlegend": true,
         "textposition": "auto",
         "type": "bar",
         "x": [
          8333
         ],
         "xaxis": "x",
         "y": [
          "Lebanon"
         ],
         "yaxis": "y"
        },
        {
         "alignmentgroup": "True",
         "hovertemplate": "Country=%{y}<br>Total Deaths=%{x}<extra></extra>",
         "legendgroup": "Serbia",
         "marker": {
          "color": "#19d3f3"
         },
         "name": "Serbia",
         "offsetgroup": "Serbia",
         "orientation": "h",
         "showlegend": true,
         "textposition": "auto",
         "type": "bar",
         "x": [
          8280
         ],
         "xaxis": "x",
         "y": [
          "Serbia"
         ],
         "yaxis": "y"
        },
        {
         "alignmentgroup": "True",
         "hovertemplate": "Country=%{y}<br>Total Deaths=%{x}<extra></extra>",
         "legendgroup": "Israel",
         "marker": {
          "color": "#FF6692"
         },
         "name": "Israel",
         "offsetgroup": "Israel",
         "orientation": "h",
         "showlegend": true,
         "textposition": "auto",
         "type": "bar",
         "x": [
          7766
         ],
         "xaxis": "x",
         "y": [
          "Israel"
         ],
         "yaxis": "y"
        },
        {
         "alignmentgroup": "True",
         "hovertemplate": "Country=%{y}<br>Total Deaths=%{x}<extra></extra>",
         "legendgroup": "Cuba",
         "marker": {
          "color": "#B6E880"
         },
         "name": "Cuba",
         "offsetgroup": "Cuba",
         "orientation": "h",
         "showlegend": true,
         "textposition": "auto",
         "type": "bar",
         "x": [
          7486
         ],
         "xaxis": "x",
         "y": [
          "Cuba"
         ],
         "yaxis": "y"
        },
        {
         "alignmentgroup": "True",
         "hovertemplate": "Country=%{y}<br>Total Deaths=%{x}<extra></extra>",
         "legendgroup": "Panama",
         "marker": {
          "color": "#FF97FF"
         },
         "name": "Panama",
         "offsetgroup": "Panama",
         "orientation": "h",
         "showlegend": true,
         "textposition": "auto",
         "type": "bar",
         "x": [
          7230
         ],
         "xaxis": "x",
         "y": [
          "Panama"
         ],
         "yaxis": "y"
        },
        {
         "alignmentgroup": "True",
         "hovertemplate": "Country=%{y}<br>Total Deaths=%{x}<extra></extra>",
         "legendgroup": "Afghanistan",
         "marker": {
          "color": "#FECB52"
         },
         "name": "Afghanistan",
         "offsetgroup": "Afghanistan",
         "orientation": "h",
         "showlegend": true,
         "textposition": "auto",
         "type": "bar",
         "x": [
          7206
         ],
         "xaxis": "x",
         "y": [
          "Afghanistan"
         ],
         "yaxis": "y"
        },
        {
         "alignmentgroup": "True",
         "hovertemplate": "Country=%{y}<br>Total Deaths=%{x}<extra></extra>",
         "legendgroup": "Moldova",
         "marker": {
          "color": "#636efa"
         },
         "name": "Moldova",
         "offsetgroup": "Moldova",
         "orientation": "h",
         "showlegend": true,
         "textposition": "auto",
         "type": "bar",
         "x": [
          6803
         ],
         "xaxis": "x",
         "y": [
          "Moldova"
         ],
         "yaxis": "y"
        },
        {
         "alignmentgroup": "True",
         "hovertemplate": "Country=%{y}<br>Total Deaths=%{x}<extra></extra>",
         "legendgroup": "North Macedonia",
         "marker": {
          "color": "#EF553B"
         },
         "name": "North Macedonia",
         "offsetgroup": "North Macedonia",
         "orientation": "h",
         "showlegend": true,
         "textposition": "auto",
         "type": "bar",
         "x": [
          6683
         ],
         "xaxis": "x",
         "y": [
          "North Macedonia"
         ],
         "yaxis": "y"
        },
        {
         "alignmentgroup": "True",
         "hovertemplate": "Country=%{y}<br>Total Deaths=%{x}<extra></extra>",
         "legendgroup": "Azerbaijan",
         "marker": {
          "color": "#00cc96"
         },
         "name": "Azerbaijan",
         "offsetgroup": "Azerbaijan",
         "orientation": "h",
         "showlegend": true,
         "textposition": "auto",
         "type": "bar",
         "x": [
          6543
         ],
         "xaxis": "x",
         "y": [
          "Azerbaijan"
         ],
         "yaxis": "y"
        },
        {
         "alignmentgroup": "True",
         "hovertemplate": "Country=%{y}<br>Total Deaths=%{x}<extra></extra>",
         "legendgroup": "Costa Rica",
         "marker": {
          "color": "#ab63fa"
         },
         "name": "Costa Rica",
         "offsetgroup": "Costa Rica",
         "orientation": "h",
         "showlegend": true,
         "textposition": "auto",
         "type": "bar",
         "x": [
          6413
         ],
         "xaxis": "x",
         "y": [
          "Costa Rica"
         ],
         "yaxis": "y"
        },
        {
         "alignmentgroup": "True",
         "hovertemplate": "Country=%{y}<br>Total Deaths=%{x}<extra></extra>",
         "legendgroup": "Uruguay",
         "marker": {
          "color": "#FFA15A"
         },
         "name": "Uruguay",
         "offsetgroup": "Uruguay",
         "orientation": "h",
         "showlegend": true,
         "textposition": "auto",
         "type": "bar",
         "x": [
          6056
         ],
         "xaxis": "x",
         "y": [
          "Uruguay"
         ],
         "yaxis": "y"
        },
        {
         "alignmentgroup": "True",
         "hovertemplate": "Country=%{y}<br>Total Deaths=%{x}<extra></extra>",
         "legendgroup": "Algeria",
         "marker": {
          "color": "#19d3f3"
         },
         "name": "Algeria",
         "offsetgroup": "Algeria",
         "orientation": "h",
         "showlegend": true,
         "textposition": "auto",
         "type": "bar",
         "x": [
          5815
         ],
         "xaxis": "x",
         "y": [
          "Algeria"
         ],
         "yaxis": "y"
        },
        {
         "alignmentgroup": "True",
         "hovertemplate": "Country=%{y}<br>Total Deaths=%{x}<extra></extra>",
         "legendgroup": "Ethiopia",
         "marker": {
          "color": "#FF6692"
         },
         "name": "Ethiopia",
         "offsetgroup": "Ethiopia",
         "orientation": "h",
         "showlegend": true,
         "textposition": "auto",
         "type": "bar",
         "x": [
          5630
         ],
         "xaxis": "x",
         "y": [
          "Ethiopia"
         ],
         "yaxis": "y"
        },
        {
         "alignmentgroup": "True",
         "hovertemplate": "Country=%{y}<br>Total Deaths=%{x}<extra></extra>",
         "legendgroup": "Armenia",
         "marker": {
          "color": "#B6E880"
         },
         "name": "Armenia",
         "offsetgroup": "Armenia",
         "orientation": "h",
         "showlegend": true,
         "textposition": "auto",
         "type": "bar",
         "x": [
          5339
         ],
         "xaxis": "x",
         "y": [
          "Armenia"
         ],
         "yaxis": "y"
        },
        {
         "alignmentgroup": "True",
         "hovertemplate": "Country=%{y}<br>Total Deaths=%{x}<extra></extra>",
         "legendgroup": "Ireland",
         "marker": {
          "color": "#FF97FF"
         },
         "name": "Ireland",
         "offsetgroup": "Ireland",
         "orientation": "h",
         "showlegend": true,
         "textposition": "auto",
         "type": "bar",
         "x": [
          5249
         ],
         "xaxis": "x",
         "y": [
          "Ireland"
         ],
         "yaxis": "y"
        },
        {
         "alignmentgroup": "True",
         "hovertemplate": "Country=%{y}<br>Total Deaths=%{x}<extra></extra>",
         "legendgroup": "Kenya",
         "marker": {
          "color": "#FECB52"
         },
         "name": "Kenya",
         "offsetgroup": "Kenya",
         "orientation": "h",
         "showlegend": true,
         "textposition": "auto",
         "type": "bar",
         "x": [
          5128
         ],
         "xaxis": "x",
         "y": [
          "Kenya"
         ],
         "yaxis": "y"
        },
        {
         "alignmentgroup": "True",
         "hovertemplate": "Country=%{y}<br>Total Deaths=%{x}<extra></extra>",
         "legendgroup": "Lithuania",
         "marker": {
          "color": "#636efa"
         },
         "name": "Lithuania",
         "offsetgroup": "Lithuania",
         "orientation": "h",
         "showlegend": true,
         "textposition": "auto",
         "type": "bar",
         "x": [
          5014
         ],
         "xaxis": "x",
         "y": [
          "Lithuania"
         ],
         "yaxis": "y"
        },
        {
         "alignmentgroup": "True",
         "hovertemplate": "Country=%{y}<br>Total Deaths=%{x}<extra></extra>",
         "legendgroup": "Libya",
         "marker": {
          "color": "#EF553B"
         },
         "name": "Libya",
         "offsetgroup": "Libya",
         "orientation": "h",
         "showlegend": true,
         "textposition": "auto",
         "type": "bar",
         "x": [
          4664
         ],
         "xaxis": "x",
         "y": [
          "Libya"
         ],
         "yaxis": "y"
        },
        {
         "alignmentgroup": "True",
         "hovertemplate": "Country=%{y}<br>Total Deaths=%{x}<extra></extra>",
         "legendgroup": "Zimbabwe",
         "marker": {
          "color": "#00cc96"
         },
         "name": "Zimbabwe",
         "offsetgroup": "Zimbabwe",
         "orientation": "h",
         "showlegend": true,
         "textposition": "auto",
         "type": "bar",
         "x": [
          4624
         ],
         "xaxis": "x",
         "y": [
          "Zimbabwe"
         ],
         "yaxis": "y"
        },
        {
         "alignmentgroup": "True",
         "hovertemplate": "Country=%{y}<br>Total Deaths=%{x}<extra></extra>",
         "legendgroup": "China",
         "marker": {
          "color": "#ab63fa"
         },
         "name": "China",
         "offsetgroup": "China",
         "orientation": "h",
         "showlegend": true,
         "textposition": "auto",
         "type": "bar",
         "x": [
          4619
         ],
         "xaxis": "x",
         "y": [
          "China"
         ],
         "yaxis": "y"
        },
        {
         "alignmentgroup": "True",
         "hovertemplate": "Country=%{y}<br>Total Deaths=%{x}<extra></extra>",
         "legendgroup": "Slovenia",
         "marker": {
          "color": "#FFA15A"
         },
         "name": "Slovenia",
         "offsetgroup": "Slovenia",
         "orientation": "h",
         "showlegend": true,
         "textposition": "auto",
         "type": "bar",
         "x": [
          4565
         ],
         "xaxis": "x",
         "y": [
          "Slovenia"
         ],
         "yaxis": "y"
        },
        {
         "alignmentgroup": "True",
         "hovertemplate": "Country=%{y}<br>Total Deaths=%{x}<extra></extra>",
         "legendgroup": "Venezuela",
         "marker": {
          "color": "#19d3f3"
         },
         "name": "Venezuela",
         "offsetgroup": "Venezuela",
         "orientation": "h",
         "showlegend": true,
         "textposition": "auto",
         "type": "bar",
         "x": [
          4469
         ],
         "xaxis": "x",
         "y": [
          "Venezuela"
         ],
         "yaxis": "y"
        },
        {
         "alignmentgroup": "True",
         "hovertemplate": "Country=%{y}<br>Total Deaths=%{x}<extra></extra>",
         "legendgroup": "Belarus",
         "marker": {
          "color": "#FF6692"
         },
         "name": "Belarus",
         "offsetgroup": "Belarus",
         "orientation": "h",
         "showlegend": true,
         "textposition": "auto",
         "type": "bar",
         "x": [
          4159
         ],
         "xaxis": "x",
         "y": [
          "Belarus"
         ],
         "yaxis": "y"
        },
        {
         "alignmentgroup": "True",
         "hovertemplate": "Country=%{y}<br>Total Deaths=%{x}<extra></extra>",
         "legendgroup": "Palestine",
         "marker": {
          "color": "#B6E880"
         },
         "name": "Palestine",
         "offsetgroup": "Palestine",
         "orientation": "h",
         "showlegend": true,
         "textposition": "auto",
         "type": "bar",
         "x": [
          4120
         ],
         "xaxis": "x",
         "y": [
          "Palestine"
         ],
         "yaxis": "y"
        },
        {
         "alignmentgroup": "True",
         "hovertemplate": "Country=%{y}<br>Total Deaths=%{x}<extra></extra>",
         "legendgroup": "Oman",
         "marker": {
          "color": "#FF97FF"
         },
         "name": "Oman",
         "offsetgroup": "Oman",
         "orientation": "h",
         "showlegend": true,
         "textposition": "auto",
         "type": "bar",
         "x": [
          4096
         ],
         "xaxis": "x",
         "y": [
          "Oman"
         ],
         "yaxis": "y"
        },
        {
         "alignmentgroup": "True",
         "hovertemplate": "Country=%{y}<br>Total Deaths=%{x}<extra></extra>",
         "legendgroup": "Dominican Republic",
         "marker": {
          "color": "#FECB52"
         },
         "name": "Dominican Republic",
         "offsetgroup": "Dominican Republic",
         "orientation": "h",
         "showlegend": true,
         "textposition": "auto",
         "type": "bar",
         "x": [
          4049
         ],
         "xaxis": "x",
         "y": [
          "Dominican Republic"
         ],
         "yaxis": "y"
        },
        {
         "alignmentgroup": "True",
         "hovertemplate": "Country=%{y}<br>Total Deaths=%{x}<extra></extra>",
         "legendgroup": "Zambia",
         "marker": {
          "color": "#636efa"
         },
         "name": "Zambia",
         "offsetgroup": "Zambia",
         "orientation": "h",
         "showlegend": true,
         "textposition": "auto",
         "type": "bar",
         "x": [
          3649
         ],
         "xaxis": "x",
         "y": [
          "Zambia"
         ],
         "yaxis": "y"
        },
        {
         "alignmentgroup": "True",
         "hovertemplate": "Country=%{y}<br>Total Deaths=%{x}<extra></extra>",
         "legendgroup": "Namibia",
         "marker": {
          "color": "#EF553B"
         },
         "name": "Namibia",
         "offsetgroup": "Namibia",
         "orientation": "h",
         "showlegend": true,
         "textposition": "auto",
         "type": "bar",
         "x": [
          3514
         ],
         "xaxis": "x",
         "y": [
          "Namibia"
         ],
         "yaxis": "y"
        },
        {
         "alignmentgroup": "True",
         "hovertemplate": "Country=%{y}<br>Total Deaths=%{x}<extra></extra>",
         "legendgroup": "El Salvador",
         "marker": {
          "color": "#00cc96"
         },
         "name": "El Salvador",
         "offsetgroup": "El Salvador",
         "orientation": "h",
         "showlegend": true,
         "textposition": "auto",
         "type": "bar",
         "x": [
          3245
         ],
         "xaxis": "x",
         "y": [
          "El Salvador"
         ],
         "yaxis": "y"
        },
        {
         "alignmentgroup": "True",
         "hovertemplate": "Country=%{y}<br>Total Deaths=%{x}<extra></extra>",
         "legendgroup": "Uganda",
         "marker": {
          "color": "#ab63fa"
         },
         "name": "Uganda",
         "offsetgroup": "Uganda",
         "orientation": "h",
         "showlegend": true,
         "textposition": "auto",
         "type": "bar",
         "x": [
          3159
         ],
         "xaxis": "x",
         "y": [
          "Uganda"
         ],
         "yaxis": "y"
        },
        {
         "alignmentgroup": "True",
         "hovertemplate": "Country=%{y}<br>Total Deaths=%{x}<extra></extra>",
         "legendgroup": "Kosovo",
         "marker": {
          "color": "#FFA15A"
         },
         "name": "Kosovo",
         "offsetgroup": "Kosovo",
         "orientation": "h",
         "showlegend": true,
         "textposition": "auto",
         "type": "bar",
         "x": [
          2955
         ],
         "xaxis": "x",
         "y": [
          "Kosovo"
         ],
         "yaxis": "y"
        },
        {
         "alignmentgroup": "True",
         "hovertemplate": "Country=%{y}<br>Total Deaths=%{x}<extra></extra>",
         "legendgroup": "Sudan",
         "marker": {
          "color": "#19d3f3"
         },
         "name": "Sudan",
         "offsetgroup": "Sudan",
         "orientation": "h",
         "showlegend": true,
         "textposition": "auto",
         "type": "bar",
         "x": [
          2902
         ],
         "xaxis": "x",
         "y": [
          "Sudan"
         ],
         "yaxis": "y"
        },
        {
         "alignmentgroup": "True",
         "hovertemplate": "Country=%{y}<br>Total Deaths=%{x}<extra></extra>",
         "legendgroup": "Nigeria",
         "marker": {
          "color": "#FF6692"
         },
         "name": "Nigeria",
         "offsetgroup": "Nigeria",
         "orientation": "h",
         "showlegend": true,
         "textposition": "auto",
         "type": "bar",
         "x": [
          2724
         ],
         "xaxis": "x",
         "y": [
          "Nigeria"
         ],
         "yaxis": "y"
        },
        {
         "alignmentgroup": "True",
         "hovertemplate": "Country=%{y}<br>Total Deaths=%{x}<extra></extra>",
         "legendgroup": "Latvia",
         "marker": {
          "color": "#B6E880"
         },
         "name": "Latvia",
         "offsetgroup": "Latvia",
         "orientation": "h",
         "showlegend": true,
         "textposition": "auto",
         "type": "bar",
         "x": [
          2721
         ],
         "xaxis": "x",
         "y": [
          "Latvia"
         ],
         "yaxis": "y"
        },
        {
         "alignmentgroup": "True",
         "hovertemplate": "Country=%{y}<br>Total Deaths=%{x}<extra></extra>",
         "legendgroup": "Albania",
         "marker": {
          "color": "#FF97FF"
         },
         "name": "Albania",
         "offsetgroup": "Albania",
         "orientation": "h",
         "showlegend": true,
         "textposition": "auto",
         "type": "bar",
         "x": [
          2705
         ],
         "xaxis": "x",
         "y": [
          "Albania"
         ],
         "yaxis": "y"
        },
        {
         "alignmentgroup": "True",
         "hovertemplate": "Country=%{y}<br>Total Deaths=%{x}<extra></extra>",
         "legendgroup": "Denmark",
         "marker": {
          "color": "#FECB52"
         },
         "name": "Denmark",
         "offsetgroup": "Denmark",
         "orientation": "h",
         "showlegend": true,
         "textposition": "auto",
         "type": "bar",
         "x": [
          2661
         ],
         "xaxis": "x",
         "y": [
          "Denmark"
         ],
         "yaxis": "y"
        },
        {
         "alignmentgroup": "True",
         "hovertemplate": "Country=%{y}<br>Total Deaths=%{x}<extra></extra>",
         "legendgroup": "Kyrgyzstan",
         "marker": {
          "color": "#636efa"
         },
         "name": "Kyrgyzstan",
         "offsetgroup": "Kyrgyzstan",
         "orientation": "h",
         "showlegend": true,
         "textposition": "auto",
         "type": "bar",
         "x": [
          2607
         ],
         "xaxis": "x",
         "y": [
          "Kyrgyzstan"
         ],
         "yaxis": "y"
        },
        {
         "alignmentgroup": "True",
         "hovertemplate": "Country=%{y}<br>Total Deaths=%{x}<extra></extra>",
         "legendgroup": "South Korea",
         "marker": {
          "color": "#EF553B"
         },
         "name": "South Korea",
         "offsetgroup": "South Korea",
         "orientation": "h",
         "showlegend": true,
         "textposition": "auto",
         "type": "bar",
         "x": [
          2504
         ],
         "xaxis": "x",
         "y": [
          "South Korea"
         ],
         "yaxis": "y"
        },
        {
         "alignmentgroup": "True",
         "hovertemplate": "Country=%{y}<br>Total Deaths=%{x}<extra></extra>",
         "legendgroup": "Kuwait",
         "marker": {
          "color": "#00cc96"
         },
         "name": "Kuwait",
         "offsetgroup": "Kuwait",
         "orientation": "h",
         "showlegend": true,
         "textposition": "auto",
         "type": "bar",
         "x": [
          2450
         ],
         "xaxis": "x",
         "y": [
          "Kuwait"
         ],
         "yaxis": "y"
        },
        {
         "alignmentgroup": "True",
         "hovertemplate": "Country=%{y}<br>Total Deaths=%{x}<extra></extra>",
         "legendgroup": "Botswana",
         "marker": {
          "color": "#ab63fa"
         },
         "name": "Botswana",
         "offsetgroup": "Botswana",
         "orientation": "h",
         "showlegend": true,
         "textposition": "auto",
         "type": "bar",
         "x": [
          2368
         ],
         "xaxis": "x",
         "y": [
          "Botswana"
         ],
         "yaxis": "y"
        },
        {
         "alignmentgroup": "True",
         "hovertemplate": "Country=%{y}<br>Total Deaths=%{x}<extra></extra>",
         "legendgroup": "Cambodia",
         "marker": {
          "color": "#FFA15A"
         },
         "name": "Cambodia",
         "offsetgroup": "Cambodia",
         "orientation": "h",
         "showlegend": true,
         "textposition": "auto",
         "type": "bar",
         "x": [
          2336
         ],
         "xaxis": "x",
         "y": [
          "Cambodia"
         ],
         "yaxis": "y"
        },
        {
         "alignmentgroup": "True",
         "hovertemplate": "Country=%{y}<br>Total Deaths=%{x}<extra></extra>",
         "legendgroup": "Malawi",
         "marker": {
          "color": "#19d3f3"
         },
         "name": "Malawi",
         "offsetgroup": "Malawi",
         "orientation": "h",
         "showlegend": true,
         "textposition": "auto",
         "type": "bar",
         "x": [
          2282
         ],
         "xaxis": "x",
         "y": [
          "Malawi"
         ],
         "yaxis": "y"
        },
        {
         "alignmentgroup": "True",
         "hovertemplate": "Country=%{y}<br>Total Deaths=%{x}<extra></extra>",
         "legendgroup": "Syria",
         "marker": {
          "color": "#FF6692"
         },
         "name": "Syria",
         "offsetgroup": "Syria",
         "orientation": "h",
         "showlegend": true,
         "textposition": "auto",
         "type": "bar",
         "x": [
          2257
         ],
         "xaxis": "x",
         "y": [
          "Syria"
         ],
         "yaxis": "y"
        },
        {
         "alignmentgroup": "True",
         "hovertemplate": "Country=%{y}<br>Total Deaths=%{x}<extra></extra>",
         "legendgroup": "Oceania",
         "marker": {
          "color": "#B6E880"
         },
         "name": "Oceania",
         "offsetgroup": "Oceania",
         "orientation": "h",
         "showlegend": true,
         "textposition": "auto",
         "type": "bar",
         "x": [
          2214
         ],
         "xaxis": "x",
         "y": [
          "Oceania"
         ],
         "yaxis": "y"
        },
        {
         "alignmentgroup": "True",
         "hovertemplate": "Country=%{y}<br>Total Deaths=%{x}<extra></extra>",
         "legendgroup": "United Arab Emirates",
         "marker": {
          "color": "#FF97FF"
         },
         "name": "United Arab Emirates",
         "offsetgroup": "United Arab Emirates",
         "orientation": "h",
         "showlegend": true,
         "textposition": "auto",
         "type": "bar",
         "x": [
          2100
         ],
         "xaxis": "x",
         "y": [
          "United Arab Emirates"
         ],
         "yaxis": "y"
        },
        {
         "alignmentgroup": "True",
         "hovertemplate": "Country=%{y}<br>Total Deaths=%{x}<extra></extra>",
         "legendgroup": "Montenegro",
         "marker": {
          "color": "#FECB52"
         },
         "name": "Montenegro",
         "offsetgroup": "Montenegro",
         "orientation": "h",
         "showlegend": true,
         "textposition": "auto",
         "type": "bar",
         "x": [
          1928
         ],
         "xaxis": "x",
         "y": [
          "Montenegro"
         ],
         "yaxis": "y"
        },
        {
         "alignmentgroup": "True",
         "hovertemplate": "Country=%{y}<br>Total Deaths=%{x}<extra></extra>",
         "legendgroup": "Mozambique",
         "marker": {
          "color": "#636efa"
         },
         "name": "Mozambique",
         "offsetgroup": "Mozambique",
         "orientation": "h",
         "showlegend": true,
         "textposition": "auto",
         "type": "bar",
         "x": [
          1918
         ],
         "xaxis": "x",
         "y": [
          "Mozambique"
         ],
         "yaxis": "y"
        },
        {
         "alignmentgroup": "True",
         "hovertemplate": "Country=%{y}<br>Total Deaths=%{x}<extra></extra>",
         "legendgroup": "Jamaica",
         "marker": {
          "color": "#EF553B"
         },
         "name": "Jamaica",
         "offsetgroup": "Jamaica",
         "orientation": "h",
         "showlegend": true,
         "textposition": "auto",
         "type": "bar",
         "x": [
          1877
         ],
         "xaxis": "x",
         "y": [
          "Jamaica"
         ],
         "yaxis": "y"
        },
        {
         "alignmentgroup": "True",
         "hovertemplate": "Country=%{y}<br>Total Deaths=%{x}<extra></extra>",
         "legendgroup": "Senegal",
         "marker": {
          "color": "#00cc96"
         },
         "name": "Senegal",
         "offsetgroup": "Senegal",
         "orientation": "h",
         "showlegend": true,
         "textposition": "auto",
         "type": "bar",
         "x": [
          1858
         ],
         "xaxis": "x",
         "y": [
          "Senegal"
         ],
         "yaxis": "y"
        },
        {
         "alignmentgroup": "True",
         "hovertemplate": "Country=%{y}<br>Total Deaths=%{x}<extra></extra>",
         "legendgroup": "Yemen",
         "marker": {
          "color": "#ab63fa"
         },
         "name": "Yemen",
         "offsetgroup": "Yemen",
         "orientation": "h",
         "showlegend": true,
         "textposition": "auto",
         "type": "bar",
         "x": [
          1729
         ],
         "xaxis": "x",
         "y": [
          "Yemen"
         ],
         "yaxis": "y"
        },
        {
         "alignmentgroup": "True",
         "hovertemplate": "Country=%{y}<br>Total Deaths=%{x}<extra></extra>",
         "legendgroup": "Angola",
         "marker": {
          "color": "#FFA15A"
         },
         "name": "Angola",
         "offsetgroup": "Angola",
         "orientation": "h",
         "showlegend": true,
         "textposition": "auto",
         "type": "bar",
         "x": [
          1567
         ],
         "xaxis": "x",
         "y": [
          "Angola"
         ],
         "yaxis": "y"
        },
        {
         "alignmentgroup": "True",
         "hovertemplate": "Country=%{y}<br>Total Deaths=%{x}<extra></extra>",
         "legendgroup": "Trinidad and Tobago",
         "marker": {
          "color": "#19d3f3"
         },
         "name": "Trinidad and Tobago",
         "offsetgroup": "Trinidad and Tobago",
         "orientation": "h",
         "showlegend": true,
         "textposition": "auto",
         "type": "bar",
         "x": [
          1489
         ],
         "xaxis": "x",
         "y": [
          "Trinidad and Tobago"
         ],
         "yaxis": "y"
        },
        {
         "alignmentgroup": "True",
         "hovertemplate": "Country=%{y}<br>Total Deaths=%{x}<extra></extra>",
         "legendgroup": "Cameroon",
         "marker": {
          "color": "#FF6692"
         },
         "name": "Cameroon",
         "offsetgroup": "Cameroon",
         "orientation": "h",
         "showlegend": true,
         "textposition": "auto",
         "type": "bar",
         "x": [
          1459
         ],
         "xaxis": "x",
         "y": [
          "Cameroon"
         ],
         "yaxis": "y"
        },
        {
         "alignmentgroup": "True",
         "hovertemplate": "Country=%{y}<br>Total Deaths=%{x}<extra></extra>",
         "legendgroup": "Bahrain",
         "marker": {
          "color": "#B6E880"
         },
         "name": "Bahrain",
         "offsetgroup": "Bahrain",
         "orientation": "h",
         "showlegend": true,
         "textposition": "auto",
         "type": "bar",
         "x": [
          1389
         ],
         "xaxis": "x",
         "y": [
          "Bahrain"
         ],
         "yaxis": "y"
        },
        {
         "alignmentgroup": "True",
         "hovertemplate": "Country=%{y}<br>Total Deaths=%{x}<extra></extra>",
         "legendgroup": "Estonia",
         "marker": {
          "color": "#FF97FF"
         },
         "name": "Estonia",
         "offsetgroup": "Estonia",
         "orientation": "h",
         "showlegend": true,
         "textposition": "auto",
         "type": "bar",
         "x": [
          1357
         ],
         "xaxis": "x",
         "y": [
          "Estonia"
         ],
         "yaxis": "y"
        },
        {
         "alignmentgroup": "True",
         "hovertemplate": "Country=%{y}<br>Total Deaths=%{x}<extra></extra>",
         "legendgroup": "Australia",
         "marker": {
          "color": "#FECB52"
         },
         "name": "Australia",
         "offsetgroup": "Australia",
         "orientation": "h",
         "showlegend": true,
         "textposition": "auto",
         "type": "bar",
         "x": [
          1321
         ],
         "xaxis": "x",
         "y": [
          "Australia"
         ],
         "yaxis": "y"
        },
        {
         "alignmentgroup": "True",
         "hovertemplate": "Country=%{y}<br>Total Deaths=%{x}<extra></extra>",
         "legendgroup": "Mongolia",
         "marker": {
          "color": "#636efa"
         },
         "name": "Mongolia",
         "offsetgroup": "Mongolia",
         "orientation": "h",
         "showlegend": true,
         "textposition": "auto",
         "type": "bar",
         "x": [
          1295
         ],
         "xaxis": "x",
         "y": [
          "Mongolia"
         ],
         "yaxis": "y"
        },
        {
         "alignmentgroup": "True",
         "hovertemplate": "Country=%{y}<br>Total Deaths=%{x}<extra></extra>",
         "legendgroup": "Rwanda",
         "marker": {
          "color": "#EF553B"
         },
         "name": "Rwanda",
         "offsetgroup": "Rwanda",
         "orientation": "h",
         "showlegend": true,
         "textposition": "auto",
         "type": "bar",
         "x": [
          1276
         ],
         "xaxis": "x",
         "y": [
          "Rwanda"
         ],
         "yaxis": "y"
        },
        {
         "alignmentgroup": "True",
         "hovertemplate": "Country=%{y}<br>Total Deaths=%{x}<extra></extra>",
         "legendgroup": "Uzbekistan",
         "marker": {
          "color": "#00cc96"
         },
         "name": "Uzbekistan",
         "offsetgroup": "Uzbekistan",
         "orientation": "h",
         "showlegend": true,
         "textposition": "auto",
         "type": "bar",
         "x": [
          1242
         ],
         "xaxis": "x",
         "y": [
          "Uzbekistan"
         ],
         "yaxis": "y"
        },
        {
         "alignmentgroup": "True",
         "hovertemplate": "Country=%{y}<br>Total Deaths=%{x}<extra></extra>",
         "legendgroup": "Eswatini",
         "marker": {
          "color": "#ab63fa"
         },
         "name": "Eswatini",
         "offsetgroup": "Eswatini",
         "orientation": "h",
         "showlegend": true,
         "textposition": "auto",
         "type": "bar",
         "x": [
          1223
         ],
         "xaxis": "x",
         "y": [
          "Eswatini"
         ],
         "yaxis": "y"
        },
        {
         "alignmentgroup": "True",
         "hovertemplate": "Country=%{y}<br>Total Deaths=%{x}<extra></extra>",
         "legendgroup": "Ghana",
         "marker": {
          "color": "#FFA15A"
         },
         "name": "Ghana",
         "offsetgroup": "Ghana",
         "orientation": "h",
         "showlegend": true,
         "textposition": "auto",
         "type": "bar",
         "x": [
          1156
         ],
         "xaxis": "x",
         "y": [
          "Ghana"
         ],
         "yaxis": "y"
        },
        {
         "alignmentgroup": "True",
         "hovertemplate": "Country=%{y}<br>Total Deaths=%{x}<extra></extra>",
         "legendgroup": "Somalia",
         "marker": {
          "color": "#19d3f3"
         },
         "name": "Somalia",
         "offsetgroup": "Somalia",
         "orientation": "h",
         "showlegend": true,
         "textposition": "auto",
         "type": "bar",
         "x": [
          1111
         ],
         "xaxis": "x",
         "y": [
          "Somalia"
         ],
         "yaxis": "y"
        },
        {
         "alignmentgroup": "True",
         "hovertemplate": "Country=%{y}<br>Total Deaths=%{x}<extra></extra>",
         "legendgroup": "Democratic Republic of Congo",
         "marker": {
          "color": "#FF6692"
         },
         "name": "Democratic Republic of Congo",
         "offsetgroup": "Democratic Republic of Congo",
         "orientation": "h",
         "showlegend": true,
         "textposition": "auto",
         "type": "bar",
         "x": [
          1084
         ],
         "xaxis": "x",
         "y": [
          "Democratic Republic of Congo"
         ],
         "yaxis": "y"
        },
        {
         "alignmentgroup": "True",
         "hovertemplate": "Country=%{y}<br>Total Deaths=%{x}<extra></extra>",
         "legendgroup": "Finland",
         "marker": {
          "color": "#B6E880"
         },
         "name": "Finland",
         "offsetgroup": "Finland",
         "orientation": "h",
         "showlegend": true,
         "textposition": "auto",
         "type": "bar",
         "x": [
          1078
         ],
         "xaxis": "x",
         "y": [
          "Finland"
         ],
         "yaxis": "y"
        },
        {
         "alignmentgroup": "True",
         "hovertemplate": "Country=%{y}<br>Total Deaths=%{x}<extra></extra>",
         "legendgroup": "Madagascar",
         "marker": {
          "color": "#FF97FF"
         },
         "name": "Madagascar",
         "offsetgroup": "Madagascar",
         "orientation": "h",
         "showlegend": true,
         "textposition": "auto",
         "type": "bar",
         "x": [
          958
         ],
         "xaxis": "x",
         "y": [
          "Madagascar"
         ],
         "yaxis": "y"
        },
        {
         "alignmentgroup": "True",
         "hovertemplate": "Country=%{y}<br>Total Deaths=%{x}<extra></extra>",
         "legendgroup": "Suriname",
         "marker": {
          "color": "#FECB52"
         },
         "name": "Suriname",
         "offsetgroup": "Suriname",
         "orientation": "h",
         "showlegend": true,
         "textposition": "auto",
         "type": "bar",
         "x": [
          884
         ],
         "xaxis": "x",
         "y": [
          "Suriname"
         ],
         "yaxis": "y"
        },
        {
         "alignmentgroup": "True",
         "hovertemplate": "Country=%{y}<br>Total Deaths=%{x}<extra></extra>",
         "legendgroup": "Norway",
         "marker": {
          "color": "#636efa"
         },
         "name": "Norway",
         "offsetgroup": "Norway",
         "orientation": "h",
         "showlegend": true,
         "textposition": "auto",
         "type": "bar",
         "x": [
          861
         ],
         "xaxis": "x",
         "y": [
          "Norway"
         ],
         "yaxis": "y"
        },
        {
         "alignmentgroup": "True",
         "hovertemplate": "Country=%{y}<br>Total Deaths=%{x}<extra></extra>",
         "legendgroup": "Taiwan",
         "marker": {
          "color": "#EF553B"
         },
         "name": "Taiwan",
         "offsetgroup": "Taiwan",
         "orientation": "h",
         "showlegend": true,
         "textposition": "auto",
         "type": "bar",
         "x": [
          843
         ],
         "xaxis": "x",
         "y": [
          "Taiwan"
         ],
         "yaxis": "y"
        },
        {
         "alignmentgroup": "True",
         "hovertemplate": "Country=%{y}<br>Total Deaths=%{x}<extra></extra>",
         "legendgroup": "Luxembourg",
         "marker": {
          "color": "#00cc96"
         },
         "name": "Luxembourg",
         "offsetgroup": "Luxembourg",
         "orientation": "h",
         "showlegend": true,
         "textposition": "auto",
         "type": "bar",
         "x": [
          835
         ],
         "xaxis": "x",
         "y": [
          "Luxembourg"
         ],
         "yaxis": "y"
        },
        {
         "alignmentgroup": "True",
         "hovertemplate": "Country=%{y}<br>Total Deaths=%{x}<extra></extra>",
         "legendgroup": "Guyana",
         "marker": {
          "color": "#ab63fa"
         },
         "name": "Guyana",
         "offsetgroup": "Guyana",
         "orientation": "h",
         "showlegend": true,
         "textposition": "auto",
         "type": "bar",
         "x": [
          792
         ],
         "xaxis": "x",
         "y": [
          "Guyana"
         ],
         "yaxis": "y"
        },
        {
         "alignmentgroup": "True",
         "hovertemplate": "Country=%{y}<br>Total Deaths=%{x}<extra></extra>",
         "legendgroup": "Mauritania",
         "marker": {
          "color": "#FFA15A"
         },
         "name": "Mauritania",
         "offsetgroup": "Mauritania",
         "orientation": "h",
         "showlegend": true,
         "textposition": "auto",
         "type": "bar",
         "x": [
          776
         ],
         "xaxis": "x",
         "y": [
          "Mauritania"
         ],
         "yaxis": "y"
        },
        {
         "alignmentgroup": "True",
         "hovertemplate": "Country=%{y}<br>Total Deaths=%{x}<extra></extra>",
         "legendgroup": "Tanzania",
         "marker": {
          "color": "#19d3f3"
         },
         "name": "Tanzania",
         "offsetgroup": "Tanzania",
         "orientation": "h",
         "showlegend": true,
         "textposition": "auto",
         "type": "bar",
         "x": [
          719
         ],
         "xaxis": "x",
         "y": [
          "Tanzania"
         ],
         "yaxis": "y"
        },
        {
         "alignmentgroup": "True",
         "hovertemplate": "Country=%{y}<br>Total Deaths=%{x}<extra></extra>",
         "legendgroup": "Lesotho",
         "marker": {
          "color": "#FF6692"
         },
         "name": "Lesotho",
         "offsetgroup": "Lesotho",
         "orientation": "h",
         "showlegend": true,
         "textposition": "auto",
         "type": "bar",
         "x": [
          633
         ],
         "xaxis": "x",
         "y": [
          "Lesotho"
         ],
         "yaxis": "y"
        },
        {
         "alignmentgroup": "True",
         "hovertemplate": "Country=%{y}<br>Total Deaths=%{x}<extra></extra>",
         "legendgroup": "Cote d'Ivoire",
         "marker": {
          "color": "#B6E880"
         },
         "name": "Cote d'Ivoire",
         "offsetgroup": "Cote d'Ivoire",
         "orientation": "h",
         "showlegend": true,
         "textposition": "auto",
         "type": "bar",
         "x": [
          631
         ],
         "xaxis": "x",
         "y": [
          "Cote d'Ivoire"
         ],
         "yaxis": "y"
        },
        {
         "alignmentgroup": "True",
         "hovertemplate": "Country=%{y}<br>Total Deaths=%{x}<extra></extra>",
         "legendgroup": "Fiji",
         "marker": {
          "color": "#FF97FF"
         },
         "name": "Fiji",
         "offsetgroup": "Fiji",
         "orientation": "h",
         "showlegend": true,
         "textposition": "auto",
         "type": "bar",
         "x": [
          631
         ],
         "xaxis": "x",
         "y": [
          "Fiji"
         ],
         "yaxis": "y"
        },
        {
         "alignmentgroup": "True",
         "hovertemplate": "Country=%{y}<br>Total Deaths=%{x}<extra></extra>",
         "legendgroup": "Haiti",
         "marker": {
          "color": "#FECB52"
         },
         "name": "Haiti",
         "offsetgroup": "Haiti",
         "orientation": "h",
         "showlegend": true,
         "textposition": "auto",
         "type": "bar",
         "x": [
          611
         ],
         "xaxis": "x",
         "y": [
          "Haiti"
         ],
         "yaxis": "y"
        },
        {
         "alignmentgroup": "True",
         "hovertemplate": "Country=%{y}<br>Total Deaths=%{x}<extra></extra>",
         "legendgroup": "Qatar",
         "marker": {
          "color": "#636efa"
         },
         "name": "Qatar",
         "offsetgroup": "Qatar",
         "orientation": "h",
         "showlegend": true,
         "textposition": "auto",
         "type": "bar",
         "x": [
          606
         ],
         "xaxis": "x",
         "y": [
          "Qatar"
         ],
         "yaxis": "y"
        },
        {
         "alignmentgroup": "True",
         "hovertemplate": "Country=%{y}<br>Total Deaths=%{x}<extra></extra>",
         "legendgroup": "Cyprus",
         "marker": {
          "color": "#EF553B"
         },
         "name": "Cyprus",
         "offsetgroup": "Cyprus",
         "orientation": "h",
         "showlegend": true,
         "textposition": "auto",
         "type": "bar",
         "x": [
          552
         ],
         "xaxis": "x",
         "y": [
          "Cyprus"
         ],
         "yaxis": "y"
        },
        {
         "alignmentgroup": "True",
         "hovertemplate": "Country=%{y}<br>Total Deaths=%{x}<extra></extra>",
         "legendgroup": "Mali",
         "marker": {
          "color": "#00cc96"
         },
         "name": "Mali",
         "offsetgroup": "Mali",
         "orientation": "h",
         "showlegend": true,
         "textposition": "auto",
         "type": "bar",
         "x": [
          549
         ],
         "xaxis": "x",
         "y": [
          "Mali"
         ],
         "yaxis": "y"
        },
        {
         "alignmentgroup": "True",
         "hovertemplate": "Country=%{y}<br>Total Deaths=%{x}<extra></extra>",
         "legendgroup": "Bahamas",
         "marker": {
          "color": "#ab63fa"
         },
         "name": "Bahamas",
         "offsetgroup": "Bahamas",
         "orientation": "h",
         "showlegend": true,
         "textposition": "auto",
         "type": "bar",
         "x": [
          533
         ],
         "xaxis": "x",
         "y": [
          "Bahamas"
         ],
         "yaxis": "y"
        },
        {
         "alignmentgroup": "True",
         "hovertemplate": "Country=%{y}<br>Total Deaths=%{x}<extra></extra>",
         "legendgroup": "Malta",
         "marker": {
          "color": "#FFA15A"
         },
         "name": "Malta",
         "offsetgroup": "Malta",
         "orientation": "h",
         "showlegend": true,
         "textposition": "auto",
         "type": "bar",
         "x": [
          458
         ],
         "xaxis": "x",
         "y": [
          "Malta"
         ],
         "yaxis": "y"
        },
        {
         "alignmentgroup": "True",
         "hovertemplate": "Country=%{y}<br>Total Deaths=%{x}<extra></extra>",
         "legendgroup": "Belize",
         "marker": {
          "color": "#19d3f3"
         },
         "name": "Belize",
         "offsetgroup": "Belize",
         "orientation": "h",
         "showlegend": true,
         "textposition": "auto",
         "type": "bar",
         "x": [
          418
         ],
         "xaxis": "x",
         "y": [
          "Belize"
         ],
         "yaxis": "y"
        },
        {
         "alignmentgroup": "True",
         "hovertemplate": "Country=%{y}<br>Total Deaths=%{x}<extra></extra>",
         "legendgroup": "Guinea",
         "marker": {
          "color": "#FF6692"
         },
         "name": "Guinea",
         "offsetgroup": "Guinea",
         "orientation": "h",
         "showlegend": true,
         "textposition": "auto",
         "type": "bar",
         "x": [
          379
         ],
         "xaxis": "x",
         "y": [
          "Guinea"
         ],
         "yaxis": "y"
        },
        {
         "alignmentgroup": "True",
         "hovertemplate": "Country=%{y}<br>Total Deaths=%{x}<extra></extra>",
         "legendgroup": "Cape Verde",
         "marker": {
          "color": "#B6E880"
         },
         "name": "Cape Verde",
         "offsetgroup": "Cape Verde",
         "orientation": "h",
         "showlegend": true,
         "textposition": "auto",
         "type": "bar",
         "x": [
          340
         ],
         "xaxis": "x",
         "y": [
          "Cape Verde"
         ],
         "yaxis": "y"
        },
        {
         "alignmentgroup": "True",
         "hovertemplate": "Country=%{y}<br>Total Deaths=%{x}<extra></extra>",
         "legendgroup": "Gambia",
         "marker": {
          "color": "#FF97FF"
         },
         "name": "Gambia",
         "offsetgroup": "Gambia",
         "orientation": "h",
         "showlegend": true,
         "textposition": "auto",
         "type": "bar",
         "x": [
          338
         ],
         "xaxis": "x",
         "y": [
          "Gambia"
         ],
         "yaxis": "y"
        },
        {
         "alignmentgroup": "True",
         "hovertemplate": "Country=%{y}<br>Total Deaths=%{x}<extra></extra>",
         "legendgroup": "Liberia",
         "marker": {
          "color": "#FECB52"
         },
         "name": "Liberia",
         "offsetgroup": "Liberia",
         "orientation": "h",
         "showlegend": true,
         "textposition": "auto",
         "type": "bar",
         "x": [
          286
         ],
         "xaxis": "x",
         "y": [
          "Liberia"
         ],
         "yaxis": "y"
        },
        {
         "alignmentgroup": "True",
         "hovertemplate": "Country=%{y}<br>Total Deaths=%{x}<extra></extra>",
         "legendgroup": "Papua New Guinea",
         "marker": {
          "color": "#636efa"
         },
         "name": "Papua New Guinea",
         "offsetgroup": "Papua New Guinea",
         "orientation": "h",
         "showlegend": true,
         "textposition": "auto",
         "type": "bar",
         "x": [
          234
         ],
         "xaxis": "x",
         "y": [
          "Papua New Guinea"
         ],
         "yaxis": "y"
        },
        {
         "alignmentgroup": "True",
         "hovertemplate": "Country=%{y}<br>Total Deaths=%{x}<extra></extra>",
         "legendgroup": "Maldives",
         "marker": {
          "color": "#EF553B"
         },
         "name": "Maldives",
         "offsetgroup": "Maldives",
         "orientation": "h",
         "showlegend": true,
         "textposition": "auto",
         "type": "bar",
         "x": [
          231
         ],
         "xaxis": "x",
         "y": [
          "Maldives"
         ],
         "yaxis": "y"
        },
        {
         "alignmentgroup": "True",
         "hovertemplate": "Country=%{y}<br>Total Deaths=%{x}<extra></extra>",
         "legendgroup": "Togo",
         "marker": {
          "color": "#00cc96"
         },
         "name": "Togo",
         "offsetgroup": "Togo",
         "orientation": "h",
         "showlegend": true,
         "textposition": "auto",
         "type": "bar",
         "x": [
          229
         ],
         "xaxis": "x",
         "y": [
          "Togo"
         ],
         "yaxis": "y"
        },
        {
         "alignmentgroup": "True",
         "hovertemplate": "Country=%{y}<br>Total Deaths=%{x}<extra></extra>",
         "legendgroup": "Hong Kong",
         "marker": {
          "color": "#ab63fa"
         },
         "name": "Hong Kong",
         "offsetgroup": "Hong Kong",
         "orientation": "h",
         "showlegend": true,
         "textposition": "auto",
         "type": "bar",
         "x": [
          213
         ],
         "xaxis": "x",
         "y": [
          "Hong Kong"
         ],
         "yaxis": "y"
        },
        {
         "alignmentgroup": "True",
         "hovertemplate": "Country=%{y}<br>Total Deaths=%{x}<extra></extra>",
         "legendgroup": "Saint Lucia",
         "marker": {
          "color": "#FFA15A"
         },
         "name": "Saint Lucia",
         "offsetgroup": "Saint Lucia",
         "orientation": "h",
         "showlegend": true,
         "textposition": "auto",
         "type": "bar",
         "x": [
          207
         ],
         "xaxis": "x",
         "y": [
          "Saint Lucia"
         ],
         "yaxis": "y"
        },
        {
         "alignmentgroup": "True",
         "hovertemplate": "Country=%{y}<br>Total Deaths=%{x}<extra></extra>",
         "legendgroup": "Nicaragua",
         "marker": {
          "color": "#19d3f3"
         },
         "name": "Nicaragua",
         "offsetgroup": "Nicaragua",
         "orientation": "h",
         "showlegend": true,
         "textposition": "auto",
         "type": "bar",
         "x": [
          204
         ],
         "xaxis": "x",
         "y": [
          "Nicaragua"
         ],
         "yaxis": "y"
        },
        {
         "alignmentgroup": "True",
         "hovertemplate": "Country=%{y}<br>Total Deaths=%{x}<extra></extra>",
         "legendgroup": "Niger",
         "marker": {
          "color": "#FF6692"
         },
         "name": "Niger",
         "offsetgroup": "Niger",
         "orientation": "h",
         "showlegend": true,
         "textposition": "auto",
         "type": "bar",
         "x": [
          203
         ],
         "xaxis": "x",
         "y": [
          "Niger"
         ],
         "yaxis": "y"
        },
        {
         "alignmentgroup": "True",
         "hovertemplate": "Country=%{y}<br>Total Deaths=%{x}<extra></extra>",
         "legendgroup": "Congo",
         "marker": {
          "color": "#B6E880"
         },
         "name": "Congo",
         "offsetgroup": "Congo",
         "orientation": "h",
         "showlegend": true,
         "textposition": "auto",
         "type": "bar",
         "x": [
          197
         ],
         "xaxis": "x",
         "y": [
          "Congo"
         ],
         "yaxis": "y"
        },
        {
         "alignmentgroup": "True",
         "hovertemplate": "Country=%{y}<br>Total Deaths=%{x}<extra></extra>",
         "legendgroup": "Gabon",
         "marker": {
          "color": "#FF97FF"
         },
         "name": "Gabon",
         "offsetgroup": "Gabon",
         "orientation": "h",
         "showlegend": true,
         "textposition": "auto",
         "type": "bar",
         "x": [
          190
         ],
         "xaxis": "x",
         "y": [
          "Gabon"
         ],
         "yaxis": "y"
        },
        {
         "alignmentgroup": "True",
         "hovertemplate": "Country=%{y}<br>Total Deaths=%{x}<extra></extra>",
         "legendgroup": "Burkina Faso",
         "marker": {
          "color": "#FECB52"
         },
         "name": "Burkina Faso",
         "offsetgroup": "Burkina Faso",
         "orientation": "h",
         "showlegend": true,
         "textposition": "auto",
         "type": "bar",
         "x": [
          184
         ],
         "xaxis": "x",
         "y": [
          "Burkina Faso"
         ],
         "yaxis": "y"
        },
        {
         "alignmentgroup": "True",
         "hovertemplate": "Country=%{y}<br>Total Deaths=%{x}<extra></extra>",
         "legendgroup": "Chad",
         "marker": {
          "color": "#636efa"
         },
         "name": "Chad",
         "offsetgroup": "Chad",
         "orientation": "h",
         "showlegend": true,
         "textposition": "auto",
         "type": "bar",
         "x": [
          174
         ],
         "xaxis": "x",
         "y": [
          "Chad"
         ],
         "yaxis": "y"
        },
        {
         "alignmentgroup": "True",
         "hovertemplate": "Country=%{y}<br>Total Deaths=%{x}<extra></extra>",
         "legendgroup": "Djibouti",
         "marker": {
          "color": "#EF553B"
         },
         "name": "Djibouti",
         "offsetgroup": "Djibouti",
         "orientation": "h",
         "showlegend": true,
         "textposition": "auto",
         "type": "bar",
         "x": [
          167
         ],
         "xaxis": "x",
         "y": [
          "Djibouti"
         ],
         "yaxis": "y"
        },
        {
         "alignmentgroup": "True",
         "hovertemplate": "Country=%{y}<br>Total Deaths=%{x}<extra></extra>",
         "legendgroup": "Benin",
         "marker": {
          "color": "#00cc96"
         },
         "name": "Benin",
         "offsetgroup": "Benin",
         "orientation": "h",
         "showlegend": true,
         "textposition": "auto",
         "type": "bar",
         "x": [
          159
         ],
         "xaxis": "x",
         "y": [
          "Benin"
         ],
         "yaxis": "y"
        },
        {
         "alignmentgroup": "True",
         "hovertemplate": "Country=%{y}<br>Total Deaths=%{x}<extra></extra>",
         "legendgroup": "Grenada",
         "marker": {
          "color": "#ab63fa"
         },
         "name": "Grenada",
         "offsetgroup": "Grenada",
         "orientation": "h",
         "showlegend": true,
         "textposition": "auto",
         "type": "bar",
         "x": [
          150
         ],
         "xaxis": "x",
         "y": [
          "Grenada"
         ],
         "yaxis": "y"
        },
        {
         "alignmentgroup": "True",
         "hovertemplate": "Country=%{y}<br>Total Deaths=%{x}<extra></extra>",
         "legendgroup": "Equatorial Guinea",
         "marker": {
          "color": "#FFA15A"
         },
         "name": "Equatorial Guinea",
         "offsetgroup": "Equatorial Guinea",
         "orientation": "h",
         "showlegend": true,
         "textposition": "auto",
         "type": "bar",
         "x": [
          147
         ],
         "xaxis": "x",
         "y": [
          "Equatorial Guinea"
         ],
         "yaxis": "y"
        },
        {
         "alignmentgroup": "True",
         "hovertemplate": "Country=%{y}<br>Total Deaths=%{x}<extra></extra>",
         "legendgroup": "Comoros",
         "marker": {
          "color": "#19d3f3"
         },
         "name": "Comoros",
         "offsetgroup": "Comoros",
         "orientation": "h",
         "showlegend": true,
         "textposition": "auto",
         "type": "bar",
         "x": [
          147
         ],
         "xaxis": "x",
         "y": [
          "Comoros"
         ],
         "yaxis": "y"
        },
        {
         "alignmentgroup": "True",
         "hovertemplate": "Country=%{y}<br>Total Deaths=%{x}<extra></extra>",
         "legendgroup": "Guinea-Bissau",
         "marker": {
          "color": "#FF6692"
         },
         "name": "Guinea-Bissau",
         "offsetgroup": "Guinea-Bissau",
         "orientation": "h",
         "showlegend": true,
         "textposition": "auto",
         "type": "bar",
         "x": [
          135
         ],
         "xaxis": "x",
         "y": [
          "Guinea-Bissau"
         ],
         "yaxis": "y"
        },
        {
         "alignmentgroup": "True",
         "hovertemplate": "Country=%{y}<br>Total Deaths=%{x}<extra></extra>",
         "legendgroup": "South Sudan",
         "marker": {
          "color": "#B6E880"
         },
         "name": "South Sudan",
         "offsetgroup": "South Sudan",
         "orientation": "h",
         "showlegend": true,
         "textposition": "auto",
         "type": "bar",
         "x": [
          130
         ],
         "xaxis": "x",
         "y": [
          "South Sudan"
         ],
         "yaxis": "y"
        },
        {
         "alignmentgroup": "True",
         "hovertemplate": "Country=%{y}<br>Total Deaths=%{x}<extra></extra>",
         "legendgroup": "Andorra",
         "marker": {
          "color": "#FF97FF"
         },
         "name": "Andorra",
         "offsetgroup": "Andorra",
         "orientation": "h",
         "showlegend": true,
         "textposition": "auto",
         "type": "bar",
         "x": [
          130
         ],
         "xaxis": "x",
         "y": [
          "Andorra"
         ],
         "yaxis": "y"
        },
        {
         "alignmentgroup": "True",
         "hovertemplate": "Country=%{y}<br>Total Deaths=%{x}<extra></extra>",
         "legendgroup": "Tajikistan",
         "marker": {
          "color": "#FECB52"
         },
         "name": "Tajikistan",
         "offsetgroup": "Tajikistan",
         "orientation": "h",
         "showlegend": true,
         "textposition": "auto",
         "type": "bar",
         "x": [
          125
         ],
         "xaxis": "x",
         "y": [
          "Tajikistan"
         ],
         "yaxis": "y"
        },
        {
         "alignmentgroup": "True",
         "hovertemplate": "Country=%{y}<br>Total Deaths=%{x}<extra></extra>",
         "legendgroup": "Sierra Leone",
         "marker": {
          "color": "#636efa"
         },
         "name": "Sierra Leone",
         "offsetgroup": "Sierra Leone",
         "orientation": "h",
         "showlegend": true,
         "textposition": "auto",
         "type": "bar",
         "x": [
          121
         ],
         "xaxis": "x",
         "y": [
          "Sierra Leone"
         ],
         "yaxis": "y"
        },
        {
         "alignmentgroup": "True",
         "hovertemplate": "Country=%{y}<br>Total Deaths=%{x}<extra></extra>",
         "legendgroup": "Timor",
         "marker": {
          "color": "#EF553B"
         },
         "name": "Timor",
         "offsetgroup": "Timor",
         "orientation": "h",
         "showlegend": true,
         "textposition": "auto",
         "type": "bar",
         "x": [
          117
         ],
         "xaxis": "x",
         "y": [
          "Timor"
         ],
         "yaxis": "y"
        },
        {
         "alignmentgroup": "True",
         "hovertemplate": "Country=%{y}<br>Total Deaths=%{x}<extra></extra>",
         "legendgroup": "Seychelles",
         "marker": {
          "color": "#00cc96"
         },
         "name": "Seychelles",
         "offsetgroup": "Seychelles",
         "orientation": "h",
         "showlegend": true,
         "textposition": "auto",
         "type": "bar",
         "x": [
          112
         ],
         "xaxis": "x",
         "y": [
          "Seychelles"
         ],
         "yaxis": "y"
        },
        {
         "alignmentgroup": "True",
         "hovertemplate": "Country=%{y}<br>Total Deaths=%{x}<extra></extra>",
         "legendgroup": "Singapore",
         "marker": {
          "color": "#ab63fa"
         },
         "name": "Singapore",
         "offsetgroup": "Singapore",
         "orientation": "h",
         "showlegend": true,
         "textposition": "auto",
         "type": "bar",
         "x": [
          103
         ],
         "xaxis": "x",
         "y": [
          "Singapore"
         ],
         "yaxis": "y"
        },
        {
         "alignmentgroup": "True",
         "hovertemplate": "Country=%{y}<br>Total Deaths=%{x}<extra></extra>",
         "legendgroup": "Central African Republic",
         "marker": {
          "color": "#FFA15A"
         },
         "name": "Central African Republic",
         "offsetgroup": "Central African Republic",
         "orientation": "h",
         "showlegend": true,
         "textposition": "auto",
         "type": "bar",
         "x": [
          100
         ],
         "xaxis": "x",
         "y": [
          "Central African Republic"
         ],
         "yaxis": "y"
        },
        {
         "alignmentgroup": "True",
         "hovertemplate": "Country=%{y}<br>Total Deaths=%{x}<extra></extra>",
         "legendgroup": "San Marino",
         "marker": {
          "color": "#19d3f3"
         },
         "name": "San Marino",
         "offsetgroup": "San Marino",
         "orientation": "h",
         "showlegend": true,
         "textposition": "auto",
         "type": "bar",
         "x": [
          91
         ],
         "xaxis": "x",
         "y": [
          "San Marino"
         ],
         "yaxis": "y"
        },
        {
         "alignmentgroup": "True",
         "hovertemplate": "Country=%{y}<br>Total Deaths=%{x}<extra></extra>",
         "legendgroup": "Mauritius",
         "marker": {
          "color": "#FF6692"
         },
         "name": "Mauritius",
         "offsetgroup": "Mauritius",
         "orientation": "h",
         "showlegend": true,
         "textposition": "auto",
         "type": "bar",
         "x": [
          84
         ],
         "xaxis": "x",
         "y": [
          "Mauritius"
         ],
         "yaxis": "y"
        },
        {
         "alignmentgroup": "True",
         "hovertemplate": "Country=%{y}<br>Total Deaths=%{x}<extra></extra>",
         "legendgroup": "Antigua and Barbuda",
         "marker": {
          "color": "#B6E880"
         },
         "name": "Antigua and Barbuda",
         "offsetgroup": "Antigua and Barbuda",
         "orientation": "h",
         "showlegend": true,
         "textposition": "auto",
         "type": "bar",
         "x": [
          81
         ],
         "xaxis": "x",
         "y": [
          "Antigua and Barbuda"
         ],
         "yaxis": "y"
        },
        {
         "alignmentgroup": "True",
         "hovertemplate": "Country=%{y}<br>Total Deaths=%{x}<extra></extra>",
         "legendgroup": "Barbados",
         "marker": {
          "color": "#FF97FF"
         },
         "name": "Barbados",
         "offsetgroup": "Barbados",
         "orientation": "h",
         "showlegend": true,
         "textposition": "auto",
         "type": "bar",
         "x": [
          78
         ],
         "xaxis": "x",
         "y": [
          "Barbados"
         ],
         "yaxis": "y"
        },
        {
         "alignmentgroup": "True",
         "hovertemplate": "Country=%{y}<br>Total Deaths=%{x}<extra></extra>",
         "legendgroup": "Liechtenstein",
         "marker": {
          "color": "#FECB52"
         },
         "name": "Liechtenstein",
         "offsetgroup": "Liechtenstein",
         "orientation": "h",
         "showlegend": true,
         "textposition": "auto",
         "type": "bar",
         "x": [
          60
         ],
         "xaxis": "x",
         "y": [
          "Liechtenstein"
         ],
         "yaxis": "y"
        },
        {
         "alignmentgroup": "True",
         "hovertemplate": "Country=%{y}<br>Total Deaths=%{x}<extra></extra>",
         "legendgroup": "Sao Tome and Principe",
         "marker": {
          "color": "#636efa"
         },
         "name": "Sao Tome and Principe",
         "offsetgroup": "Sao Tome and Principe",
         "orientation": "h",
         "showlegend": true,
         "textposition": "auto",
         "type": "bar",
         "x": [
          51
         ],
         "xaxis": "x",
         "y": [
          "Sao Tome and Principe"
         ],
         "yaxis": "y"
        },
        {
         "alignmentgroup": "True",
         "hovertemplate": "Country=%{y}<br>Total Deaths=%{x}<extra></extra>",
         "legendgroup": "Brunei",
         "marker": {
          "color": "#EF553B"
         },
         "name": "Brunei",
         "offsetgroup": "Brunei",
         "orientation": "h",
         "showlegend": true,
         "textposition": "auto",
         "type": "bar",
         "x": [
          43
         ],
         "xaxis": "x",
         "y": [
          "Brunei"
         ],
         "yaxis": "y"
        },
        {
         "alignmentgroup": "True",
         "hovertemplate": "Country=%{y}<br>Total Deaths=%{x}<extra></extra>",
         "legendgroup": "Eritrea",
         "marker": {
          "color": "#00cc96"
         },
         "name": "Eritrea",
         "offsetgroup": "Eritrea",
         "orientation": "h",
         "showlegend": true,
         "textposition": "auto",
         "type": "bar",
         "x": [
          42
         ],
         "xaxis": "x",
         "y": [
          "Eritrea"
         ],
         "yaxis": "y"
        },
        {
         "alignmentgroup": "True",
         "hovertemplate": "Country=%{y}<br>Total Deaths=%{x}<extra></extra>",
         "legendgroup": "Burundi",
         "marker": {
          "color": "#ab63fa"
         },
         "name": "Burundi",
         "offsetgroup": "Burundi",
         "orientation": "h",
         "showlegend": true,
         "textposition": "auto",
         "type": "bar",
         "x": [
          38
         ],
         "xaxis": "x",
         "y": [
          "Burundi"
         ],
         "yaxis": "y"
        },
        {
         "alignmentgroup": "True",
         "hovertemplate": "Country=%{y}<br>Total Deaths=%{x}<extra></extra>",
         "legendgroup": "Iceland",
         "marker": {
          "color": "#FFA15A"
         },
         "name": "Iceland",
         "offsetgroup": "Iceland",
         "orientation": "h",
         "showlegend": true,
         "textposition": "auto",
         "type": "bar",
         "x": [
          33
         ],
         "xaxis": "x",
         "y": [
          "Iceland"
         ],
         "yaxis": "y"
        },
        {
         "alignmentgroup": "True",
         "hovertemplate": "Country=%{y}<br>Total Deaths=%{x}<extra></extra>",
         "legendgroup": "Monaco",
         "marker": {
          "color": "#19d3f3"
         },
         "name": "Monaco",
         "offsetgroup": "Monaco",
         "orientation": "h",
         "showlegend": true,
         "textposition": "auto",
         "type": "bar",
         "x": [
          33
         ],
         "xaxis": "x",
         "y": [
          "Monaco"
         ],
         "yaxis": "y"
        },
        {
         "alignmentgroup": "True",
         "hovertemplate": "Country=%{y}<br>Total Deaths=%{x}<extra></extra>",
         "legendgroup": "New Zealand",
         "marker": {
          "color": "#FF6692"
         },
         "name": "New Zealand",
         "offsetgroup": "New Zealand",
         "orientation": "h",
         "showlegend": true,
         "textposition": "auto",
         "type": "bar",
         "x": [
          27
         ],
         "xaxis": "x",
         "y": [
          "New Zealand"
         ],
         "yaxis": "y"
        },
        {
         "alignmentgroup": "True",
         "hovertemplate": "Country=%{y}<br>Total Deaths=%{x}<extra></extra>",
         "legendgroup": "Saint Vincent and the Grenadines",
         "marker": {
          "color": "#B6E880"
         },
         "name": "Saint Vincent and the Grenadines",
         "offsetgroup": "Saint Vincent and the Grenadines",
         "orientation": "h",
         "showlegend": true,
         "textposition": "auto",
         "type": "bar",
         "x": [
          26
         ],
         "xaxis": "x",
         "y": [
          "Saint Vincent and the Grenadines"
         ],
         "yaxis": "y"
        },
        {
         "alignmentgroup": "True",
         "hovertemplate": "Country=%{y}<br>Total Deaths=%{x}<extra></extra>",
         "legendgroup": "Dominica",
         "marker": {
          "color": "#FF97FF"
         },
         "name": "Dominica",
         "offsetgroup": "Dominica",
         "orientation": "h",
         "showlegend": true,
         "textposition": "auto",
         "type": "bar",
         "x": [
          21
         ],
         "xaxis": "x",
         "y": [
          "Dominica"
         ],
         "yaxis": "y"
        },
        {
         "alignmentgroup": "True",
         "hovertemplate": "Country=%{y}<br>Total Deaths=%{x}<extra></extra>",
         "legendgroup": "Laos",
         "marker": {
          "color": "#FECB52"
         },
         "name": "Laos",
         "offsetgroup": "Laos",
         "orientation": "h",
         "showlegend": true,
         "textposition": "auto",
         "type": "bar",
         "x": [
          20
         ],
         "xaxis": "x",
         "y": [
          "Laos"
         ],
         "yaxis": "y"
        },
        {
         "alignmentgroup": "True",
         "hovertemplate": "Country=%{y}<br>Total Deaths=%{x}<extra></extra>",
         "legendgroup": "International",
         "marker": {
          "color": "#636efa"
         },
         "name": "International",
         "offsetgroup": "International",
         "orientation": "h",
         "showlegend": true,
         "textposition": "auto",
         "type": "bar",
         "x": [
          15
         ],
         "xaxis": "x",
         "y": [
          "International"
         ],
         "yaxis": "y"
        },
        {
         "alignmentgroup": "True",
         "hovertemplate": "Country=%{y}<br>Total Deaths=%{x}<extra></extra>",
         "legendgroup": "Saint Kitts and Nevis",
         "marker": {
          "color": "#EF553B"
         },
         "name": "Saint Kitts and Nevis",
         "offsetgroup": "Saint Kitts and Nevis",
         "orientation": "h",
         "showlegend": true,
         "textposition": "auto",
         "type": "bar",
         "x": [
          13
         ],
         "xaxis": "x",
         "y": [
          "Saint Kitts and Nevis"
         ],
         "yaxis": "y"
        },
        {
         "alignmentgroup": "True",
         "hovertemplate": "Country=%{y}<br>Total Deaths=%{x}<extra></extra>",
         "legendgroup": "Bhutan",
         "marker": {
          "color": "#00cc96"
         },
         "name": "Bhutan",
         "offsetgroup": "Bhutan",
         "orientation": "h",
         "showlegend": true,
         "textposition": "auto",
         "type": "bar",
         "x": [
          3
         ],
         "xaxis": "x",
         "y": [
          "Bhutan"
         ],
         "yaxis": "y"
        },
        {
         "alignmentgroup": "True",
         "hovertemplate": "Country=%{y}<br>Total Deaths=%{x}<extra></extra>",
         "legendgroup": "Vanuatu",
         "marker": {
          "color": "#ab63fa"
         },
         "name": "Vanuatu",
         "offsetgroup": "Vanuatu",
         "orientation": "h",
         "showlegend": true,
         "textposition": "auto",
         "type": "bar",
         "x": [
          1
         ],
         "xaxis": "x",
         "y": [
          "Vanuatu"
         ],
         "yaxis": "y"
        },
        {
         "alignmentgroup": "True",
         "hovertemplate": "Country=%{y}<br>Total Deaths=%{x}<extra></extra>",
         "legendgroup": "French Polynesia",
         "marker": {
          "color": "#FFA15A"
         },
         "name": "French Polynesia",
         "offsetgroup": "French Polynesia",
         "orientation": "h",
         "showlegend": true,
         "textposition": "auto",
         "type": "bar",
         "x": [
          0
         ],
         "xaxis": "x",
         "y": [
          "French Polynesia"
         ],
         "yaxis": "y"
        },
        {
         "alignmentgroup": "True",
         "hovertemplate": "Country=%{y}<br>Total Deaths=%{x}<extra></extra>",
         "legendgroup": "Turks and Caicos Islands",
         "marker": {
          "color": "#19d3f3"
         },
         "name": "Turks and Caicos Islands",
         "offsetgroup": "Turks and Caicos Islands",
         "orientation": "h",
         "showlegend": true,
         "textposition": "auto",
         "type": "bar",
         "x": [
          0
         ],
         "xaxis": "x",
         "y": [
          "Turks and Caicos Islands"
         ],
         "yaxis": "y"
        },
        {
         "alignmentgroup": "True",
         "hovertemplate": "Country=%{y}<br>Total Deaths=%{x}<extra></extra>",
         "legendgroup": "Tuvalu",
         "marker": {
          "color": "#FF6692"
         },
         "name": "Tuvalu",
         "offsetgroup": "Tuvalu",
         "orientation": "h",
         "showlegend": true,
         "textposition": "auto",
         "type": "bar",
         "x": [
          0
         ],
         "xaxis": "x",
         "y": [
          "Tuvalu"
         ],
         "yaxis": "y"
        },
        {
         "alignmentgroup": "True",
         "hovertemplate": "Country=%{y}<br>Total Deaths=%{x}<extra></extra>",
         "legendgroup": "Guernsey",
         "marker": {
          "color": "#B6E880"
         },
         "name": "Guernsey",
         "offsetgroup": "Guernsey",
         "orientation": "h",
         "showlegend": true,
         "textposition": "auto",
         "type": "bar",
         "x": [
          0
         ],
         "xaxis": "x",
         "y": [
          "Guernsey"
         ],
         "yaxis": "y"
        },
        {
         "alignmentgroup": "True",
         "hovertemplate": "Country=%{y}<br>Total Deaths=%{x}<extra></extra>",
         "legendgroup": "Montserrat",
         "marker": {
          "color": "#FF97FF"
         },
         "name": "Montserrat",
         "offsetgroup": "Montserrat",
         "orientation": "h",
         "showlegend": true,
         "textposition": "auto",
         "type": "bar",
         "x": [
          0
         ],
         "xaxis": "x",
         "y": [
          "Montserrat"
         ],
         "yaxis": "y"
        },
        {
         "alignmentgroup": "True",
         "hovertemplate": "Country=%{y}<br>Total Deaths=%{x}<extra></extra>",
         "legendgroup": "Micronesia (country)",
         "marker": {
          "color": "#FECB52"
         },
         "name": "Micronesia (country)",
         "offsetgroup": "Micronesia (country)",
         "orientation": "h",
         "showlegend": true,
         "textposition": "auto",
         "type": "bar",
         "x": [
          0
         ],
         "xaxis": "x",
         "y": [
          "Micronesia (country)"
         ],
         "yaxis": "y"
        },
        {
         "alignmentgroup": "True",
         "hovertemplate": "Country=%{y}<br>Total Deaths=%{x}<extra></extra>",
         "legendgroup": "Marshall Islands",
         "marker": {
          "color": "#636efa"
         },
         "name": "Marshall Islands",
         "offsetgroup": "Marshall Islands",
         "orientation": "h",
         "showlegend": true,
         "textposition": "auto",
         "type": "bar",
         "x": [
          0
         ],
         "xaxis": "x",
         "y": [
          "Marshall Islands"
         ],
         "yaxis": "y"
        },
        {
         "alignmentgroup": "True",
         "hovertemplate": "Country=%{y}<br>Total Deaths=%{x}<extra></extra>",
         "legendgroup": "Macao",
         "marker": {
          "color": "#EF553B"
         },
         "name": "Macao",
         "offsetgroup": "Macao",
         "orientation": "h",
         "showlegend": true,
         "textposition": "auto",
         "type": "bar",
         "x": [
          0
         ],
         "xaxis": "x",
         "y": [
          "Macao"
         ],
         "yaxis": "y"
        },
        {
         "alignmentgroup": "True",
         "hovertemplate": "Country=%{y}<br>Total Deaths=%{x}<extra></extra>",
         "legendgroup": "Solomon Islands",
         "marker": {
          "color": "#00cc96"
         },
         "name": "Solomon Islands",
         "offsetgroup": "Solomon Islands",
         "orientation": "h",
         "showlegend": true,
         "textposition": "auto",
         "type": "bar",
         "x": [
          0
         ],
         "xaxis": "x",
         "y": [
          "Solomon Islands"
         ],
         "yaxis": "y"
        },
        {
         "alignmentgroup": "True",
         "hovertemplate": "Country=%{y}<br>Total Deaths=%{x}<extra></extra>",
         "legendgroup": "Kiribati",
         "marker": {
          "color": "#ab63fa"
         },
         "name": "Kiribati",
         "offsetgroup": "Kiribati",
         "orientation": "h",
         "showlegend": true,
         "textposition": "auto",
         "type": "bar",
         "x": [
          0
         ],
         "xaxis": "x",
         "y": [
          "Kiribati"
         ],
         "yaxis": "y"
        },
        {
         "alignmentgroup": "True",
         "hovertemplate": "Country=%{y}<br>Total Deaths=%{x}<extra></extra>",
         "legendgroup": "Anguilla",
         "marker": {
          "color": "#FFA15A"
         },
         "name": "Anguilla",
         "offsetgroup": "Anguilla",
         "orientation": "h",
         "showlegend": true,
         "textposition": "auto",
         "type": "bar",
         "x": [
          0
         ],
         "xaxis": "x",
         "y": [
          "Anguilla"
         ],
         "yaxis": "y"
        },
        {
         "alignmentgroup": "True",
         "hovertemplate": "Country=%{y}<br>Total Deaths=%{x}<extra></extra>",
         "legendgroup": "Vatican",
         "marker": {
          "color": "#19d3f3"
         },
         "name": "Vatican",
         "offsetgroup": "Vatican",
         "orientation": "h",
         "showlegend": true,
         "textposition": "auto",
         "type": "bar",
         "x": [
          0
         ],
         "xaxis": "x",
         "y": [
          "Vatican"
         ],
         "yaxis": "y"
        },
        {
         "alignmentgroup": "True",
         "hovertemplate": "Country=%{y}<br>Total Deaths=%{x}<extra></extra>",
         "legendgroup": "Cook Islands",
         "marker": {
          "color": "#FF6692"
         },
         "name": "Cook Islands",
         "offsetgroup": "Cook Islands",
         "orientation": "h",
         "showlegend": true,
         "textposition": "auto",
         "type": "bar",
         "x": [
          0
         ],
         "xaxis": "x",
         "y": [
          "Cook Islands"
         ],
         "yaxis": "y"
        },
        {
         "alignmentgroup": "True",
         "hovertemplate": "Country=%{y}<br>Total Deaths=%{x}<extra></extra>",
         "legendgroup": "Jersey",
         "marker": {
          "color": "#B6E880"
         },
         "name": "Jersey",
         "offsetgroup": "Jersey",
         "orientation": "h",
         "showlegend": true,
         "textposition": "auto",
         "type": "bar",
         "x": [
          0
         ],
         "xaxis": "x",
         "y": [
          "Jersey"
         ],
         "yaxis": "y"
        },
        {
         "alignmentgroup": "True",
         "hovertemplate": "Country=%{y}<br>Total Deaths=%{x}<extra></extra>",
         "legendgroup": "Wallis and Futuna",
         "marker": {
          "color": "#FF97FF"
         },
         "name": "Wallis and Futuna",
         "offsetgroup": "Wallis and Futuna",
         "orientation": "h",
         "showlegend": true,
         "textposition": "auto",
         "type": "bar",
         "x": [
          0
         ],
         "xaxis": "x",
         "y": [
          "Wallis and Futuna"
         ],
         "yaxis": "y"
        },
        {
         "alignmentgroup": "True",
         "hovertemplate": "Country=%{y}<br>Total Deaths=%{x}<extra></extra>",
         "legendgroup": "Curacao",
         "marker": {
          "color": "#FECB52"
         },
         "name": "Curacao",
         "offsetgroup": "Curacao",
         "orientation": "h",
         "showlegend": true,
         "textposition": "auto",
         "type": "bar",
         "x": [
          0
         ],
         "xaxis": "x",
         "y": [
          "Curacao"
         ],
         "yaxis": "y"
        },
        {
         "alignmentgroup": "True",
         "hovertemplate": "Country=%{y}<br>Total Deaths=%{x}<extra></extra>",
         "legendgroup": "Isle of Man",
         "marker": {
          "color": "#636efa"
         },
         "name": "Isle of Man",
         "offsetgroup": "Isle of Man",
         "orientation": "h",
         "showlegend": true,
         "textposition": "auto",
         "type": "bar",
         "x": [
          0
         ],
         "xaxis": "x",
         "y": [
          "Isle of Man"
         ],
         "yaxis": "y"
        },
        {
         "alignmentgroup": "True",
         "hovertemplate": "Country=%{y}<br>Total Deaths=%{x}<extra></extra>",
         "legendgroup": "Turkmenistan",
         "marker": {
          "color": "#EF553B"
         },
         "name": "Turkmenistan",
         "offsetgroup": "Turkmenistan",
         "orientation": "h",
         "showlegend": true,
         "textposition": "auto",
         "type": "bar",
         "x": [
          0
         ],
         "xaxis": "x",
         "y": [
          "Turkmenistan"
         ],
         "yaxis": "y"
        },
        {
         "alignmentgroup": "True",
         "hovertemplate": "Country=%{y}<br>Total Deaths=%{x}<extra></extra>",
         "legendgroup": "Cayman Islands",
         "marker": {
          "color": "#00cc96"
         },
         "name": "Cayman Islands",
         "offsetgroup": "Cayman Islands",
         "orientation": "h",
         "showlegend": true,
         "textposition": "auto",
         "type": "bar",
         "x": [
          0
         ],
         "xaxis": "x",
         "y": [
          "Cayman Islands"
         ],
         "yaxis": "y"
        },
        {
         "alignmentgroup": "True",
         "hovertemplate": "Country=%{y}<br>Total Deaths=%{x}<extra></extra>",
         "legendgroup": "Nauru",
         "marker": {
          "color": "#ab63fa"
         },
         "name": "Nauru",
         "offsetgroup": "Nauru",
         "orientation": "h",
         "showlegend": true,
         "textposition": "auto",
         "type": "bar",
         "x": [
          0
         ],
         "xaxis": "x",
         "y": [
          "Nauru"
         ],
         "yaxis": "y"
        },
        {
         "alignmentgroup": "True",
         "hovertemplate": "Country=%{y}<br>Total Deaths=%{x}<extra></extra>",
         "legendgroup": "British Virgin Islands",
         "marker": {
          "color": "#FFA15A"
         },
         "name": "British Virgin Islands",
         "offsetgroup": "British Virgin Islands",
         "orientation": "h",
         "showlegend": true,
         "textposition": "auto",
         "type": "bar",
         "x": [
          0
         ],
         "xaxis": "x",
         "y": [
          "British Virgin Islands"
         ],
         "yaxis": "y"
        },
        {
         "alignmentgroup": "True",
         "hovertemplate": "Country=%{y}<br>Total Deaths=%{x}<extra></extra>",
         "legendgroup": "Sint Maarten (Dutch part)",
         "marker": {
          "color": "#19d3f3"
         },
         "name": "Sint Maarten (Dutch part)",
         "offsetgroup": "Sint Maarten (Dutch part)",
         "orientation": "h",
         "showlegend": true,
         "textposition": "auto",
         "type": "bar",
         "x": [
          0
         ],
         "xaxis": "x",
         "y": [
          "Sint Maarten (Dutch part)"
         ],
         "yaxis": "y"
        },
        {
         "alignmentgroup": "True",
         "hovertemplate": "Country=%{y}<br>Total Deaths=%{x}<extra></extra>",
         "legendgroup": "Samoa",
         "marker": {
          "color": "#FF6692"
         },
         "name": "Samoa",
         "offsetgroup": "Samoa",
         "orientation": "h",
         "showlegend": true,
         "textposition": "auto",
         "type": "bar",
         "x": [
          0
         ],
         "xaxis": "x",
         "y": [
          "Samoa"
         ],
         "yaxis": "y"
        },
        {
         "alignmentgroup": "True",
         "hovertemplate": "Country=%{y}<br>Total Deaths=%{x}<extra></extra>",
         "legendgroup": "Saint Helena",
         "marker": {
          "color": "#B6E880"
         },
         "name": "Saint Helena",
         "offsetgroup": "Saint Helena",
         "orientation": "h",
         "showlegend": true,
         "textposition": "auto",
         "type": "bar",
         "x": [
          0
         ],
         "xaxis": "x",
         "y": [
          "Saint Helena"
         ],
         "yaxis": "y"
        },
        {
         "alignmentgroup": "True",
         "hovertemplate": "Country=%{y}<br>Total Deaths=%{x}<extra></extra>",
         "legendgroup": "Bermuda",
         "marker": {
          "color": "#FF97FF"
         },
         "name": "Bermuda",
         "offsetgroup": "Bermuda",
         "orientation": "h",
         "showlegend": true,
         "textposition": "auto",
         "type": "bar",
         "x": [
          0
         ],
         "xaxis": "x",
         "y": [
          "Bermuda"
         ],
         "yaxis": "y"
        },
        {
         "alignmentgroup": "True",
         "hovertemplate": "Country=%{y}<br>Total Deaths=%{x}<extra></extra>",
         "legendgroup": "Bonaire Sint Eustatius and Saba",
         "marker": {
          "color": "#FECB52"
         },
         "name": "Bonaire Sint Eustatius and Saba",
         "offsetgroup": "Bonaire Sint Eustatius and Saba",
         "orientation": "h",
         "showlegend": true,
         "textposition": "auto",
         "type": "bar",
         "x": [
          0
         ],
         "xaxis": "x",
         "y": [
          "Bonaire Sint Eustatius and Saba"
         ],
         "yaxis": "y"
        },
        {
         "alignmentgroup": "True",
         "hovertemplate": "Country=%{y}<br>Total Deaths=%{x}<extra></extra>",
         "legendgroup": "Pitcairn",
         "marker": {
          "color": "#636efa"
         },
         "name": "Pitcairn",
         "offsetgroup": "Pitcairn",
         "orientation": "h",
         "showlegend": true,
         "textposition": "auto",
         "type": "bar",
         "x": [
          0
         ],
         "xaxis": "x",
         "y": [
          "Pitcairn"
         ],
         "yaxis": "y"
        },
        {
         "alignmentgroup": "True",
         "hovertemplate": "Country=%{y}<br>Total Deaths=%{x}<extra></extra>",
         "legendgroup": "Aruba",
         "marker": {
          "color": "#EF553B"
         },
         "name": "Aruba",
         "offsetgroup": "Aruba",
         "orientation": "h",
         "showlegend": true,
         "textposition": "auto",
         "type": "bar",
         "x": [
          0
         ],
         "xaxis": "x",
         "y": [
          "Aruba"
         ],
         "yaxis": "y"
        },
        {
         "alignmentgroup": "True",
         "hovertemplate": "Country=%{y}<br>Total Deaths=%{x}<extra></extra>",
         "legendgroup": "Greenland",
         "marker": {
          "color": "#00cc96"
         },
         "name": "Greenland",
         "offsetgroup": "Greenland",
         "orientation": "h",
         "showlegend": true,
         "textposition": "auto",
         "type": "bar",
         "x": [
          0
         ],
         "xaxis": "x",
         "y": [
          "Greenland"
         ],
         "yaxis": "y"
        },
        {
         "alignmentgroup": "True",
         "hovertemplate": "Country=%{y}<br>Total Deaths=%{x}<extra></extra>",
         "legendgroup": "Gibraltar",
         "marker": {
          "color": "#ab63fa"
         },
         "name": "Gibraltar",
         "offsetgroup": "Gibraltar",
         "orientation": "h",
         "showlegend": true,
         "textposition": "auto",
         "type": "bar",
         "x": [
          0
         ],
         "xaxis": "x",
         "y": [
          "Gibraltar"
         ],
         "yaxis": "y"
        },
        {
         "alignmentgroup": "True",
         "hovertemplate": "Country=%{y}<br>Total Deaths=%{x}<extra></extra>",
         "legendgroup": "Palau",
         "marker": {
          "color": "#FFA15A"
         },
         "name": "Palau",
         "offsetgroup": "Palau",
         "orientation": "h",
         "showlegend": true,
         "textposition": "auto",
         "type": "bar",
         "x": [
          0
         ],
         "xaxis": "x",
         "y": [
          "Palau"
         ],
         "yaxis": "y"
        },
        {
         "alignmentgroup": "True",
         "hovertemplate": "Country=%{y}<br>Total Deaths=%{x}<extra></extra>",
         "legendgroup": "Northern Cyprus",
         "marker": {
          "color": "#19d3f3"
         },
         "name": "Northern Cyprus",
         "offsetgroup": "Northern Cyprus",
         "orientation": "h",
         "showlegend": true,
         "textposition": "auto",
         "type": "bar",
         "x": [
          0
         ],
         "xaxis": "x",
         "y": [
          "Northern Cyprus"
         ],
         "yaxis": "y"
        },
        {
         "alignmentgroup": "True",
         "hovertemplate": "Country=%{y}<br>Total Deaths=%{x}<extra></extra>",
         "legendgroup": "Niue",
         "marker": {
          "color": "#FF6692"
         },
         "name": "Niue",
         "offsetgroup": "Niue",
         "orientation": "h",
         "showlegend": true,
         "textposition": "auto",
         "type": "bar",
         "x": [
          0
         ],
         "xaxis": "x",
         "y": [
          "Niue"
         ],
         "yaxis": "y"
        },
        {
         "alignmentgroup": "True",
         "hovertemplate": "Country=%{y}<br>Total Deaths=%{x}<extra></extra>",
         "legendgroup": "Falkland Islands",
         "marker": {
          "color": "#B6E880"
         },
         "name": "Falkland Islands",
         "offsetgroup": "Falkland Islands",
         "orientation": "h",
         "showlegend": true,
         "textposition": "auto",
         "type": "bar",
         "x": [
          0
         ],
         "xaxis": "x",
         "y": [
          "Falkland Islands"
         ],
         "yaxis": "y"
        },
        {
         "alignmentgroup": "True",
         "hovertemplate": "Country=%{y}<br>Total Deaths=%{x}<extra></extra>",
         "legendgroup": "New Caledonia",
         "marker": {
          "color": "#FF97FF"
         },
         "name": "New Caledonia",
         "offsetgroup": "New Caledonia",
         "orientation": "h",
         "showlegend": true,
         "textposition": "auto",
         "type": "bar",
         "x": [
          0
         ],
         "xaxis": "x",
         "y": [
          "New Caledonia"
         ],
         "yaxis": "y"
        },
        {
         "alignmentgroup": "True",
         "hovertemplate": "Country=%{y}<br>Total Deaths=%{x}<extra></extra>",
         "legendgroup": "Tokelau",
         "marker": {
          "color": "#FECB52"
         },
         "name": "Tokelau",
         "offsetgroup": "Tokelau",
         "orientation": "h",
         "showlegend": true,
         "textposition": "auto",
         "type": "bar",
         "x": [
          0
         ],
         "xaxis": "x",
         "y": [
          "Tokelau"
         ],
         "yaxis": "y"
        },
        {
         "alignmentgroup": "True",
         "hovertemplate": "Country=%{y}<br>Total Deaths=%{x}<extra></extra>",
         "legendgroup": "Tonga",
         "marker": {
          "color": "#636efa"
         },
         "name": "Tonga",
         "offsetgroup": "Tonga",
         "orientation": "h",
         "showlegend": true,
         "textposition": "auto",
         "type": "bar",
         "x": [
          0
         ],
         "xaxis": "x",
         "y": [
          "Tonga"
         ],
         "yaxis": "y"
        },
        {
         "alignmentgroup": "True",
         "hovertemplate": "Country=%{y}<br>Total Deaths=%{x}<extra></extra>",
         "legendgroup": "Faeroe Islands",
         "marker": {
          "color": "#EF553B"
         },
         "name": "Faeroe Islands",
         "offsetgroup": "Faeroe Islands",
         "orientation": "h",
         "showlegend": true,
         "textposition": "auto",
         "type": "bar",
         "x": [
          0
         ],
         "xaxis": "x",
         "y": [
          "Faeroe Islands"
         ],
         "yaxis": "y"
        }
       ],
       "layout": {
        "barmode": "relative",
        "legend": {
         "title": {
          "text": "Country"
         },
         "tracegroupgap": 0
        },
        "template": {
         "data": {
          "bar": [
           {
            "error_x": {
             "color": "#2a3f5f"
            },
            "error_y": {
             "color": "#2a3f5f"
            },
            "marker": {
             "line": {
              "color": "#E5ECF6",
              "width": 0.5
             }
            },
            "type": "bar"
           }
          ],
          "barpolar": [
           {
            "marker": {
             "line": {
              "color": "#E5ECF6",
              "width": 0.5
             }
            },
            "type": "barpolar"
           }
          ],
          "carpet": [
           {
            "aaxis": {
             "endlinecolor": "#2a3f5f",
             "gridcolor": "white",
             "linecolor": "white",
             "minorgridcolor": "white",
             "startlinecolor": "#2a3f5f"
            },
            "baxis": {
             "endlinecolor": "#2a3f5f",
             "gridcolor": "white",
             "linecolor": "white",
             "minorgridcolor": "white",
             "startlinecolor": "#2a3f5f"
            },
            "type": "carpet"
           }
          ],
          "choropleth": [
           {
            "colorbar": {
             "outlinewidth": 0,
             "ticks": ""
            },
            "type": "choropleth"
           }
          ],
          "contour": [
           {
            "colorbar": {
             "outlinewidth": 0,
             "ticks": ""
            },
            "colorscale": [
             [
              0,
              "#0d0887"
             ],
             [
              0.1111111111111111,
              "#46039f"
             ],
             [
              0.2222222222222222,
              "#7201a8"
             ],
             [
              0.3333333333333333,
              "#9c179e"
             ],
             [
              0.4444444444444444,
              "#bd3786"
             ],
             [
              0.5555555555555556,
              "#d8576b"
             ],
             [
              0.6666666666666666,
              "#ed7953"
             ],
             [
              0.7777777777777778,
              "#fb9f3a"
             ],
             [
              0.8888888888888888,
              "#fdca26"
             ],
             [
              1,
              "#f0f921"
             ]
            ],
            "type": "contour"
           }
          ],
          "contourcarpet": [
           {
            "colorbar": {
             "outlinewidth": 0,
             "ticks": ""
            },
            "type": "contourcarpet"
           }
          ],
          "heatmap": [
           {
            "colorbar": {
             "outlinewidth": 0,
             "ticks": ""
            },
            "colorscale": [
             [
              0,
              "#0d0887"
             ],
             [
              0.1111111111111111,
              "#46039f"
             ],
             [
              0.2222222222222222,
              "#7201a8"
             ],
             [
              0.3333333333333333,
              "#9c179e"
             ],
             [
              0.4444444444444444,
              "#bd3786"
             ],
             [
              0.5555555555555556,
              "#d8576b"
             ],
             [
              0.6666666666666666,
              "#ed7953"
             ],
             [
              0.7777777777777778,
              "#fb9f3a"
             ],
             [
              0.8888888888888888,
              "#fdca26"
             ],
             [
              1,
              "#f0f921"
             ]
            ],
            "type": "heatmap"
           }
          ],
          "heatmapgl": [
           {
            "colorbar": {
             "outlinewidth": 0,
             "ticks": ""
            },
            "colorscale": [
             [
              0,
              "#0d0887"
             ],
             [
              0.1111111111111111,
              "#46039f"
             ],
             [
              0.2222222222222222,
              "#7201a8"
             ],
             [
              0.3333333333333333,
              "#9c179e"
             ],
             [
              0.4444444444444444,
              "#bd3786"
             ],
             [
              0.5555555555555556,
              "#d8576b"
             ],
             [
              0.6666666666666666,
              "#ed7953"
             ],
             [
              0.7777777777777778,
              "#fb9f3a"
             ],
             [
              0.8888888888888888,
              "#fdca26"
             ],
             [
              1,
              "#f0f921"
             ]
            ],
            "type": "heatmapgl"
           }
          ],
          "histogram": [
           {
            "marker": {
             "colorbar": {
              "outlinewidth": 0,
              "ticks": ""
             }
            },
            "type": "histogram"
           }
          ],
          "histogram2d": [
           {
            "colorbar": {
             "outlinewidth": 0,
             "ticks": ""
            },
            "colorscale": [
             [
              0,
              "#0d0887"
             ],
             [
              0.1111111111111111,
              "#46039f"
             ],
             [
              0.2222222222222222,
              "#7201a8"
             ],
             [
              0.3333333333333333,
              "#9c179e"
             ],
             [
              0.4444444444444444,
              "#bd3786"
             ],
             [
              0.5555555555555556,
              "#d8576b"
             ],
             [
              0.6666666666666666,
              "#ed7953"
             ],
             [
              0.7777777777777778,
              "#fb9f3a"
             ],
             [
              0.8888888888888888,
              "#fdca26"
             ],
             [
              1,
              "#f0f921"
             ]
            ],
            "type": "histogram2d"
           }
          ],
          "histogram2dcontour": [
           {
            "colorbar": {
             "outlinewidth": 0,
             "ticks": ""
            },
            "colorscale": [
             [
              0,
              "#0d0887"
             ],
             [
              0.1111111111111111,
              "#46039f"
             ],
             [
              0.2222222222222222,
              "#7201a8"
             ],
             [
              0.3333333333333333,
              "#9c179e"
             ],
             [
              0.4444444444444444,
              "#bd3786"
             ],
             [
              0.5555555555555556,
              "#d8576b"
             ],
             [
              0.6666666666666666,
              "#ed7953"
             ],
             [
              0.7777777777777778,
              "#fb9f3a"
             ],
             [
              0.8888888888888888,
              "#fdca26"
             ],
             [
              1,
              "#f0f921"
             ]
            ],
            "type": "histogram2dcontour"
           }
          ],
          "mesh3d": [
           {
            "colorbar": {
             "outlinewidth": 0,
             "ticks": ""
            },
            "type": "mesh3d"
           }
          ],
          "parcoords": [
           {
            "line": {
             "colorbar": {
              "outlinewidth": 0,
              "ticks": ""
             }
            },
            "type": "parcoords"
           }
          ],
          "pie": [
           {
            "automargin": true,
            "type": "pie"
           }
          ],
          "scatter": [
           {
            "marker": {
             "colorbar": {
              "outlinewidth": 0,
              "ticks": ""
             }
            },
            "type": "scatter"
           }
          ],
          "scatter3d": [
           {
            "line": {
             "colorbar": {
              "outlinewidth": 0,
              "ticks": ""
             }
            },
            "marker": {
             "colorbar": {
              "outlinewidth": 0,
              "ticks": ""
             }
            },
            "type": "scatter3d"
           }
          ],
          "scattercarpet": [
           {
            "marker": {
             "colorbar": {
              "outlinewidth": 0,
              "ticks": ""
             }
            },
            "type": "scattercarpet"
           }
          ],
          "scattergeo": [
           {
            "marker": {
             "colorbar": {
              "outlinewidth": 0,
              "ticks": ""
             }
            },
            "type": "scattergeo"
           }
          ],
          "scattergl": [
           {
            "marker": {
             "colorbar": {
              "outlinewidth": 0,
              "ticks": ""
             }
            },
            "type": "scattergl"
           }
          ],
          "scattermapbox": [
           {
            "marker": {
             "colorbar": {
              "outlinewidth": 0,
              "ticks": ""
             }
            },
            "type": "scattermapbox"
           }
          ],
          "scatterpolar": [
           {
            "marker": {
             "colorbar": {
              "outlinewidth": 0,
              "ticks": ""
             }
            },
            "type": "scatterpolar"
           }
          ],
          "scatterpolargl": [
           {
            "marker": {
             "colorbar": {
              "outlinewidth": 0,
              "ticks": ""
             }
            },
            "type": "scatterpolargl"
           }
          ],
          "scatterternary": [
           {
            "marker": {
             "colorbar": {
              "outlinewidth": 0,
              "ticks": ""
             }
            },
            "type": "scatterternary"
           }
          ],
          "surface": [
           {
            "colorbar": {
             "outlinewidth": 0,
             "ticks": ""
            },
            "colorscale": [
             [
              0,
              "#0d0887"
             ],
             [
              0.1111111111111111,
              "#46039f"
             ],
             [
              0.2222222222222222,
              "#7201a8"
             ],
             [
              0.3333333333333333,
              "#9c179e"
             ],
             [
              0.4444444444444444,
              "#bd3786"
             ],
             [
              0.5555555555555556,
              "#d8576b"
             ],
             [
              0.6666666666666666,
              "#ed7953"
             ],
             [
              0.7777777777777778,
              "#fb9f3a"
             ],
             [
              0.8888888888888888,
              "#fdca26"
             ],
             [
              1,
              "#f0f921"
             ]
            ],
            "type": "surface"
           }
          ],
          "table": [
           {
            "cells": {
             "fill": {
              "color": "#EBF0F8"
             },
             "line": {
              "color": "white"
             }
            },
            "header": {
             "fill": {
              "color": "#C8D4E3"
             },
             "line": {
              "color": "white"
             }
            },
            "type": "table"
           }
          ]
         },
         "layout": {
          "annotationdefaults": {
           "arrowcolor": "#2a3f5f",
           "arrowhead": 0,
           "arrowwidth": 1
          },
          "autotypenumbers": "strict",
          "coloraxis": {
           "colorbar": {
            "outlinewidth": 0,
            "ticks": ""
           }
          },
          "colorscale": {
           "diverging": [
            [
             0,
             "#8e0152"
            ],
            [
             0.1,
             "#c51b7d"
            ],
            [
             0.2,
             "#de77ae"
            ],
            [
             0.3,
             "#f1b6da"
            ],
            [
             0.4,
             "#fde0ef"
            ],
            [
             0.5,
             "#f7f7f7"
            ],
            [
             0.6,
             "#e6f5d0"
            ],
            [
             0.7,
             "#b8e186"
            ],
            [
             0.8,
             "#7fbc41"
            ],
            [
             0.9,
             "#4d9221"
            ],
            [
             1,
             "#276419"
            ]
           ],
           "sequential": [
            [
             0,
             "#0d0887"
            ],
            [
             0.1111111111111111,
             "#46039f"
            ],
            [
             0.2222222222222222,
             "#7201a8"
            ],
            [
             0.3333333333333333,
             "#9c179e"
            ],
            [
             0.4444444444444444,
             "#bd3786"
            ],
            [
             0.5555555555555556,
             "#d8576b"
            ],
            [
             0.6666666666666666,
             "#ed7953"
            ],
            [
             0.7777777777777778,
             "#fb9f3a"
            ],
            [
             0.8888888888888888,
             "#fdca26"
            ],
            [
             1,
             "#f0f921"
            ]
           ],
           "sequentialminus": [
            [
             0,
             "#0d0887"
            ],
            [
             0.1111111111111111,
             "#46039f"
            ],
            [
             0.2222222222222222,
             "#7201a8"
            ],
            [
             0.3333333333333333,
             "#9c179e"
            ],
            [
             0.4444444444444444,
             "#bd3786"
            ],
            [
             0.5555555555555556,
             "#d8576b"
            ],
            [
             0.6666666666666666,
             "#ed7953"
            ],
            [
             0.7777777777777778,
             "#fb9f3a"
            ],
            [
             0.8888888888888888,
             "#fdca26"
            ],
            [
             1,
             "#f0f921"
            ]
           ]
          },
          "colorway": [
           "#636efa",
           "#EF553B",
           "#00cc96",
           "#ab63fa",
           "#FFA15A",
           "#19d3f3",
           "#FF6692",
           "#B6E880",
           "#FF97FF",
           "#FECB52"
          ],
          "font": {
           "color": "#2a3f5f"
          },
          "geo": {
           "bgcolor": "white",
           "lakecolor": "white",
           "landcolor": "#E5ECF6",
           "showlakes": true,
           "showland": true,
           "subunitcolor": "white"
          },
          "hoverlabel": {
           "align": "left"
          },
          "hovermode": "closest",
          "mapbox": {
           "style": "light"
          },
          "paper_bgcolor": "white",
          "plot_bgcolor": "#E5ECF6",
          "polar": {
           "angularaxis": {
            "gridcolor": "white",
            "linecolor": "white",
            "ticks": ""
           },
           "bgcolor": "#E5ECF6",
           "radialaxis": {
            "gridcolor": "white",
            "linecolor": "white",
            "ticks": ""
           }
          },
          "scene": {
           "xaxis": {
            "backgroundcolor": "#E5ECF6",
            "gridcolor": "white",
            "gridwidth": 2,
            "linecolor": "white",
            "showbackground": true,
            "ticks": "",
            "zerolinecolor": "white"
           },
           "yaxis": {
            "backgroundcolor": "#E5ECF6",
            "gridcolor": "white",
            "gridwidth": 2,
            "linecolor": "white",
            "showbackground": true,
            "ticks": "",
            "zerolinecolor": "white"
           },
           "zaxis": {
            "backgroundcolor": "#E5ECF6",
            "gridcolor": "white",
            "gridwidth": 2,
            "linecolor": "white",
            "showbackground": true,
            "ticks": "",
            "zerolinecolor": "white"
           }
          },
          "shapedefaults": {
           "line": {
            "color": "#2a3f5f"
           }
          },
          "ternary": {
           "aaxis": {
            "gridcolor": "white",
            "linecolor": "white",
            "ticks": ""
           },
           "baxis": {
            "gridcolor": "white",
            "linecolor": "white",
            "ticks": ""
           },
           "bgcolor": "#E5ECF6",
           "caxis": {
            "gridcolor": "white",
            "linecolor": "white",
            "ticks": ""
           }
          },
          "title": {
           "x": 0.05
          },
          "xaxis": {
           "automargin": true,
           "gridcolor": "white",
           "linecolor": "white",
           "ticks": "",
           "title": {
            "standoff": 15
           },
           "zerolinecolor": "white",
           "zerolinewidth": 2
          },
          "yaxis": {
           "automargin": true,
           "gridcolor": "white",
           "linecolor": "white",
           "ticks": "",
           "title": {
            "standoff": 15
           },
           "zerolinecolor": "white",
           "zerolinewidth": 2
          }
         }
        },
        "title": {
         "text": "Deaths due to covid from 2020-01-01 to 2021-10-01"
        },
        "xaxis": {
         "anchor": "y",
         "domain": [
          0,
          1
         ],
         "title": {
          "text": "Total Deaths"
         }
        },
        "yaxis": {
         "anchor": "x",
         "categoryarray": [
          "Faeroe Islands",
          "Tonga",
          "Tokelau",
          "New Caledonia",
          "Falkland Islands",
          "Niue",
          "Northern Cyprus",
          "Palau",
          "Gibraltar",
          "Greenland",
          "Aruba",
          "Pitcairn",
          "Bonaire Sint Eustatius and Saba",
          "Bermuda",
          "Saint Helena",
          "Samoa",
          "Sint Maarten (Dutch part)",
          "British Virgin Islands",
          "Nauru",
          "Cayman Islands",
          "Turkmenistan",
          "Isle of Man",
          "Curacao",
          "Wallis and Futuna",
          "Jersey",
          "Cook Islands",
          "Vatican",
          "Anguilla",
          "Kiribati",
          "Solomon Islands",
          "Macao",
          "Marshall Islands",
          "Micronesia (country)",
          "Montserrat",
          "Guernsey",
          "Tuvalu",
          "Turks and Caicos Islands",
          "French Polynesia",
          "Vanuatu",
          "Bhutan",
          "Saint Kitts and Nevis",
          "International",
          "Laos",
          "Dominica",
          "Saint Vincent and the Grenadines",
          "New Zealand",
          "Monaco",
          "Iceland",
          "Burundi",
          "Eritrea",
          "Brunei",
          "Sao Tome and Principe",
          "Liechtenstein",
          "Barbados",
          "Antigua and Barbuda",
          "Mauritius",
          "San Marino",
          "Central African Republic",
          "Singapore",
          "Seychelles",
          "Timor",
          "Sierra Leone",
          "Tajikistan",
          "Andorra",
          "South Sudan",
          "Guinea-Bissau",
          "Comoros",
          "Equatorial Guinea",
          "Grenada",
          "Benin",
          "Djibouti",
          "Chad",
          "Burkina Faso",
          "Gabon",
          "Congo",
          "Niger",
          "Nicaragua",
          "Saint Lucia",
          "Hong Kong",
          "Togo",
          "Maldives",
          "Papua New Guinea",
          "Liberia",
          "Gambia",
          "Cape Verde",
          "Guinea",
          "Belize",
          "Malta",
          "Bahamas",
          "Mali",
          "Cyprus",
          "Qatar",
          "Haiti",
          "Fiji",
          "Cote d'Ivoire",
          "Lesotho",
          "Tanzania",
          "Mauritania",
          "Guyana",
          "Luxembourg",
          "Taiwan",
          "Norway",
          "Suriname",
          "Madagascar",
          "Finland",
          "Democratic Republic of Congo",
          "Somalia",
          "Ghana",
          "Eswatini",
          "Uzbekistan",
          "Rwanda",
          "Mongolia",
          "Australia",
          "Estonia",
          "Bahrain",
          "Cameroon",
          "Trinidad and Tobago",
          "Angola",
          "Yemen",
          "Senegal",
          "Jamaica",
          "Mozambique",
          "Montenegro",
          "United Arab Emirates",
          "Oceania",
          "Syria",
          "Malawi",
          "Cambodia",
          "Botswana",
          "Kuwait",
          "South Korea",
          "Kyrgyzstan",
          "Denmark",
          "Albania",
          "Latvia",
          "Nigeria",
          "Sudan",
          "Kosovo",
          "Uganda",
          "El Salvador",
          "Namibia",
          "Zambia",
          "Dominican Republic",
          "Oman",
          "Palestine",
          "Belarus",
          "Venezuela",
          "Slovenia",
          "China",
          "Zimbabwe",
          "Libya",
          "Lithuania",
          "Kenya",
          "Ireland",
          "Armenia",
          "Ethiopia",
          "Algeria",
          "Uruguay",
          "Costa Rica",
          "Azerbaijan",
          "North Macedonia",
          "Moldova",
          "Afghanistan",
          "Panama",
          "Cuba",
          "Israel",
          "Serbia",
          "Lebanon",
          "Croatia",
          "Saudi Arabia",
          "Georgia",
          "Honduras",
          "Bosnia and Herzegovina",
          "Jordan",
          "Austria",
          "Switzerland",
          "Nepal",
          "Slovakia",
          "Sri Lanka",
          "Guatemala",
          "Morocco",
          "Greece",
          "Sweden",
          "Kazakhstan",
          "Paraguay",
          "Thailand",
          "Egypt",
          "Japan",
          "Myanmar",
          "Portugal",
          "Netherlands",
          "Bolivia",
          "Vietnam",
          "Bulgaria",
          "Iraq",
          "Ecuador",
          "Tunisia",
          "Belgium",
          "Malaysia",
          "Bangladesh",
          "Pakistan",
          "Canada",
          "Hungary",
          "Czechia",
          "Romania",
          "Chile",
          "Philippines",
          "Ukraine",
          "Turkey",
          "Poland",
          "Spain",
          "South Africa",
          "Germany",
          "Argentina",
          "France",
          "Iran",
          "Colombia",
          "Italy",
          "United Kingdom",
          "Indonesia",
          "Peru",
          "Russia",
          "Africa",
          "Mexico",
          "India",
          "Brazil",
          "United States",
          "European Union",
          "North America",
          "Asia",
          "South America",
          "Europe"
         ],
         "categoryorder": "array",
         "domain": [
          0,
          1
         ],
         "title": {
          "text": "Country"
         }
        }
       }
      },
      "text/html": [
       "<div>                            <div id=\"0efe34ca-c1b7-404e-88c4-f687927ea7dd\" class=\"plotly-graph-div\" style=\"height:525px; width:100%;\"></div>            <script type=\"text/javascript\">                require([\"plotly\"], function(Plotly) {                    window.PLOTLYENV=window.PLOTLYENV || {};                                    if (document.getElementById(\"0efe34ca-c1b7-404e-88c4-f687927ea7dd\")) {                    Plotly.newPlot(                        \"0efe34ca-c1b7-404e-88c4-f687927ea7dd\",                        [{\"alignmentgroup\": \"True\", \"hovertemplate\": \"Country=%{y}<br>Total Deaths=%{x}<extra></extra>\", \"legendgroup\": \"Europe\", \"marker\": {\"color\": \"#636efa\"}, \"name\": \"Europe\", \"offsetgroup\": \"Europe\", \"orientation\": \"h\", \"showlegend\": true, \"textposition\": \"auto\", \"type\": \"bar\", \"x\": [1230191.0], \"xaxis\": \"x\", \"y\": [\"Europe\"], \"yaxis\": \"y\"}, {\"alignmentgroup\": \"True\", \"hovertemplate\": \"Country=%{y}<br>Total Deaths=%{x}<extra></extra>\", \"legendgroup\": \"South America\", \"marker\": {\"color\": \"#EF553B\"}, \"name\": \"South America\", \"offsetgroup\": \"South America\", \"orientation\": \"h\", \"showlegend\": true, \"textposition\": \"auto\", \"type\": \"bar\", \"x\": [1146840.0], \"xaxis\": \"x\", \"y\": [\"South America\"], \"yaxis\": \"y\"}, {\"alignmentgroup\": \"True\", \"hovertemplate\": \"Country=%{y}<br>Total Deaths=%{x}<extra></extra>\", \"legendgroup\": \"Asia\", \"marker\": {\"color\": \"#00cc96\"}, \"name\": \"Asia\", \"offsetgroup\": \"Asia\", \"orientation\": \"h\", \"showlegend\": true, \"textposition\": \"auto\", \"type\": \"bar\", \"x\": [1128359.0], \"xaxis\": \"x\", \"y\": [\"Asia\"], \"yaxis\": \"y\"}, {\"alignmentgroup\": \"True\", \"hovertemplate\": \"Country=%{y}<br>Total Deaths=%{x}<extra></extra>\", \"legendgroup\": \"North America\", \"marker\": {\"color\": \"#ab63fa\"}, \"name\": \"North America\", \"offsetgroup\": \"North America\", \"orientation\": \"h\", \"showlegend\": true, \"textposition\": \"auto\", \"type\": \"bar\", \"x\": [1063847.0], \"xaxis\": \"x\", \"y\": [\"North America\"], \"yaxis\": \"y\"}, {\"alignmentgroup\": \"True\", \"hovertemplate\": \"Country=%{y}<br>Total Deaths=%{x}<extra></extra>\", \"legendgroup\": \"European Union\", \"marker\": {\"color\": \"#FFA15A\"}, \"name\": \"European Union\", \"offsetgroup\": \"European Union\", \"orientation\": \"h\", \"showlegend\": true, \"textposition\": \"auto\", \"type\": \"bar\", \"x\": [771983.0], \"xaxis\": \"x\", \"y\": [\"European Union\"], \"yaxis\": \"y\"}, {\"alignmentgroup\": \"True\", \"hovertemplate\": \"Country=%{y}<br>Total Deaths=%{x}<extra></extra>\", \"legendgroup\": \"United States\", \"marker\": {\"color\": \"#19d3f3\"}, \"name\": \"United States\", \"offsetgroup\": \"United States\", \"orientation\": \"h\", \"showlegend\": true, \"textposition\": \"auto\", \"type\": \"bar\", \"x\": [700285.0], \"xaxis\": \"x\", \"y\": [\"United States\"], \"yaxis\": \"y\"}, {\"alignmentgroup\": \"True\", \"hovertemplate\": \"Country=%{y}<br>Total Deaths=%{x}<extra></extra>\", \"legendgroup\": \"Brazil\", \"marker\": {\"color\": \"#FF6692\"}, \"name\": \"Brazil\", \"offsetgroup\": \"Brazil\", \"orientation\": \"h\", \"showlegend\": true, \"textposition\": \"auto\", \"type\": \"bar\", \"x\": [597255.0], \"xaxis\": \"x\", \"y\": [\"Brazil\"], \"yaxis\": \"y\"}, {\"alignmentgroup\": \"True\", \"hovertemplate\": \"Country=%{y}<br>Total Deaths=%{x}<extra></extra>\", \"legendgroup\": \"India\", \"marker\": {\"color\": \"#B6E880\"}, \"name\": \"India\", \"offsetgroup\": \"India\", \"orientation\": \"h\", \"showlegend\": true, \"textposition\": \"auto\", \"type\": \"bar\", \"x\": [448573.0], \"xaxis\": \"x\", \"y\": [\"India\"], \"yaxis\": \"y\"}, {\"alignmentgroup\": \"True\", \"hovertemplate\": \"Country=%{y}<br>Total Deaths=%{x}<extra></extra>\", \"legendgroup\": \"Mexico\", \"marker\": {\"color\": \"#FF97FF\"}, \"name\": \"Mexico\", \"offsetgroup\": \"Mexico\", \"orientation\": \"h\", \"showlegend\": true, \"textposition\": \"auto\", \"type\": \"bar\", \"x\": [277978.0], \"xaxis\": \"x\", \"y\": [\"Mexico\"], \"yaxis\": \"y\"}, {\"alignmentgroup\": \"True\", \"hovertemplate\": \"Country=%{y}<br>Total Deaths=%{x}<extra></extra>\", \"legendgroup\": \"Africa\", \"marker\": {\"color\": \"#FECB52\"}, \"name\": \"Africa\", \"offsetgroup\": \"Africa\", \"orientation\": \"h\", \"showlegend\": true, \"textposition\": \"auto\", \"type\": \"bar\", \"x\": [211593.0], \"xaxis\": \"x\", \"y\": [\"Africa\"], \"yaxis\": \"y\"}, {\"alignmentgroup\": \"True\", \"hovertemplate\": \"Country=%{y}<br>Total Deaths=%{x}<extra></extra>\", \"legendgroup\": \"Russia\", \"marker\": {\"color\": \"#636efa\"}, \"name\": \"Russia\", \"offsetgroup\": \"Russia\", \"orientation\": \"h\", \"showlegend\": true, \"textposition\": \"auto\", \"type\": \"bar\", \"x\": [204424.0], \"xaxis\": \"x\", \"y\": [\"Russia\"], \"yaxis\": \"y\"}, {\"alignmentgroup\": \"True\", \"hovertemplate\": \"Country=%{y}<br>Total Deaths=%{x}<extra></extra>\", \"legendgroup\": \"Peru\", \"marker\": {\"color\": \"#EF553B\"}, \"name\": \"Peru\", \"offsetgroup\": \"Peru\", \"orientation\": \"h\", \"showlegend\": true, \"textposition\": \"auto\", \"type\": \"bar\", \"x\": [199423.0], \"xaxis\": \"x\", \"y\": [\"Peru\"], \"yaxis\": \"y\"}, {\"alignmentgroup\": \"True\", \"hovertemplate\": \"Country=%{y}<br>Total Deaths=%{x}<extra></extra>\", \"legendgroup\": \"Indonesia\", \"marker\": {\"color\": \"#00cc96\"}, \"name\": \"Indonesia\", \"offsetgroup\": \"Indonesia\", \"orientation\": \"h\", \"showlegend\": true, \"textposition\": \"auto\", \"type\": \"bar\", \"x\": [142026.0], \"xaxis\": \"x\", \"y\": [\"Indonesia\"], \"yaxis\": \"y\"}, {\"alignmentgroup\": \"True\", \"hovertemplate\": \"Country=%{y}<br>Total Deaths=%{x}<extra></extra>\", \"legendgroup\": \"United Kingdom\", \"marker\": {\"color\": \"#ab63fa\"}, \"name\": \"United Kingdom\", \"offsetgroup\": \"United Kingdom\", \"orientation\": \"h\", \"showlegend\": true, \"textposition\": \"auto\", \"type\": \"bar\", \"x\": [137171.0], \"xaxis\": \"x\", \"y\": [\"United Kingdom\"], \"yaxis\": \"y\"}, {\"alignmentgroup\": \"True\", \"hovertemplate\": \"Country=%{y}<br>Total Deaths=%{x}<extra></extra>\", \"legendgroup\": \"Italy\", \"marker\": {\"color\": \"#FFA15A\"}, \"name\": \"Italy\", \"offsetgroup\": \"Italy\", \"orientation\": \"h\", \"showlegend\": true, \"textposition\": \"auto\", \"type\": \"bar\", \"x\": [130973.0], \"xaxis\": \"x\", \"y\": [\"Italy\"], \"yaxis\": \"y\"}, {\"alignmentgroup\": \"True\", \"hovertemplate\": \"Country=%{y}<br>Total Deaths=%{x}<extra></extra>\", \"legendgroup\": \"Colombia\", \"marker\": {\"color\": \"#19d3f3\"}, \"name\": \"Colombia\", \"offsetgroup\": \"Colombia\", \"orientation\": \"h\", \"showlegend\": true, \"textposition\": \"auto\", \"type\": \"bar\", \"x\": [126336.0], \"xaxis\": \"x\", \"y\": [\"Colombia\"], \"yaxis\": \"y\"}, {\"alignmentgroup\": \"True\", \"hovertemplate\": \"Country=%{y}<br>Total Deaths=%{x}<extra></extra>\", \"legendgroup\": \"Iran\", \"marker\": {\"color\": \"#FF6692\"}, \"name\": \"Iran\", \"offsetgroup\": \"Iran\", \"orientation\": \"h\", \"showlegend\": true, \"textposition\": \"auto\", \"type\": \"bar\", \"x\": [120663.0], \"xaxis\": \"x\", \"y\": [\"Iran\"], \"yaxis\": \"y\"}, {\"alignmentgroup\": \"True\", \"hovertemplate\": \"Country=%{y}<br>Total Deaths=%{x}<extra></extra>\", \"legendgroup\": \"France\", \"marker\": {\"color\": \"#B6E880\"}, \"name\": \"France\", \"offsetgroup\": \"France\", \"orientation\": \"h\", \"showlegend\": true, \"textposition\": \"auto\", \"type\": \"bar\", \"x\": [117535.0], \"xaxis\": \"x\", \"y\": [\"France\"], \"yaxis\": \"y\"}, {\"alignmentgroup\": \"True\", \"hovertemplate\": \"Country=%{y}<br>Total Deaths=%{x}<extra></extra>\", \"legendgroup\": \"Argentina\", \"marker\": {\"color\": \"#FF97FF\"}, \"name\": \"Argentina\", \"offsetgroup\": \"Argentina\", \"orientation\": \"h\", \"showlegend\": true, \"textposition\": \"auto\", \"type\": \"bar\", \"x\": [115225.0], \"xaxis\": \"x\", \"y\": [\"Argentina\"], \"yaxis\": \"y\"}, {\"alignmentgroup\": \"True\", \"hovertemplate\": \"Country=%{y}<br>Total Deaths=%{x}<extra></extra>\", \"legendgroup\": \"Germany\", \"marker\": {\"color\": \"#FECB52\"}, \"name\": \"Germany\", \"offsetgroup\": \"Germany\", \"orientation\": \"h\", \"showlegend\": true, \"textposition\": \"auto\", \"type\": \"bar\", \"x\": [93781.0], \"xaxis\": \"x\", \"y\": [\"Germany\"], \"yaxis\": \"y\"}, {\"alignmentgroup\": \"True\", \"hovertemplate\": \"Country=%{y}<br>Total Deaths=%{x}<extra></extra>\", \"legendgroup\": \"South Africa\", \"marker\": {\"color\": \"#636efa\"}, \"name\": \"South Africa\", \"offsetgroup\": \"South Africa\", \"orientation\": \"h\", \"showlegend\": true, \"textposition\": \"auto\", \"type\": \"bar\", \"x\": [87705.0], \"xaxis\": \"x\", \"y\": [\"South Africa\"], \"yaxis\": \"y\"}, {\"alignmentgroup\": \"True\", \"hovertemplate\": \"Country=%{y}<br>Total Deaths=%{x}<extra></extra>\", \"legendgroup\": \"Spain\", \"marker\": {\"color\": \"#EF553B\"}, \"name\": \"Spain\", \"offsetgroup\": \"Spain\", \"orientation\": \"h\", \"showlegend\": true, \"textposition\": \"auto\", \"type\": \"bar\", \"x\": [86463.0], \"xaxis\": \"x\", \"y\": [\"Spain\"], \"yaxis\": \"y\"}, {\"alignmentgroup\": \"True\", \"hovertemplate\": \"Country=%{y}<br>Total Deaths=%{x}<extra></extra>\", \"legendgroup\": \"Poland\", \"marker\": {\"color\": \"#00cc96\"}, \"name\": \"Poland\", \"offsetgroup\": \"Poland\", \"orientation\": \"h\", \"showlegend\": true, \"textposition\": \"auto\", \"type\": \"bar\", \"x\": [75666.0], \"xaxis\": \"x\", \"y\": [\"Poland\"], \"yaxis\": \"y\"}, {\"alignmentgroup\": \"True\", \"hovertemplate\": \"Country=%{y}<br>Total Deaths=%{x}<extra></extra>\", \"legendgroup\": \"Turkey\", \"marker\": {\"color\": \"#ab63fa\"}, \"name\": \"Turkey\", \"offsetgroup\": \"Turkey\", \"orientation\": \"h\", \"showlegend\": true, \"textposition\": \"auto\", \"type\": \"bar\", \"x\": [64037.0], \"xaxis\": \"x\", \"y\": [\"Turkey\"], \"yaxis\": \"y\"}, {\"alignmentgroup\": \"True\", \"hovertemplate\": \"Country=%{y}<br>Total Deaths=%{x}<extra></extra>\", \"legendgroup\": \"Ukraine\", \"marker\": {\"color\": \"#FFA15A\"}, \"name\": \"Ukraine\", \"offsetgroup\": \"Ukraine\", \"orientation\": \"h\", \"showlegend\": true, \"textposition\": \"auto\", \"type\": \"bar\", \"x\": [60164.0], \"xaxis\": \"x\", \"y\": [\"Ukraine\"], \"yaxis\": \"y\"}, {\"alignmentgroup\": \"True\", \"hovertemplate\": \"Country=%{y}<br>Total Deaths=%{x}<extra></extra>\", \"legendgroup\": \"Philippines\", \"marker\": {\"color\": \"#19d3f3\"}, \"name\": \"Philippines\", \"offsetgroup\": \"Philippines\", \"orientation\": \"h\", \"showlegend\": true, \"textposition\": \"auto\", \"type\": \"bar\", \"x\": [38493.0], \"xaxis\": \"x\", \"y\": [\"Philippines\"], \"yaxis\": \"y\"}, {\"alignmentgroup\": \"True\", \"hovertemplate\": \"Country=%{y}<br>Total Deaths=%{x}<extra></extra>\", \"legendgroup\": \"Chile\", \"marker\": {\"color\": \"#FF6692\"}, \"name\": \"Chile\", \"offsetgroup\": \"Chile\", \"orientation\": \"h\", \"showlegend\": true, \"textposition\": \"auto\", \"type\": \"bar\", \"x\": [37476.0], \"xaxis\": \"x\", \"y\": [\"Chile\"], \"yaxis\": \"y\"}, {\"alignmentgroup\": \"True\", \"hovertemplate\": \"Country=%{y}<br>Total Deaths=%{x}<extra></extra>\", \"legendgroup\": \"Romania\", \"marker\": {\"color\": \"#B6E880\"}, \"name\": \"Romania\", \"offsetgroup\": \"Romania\", \"orientation\": \"h\", \"showlegend\": true, \"textposition\": \"auto\", \"type\": \"bar\", \"x\": [37210.0], \"xaxis\": \"x\", \"y\": [\"Romania\"], \"yaxis\": \"y\"}, {\"alignmentgroup\": \"True\", \"hovertemplate\": \"Country=%{y}<br>Total Deaths=%{x}<extra></extra>\", \"legendgroup\": \"Czechia\", \"marker\": {\"color\": \"#FF97FF\"}, \"name\": \"Czechia\", \"offsetgroup\": \"Czechia\", \"orientation\": \"h\", \"showlegend\": true, \"textposition\": \"auto\", \"type\": \"bar\", \"x\": [30475.0], \"xaxis\": \"x\", \"y\": [\"Czechia\"], \"yaxis\": \"y\"}, {\"alignmentgroup\": \"True\", \"hovertemplate\": \"Country=%{y}<br>Total Deaths=%{x}<extra></extra>\", \"legendgroup\": \"Hungary\", \"marker\": {\"color\": \"#FECB52\"}, \"name\": \"Hungary\", \"offsetgroup\": \"Hungary\", \"orientation\": \"h\", \"showlegend\": true, \"textposition\": \"auto\", \"type\": \"bar\", \"x\": [30199.0], \"xaxis\": \"x\", \"y\": [\"Hungary\"], \"yaxis\": \"y\"}, {\"alignmentgroup\": \"True\", \"hovertemplate\": \"Country=%{y}<br>Total Deaths=%{x}<extra></extra>\", \"legendgroup\": \"Canada\", \"marker\": {\"color\": \"#636efa\"}, \"name\": \"Canada\", \"offsetgroup\": \"Canada\", \"orientation\": \"h\", \"showlegend\": true, \"textposition\": \"auto\", \"type\": \"bar\", \"x\": [27974.0], \"xaxis\": \"x\", \"y\": [\"Canada\"], \"yaxis\": \"y\"}, {\"alignmentgroup\": \"True\", \"hovertemplate\": \"Country=%{y}<br>Total Deaths=%{x}<extra></extra>\", \"legendgroup\": \"Pakistan\", \"marker\": {\"color\": \"#EF553B\"}, \"name\": \"Pakistan\", \"offsetgroup\": \"Pakistan\", \"orientation\": \"h\", \"showlegend\": true, \"textposition\": \"auto\", \"type\": \"bar\", \"x\": [27831.0], \"xaxis\": \"x\", \"y\": [\"Pakistan\"], \"yaxis\": \"y\"}, {\"alignmentgroup\": \"True\", \"hovertemplate\": \"Country=%{y}<br>Total Deaths=%{x}<extra></extra>\", \"legendgroup\": \"Bangladesh\", \"marker\": {\"color\": \"#00cc96\"}, \"name\": \"Bangladesh\", \"offsetgroup\": \"Bangladesh\", \"orientation\": \"h\", \"showlegend\": true, \"textposition\": \"auto\", \"type\": \"bar\", \"x\": [27531.0], \"xaxis\": \"x\", \"y\": [\"Bangladesh\"], \"yaxis\": \"y\"}, {\"alignmentgroup\": \"True\", \"hovertemplate\": \"Country=%{y}<br>Total Deaths=%{x}<extra></extra>\", \"legendgroup\": \"Malaysia\", \"marker\": {\"color\": \"#ab63fa\"}, \"name\": \"Malaysia\", \"offsetgroup\": \"Malaysia\", \"orientation\": \"h\", \"showlegend\": true, \"textposition\": \"auto\", \"type\": \"bar\", \"x\": [26456.0], \"xaxis\": \"x\", \"y\": [\"Malaysia\"], \"yaxis\": \"y\"}, {\"alignmentgroup\": \"True\", \"hovertemplate\": \"Country=%{y}<br>Total Deaths=%{x}<extra></extra>\", \"legendgroup\": \"Belgium\", \"marker\": {\"color\": \"#FFA15A\"}, \"name\": \"Belgium\", \"offsetgroup\": \"Belgium\", \"orientation\": \"h\", \"showlegend\": true, \"textposition\": \"auto\", \"type\": \"bar\", \"x\": [25612.0], \"xaxis\": \"x\", \"y\": [\"Belgium\"], \"yaxis\": \"y\"}, {\"alignmentgroup\": \"True\", \"hovertemplate\": \"Country=%{y}<br>Total Deaths=%{x}<extra></extra>\", \"legendgroup\": \"Tunisia\", \"marker\": {\"color\": \"#19d3f3\"}, \"name\": \"Tunisia\", \"offsetgroup\": \"Tunisia\", \"orientation\": \"h\", \"showlegend\": true, \"textposition\": \"auto\", \"type\": \"bar\", \"x\": [24901.0], \"xaxis\": \"x\", \"y\": [\"Tunisia\"], \"yaxis\": \"y\"}, {\"alignmentgroup\": \"True\", \"hovertemplate\": \"Country=%{y}<br>Total Deaths=%{x}<extra></extra>\", \"legendgroup\": \"Ecuador\", \"marker\": {\"color\": \"#FF6692\"}, \"name\": \"Ecuador\", \"offsetgroup\": \"Ecuador\", \"orientation\": \"h\", \"showlegend\": true, \"textposition\": \"auto\", \"type\": \"bar\", \"x\": [23976.0], \"xaxis\": \"x\", \"y\": [\"Ecuador\"], \"yaxis\": \"y\"}, {\"alignmentgroup\": \"True\", \"hovertemplate\": \"Country=%{y}<br>Total Deaths=%{x}<extra></extra>\", \"legendgroup\": \"Iraq\", \"marker\": {\"color\": \"#B6E880\"}, \"name\": \"Iraq\", \"offsetgroup\": \"Iraq\", \"orientation\": \"h\", \"showlegend\": true, \"textposition\": \"auto\", \"type\": \"bar\", \"x\": [22302.0], \"xaxis\": \"x\", \"y\": [\"Iraq\"], \"yaxis\": \"y\"}, {\"alignmentgroup\": \"True\", \"hovertemplate\": \"Country=%{y}<br>Total Deaths=%{x}<extra></extra>\", \"legendgroup\": \"Bulgaria\", \"marker\": {\"color\": \"#FF97FF\"}, \"name\": \"Bulgaria\", \"offsetgroup\": \"Bulgaria\", \"orientation\": \"h\", \"showlegend\": true, \"textposition\": \"auto\", \"type\": \"bar\", \"x\": [20969.0], \"xaxis\": \"x\", \"y\": [\"Bulgaria\"], \"yaxis\": \"y\"}, {\"alignmentgroup\": \"True\", \"hovertemplate\": \"Country=%{y}<br>Total Deaths=%{x}<extra></extra>\", \"legendgroup\": \"Vietnam\", \"marker\": {\"color\": \"#FECB52\"}, \"name\": \"Vietnam\", \"offsetgroup\": \"Vietnam\", \"orientation\": \"h\", \"showlegend\": true, \"textposition\": \"auto\", \"type\": \"bar\", \"x\": [19437.0], \"xaxis\": \"x\", \"y\": [\"Vietnam\"], \"yaxis\": \"y\"}, {\"alignmentgroup\": \"True\", \"hovertemplate\": \"Country=%{y}<br>Total Deaths=%{x}<extra></extra>\", \"legendgroup\": \"Bolivia\", \"marker\": {\"color\": \"#636efa\"}, \"name\": \"Bolivia\", \"offsetgroup\": \"Bolivia\", \"orientation\": \"h\", \"showlegend\": true, \"textposition\": \"auto\", \"type\": \"bar\", \"x\": [18750.0], \"xaxis\": \"x\", \"y\": [\"Bolivia\"], \"yaxis\": \"y\"}, {\"alignmentgroup\": \"True\", \"hovertemplate\": \"Country=%{y}<br>Total Deaths=%{x}<extra></extra>\", \"legendgroup\": \"Netherlands\", \"marker\": {\"color\": \"#EF553B\"}, \"name\": \"Netherlands\", \"offsetgroup\": \"Netherlands\", \"orientation\": \"h\", \"showlegend\": true, \"textposition\": \"auto\", \"type\": \"bar\", \"x\": [18590.0], \"xaxis\": \"x\", \"y\": [\"Netherlands\"], \"yaxis\": \"y\"}, {\"alignmentgroup\": \"True\", \"hovertemplate\": \"Country=%{y}<br>Total Deaths=%{x}<extra></extra>\", \"legendgroup\": \"Portugal\", \"marker\": {\"color\": \"#00cc96\"}, \"name\": \"Portugal\", \"offsetgroup\": \"Portugal\", \"orientation\": \"h\", \"showlegend\": true, \"textposition\": \"auto\", \"type\": \"bar\", \"x\": [17979.0], \"xaxis\": \"x\", \"y\": [\"Portugal\"], \"yaxis\": \"y\"}, {\"alignmentgroup\": \"True\", \"hovertemplate\": \"Country=%{y}<br>Total Deaths=%{x}<extra></extra>\", \"legendgroup\": \"Myanmar\", \"marker\": {\"color\": \"#ab63fa\"}, \"name\": \"Myanmar\", \"offsetgroup\": \"Myanmar\", \"orientation\": \"h\", \"showlegend\": true, \"textposition\": \"auto\", \"type\": \"bar\", \"x\": [17789.0], \"xaxis\": \"x\", \"y\": [\"Myanmar\"], \"yaxis\": \"y\"}, {\"alignmentgroup\": \"True\", \"hovertemplate\": \"Country=%{y}<br>Total Deaths=%{x}<extra></extra>\", \"legendgroup\": \"Japan\", \"marker\": {\"color\": \"#FFA15A\"}, \"name\": \"Japan\", \"offsetgroup\": \"Japan\", \"orientation\": \"h\", \"showlegend\": true, \"textposition\": \"auto\", \"type\": \"bar\", \"x\": [17698.0], \"xaxis\": \"x\", \"y\": [\"Japan\"], \"yaxis\": \"y\"}, {\"alignmentgroup\": \"True\", \"hovertemplate\": \"Country=%{y}<br>Total Deaths=%{x}<extra></extra>\", \"legendgroup\": \"Egypt\", \"marker\": {\"color\": \"#19d3f3\"}, \"name\": \"Egypt\", \"offsetgroup\": \"Egypt\", \"orientation\": \"h\", \"showlegend\": true, \"textposition\": \"auto\", \"type\": \"bar\", \"x\": [17367.0], \"xaxis\": \"x\", \"y\": [\"Egypt\"], \"yaxis\": \"y\"}, {\"alignmentgroup\": \"True\", \"hovertemplate\": \"Country=%{y}<br>Total Deaths=%{x}<extra></extra>\", \"legendgroup\": \"Thailand\", \"marker\": {\"color\": \"#FF6692\"}, \"name\": \"Thailand\", \"offsetgroup\": \"Thailand\", \"orientation\": \"h\", \"showlegend\": true, \"textposition\": \"auto\", \"type\": \"bar\", \"x\": [16850.0], \"xaxis\": \"x\", \"y\": [\"Thailand\"], \"yaxis\": \"y\"}, {\"alignmentgroup\": \"True\", \"hovertemplate\": \"Country=%{y}<br>Total Deaths=%{x}<extra></extra>\", \"legendgroup\": \"Paraguay\", \"marker\": {\"color\": \"#B6E880\"}, \"name\": \"Paraguay\", \"offsetgroup\": \"Paraguay\", \"orientation\": \"h\", \"showlegend\": true, \"textposition\": \"auto\", \"type\": \"bar\", \"x\": [16198.0], \"xaxis\": \"x\", \"y\": [\"Paraguay\"], \"yaxis\": \"y\"}, {\"alignmentgroup\": \"True\", \"hovertemplate\": \"Country=%{y}<br>Total Deaths=%{x}<extra></extra>\", \"legendgroup\": \"Kazakhstan\", \"marker\": {\"color\": \"#FF97FF\"}, \"name\": \"Kazakhstan\", \"offsetgroup\": \"Kazakhstan\", \"orientation\": \"h\", \"showlegend\": true, \"textposition\": \"auto\", \"type\": \"bar\", \"x\": [15907.0], \"xaxis\": \"x\", \"y\": [\"Kazakhstan\"], \"yaxis\": \"y\"}, {\"alignmentgroup\": \"True\", \"hovertemplate\": \"Country=%{y}<br>Total Deaths=%{x}<extra></extra>\", \"legendgroup\": \"Sweden\", \"marker\": {\"color\": \"#FECB52\"}, \"name\": \"Sweden\", \"offsetgroup\": \"Sweden\", \"orientation\": \"h\", \"showlegend\": true, \"textposition\": \"auto\", \"type\": \"bar\", \"x\": [14868.0], \"xaxis\": \"x\", \"y\": [\"Sweden\"], \"yaxis\": \"y\"}, {\"alignmentgroup\": \"True\", \"hovertemplate\": \"Country=%{y}<br>Total Deaths=%{x}<extra></extra>\", \"legendgroup\": \"Greece\", \"marker\": {\"color\": \"#636efa\"}, \"name\": \"Greece\", \"offsetgroup\": \"Greece\", \"orientation\": \"h\", \"showlegend\": true, \"textposition\": \"auto\", \"type\": \"bar\", \"x\": [14860.0], \"xaxis\": \"x\", \"y\": [\"Greece\"], \"yaxis\": \"y\"}, {\"alignmentgroup\": \"True\", \"hovertemplate\": \"Country=%{y}<br>Total Deaths=%{x}<extra></extra>\", \"legendgroup\": \"Morocco\", \"marker\": {\"color\": \"#EF553B\"}, \"name\": \"Morocco\", \"offsetgroup\": \"Morocco\", \"orientation\": \"h\", \"showlegend\": true, \"textposition\": \"auto\", \"type\": \"bar\", \"x\": [14290.0], \"xaxis\": \"x\", \"y\": [\"Morocco\"], \"yaxis\": \"y\"}, {\"alignmentgroup\": \"True\", \"hovertemplate\": \"Country=%{y}<br>Total Deaths=%{x}<extra></extra>\", \"legendgroup\": \"Guatemala\", \"marker\": {\"color\": \"#00cc96\"}, \"name\": \"Guatemala\", \"offsetgroup\": \"Guatemala\", \"orientation\": \"h\", \"showlegend\": true, \"textposition\": \"auto\", \"type\": \"bar\", \"x\": [13625.0], \"xaxis\": \"x\", \"y\": [\"Guatemala\"], \"yaxis\": \"y\"}, {\"alignmentgroup\": \"True\", \"hovertemplate\": \"Country=%{y}<br>Total Deaths=%{x}<extra></extra>\", \"legendgroup\": \"Sri Lanka\", \"marker\": {\"color\": \"#ab63fa\"}, \"name\": \"Sri Lanka\", \"offsetgroup\": \"Sri Lanka\", \"orientation\": \"h\", \"showlegend\": true, \"textposition\": \"auto\", \"type\": \"bar\", \"x\": [12964.0], \"xaxis\": \"x\", \"y\": [\"Sri Lanka\"], \"yaxis\": \"y\"}, {\"alignmentgroup\": \"True\", \"hovertemplate\": \"Country=%{y}<br>Total Deaths=%{x}<extra></extra>\", \"legendgroup\": \"Slovakia\", \"marker\": {\"color\": \"#FFA15A\"}, \"name\": \"Slovakia\", \"offsetgroup\": \"Slovakia\", \"orientation\": \"h\", \"showlegend\": true, \"textposition\": \"auto\", \"type\": \"bar\", \"x\": [12649.0], \"xaxis\": \"x\", \"y\": [\"Slovakia\"], \"yaxis\": \"y\"}, {\"alignmentgroup\": \"True\", \"hovertemplate\": \"Country=%{y}<br>Total Deaths=%{x}<extra></extra>\", \"legendgroup\": \"Nepal\", \"marker\": {\"color\": \"#19d3f3\"}, \"name\": \"Nepal\", \"offsetgroup\": \"Nepal\", \"orientation\": \"h\", \"showlegend\": true, \"textposition\": \"auto\", \"type\": \"bar\", \"x\": [11148.0], \"xaxis\": \"x\", \"y\": [\"Nepal\"], \"yaxis\": \"y\"}, {\"alignmentgroup\": \"True\", \"hovertemplate\": \"Country=%{y}<br>Total Deaths=%{x}<extra></extra>\", \"legendgroup\": \"Switzerland\", \"marker\": {\"color\": \"#FF6692\"}, \"name\": \"Switzerland\", \"offsetgroup\": \"Switzerland\", \"orientation\": \"h\", \"showlegend\": true, \"textposition\": \"auto\", \"type\": \"bar\", \"x\": [11093.0], \"xaxis\": \"x\", \"y\": [\"Switzerland\"], \"yaxis\": \"y\"}, {\"alignmentgroup\": \"True\", \"hovertemplate\": \"Country=%{y}<br>Total Deaths=%{x}<extra></extra>\", \"legendgroup\": \"Austria\", \"marker\": {\"color\": \"#B6E880\"}, \"name\": \"Austria\", \"offsetgroup\": \"Austria\", \"orientation\": \"h\", \"showlegend\": true, \"textposition\": \"auto\", \"type\": \"bar\", \"x\": [11014.0], \"xaxis\": \"x\", \"y\": [\"Austria\"], \"yaxis\": \"y\"}, {\"alignmentgroup\": \"True\", \"hovertemplate\": \"Country=%{y}<br>Total Deaths=%{x}<extra></extra>\", \"legendgroup\": \"Jordan\", \"marker\": {\"color\": \"#FF97FF\"}, \"name\": \"Jordan\", \"offsetgroup\": \"Jordan\", \"orientation\": \"h\", \"showlegend\": true, \"textposition\": \"auto\", \"type\": \"bar\", \"x\": [10727.0], \"xaxis\": \"x\", \"y\": [\"Jordan\"], \"yaxis\": \"y\"}, {\"alignmentgroup\": \"True\", \"hovertemplate\": \"Country=%{y}<br>Total Deaths=%{x}<extra></extra>\", \"legendgroup\": \"Bosnia and Herzegovina\", \"marker\": {\"color\": \"#FECB52\"}, \"name\": \"Bosnia and Herzegovina\", \"offsetgroup\": \"Bosnia and Herzegovina\", \"orientation\": \"h\", \"showlegend\": true, \"textposition\": \"auto\", \"type\": \"bar\", \"x\": [10635.0], \"xaxis\": \"x\", \"y\": [\"Bosnia and Herzegovina\"], \"yaxis\": \"y\"}, {\"alignmentgroup\": \"True\", \"hovertemplate\": \"Country=%{y}<br>Total Deaths=%{x}<extra></extra>\", \"legendgroup\": \"Honduras\", \"marker\": {\"color\": \"#636efa\"}, \"name\": \"Honduras\", \"offsetgroup\": \"Honduras\", \"orientation\": \"h\", \"showlegend\": true, \"textposition\": \"auto\", \"type\": \"bar\", \"x\": [9854.0], \"xaxis\": \"x\", \"y\": [\"Honduras\"], \"yaxis\": \"y\"}, {\"alignmentgroup\": \"True\", \"hovertemplate\": \"Country=%{y}<br>Total Deaths=%{x}<extra></extra>\", \"legendgroup\": \"Georgia\", \"marker\": {\"color\": \"#EF553B\"}, \"name\": \"Georgia\", \"offsetgroup\": \"Georgia\", \"orientation\": \"h\", \"showlegend\": true, \"textposition\": \"auto\", \"type\": \"bar\", \"x\": [8976.0], \"xaxis\": \"x\", \"y\": [\"Georgia\"], \"yaxis\": \"y\"}, {\"alignmentgroup\": \"True\", \"hovertemplate\": \"Country=%{y}<br>Total Deaths=%{x}<extra></extra>\", \"legendgroup\": \"Saudi Arabia\", \"marker\": {\"color\": \"#00cc96\"}, \"name\": \"Saudi Arabia\", \"offsetgroup\": \"Saudi Arabia\", \"orientation\": \"h\", \"showlegend\": true, \"textposition\": \"auto\", \"type\": \"bar\", \"x\": [8716.0], \"xaxis\": \"x\", \"y\": [\"Saudi Arabia\"], \"yaxis\": \"y\"}, {\"alignmentgroup\": \"True\", \"hovertemplate\": \"Country=%{y}<br>Total Deaths=%{x}<extra></extra>\", \"legendgroup\": \"Croatia\", \"marker\": {\"color\": \"#ab63fa\"}, \"name\": \"Croatia\", \"offsetgroup\": \"Croatia\", \"orientation\": \"h\", \"showlegend\": true, \"textposition\": \"auto\", \"type\": \"bar\", \"x\": [8650.0], \"xaxis\": \"x\", \"y\": [\"Croatia\"], \"yaxis\": \"y\"}, {\"alignmentgroup\": \"True\", \"hovertemplate\": \"Country=%{y}<br>Total Deaths=%{x}<extra></extra>\", \"legendgroup\": \"Lebanon\", \"marker\": {\"color\": \"#FFA15A\"}, \"name\": \"Lebanon\", \"offsetgroup\": \"Lebanon\", \"orientation\": \"h\", \"showlegend\": true, \"textposition\": \"auto\", \"type\": \"bar\", \"x\": [8333.0], \"xaxis\": \"x\", \"y\": [\"Lebanon\"], \"yaxis\": \"y\"}, {\"alignmentgroup\": \"True\", \"hovertemplate\": \"Country=%{y}<br>Total Deaths=%{x}<extra></extra>\", \"legendgroup\": \"Serbia\", \"marker\": {\"color\": \"#19d3f3\"}, \"name\": \"Serbia\", \"offsetgroup\": \"Serbia\", \"orientation\": \"h\", \"showlegend\": true, \"textposition\": \"auto\", \"type\": \"bar\", \"x\": [8280.0], \"xaxis\": \"x\", \"y\": [\"Serbia\"], \"yaxis\": \"y\"}, {\"alignmentgroup\": \"True\", \"hovertemplate\": \"Country=%{y}<br>Total Deaths=%{x}<extra></extra>\", \"legendgroup\": \"Israel\", \"marker\": {\"color\": \"#FF6692\"}, \"name\": \"Israel\", \"offsetgroup\": \"Israel\", \"orientation\": \"h\", \"showlegend\": true, \"textposition\": \"auto\", \"type\": \"bar\", \"x\": [7766.0], \"xaxis\": \"x\", \"y\": [\"Israel\"], \"yaxis\": \"y\"}, {\"alignmentgroup\": \"True\", \"hovertemplate\": \"Country=%{y}<br>Total Deaths=%{x}<extra></extra>\", \"legendgroup\": \"Cuba\", \"marker\": {\"color\": \"#B6E880\"}, \"name\": \"Cuba\", \"offsetgroup\": \"Cuba\", \"orientation\": \"h\", \"showlegend\": true, \"textposition\": \"auto\", \"type\": \"bar\", \"x\": [7486.0], \"xaxis\": \"x\", \"y\": [\"Cuba\"], \"yaxis\": \"y\"}, {\"alignmentgroup\": \"True\", \"hovertemplate\": \"Country=%{y}<br>Total Deaths=%{x}<extra></extra>\", \"legendgroup\": \"Panama\", \"marker\": {\"color\": \"#FF97FF\"}, \"name\": \"Panama\", \"offsetgroup\": \"Panama\", \"orientation\": \"h\", \"showlegend\": true, \"textposition\": \"auto\", \"type\": \"bar\", \"x\": [7230.0], \"xaxis\": \"x\", \"y\": [\"Panama\"], \"yaxis\": \"y\"}, {\"alignmentgroup\": \"True\", \"hovertemplate\": \"Country=%{y}<br>Total Deaths=%{x}<extra></extra>\", \"legendgroup\": \"Afghanistan\", \"marker\": {\"color\": \"#FECB52\"}, \"name\": \"Afghanistan\", \"offsetgroup\": \"Afghanistan\", \"orientation\": \"h\", \"showlegend\": true, \"textposition\": \"auto\", \"type\": \"bar\", \"x\": [7206.0], \"xaxis\": \"x\", \"y\": [\"Afghanistan\"], \"yaxis\": \"y\"}, {\"alignmentgroup\": \"True\", \"hovertemplate\": \"Country=%{y}<br>Total Deaths=%{x}<extra></extra>\", \"legendgroup\": \"Moldova\", \"marker\": {\"color\": \"#636efa\"}, \"name\": \"Moldova\", \"offsetgroup\": \"Moldova\", \"orientation\": \"h\", \"showlegend\": true, \"textposition\": \"auto\", \"type\": \"bar\", \"x\": [6803.0], \"xaxis\": \"x\", \"y\": [\"Moldova\"], \"yaxis\": \"y\"}, {\"alignmentgroup\": \"True\", \"hovertemplate\": \"Country=%{y}<br>Total Deaths=%{x}<extra></extra>\", \"legendgroup\": \"North Macedonia\", \"marker\": {\"color\": \"#EF553B\"}, \"name\": \"North Macedonia\", \"offsetgroup\": \"North Macedonia\", \"orientation\": \"h\", \"showlegend\": true, \"textposition\": \"auto\", \"type\": \"bar\", \"x\": [6683.0], \"xaxis\": \"x\", \"y\": [\"North Macedonia\"], \"yaxis\": \"y\"}, {\"alignmentgroup\": \"True\", \"hovertemplate\": \"Country=%{y}<br>Total Deaths=%{x}<extra></extra>\", \"legendgroup\": \"Azerbaijan\", \"marker\": {\"color\": \"#00cc96\"}, \"name\": \"Azerbaijan\", \"offsetgroup\": \"Azerbaijan\", \"orientation\": \"h\", \"showlegend\": true, \"textposition\": \"auto\", \"type\": \"bar\", \"x\": [6543.0], \"xaxis\": \"x\", \"y\": [\"Azerbaijan\"], \"yaxis\": \"y\"}, {\"alignmentgroup\": \"True\", \"hovertemplate\": \"Country=%{y}<br>Total Deaths=%{x}<extra></extra>\", \"legendgroup\": \"Costa Rica\", \"marker\": {\"color\": \"#ab63fa\"}, \"name\": \"Costa Rica\", \"offsetgroup\": \"Costa Rica\", \"orientation\": \"h\", \"showlegend\": true, \"textposition\": \"auto\", \"type\": \"bar\", \"x\": [6413.0], \"xaxis\": \"x\", \"y\": [\"Costa Rica\"], \"yaxis\": \"y\"}, {\"alignmentgroup\": \"True\", \"hovertemplate\": \"Country=%{y}<br>Total Deaths=%{x}<extra></extra>\", \"legendgroup\": \"Uruguay\", \"marker\": {\"color\": \"#FFA15A\"}, \"name\": \"Uruguay\", \"offsetgroup\": \"Uruguay\", \"orientation\": \"h\", \"showlegend\": true, \"textposition\": \"auto\", \"type\": \"bar\", \"x\": [6056.0], \"xaxis\": \"x\", \"y\": [\"Uruguay\"], \"yaxis\": \"y\"}, {\"alignmentgroup\": \"True\", \"hovertemplate\": \"Country=%{y}<br>Total Deaths=%{x}<extra></extra>\", \"legendgroup\": \"Algeria\", \"marker\": {\"color\": \"#19d3f3\"}, \"name\": \"Algeria\", \"offsetgroup\": \"Algeria\", \"orientation\": \"h\", \"showlegend\": true, \"textposition\": \"auto\", \"type\": \"bar\", \"x\": [5815.0], \"xaxis\": \"x\", \"y\": [\"Algeria\"], \"yaxis\": \"y\"}, {\"alignmentgroup\": \"True\", \"hovertemplate\": \"Country=%{y}<br>Total Deaths=%{x}<extra></extra>\", \"legendgroup\": \"Ethiopia\", \"marker\": {\"color\": \"#FF6692\"}, \"name\": \"Ethiopia\", \"offsetgroup\": \"Ethiopia\", \"orientation\": \"h\", \"showlegend\": true, \"textposition\": \"auto\", \"type\": \"bar\", \"x\": [5630.0], \"xaxis\": \"x\", \"y\": [\"Ethiopia\"], \"yaxis\": \"y\"}, {\"alignmentgroup\": \"True\", \"hovertemplate\": \"Country=%{y}<br>Total Deaths=%{x}<extra></extra>\", \"legendgroup\": \"Armenia\", \"marker\": {\"color\": \"#B6E880\"}, \"name\": \"Armenia\", \"offsetgroup\": \"Armenia\", \"orientation\": \"h\", \"showlegend\": true, \"textposition\": \"auto\", \"type\": \"bar\", \"x\": [5339.0], \"xaxis\": \"x\", \"y\": [\"Armenia\"], \"yaxis\": \"y\"}, {\"alignmentgroup\": \"True\", \"hovertemplate\": \"Country=%{y}<br>Total Deaths=%{x}<extra></extra>\", \"legendgroup\": \"Ireland\", \"marker\": {\"color\": \"#FF97FF\"}, \"name\": \"Ireland\", \"offsetgroup\": \"Ireland\", \"orientation\": \"h\", \"showlegend\": true, \"textposition\": \"auto\", \"type\": \"bar\", \"x\": [5249.0], \"xaxis\": \"x\", \"y\": [\"Ireland\"], \"yaxis\": \"y\"}, {\"alignmentgroup\": \"True\", \"hovertemplate\": \"Country=%{y}<br>Total Deaths=%{x}<extra></extra>\", \"legendgroup\": \"Kenya\", \"marker\": {\"color\": \"#FECB52\"}, \"name\": \"Kenya\", \"offsetgroup\": \"Kenya\", \"orientation\": \"h\", \"showlegend\": true, \"textposition\": \"auto\", \"type\": \"bar\", \"x\": [5128.0], \"xaxis\": \"x\", \"y\": [\"Kenya\"], \"yaxis\": \"y\"}, {\"alignmentgroup\": \"True\", \"hovertemplate\": \"Country=%{y}<br>Total Deaths=%{x}<extra></extra>\", \"legendgroup\": \"Lithuania\", \"marker\": {\"color\": \"#636efa\"}, \"name\": \"Lithuania\", \"offsetgroup\": \"Lithuania\", \"orientation\": \"h\", \"showlegend\": true, \"textposition\": \"auto\", \"type\": \"bar\", \"x\": [5014.0], \"xaxis\": \"x\", \"y\": [\"Lithuania\"], \"yaxis\": \"y\"}, {\"alignmentgroup\": \"True\", \"hovertemplate\": \"Country=%{y}<br>Total Deaths=%{x}<extra></extra>\", \"legendgroup\": \"Libya\", \"marker\": {\"color\": \"#EF553B\"}, \"name\": \"Libya\", \"offsetgroup\": \"Libya\", \"orientation\": \"h\", \"showlegend\": true, \"textposition\": \"auto\", \"type\": \"bar\", \"x\": [4664.0], \"xaxis\": \"x\", \"y\": [\"Libya\"], \"yaxis\": \"y\"}, {\"alignmentgroup\": \"True\", \"hovertemplate\": \"Country=%{y}<br>Total Deaths=%{x}<extra></extra>\", \"legendgroup\": \"Zimbabwe\", \"marker\": {\"color\": \"#00cc96\"}, \"name\": \"Zimbabwe\", \"offsetgroup\": \"Zimbabwe\", \"orientation\": \"h\", \"showlegend\": true, \"textposition\": \"auto\", \"type\": \"bar\", \"x\": [4624.0], \"xaxis\": \"x\", \"y\": [\"Zimbabwe\"], \"yaxis\": \"y\"}, {\"alignmentgroup\": \"True\", \"hovertemplate\": \"Country=%{y}<br>Total Deaths=%{x}<extra></extra>\", \"legendgroup\": \"China\", \"marker\": {\"color\": \"#ab63fa\"}, \"name\": \"China\", \"offsetgroup\": \"China\", \"orientation\": \"h\", \"showlegend\": true, \"textposition\": \"auto\", \"type\": \"bar\", \"x\": [4619.0], \"xaxis\": \"x\", \"y\": [\"China\"], \"yaxis\": \"y\"}, {\"alignmentgroup\": \"True\", \"hovertemplate\": \"Country=%{y}<br>Total Deaths=%{x}<extra></extra>\", \"legendgroup\": \"Slovenia\", \"marker\": {\"color\": \"#FFA15A\"}, \"name\": \"Slovenia\", \"offsetgroup\": \"Slovenia\", \"orientation\": \"h\", \"showlegend\": true, \"textposition\": \"auto\", \"type\": \"bar\", \"x\": [4565.0], \"xaxis\": \"x\", \"y\": [\"Slovenia\"], \"yaxis\": \"y\"}, {\"alignmentgroup\": \"True\", \"hovertemplate\": \"Country=%{y}<br>Total Deaths=%{x}<extra></extra>\", \"legendgroup\": \"Venezuela\", \"marker\": {\"color\": \"#19d3f3\"}, \"name\": \"Venezuela\", \"offsetgroup\": \"Venezuela\", \"orientation\": \"h\", \"showlegend\": true, \"textposition\": \"auto\", \"type\": \"bar\", \"x\": [4469.0], \"xaxis\": \"x\", \"y\": [\"Venezuela\"], \"yaxis\": \"y\"}, {\"alignmentgroup\": \"True\", \"hovertemplate\": \"Country=%{y}<br>Total Deaths=%{x}<extra></extra>\", \"legendgroup\": \"Belarus\", \"marker\": {\"color\": \"#FF6692\"}, \"name\": \"Belarus\", \"offsetgroup\": \"Belarus\", \"orientation\": \"h\", \"showlegend\": true, \"textposition\": \"auto\", \"type\": \"bar\", \"x\": [4159.0], \"xaxis\": \"x\", \"y\": [\"Belarus\"], \"yaxis\": \"y\"}, {\"alignmentgroup\": \"True\", \"hovertemplate\": \"Country=%{y}<br>Total Deaths=%{x}<extra></extra>\", \"legendgroup\": \"Palestine\", \"marker\": {\"color\": \"#B6E880\"}, \"name\": \"Palestine\", \"offsetgroup\": \"Palestine\", \"orientation\": \"h\", \"showlegend\": true, \"textposition\": \"auto\", \"type\": \"bar\", \"x\": [4120.0], \"xaxis\": \"x\", \"y\": [\"Palestine\"], \"yaxis\": \"y\"}, {\"alignmentgroup\": \"True\", \"hovertemplate\": \"Country=%{y}<br>Total Deaths=%{x}<extra></extra>\", \"legendgroup\": \"Oman\", \"marker\": {\"color\": \"#FF97FF\"}, \"name\": \"Oman\", \"offsetgroup\": \"Oman\", \"orientation\": \"h\", \"showlegend\": true, \"textposition\": \"auto\", \"type\": \"bar\", \"x\": [4096.0], \"xaxis\": \"x\", \"y\": [\"Oman\"], \"yaxis\": \"y\"}, {\"alignmentgroup\": \"True\", \"hovertemplate\": \"Country=%{y}<br>Total Deaths=%{x}<extra></extra>\", \"legendgroup\": \"Dominican Republic\", \"marker\": {\"color\": \"#FECB52\"}, \"name\": \"Dominican Republic\", \"offsetgroup\": \"Dominican Republic\", \"orientation\": \"h\", \"showlegend\": true, \"textposition\": \"auto\", \"type\": \"bar\", \"x\": [4049.0], \"xaxis\": \"x\", \"y\": [\"Dominican Republic\"], \"yaxis\": \"y\"}, {\"alignmentgroup\": \"True\", \"hovertemplate\": \"Country=%{y}<br>Total Deaths=%{x}<extra></extra>\", \"legendgroup\": \"Zambia\", \"marker\": {\"color\": \"#636efa\"}, \"name\": \"Zambia\", \"offsetgroup\": \"Zambia\", \"orientation\": \"h\", \"showlegend\": true, \"textposition\": \"auto\", \"type\": \"bar\", \"x\": [3649.0], \"xaxis\": \"x\", \"y\": [\"Zambia\"], \"yaxis\": \"y\"}, {\"alignmentgroup\": \"True\", \"hovertemplate\": \"Country=%{y}<br>Total Deaths=%{x}<extra></extra>\", \"legendgroup\": \"Namibia\", \"marker\": {\"color\": \"#EF553B\"}, \"name\": \"Namibia\", \"offsetgroup\": \"Namibia\", \"orientation\": \"h\", \"showlegend\": true, \"textposition\": \"auto\", \"type\": \"bar\", \"x\": [3514.0], \"xaxis\": \"x\", \"y\": [\"Namibia\"], \"yaxis\": \"y\"}, {\"alignmentgroup\": \"True\", \"hovertemplate\": \"Country=%{y}<br>Total Deaths=%{x}<extra></extra>\", \"legendgroup\": \"El Salvador\", \"marker\": {\"color\": \"#00cc96\"}, \"name\": \"El Salvador\", \"offsetgroup\": \"El Salvador\", \"orientation\": \"h\", \"showlegend\": true, \"textposition\": \"auto\", \"type\": \"bar\", \"x\": [3245.0], \"xaxis\": \"x\", \"y\": [\"El Salvador\"], \"yaxis\": \"y\"}, {\"alignmentgroup\": \"True\", \"hovertemplate\": \"Country=%{y}<br>Total Deaths=%{x}<extra></extra>\", \"legendgroup\": \"Uganda\", \"marker\": {\"color\": \"#ab63fa\"}, \"name\": \"Uganda\", \"offsetgroup\": \"Uganda\", \"orientation\": \"h\", \"showlegend\": true, \"textposition\": \"auto\", \"type\": \"bar\", \"x\": [3159.0], \"xaxis\": \"x\", \"y\": [\"Uganda\"], \"yaxis\": \"y\"}, {\"alignmentgroup\": \"True\", \"hovertemplate\": \"Country=%{y}<br>Total Deaths=%{x}<extra></extra>\", \"legendgroup\": \"Kosovo\", \"marker\": {\"color\": \"#FFA15A\"}, \"name\": \"Kosovo\", \"offsetgroup\": \"Kosovo\", \"orientation\": \"h\", \"showlegend\": true, \"textposition\": \"auto\", \"type\": \"bar\", \"x\": [2955.0], \"xaxis\": \"x\", \"y\": [\"Kosovo\"], \"yaxis\": \"y\"}, {\"alignmentgroup\": \"True\", \"hovertemplate\": \"Country=%{y}<br>Total Deaths=%{x}<extra></extra>\", \"legendgroup\": \"Sudan\", \"marker\": {\"color\": \"#19d3f3\"}, \"name\": \"Sudan\", \"offsetgroup\": \"Sudan\", \"orientation\": \"h\", \"showlegend\": true, \"textposition\": \"auto\", \"type\": \"bar\", \"x\": [2902.0], \"xaxis\": \"x\", \"y\": [\"Sudan\"], \"yaxis\": \"y\"}, {\"alignmentgroup\": \"True\", \"hovertemplate\": \"Country=%{y}<br>Total Deaths=%{x}<extra></extra>\", \"legendgroup\": \"Nigeria\", \"marker\": {\"color\": \"#FF6692\"}, \"name\": \"Nigeria\", \"offsetgroup\": \"Nigeria\", \"orientation\": \"h\", \"showlegend\": true, \"textposition\": \"auto\", \"type\": \"bar\", \"x\": [2724.0], \"xaxis\": \"x\", \"y\": [\"Nigeria\"], \"yaxis\": \"y\"}, {\"alignmentgroup\": \"True\", \"hovertemplate\": \"Country=%{y}<br>Total Deaths=%{x}<extra></extra>\", \"legendgroup\": \"Latvia\", \"marker\": {\"color\": \"#B6E880\"}, \"name\": \"Latvia\", \"offsetgroup\": \"Latvia\", \"orientation\": \"h\", \"showlegend\": true, \"textposition\": \"auto\", \"type\": \"bar\", \"x\": [2721.0], \"xaxis\": \"x\", \"y\": [\"Latvia\"], \"yaxis\": \"y\"}, {\"alignmentgroup\": \"True\", \"hovertemplate\": \"Country=%{y}<br>Total Deaths=%{x}<extra></extra>\", \"legendgroup\": \"Albania\", \"marker\": {\"color\": \"#FF97FF\"}, \"name\": \"Albania\", \"offsetgroup\": \"Albania\", \"orientation\": \"h\", \"showlegend\": true, \"textposition\": \"auto\", \"type\": \"bar\", \"x\": [2705.0], \"xaxis\": \"x\", \"y\": [\"Albania\"], \"yaxis\": \"y\"}, {\"alignmentgroup\": \"True\", \"hovertemplate\": \"Country=%{y}<br>Total Deaths=%{x}<extra></extra>\", \"legendgroup\": \"Denmark\", \"marker\": {\"color\": \"#FECB52\"}, \"name\": \"Denmark\", \"offsetgroup\": \"Denmark\", \"orientation\": \"h\", \"showlegend\": true, \"textposition\": \"auto\", \"type\": \"bar\", \"x\": [2661.0], \"xaxis\": \"x\", \"y\": [\"Denmark\"], \"yaxis\": \"y\"}, {\"alignmentgroup\": \"True\", \"hovertemplate\": \"Country=%{y}<br>Total Deaths=%{x}<extra></extra>\", \"legendgroup\": \"Kyrgyzstan\", \"marker\": {\"color\": \"#636efa\"}, \"name\": \"Kyrgyzstan\", \"offsetgroup\": \"Kyrgyzstan\", \"orientation\": \"h\", \"showlegend\": true, \"textposition\": \"auto\", \"type\": \"bar\", \"x\": [2607.0], \"xaxis\": \"x\", \"y\": [\"Kyrgyzstan\"], \"yaxis\": \"y\"}, {\"alignmentgroup\": \"True\", \"hovertemplate\": \"Country=%{y}<br>Total Deaths=%{x}<extra></extra>\", \"legendgroup\": \"South Korea\", \"marker\": {\"color\": \"#EF553B\"}, \"name\": \"South Korea\", \"offsetgroup\": \"South Korea\", \"orientation\": \"h\", \"showlegend\": true, \"textposition\": \"auto\", \"type\": \"bar\", \"x\": [2504.0], \"xaxis\": \"x\", \"y\": [\"South Korea\"], \"yaxis\": \"y\"}, {\"alignmentgroup\": \"True\", \"hovertemplate\": \"Country=%{y}<br>Total Deaths=%{x}<extra></extra>\", \"legendgroup\": \"Kuwait\", \"marker\": {\"color\": \"#00cc96\"}, \"name\": \"Kuwait\", \"offsetgroup\": \"Kuwait\", \"orientation\": \"h\", \"showlegend\": true, \"textposition\": \"auto\", \"type\": \"bar\", \"x\": [2450.0], \"xaxis\": \"x\", \"y\": [\"Kuwait\"], \"yaxis\": \"y\"}, {\"alignmentgroup\": \"True\", \"hovertemplate\": \"Country=%{y}<br>Total Deaths=%{x}<extra></extra>\", \"legendgroup\": \"Botswana\", \"marker\": {\"color\": \"#ab63fa\"}, \"name\": \"Botswana\", \"offsetgroup\": \"Botswana\", \"orientation\": \"h\", \"showlegend\": true, \"textposition\": \"auto\", \"type\": \"bar\", \"x\": [2368.0], \"xaxis\": \"x\", \"y\": [\"Botswana\"], \"yaxis\": \"y\"}, {\"alignmentgroup\": \"True\", \"hovertemplate\": \"Country=%{y}<br>Total Deaths=%{x}<extra></extra>\", \"legendgroup\": \"Cambodia\", \"marker\": {\"color\": \"#FFA15A\"}, \"name\": \"Cambodia\", \"offsetgroup\": \"Cambodia\", \"orientation\": \"h\", \"showlegend\": true, \"textposition\": \"auto\", \"type\": \"bar\", \"x\": [2336.0], \"xaxis\": \"x\", \"y\": [\"Cambodia\"], \"yaxis\": \"y\"}, {\"alignmentgroup\": \"True\", \"hovertemplate\": \"Country=%{y}<br>Total Deaths=%{x}<extra></extra>\", \"legendgroup\": \"Malawi\", \"marker\": {\"color\": \"#19d3f3\"}, \"name\": \"Malawi\", \"offsetgroup\": \"Malawi\", \"orientation\": \"h\", \"showlegend\": true, \"textposition\": \"auto\", \"type\": \"bar\", \"x\": [2282.0], \"xaxis\": \"x\", \"y\": [\"Malawi\"], \"yaxis\": \"y\"}, {\"alignmentgroup\": \"True\", \"hovertemplate\": \"Country=%{y}<br>Total Deaths=%{x}<extra></extra>\", \"legendgroup\": \"Syria\", \"marker\": {\"color\": \"#FF6692\"}, \"name\": \"Syria\", \"offsetgroup\": \"Syria\", \"orientation\": \"h\", \"showlegend\": true, \"textposition\": \"auto\", \"type\": \"bar\", \"x\": [2257.0], \"xaxis\": \"x\", \"y\": [\"Syria\"], \"yaxis\": \"y\"}, {\"alignmentgroup\": \"True\", \"hovertemplate\": \"Country=%{y}<br>Total Deaths=%{x}<extra></extra>\", \"legendgroup\": \"Oceania\", \"marker\": {\"color\": \"#B6E880\"}, \"name\": \"Oceania\", \"offsetgroup\": \"Oceania\", \"orientation\": \"h\", \"showlegend\": true, \"textposition\": \"auto\", \"type\": \"bar\", \"x\": [2214.0], \"xaxis\": \"x\", \"y\": [\"Oceania\"], \"yaxis\": \"y\"}, {\"alignmentgroup\": \"True\", \"hovertemplate\": \"Country=%{y}<br>Total Deaths=%{x}<extra></extra>\", \"legendgroup\": \"United Arab Emirates\", \"marker\": {\"color\": \"#FF97FF\"}, \"name\": \"United Arab Emirates\", \"offsetgroup\": \"United Arab Emirates\", \"orientation\": \"h\", \"showlegend\": true, \"textposition\": \"auto\", \"type\": \"bar\", \"x\": [2100.0], \"xaxis\": \"x\", \"y\": [\"United Arab Emirates\"], \"yaxis\": \"y\"}, {\"alignmentgroup\": \"True\", \"hovertemplate\": \"Country=%{y}<br>Total Deaths=%{x}<extra></extra>\", \"legendgroup\": \"Montenegro\", \"marker\": {\"color\": \"#FECB52\"}, \"name\": \"Montenegro\", \"offsetgroup\": \"Montenegro\", \"orientation\": \"h\", \"showlegend\": true, \"textposition\": \"auto\", \"type\": \"bar\", \"x\": [1928.0], \"xaxis\": \"x\", \"y\": [\"Montenegro\"], \"yaxis\": \"y\"}, {\"alignmentgroup\": \"True\", \"hovertemplate\": \"Country=%{y}<br>Total Deaths=%{x}<extra></extra>\", \"legendgroup\": \"Mozambique\", \"marker\": {\"color\": \"#636efa\"}, \"name\": \"Mozambique\", \"offsetgroup\": \"Mozambique\", \"orientation\": \"h\", \"showlegend\": true, \"textposition\": \"auto\", \"type\": \"bar\", \"x\": [1918.0], \"xaxis\": \"x\", \"y\": [\"Mozambique\"], \"yaxis\": \"y\"}, {\"alignmentgroup\": \"True\", \"hovertemplate\": \"Country=%{y}<br>Total Deaths=%{x}<extra></extra>\", \"legendgroup\": \"Jamaica\", \"marker\": {\"color\": \"#EF553B\"}, \"name\": \"Jamaica\", \"offsetgroup\": \"Jamaica\", \"orientation\": \"h\", \"showlegend\": true, \"textposition\": \"auto\", \"type\": \"bar\", \"x\": [1877.0], \"xaxis\": \"x\", \"y\": [\"Jamaica\"], \"yaxis\": \"y\"}, {\"alignmentgroup\": \"True\", \"hovertemplate\": \"Country=%{y}<br>Total Deaths=%{x}<extra></extra>\", \"legendgroup\": \"Senegal\", \"marker\": {\"color\": \"#00cc96\"}, \"name\": \"Senegal\", \"offsetgroup\": \"Senegal\", \"orientation\": \"h\", \"showlegend\": true, \"textposition\": \"auto\", \"type\": \"bar\", \"x\": [1858.0], \"xaxis\": \"x\", \"y\": [\"Senegal\"], \"yaxis\": \"y\"}, {\"alignmentgroup\": \"True\", \"hovertemplate\": \"Country=%{y}<br>Total Deaths=%{x}<extra></extra>\", \"legendgroup\": \"Yemen\", \"marker\": {\"color\": \"#ab63fa\"}, \"name\": \"Yemen\", \"offsetgroup\": \"Yemen\", \"orientation\": \"h\", \"showlegend\": true, \"textposition\": \"auto\", \"type\": \"bar\", \"x\": [1729.0], \"xaxis\": \"x\", \"y\": [\"Yemen\"], \"yaxis\": \"y\"}, {\"alignmentgroup\": \"True\", \"hovertemplate\": \"Country=%{y}<br>Total Deaths=%{x}<extra></extra>\", \"legendgroup\": \"Angola\", \"marker\": {\"color\": \"#FFA15A\"}, \"name\": \"Angola\", \"offsetgroup\": \"Angola\", \"orientation\": \"h\", \"showlegend\": true, \"textposition\": \"auto\", \"type\": \"bar\", \"x\": [1567.0], \"xaxis\": \"x\", \"y\": [\"Angola\"], \"yaxis\": \"y\"}, {\"alignmentgroup\": \"True\", \"hovertemplate\": \"Country=%{y}<br>Total Deaths=%{x}<extra></extra>\", \"legendgroup\": \"Trinidad and Tobago\", \"marker\": {\"color\": \"#19d3f3\"}, \"name\": \"Trinidad and Tobago\", \"offsetgroup\": \"Trinidad and Tobago\", \"orientation\": \"h\", \"showlegend\": true, \"textposition\": \"auto\", \"type\": \"bar\", \"x\": [1489.0], \"xaxis\": \"x\", \"y\": [\"Trinidad and Tobago\"], \"yaxis\": \"y\"}, {\"alignmentgroup\": \"True\", \"hovertemplate\": \"Country=%{y}<br>Total Deaths=%{x}<extra></extra>\", \"legendgroup\": \"Cameroon\", \"marker\": {\"color\": \"#FF6692\"}, \"name\": \"Cameroon\", \"offsetgroup\": \"Cameroon\", \"orientation\": \"h\", \"showlegend\": true, \"textposition\": \"auto\", \"type\": \"bar\", \"x\": [1459.0], \"xaxis\": \"x\", \"y\": [\"Cameroon\"], \"yaxis\": \"y\"}, {\"alignmentgroup\": \"True\", \"hovertemplate\": \"Country=%{y}<br>Total Deaths=%{x}<extra></extra>\", \"legendgroup\": \"Bahrain\", \"marker\": {\"color\": \"#B6E880\"}, \"name\": \"Bahrain\", \"offsetgroup\": \"Bahrain\", \"orientation\": \"h\", \"showlegend\": true, \"textposition\": \"auto\", \"type\": \"bar\", \"x\": [1389.0], \"xaxis\": \"x\", \"y\": [\"Bahrain\"], \"yaxis\": \"y\"}, {\"alignmentgroup\": \"True\", \"hovertemplate\": \"Country=%{y}<br>Total Deaths=%{x}<extra></extra>\", \"legendgroup\": \"Estonia\", \"marker\": {\"color\": \"#FF97FF\"}, \"name\": \"Estonia\", \"offsetgroup\": \"Estonia\", \"orientation\": \"h\", \"showlegend\": true, \"textposition\": \"auto\", \"type\": \"bar\", \"x\": [1357.0], \"xaxis\": \"x\", \"y\": [\"Estonia\"], \"yaxis\": \"y\"}, {\"alignmentgroup\": \"True\", \"hovertemplate\": \"Country=%{y}<br>Total Deaths=%{x}<extra></extra>\", \"legendgroup\": \"Australia\", \"marker\": {\"color\": \"#FECB52\"}, \"name\": \"Australia\", \"offsetgroup\": \"Australia\", \"orientation\": \"h\", \"showlegend\": true, \"textposition\": \"auto\", \"type\": \"bar\", \"x\": [1321.0], \"xaxis\": \"x\", \"y\": [\"Australia\"], \"yaxis\": \"y\"}, {\"alignmentgroup\": \"True\", \"hovertemplate\": \"Country=%{y}<br>Total Deaths=%{x}<extra></extra>\", \"legendgroup\": \"Mongolia\", \"marker\": {\"color\": \"#636efa\"}, \"name\": \"Mongolia\", \"offsetgroup\": \"Mongolia\", \"orientation\": \"h\", \"showlegend\": true, \"textposition\": \"auto\", \"type\": \"bar\", \"x\": [1295.0], \"xaxis\": \"x\", \"y\": [\"Mongolia\"], \"yaxis\": \"y\"}, {\"alignmentgroup\": \"True\", \"hovertemplate\": \"Country=%{y}<br>Total Deaths=%{x}<extra></extra>\", \"legendgroup\": \"Rwanda\", \"marker\": {\"color\": \"#EF553B\"}, \"name\": \"Rwanda\", \"offsetgroup\": \"Rwanda\", \"orientation\": \"h\", \"showlegend\": true, \"textposition\": \"auto\", \"type\": \"bar\", \"x\": [1276.0], \"xaxis\": \"x\", \"y\": [\"Rwanda\"], \"yaxis\": \"y\"}, {\"alignmentgroup\": \"True\", \"hovertemplate\": \"Country=%{y}<br>Total Deaths=%{x}<extra></extra>\", \"legendgroup\": \"Uzbekistan\", \"marker\": {\"color\": \"#00cc96\"}, \"name\": \"Uzbekistan\", \"offsetgroup\": \"Uzbekistan\", \"orientation\": \"h\", \"showlegend\": true, \"textposition\": \"auto\", \"type\": \"bar\", \"x\": [1242.0], \"xaxis\": \"x\", \"y\": [\"Uzbekistan\"], \"yaxis\": \"y\"}, {\"alignmentgroup\": \"True\", \"hovertemplate\": \"Country=%{y}<br>Total Deaths=%{x}<extra></extra>\", \"legendgroup\": \"Eswatini\", \"marker\": {\"color\": \"#ab63fa\"}, \"name\": \"Eswatini\", \"offsetgroup\": \"Eswatini\", \"orientation\": \"h\", \"showlegend\": true, \"textposition\": \"auto\", \"type\": \"bar\", \"x\": [1223.0], \"xaxis\": \"x\", \"y\": [\"Eswatini\"], \"yaxis\": \"y\"}, {\"alignmentgroup\": \"True\", \"hovertemplate\": \"Country=%{y}<br>Total Deaths=%{x}<extra></extra>\", \"legendgroup\": \"Ghana\", \"marker\": {\"color\": \"#FFA15A\"}, \"name\": \"Ghana\", \"offsetgroup\": \"Ghana\", \"orientation\": \"h\", \"showlegend\": true, \"textposition\": \"auto\", \"type\": \"bar\", \"x\": [1156.0], \"xaxis\": \"x\", \"y\": [\"Ghana\"], \"yaxis\": \"y\"}, {\"alignmentgroup\": \"True\", \"hovertemplate\": \"Country=%{y}<br>Total Deaths=%{x}<extra></extra>\", \"legendgroup\": \"Somalia\", \"marker\": {\"color\": \"#19d3f3\"}, \"name\": \"Somalia\", \"offsetgroup\": \"Somalia\", \"orientation\": \"h\", \"showlegend\": true, \"textposition\": \"auto\", \"type\": \"bar\", \"x\": [1111.0], \"xaxis\": \"x\", \"y\": [\"Somalia\"], \"yaxis\": \"y\"}, {\"alignmentgroup\": \"True\", \"hovertemplate\": \"Country=%{y}<br>Total Deaths=%{x}<extra></extra>\", \"legendgroup\": \"Democratic Republic of Congo\", \"marker\": {\"color\": \"#FF6692\"}, \"name\": \"Democratic Republic of Congo\", \"offsetgroup\": \"Democratic Republic of Congo\", \"orientation\": \"h\", \"showlegend\": true, \"textposition\": \"auto\", \"type\": \"bar\", \"x\": [1084.0], \"xaxis\": \"x\", \"y\": [\"Democratic Republic of Congo\"], \"yaxis\": \"y\"}, {\"alignmentgroup\": \"True\", \"hovertemplate\": \"Country=%{y}<br>Total Deaths=%{x}<extra></extra>\", \"legendgroup\": \"Finland\", \"marker\": {\"color\": \"#B6E880\"}, \"name\": \"Finland\", \"offsetgroup\": \"Finland\", \"orientation\": \"h\", \"showlegend\": true, \"textposition\": \"auto\", \"type\": \"bar\", \"x\": [1078.0], \"xaxis\": \"x\", \"y\": [\"Finland\"], \"yaxis\": \"y\"}, {\"alignmentgroup\": \"True\", \"hovertemplate\": \"Country=%{y}<br>Total Deaths=%{x}<extra></extra>\", \"legendgroup\": \"Madagascar\", \"marker\": {\"color\": \"#FF97FF\"}, \"name\": \"Madagascar\", \"offsetgroup\": \"Madagascar\", \"orientation\": \"h\", \"showlegend\": true, \"textposition\": \"auto\", \"type\": \"bar\", \"x\": [958.0], \"xaxis\": \"x\", \"y\": [\"Madagascar\"], \"yaxis\": \"y\"}, {\"alignmentgroup\": \"True\", \"hovertemplate\": \"Country=%{y}<br>Total Deaths=%{x}<extra></extra>\", \"legendgroup\": \"Suriname\", \"marker\": {\"color\": \"#FECB52\"}, \"name\": \"Suriname\", \"offsetgroup\": \"Suriname\", \"orientation\": \"h\", \"showlegend\": true, \"textposition\": \"auto\", \"type\": \"bar\", \"x\": [884.0], \"xaxis\": \"x\", \"y\": [\"Suriname\"], \"yaxis\": \"y\"}, {\"alignmentgroup\": \"True\", \"hovertemplate\": \"Country=%{y}<br>Total Deaths=%{x}<extra></extra>\", \"legendgroup\": \"Norway\", \"marker\": {\"color\": \"#636efa\"}, \"name\": \"Norway\", \"offsetgroup\": \"Norway\", \"orientation\": \"h\", \"showlegend\": true, \"textposition\": \"auto\", \"type\": \"bar\", \"x\": [861.0], \"xaxis\": \"x\", \"y\": [\"Norway\"], \"yaxis\": \"y\"}, {\"alignmentgroup\": \"True\", \"hovertemplate\": \"Country=%{y}<br>Total Deaths=%{x}<extra></extra>\", \"legendgroup\": \"Taiwan\", \"marker\": {\"color\": \"#EF553B\"}, \"name\": \"Taiwan\", \"offsetgroup\": \"Taiwan\", \"orientation\": \"h\", \"showlegend\": true, \"textposition\": \"auto\", \"type\": \"bar\", \"x\": [843.0], \"xaxis\": \"x\", \"y\": [\"Taiwan\"], \"yaxis\": \"y\"}, {\"alignmentgroup\": \"True\", \"hovertemplate\": \"Country=%{y}<br>Total Deaths=%{x}<extra></extra>\", \"legendgroup\": \"Luxembourg\", \"marker\": {\"color\": \"#00cc96\"}, \"name\": \"Luxembourg\", \"offsetgroup\": \"Luxembourg\", \"orientation\": \"h\", \"showlegend\": true, \"textposition\": \"auto\", \"type\": \"bar\", \"x\": [835.0], \"xaxis\": \"x\", \"y\": [\"Luxembourg\"], \"yaxis\": \"y\"}, {\"alignmentgroup\": \"True\", \"hovertemplate\": \"Country=%{y}<br>Total Deaths=%{x}<extra></extra>\", \"legendgroup\": \"Guyana\", \"marker\": {\"color\": \"#ab63fa\"}, \"name\": \"Guyana\", \"offsetgroup\": \"Guyana\", \"orientation\": \"h\", \"showlegend\": true, \"textposition\": \"auto\", \"type\": \"bar\", \"x\": [792.0], \"xaxis\": \"x\", \"y\": [\"Guyana\"], \"yaxis\": \"y\"}, {\"alignmentgroup\": \"True\", \"hovertemplate\": \"Country=%{y}<br>Total Deaths=%{x}<extra></extra>\", \"legendgroup\": \"Mauritania\", \"marker\": {\"color\": \"#FFA15A\"}, \"name\": \"Mauritania\", \"offsetgroup\": \"Mauritania\", \"orientation\": \"h\", \"showlegend\": true, \"textposition\": \"auto\", \"type\": \"bar\", \"x\": [776.0], \"xaxis\": \"x\", \"y\": [\"Mauritania\"], \"yaxis\": \"y\"}, {\"alignmentgroup\": \"True\", \"hovertemplate\": \"Country=%{y}<br>Total Deaths=%{x}<extra></extra>\", \"legendgroup\": \"Tanzania\", \"marker\": {\"color\": \"#19d3f3\"}, \"name\": \"Tanzania\", \"offsetgroup\": \"Tanzania\", \"orientation\": \"h\", \"showlegend\": true, \"textposition\": \"auto\", \"type\": \"bar\", \"x\": [719.0], \"xaxis\": \"x\", \"y\": [\"Tanzania\"], \"yaxis\": \"y\"}, {\"alignmentgroup\": \"True\", \"hovertemplate\": \"Country=%{y}<br>Total Deaths=%{x}<extra></extra>\", \"legendgroup\": \"Lesotho\", \"marker\": {\"color\": \"#FF6692\"}, \"name\": \"Lesotho\", \"offsetgroup\": \"Lesotho\", \"orientation\": \"h\", \"showlegend\": true, \"textposition\": \"auto\", \"type\": \"bar\", \"x\": [633.0], \"xaxis\": \"x\", \"y\": [\"Lesotho\"], \"yaxis\": \"y\"}, {\"alignmentgroup\": \"True\", \"hovertemplate\": \"Country=%{y}<br>Total Deaths=%{x}<extra></extra>\", \"legendgroup\": \"Cote d'Ivoire\", \"marker\": {\"color\": \"#B6E880\"}, \"name\": \"Cote d'Ivoire\", \"offsetgroup\": \"Cote d'Ivoire\", \"orientation\": \"h\", \"showlegend\": true, \"textposition\": \"auto\", \"type\": \"bar\", \"x\": [631.0], \"xaxis\": \"x\", \"y\": [\"Cote d'Ivoire\"], \"yaxis\": \"y\"}, {\"alignmentgroup\": \"True\", \"hovertemplate\": \"Country=%{y}<br>Total Deaths=%{x}<extra></extra>\", \"legendgroup\": \"Fiji\", \"marker\": {\"color\": \"#FF97FF\"}, \"name\": \"Fiji\", \"offsetgroup\": \"Fiji\", \"orientation\": \"h\", \"showlegend\": true, \"textposition\": \"auto\", \"type\": \"bar\", \"x\": [631.0], \"xaxis\": \"x\", \"y\": [\"Fiji\"], \"yaxis\": \"y\"}, {\"alignmentgroup\": \"True\", \"hovertemplate\": \"Country=%{y}<br>Total Deaths=%{x}<extra></extra>\", \"legendgroup\": \"Haiti\", \"marker\": {\"color\": \"#FECB52\"}, \"name\": \"Haiti\", \"offsetgroup\": \"Haiti\", \"orientation\": \"h\", \"showlegend\": true, \"textposition\": \"auto\", \"type\": \"bar\", \"x\": [611.0], \"xaxis\": \"x\", \"y\": [\"Haiti\"], \"yaxis\": \"y\"}, {\"alignmentgroup\": \"True\", \"hovertemplate\": \"Country=%{y}<br>Total Deaths=%{x}<extra></extra>\", \"legendgroup\": \"Qatar\", \"marker\": {\"color\": \"#636efa\"}, \"name\": \"Qatar\", \"offsetgroup\": \"Qatar\", \"orientation\": \"h\", \"showlegend\": true, \"textposition\": \"auto\", \"type\": \"bar\", \"x\": [606.0], \"xaxis\": \"x\", \"y\": [\"Qatar\"], \"yaxis\": \"y\"}, {\"alignmentgroup\": \"True\", \"hovertemplate\": \"Country=%{y}<br>Total Deaths=%{x}<extra></extra>\", \"legendgroup\": \"Cyprus\", \"marker\": {\"color\": \"#EF553B\"}, \"name\": \"Cyprus\", \"offsetgroup\": \"Cyprus\", \"orientation\": \"h\", \"showlegend\": true, \"textposition\": \"auto\", \"type\": \"bar\", \"x\": [552.0], \"xaxis\": \"x\", \"y\": [\"Cyprus\"], \"yaxis\": \"y\"}, {\"alignmentgroup\": \"True\", \"hovertemplate\": \"Country=%{y}<br>Total Deaths=%{x}<extra></extra>\", \"legendgroup\": \"Mali\", \"marker\": {\"color\": \"#00cc96\"}, \"name\": \"Mali\", \"offsetgroup\": \"Mali\", \"orientation\": \"h\", \"showlegend\": true, \"textposition\": \"auto\", \"type\": \"bar\", \"x\": [549.0], \"xaxis\": \"x\", \"y\": [\"Mali\"], \"yaxis\": \"y\"}, {\"alignmentgroup\": \"True\", \"hovertemplate\": \"Country=%{y}<br>Total Deaths=%{x}<extra></extra>\", \"legendgroup\": \"Bahamas\", \"marker\": {\"color\": \"#ab63fa\"}, \"name\": \"Bahamas\", \"offsetgroup\": \"Bahamas\", \"orientation\": \"h\", \"showlegend\": true, \"textposition\": \"auto\", \"type\": \"bar\", \"x\": [533.0], \"xaxis\": \"x\", \"y\": [\"Bahamas\"], \"yaxis\": \"y\"}, {\"alignmentgroup\": \"True\", \"hovertemplate\": \"Country=%{y}<br>Total Deaths=%{x}<extra></extra>\", \"legendgroup\": \"Malta\", \"marker\": {\"color\": \"#FFA15A\"}, \"name\": \"Malta\", \"offsetgroup\": \"Malta\", \"orientation\": \"h\", \"showlegend\": true, \"textposition\": \"auto\", \"type\": \"bar\", \"x\": [458.0], \"xaxis\": \"x\", \"y\": [\"Malta\"], \"yaxis\": \"y\"}, {\"alignmentgroup\": \"True\", \"hovertemplate\": \"Country=%{y}<br>Total Deaths=%{x}<extra></extra>\", \"legendgroup\": \"Belize\", \"marker\": {\"color\": \"#19d3f3\"}, \"name\": \"Belize\", \"offsetgroup\": \"Belize\", \"orientation\": \"h\", \"showlegend\": true, \"textposition\": \"auto\", \"type\": \"bar\", \"x\": [418.0], \"xaxis\": \"x\", \"y\": [\"Belize\"], \"yaxis\": \"y\"}, {\"alignmentgroup\": \"True\", \"hovertemplate\": \"Country=%{y}<br>Total Deaths=%{x}<extra></extra>\", \"legendgroup\": \"Guinea\", \"marker\": {\"color\": \"#FF6692\"}, \"name\": \"Guinea\", \"offsetgroup\": \"Guinea\", \"orientation\": \"h\", \"showlegend\": true, \"textposition\": \"auto\", \"type\": \"bar\", \"x\": [379.0], \"xaxis\": \"x\", \"y\": [\"Guinea\"], \"yaxis\": \"y\"}, {\"alignmentgroup\": \"True\", \"hovertemplate\": \"Country=%{y}<br>Total Deaths=%{x}<extra></extra>\", \"legendgroup\": \"Cape Verde\", \"marker\": {\"color\": \"#B6E880\"}, \"name\": \"Cape Verde\", \"offsetgroup\": \"Cape Verde\", \"orientation\": \"h\", \"showlegend\": true, \"textposition\": \"auto\", \"type\": \"bar\", \"x\": [340.0], \"xaxis\": \"x\", \"y\": [\"Cape Verde\"], \"yaxis\": \"y\"}, {\"alignmentgroup\": \"True\", \"hovertemplate\": \"Country=%{y}<br>Total Deaths=%{x}<extra></extra>\", \"legendgroup\": \"Gambia\", \"marker\": {\"color\": \"#FF97FF\"}, \"name\": \"Gambia\", \"offsetgroup\": \"Gambia\", \"orientation\": \"h\", \"showlegend\": true, \"textposition\": \"auto\", \"type\": \"bar\", \"x\": [338.0], \"xaxis\": \"x\", \"y\": [\"Gambia\"], \"yaxis\": \"y\"}, {\"alignmentgroup\": \"True\", \"hovertemplate\": \"Country=%{y}<br>Total Deaths=%{x}<extra></extra>\", \"legendgroup\": \"Liberia\", \"marker\": {\"color\": \"#FECB52\"}, \"name\": \"Liberia\", \"offsetgroup\": \"Liberia\", \"orientation\": \"h\", \"showlegend\": true, \"textposition\": \"auto\", \"type\": \"bar\", \"x\": [286.0], \"xaxis\": \"x\", \"y\": [\"Liberia\"], \"yaxis\": \"y\"}, {\"alignmentgroup\": \"True\", \"hovertemplate\": \"Country=%{y}<br>Total Deaths=%{x}<extra></extra>\", \"legendgroup\": \"Papua New Guinea\", \"marker\": {\"color\": \"#636efa\"}, \"name\": \"Papua New Guinea\", \"offsetgroup\": \"Papua New Guinea\", \"orientation\": \"h\", \"showlegend\": true, \"textposition\": \"auto\", \"type\": \"bar\", \"x\": [234.0], \"xaxis\": \"x\", \"y\": [\"Papua New Guinea\"], \"yaxis\": \"y\"}, {\"alignmentgroup\": \"True\", \"hovertemplate\": \"Country=%{y}<br>Total Deaths=%{x}<extra></extra>\", \"legendgroup\": \"Maldives\", \"marker\": {\"color\": \"#EF553B\"}, \"name\": \"Maldives\", \"offsetgroup\": \"Maldives\", \"orientation\": \"h\", \"showlegend\": true, \"textposition\": \"auto\", \"type\": \"bar\", \"x\": [231.0], \"xaxis\": \"x\", \"y\": [\"Maldives\"], \"yaxis\": \"y\"}, {\"alignmentgroup\": \"True\", \"hovertemplate\": \"Country=%{y}<br>Total Deaths=%{x}<extra></extra>\", \"legendgroup\": \"Togo\", \"marker\": {\"color\": \"#00cc96\"}, \"name\": \"Togo\", \"offsetgroup\": \"Togo\", \"orientation\": \"h\", \"showlegend\": true, \"textposition\": \"auto\", \"type\": \"bar\", \"x\": [229.0], \"xaxis\": \"x\", \"y\": [\"Togo\"], \"yaxis\": \"y\"}, {\"alignmentgroup\": \"True\", \"hovertemplate\": \"Country=%{y}<br>Total Deaths=%{x}<extra></extra>\", \"legendgroup\": \"Hong Kong\", \"marker\": {\"color\": \"#ab63fa\"}, \"name\": \"Hong Kong\", \"offsetgroup\": \"Hong Kong\", \"orientation\": \"h\", \"showlegend\": true, \"textposition\": \"auto\", \"type\": \"bar\", \"x\": [213.0], \"xaxis\": \"x\", \"y\": [\"Hong Kong\"], \"yaxis\": \"y\"}, {\"alignmentgroup\": \"True\", \"hovertemplate\": \"Country=%{y}<br>Total Deaths=%{x}<extra></extra>\", \"legendgroup\": \"Saint Lucia\", \"marker\": {\"color\": \"#FFA15A\"}, \"name\": \"Saint Lucia\", \"offsetgroup\": \"Saint Lucia\", \"orientation\": \"h\", \"showlegend\": true, \"textposition\": \"auto\", \"type\": \"bar\", \"x\": [207.0], \"xaxis\": \"x\", \"y\": [\"Saint Lucia\"], \"yaxis\": \"y\"}, {\"alignmentgroup\": \"True\", \"hovertemplate\": \"Country=%{y}<br>Total Deaths=%{x}<extra></extra>\", \"legendgroup\": \"Nicaragua\", \"marker\": {\"color\": \"#19d3f3\"}, \"name\": \"Nicaragua\", \"offsetgroup\": \"Nicaragua\", \"orientation\": \"h\", \"showlegend\": true, \"textposition\": \"auto\", \"type\": \"bar\", \"x\": [204.0], \"xaxis\": \"x\", \"y\": [\"Nicaragua\"], \"yaxis\": \"y\"}, {\"alignmentgroup\": \"True\", \"hovertemplate\": \"Country=%{y}<br>Total Deaths=%{x}<extra></extra>\", \"legendgroup\": \"Niger\", \"marker\": {\"color\": \"#FF6692\"}, \"name\": \"Niger\", \"offsetgroup\": \"Niger\", \"orientation\": \"h\", \"showlegend\": true, \"textposition\": \"auto\", \"type\": \"bar\", \"x\": [203.0], \"xaxis\": \"x\", \"y\": [\"Niger\"], \"yaxis\": \"y\"}, {\"alignmentgroup\": \"True\", \"hovertemplate\": \"Country=%{y}<br>Total Deaths=%{x}<extra></extra>\", \"legendgroup\": \"Congo\", \"marker\": {\"color\": \"#B6E880\"}, \"name\": \"Congo\", \"offsetgroup\": \"Congo\", \"orientation\": \"h\", \"showlegend\": true, \"textposition\": \"auto\", \"type\": \"bar\", \"x\": [197.0], \"xaxis\": \"x\", \"y\": [\"Congo\"], \"yaxis\": \"y\"}, {\"alignmentgroup\": \"True\", \"hovertemplate\": \"Country=%{y}<br>Total Deaths=%{x}<extra></extra>\", \"legendgroup\": \"Gabon\", \"marker\": {\"color\": \"#FF97FF\"}, \"name\": \"Gabon\", \"offsetgroup\": \"Gabon\", \"orientation\": \"h\", \"showlegend\": true, \"textposition\": \"auto\", \"type\": \"bar\", \"x\": [190.0], \"xaxis\": \"x\", \"y\": [\"Gabon\"], \"yaxis\": \"y\"}, {\"alignmentgroup\": \"True\", \"hovertemplate\": \"Country=%{y}<br>Total Deaths=%{x}<extra></extra>\", \"legendgroup\": \"Burkina Faso\", \"marker\": {\"color\": \"#FECB52\"}, \"name\": \"Burkina Faso\", \"offsetgroup\": \"Burkina Faso\", \"orientation\": \"h\", \"showlegend\": true, \"textposition\": \"auto\", \"type\": \"bar\", \"x\": [184.0], \"xaxis\": \"x\", \"y\": [\"Burkina Faso\"], \"yaxis\": \"y\"}, {\"alignmentgroup\": \"True\", \"hovertemplate\": \"Country=%{y}<br>Total Deaths=%{x}<extra></extra>\", \"legendgroup\": \"Chad\", \"marker\": {\"color\": \"#636efa\"}, \"name\": \"Chad\", \"offsetgroup\": \"Chad\", \"orientation\": \"h\", \"showlegend\": true, \"textposition\": \"auto\", \"type\": \"bar\", \"x\": [174.0], \"xaxis\": \"x\", \"y\": [\"Chad\"], \"yaxis\": \"y\"}, {\"alignmentgroup\": \"True\", \"hovertemplate\": \"Country=%{y}<br>Total Deaths=%{x}<extra></extra>\", \"legendgroup\": \"Djibouti\", \"marker\": {\"color\": \"#EF553B\"}, \"name\": \"Djibouti\", \"offsetgroup\": \"Djibouti\", \"orientation\": \"h\", \"showlegend\": true, \"textposition\": \"auto\", \"type\": \"bar\", \"x\": [167.0], \"xaxis\": \"x\", \"y\": [\"Djibouti\"], \"yaxis\": \"y\"}, {\"alignmentgroup\": \"True\", \"hovertemplate\": \"Country=%{y}<br>Total Deaths=%{x}<extra></extra>\", \"legendgroup\": \"Benin\", \"marker\": {\"color\": \"#00cc96\"}, \"name\": \"Benin\", \"offsetgroup\": \"Benin\", \"orientation\": \"h\", \"showlegend\": true, \"textposition\": \"auto\", \"type\": \"bar\", \"x\": [159.0], \"xaxis\": \"x\", \"y\": [\"Benin\"], \"yaxis\": \"y\"}, {\"alignmentgroup\": \"True\", \"hovertemplate\": \"Country=%{y}<br>Total Deaths=%{x}<extra></extra>\", \"legendgroup\": \"Grenada\", \"marker\": {\"color\": \"#ab63fa\"}, \"name\": \"Grenada\", \"offsetgroup\": \"Grenada\", \"orientation\": \"h\", \"showlegend\": true, \"textposition\": \"auto\", \"type\": \"bar\", \"x\": [150.0], \"xaxis\": \"x\", \"y\": [\"Grenada\"], \"yaxis\": \"y\"}, {\"alignmentgroup\": \"True\", \"hovertemplate\": \"Country=%{y}<br>Total Deaths=%{x}<extra></extra>\", \"legendgroup\": \"Equatorial Guinea\", \"marker\": {\"color\": \"#FFA15A\"}, \"name\": \"Equatorial Guinea\", \"offsetgroup\": \"Equatorial Guinea\", \"orientation\": \"h\", \"showlegend\": true, \"textposition\": \"auto\", \"type\": \"bar\", \"x\": [147.0], \"xaxis\": \"x\", \"y\": [\"Equatorial Guinea\"], \"yaxis\": \"y\"}, {\"alignmentgroup\": \"True\", \"hovertemplate\": \"Country=%{y}<br>Total Deaths=%{x}<extra></extra>\", \"legendgroup\": \"Comoros\", \"marker\": {\"color\": \"#19d3f3\"}, \"name\": \"Comoros\", \"offsetgroup\": \"Comoros\", \"orientation\": \"h\", \"showlegend\": true, \"textposition\": \"auto\", \"type\": \"bar\", \"x\": [147.0], \"xaxis\": \"x\", \"y\": [\"Comoros\"], \"yaxis\": \"y\"}, {\"alignmentgroup\": \"True\", \"hovertemplate\": \"Country=%{y}<br>Total Deaths=%{x}<extra></extra>\", \"legendgroup\": \"Guinea-Bissau\", \"marker\": {\"color\": \"#FF6692\"}, \"name\": \"Guinea-Bissau\", \"offsetgroup\": \"Guinea-Bissau\", \"orientation\": \"h\", \"showlegend\": true, \"textposition\": \"auto\", \"type\": \"bar\", \"x\": [135.0], \"xaxis\": \"x\", \"y\": [\"Guinea-Bissau\"], \"yaxis\": \"y\"}, {\"alignmentgroup\": \"True\", \"hovertemplate\": \"Country=%{y}<br>Total Deaths=%{x}<extra></extra>\", \"legendgroup\": \"South Sudan\", \"marker\": {\"color\": \"#B6E880\"}, \"name\": \"South Sudan\", \"offsetgroup\": \"South Sudan\", \"orientation\": \"h\", \"showlegend\": true, \"textposition\": \"auto\", \"type\": \"bar\", \"x\": [130.0], \"xaxis\": \"x\", \"y\": [\"South Sudan\"], \"yaxis\": \"y\"}, {\"alignmentgroup\": \"True\", \"hovertemplate\": \"Country=%{y}<br>Total Deaths=%{x}<extra></extra>\", \"legendgroup\": \"Andorra\", \"marker\": {\"color\": \"#FF97FF\"}, \"name\": \"Andorra\", \"offsetgroup\": \"Andorra\", \"orientation\": \"h\", \"showlegend\": true, \"textposition\": \"auto\", \"type\": \"bar\", \"x\": [130.0], \"xaxis\": \"x\", \"y\": [\"Andorra\"], \"yaxis\": \"y\"}, {\"alignmentgroup\": \"True\", \"hovertemplate\": \"Country=%{y}<br>Total Deaths=%{x}<extra></extra>\", \"legendgroup\": \"Tajikistan\", \"marker\": {\"color\": \"#FECB52\"}, \"name\": \"Tajikistan\", \"offsetgroup\": \"Tajikistan\", \"orientation\": \"h\", \"showlegend\": true, \"textposition\": \"auto\", \"type\": \"bar\", \"x\": [125.0], \"xaxis\": \"x\", \"y\": [\"Tajikistan\"], \"yaxis\": \"y\"}, {\"alignmentgroup\": \"True\", \"hovertemplate\": \"Country=%{y}<br>Total Deaths=%{x}<extra></extra>\", \"legendgroup\": \"Sierra Leone\", \"marker\": {\"color\": \"#636efa\"}, \"name\": \"Sierra Leone\", \"offsetgroup\": \"Sierra Leone\", \"orientation\": \"h\", \"showlegend\": true, \"textposition\": \"auto\", \"type\": \"bar\", \"x\": [121.0], \"xaxis\": \"x\", \"y\": [\"Sierra Leone\"], \"yaxis\": \"y\"}, {\"alignmentgroup\": \"True\", \"hovertemplate\": \"Country=%{y}<br>Total Deaths=%{x}<extra></extra>\", \"legendgroup\": \"Timor\", \"marker\": {\"color\": \"#EF553B\"}, \"name\": \"Timor\", \"offsetgroup\": \"Timor\", \"orientation\": \"h\", \"showlegend\": true, \"textposition\": \"auto\", \"type\": \"bar\", \"x\": [117.0], \"xaxis\": \"x\", \"y\": [\"Timor\"], \"yaxis\": \"y\"}, {\"alignmentgroup\": \"True\", \"hovertemplate\": \"Country=%{y}<br>Total Deaths=%{x}<extra></extra>\", \"legendgroup\": \"Seychelles\", \"marker\": {\"color\": \"#00cc96\"}, \"name\": \"Seychelles\", \"offsetgroup\": \"Seychelles\", \"orientation\": \"h\", \"showlegend\": true, \"textposition\": \"auto\", \"type\": \"bar\", \"x\": [112.0], \"xaxis\": \"x\", \"y\": [\"Seychelles\"], \"yaxis\": \"y\"}, {\"alignmentgroup\": \"True\", \"hovertemplate\": \"Country=%{y}<br>Total Deaths=%{x}<extra></extra>\", \"legendgroup\": \"Singapore\", \"marker\": {\"color\": \"#ab63fa\"}, \"name\": \"Singapore\", \"offsetgroup\": \"Singapore\", \"orientation\": \"h\", \"showlegend\": true, \"textposition\": \"auto\", \"type\": \"bar\", \"x\": [103.0], \"xaxis\": \"x\", \"y\": [\"Singapore\"], \"yaxis\": \"y\"}, {\"alignmentgroup\": \"True\", \"hovertemplate\": \"Country=%{y}<br>Total Deaths=%{x}<extra></extra>\", \"legendgroup\": \"Central African Republic\", \"marker\": {\"color\": \"#FFA15A\"}, \"name\": \"Central African Republic\", \"offsetgroup\": \"Central African Republic\", \"orientation\": \"h\", \"showlegend\": true, \"textposition\": \"auto\", \"type\": \"bar\", \"x\": [100.0], \"xaxis\": \"x\", \"y\": [\"Central African Republic\"], \"yaxis\": \"y\"}, {\"alignmentgroup\": \"True\", \"hovertemplate\": \"Country=%{y}<br>Total Deaths=%{x}<extra></extra>\", \"legendgroup\": \"San Marino\", \"marker\": {\"color\": \"#19d3f3\"}, \"name\": \"San Marino\", \"offsetgroup\": \"San Marino\", \"orientation\": \"h\", \"showlegend\": true, \"textposition\": \"auto\", \"type\": \"bar\", \"x\": [91.0], \"xaxis\": \"x\", \"y\": [\"San Marino\"], \"yaxis\": \"y\"}, {\"alignmentgroup\": \"True\", \"hovertemplate\": \"Country=%{y}<br>Total Deaths=%{x}<extra></extra>\", \"legendgroup\": \"Mauritius\", \"marker\": {\"color\": \"#FF6692\"}, \"name\": \"Mauritius\", \"offsetgroup\": \"Mauritius\", \"orientation\": \"h\", \"showlegend\": true, \"textposition\": \"auto\", \"type\": \"bar\", \"x\": [84.0], \"xaxis\": \"x\", \"y\": [\"Mauritius\"], \"yaxis\": \"y\"}, {\"alignmentgroup\": \"True\", \"hovertemplate\": \"Country=%{y}<br>Total Deaths=%{x}<extra></extra>\", \"legendgroup\": \"Antigua and Barbuda\", \"marker\": {\"color\": \"#B6E880\"}, \"name\": \"Antigua and Barbuda\", \"offsetgroup\": \"Antigua and Barbuda\", \"orientation\": \"h\", \"showlegend\": true, \"textposition\": \"auto\", \"type\": \"bar\", \"x\": [81.0], \"xaxis\": \"x\", \"y\": [\"Antigua and Barbuda\"], \"yaxis\": \"y\"}, {\"alignmentgroup\": \"True\", \"hovertemplate\": \"Country=%{y}<br>Total Deaths=%{x}<extra></extra>\", \"legendgroup\": \"Barbados\", \"marker\": {\"color\": \"#FF97FF\"}, \"name\": \"Barbados\", \"offsetgroup\": \"Barbados\", \"orientation\": \"h\", \"showlegend\": true, \"textposition\": \"auto\", \"type\": \"bar\", \"x\": [78.0], \"xaxis\": \"x\", \"y\": [\"Barbados\"], \"yaxis\": \"y\"}, {\"alignmentgroup\": \"True\", \"hovertemplate\": \"Country=%{y}<br>Total Deaths=%{x}<extra></extra>\", \"legendgroup\": \"Liechtenstein\", \"marker\": {\"color\": \"#FECB52\"}, \"name\": \"Liechtenstein\", \"offsetgroup\": \"Liechtenstein\", \"orientation\": \"h\", \"showlegend\": true, \"textposition\": \"auto\", \"type\": \"bar\", \"x\": [60.0], \"xaxis\": \"x\", \"y\": [\"Liechtenstein\"], \"yaxis\": \"y\"}, {\"alignmentgroup\": \"True\", \"hovertemplate\": \"Country=%{y}<br>Total Deaths=%{x}<extra></extra>\", \"legendgroup\": \"Sao Tome and Principe\", \"marker\": {\"color\": \"#636efa\"}, \"name\": \"Sao Tome and Principe\", \"offsetgroup\": \"Sao Tome and Principe\", \"orientation\": \"h\", \"showlegend\": true, \"textposition\": \"auto\", \"type\": \"bar\", \"x\": [51.0], \"xaxis\": \"x\", \"y\": [\"Sao Tome and Principe\"], \"yaxis\": \"y\"}, {\"alignmentgroup\": \"True\", \"hovertemplate\": \"Country=%{y}<br>Total Deaths=%{x}<extra></extra>\", \"legendgroup\": \"Brunei\", \"marker\": {\"color\": \"#EF553B\"}, \"name\": \"Brunei\", \"offsetgroup\": \"Brunei\", \"orientation\": \"h\", \"showlegend\": true, \"textposition\": \"auto\", \"type\": \"bar\", \"x\": [43.0], \"xaxis\": \"x\", \"y\": [\"Brunei\"], \"yaxis\": \"y\"}, {\"alignmentgroup\": \"True\", \"hovertemplate\": \"Country=%{y}<br>Total Deaths=%{x}<extra></extra>\", \"legendgroup\": \"Eritrea\", \"marker\": {\"color\": \"#00cc96\"}, \"name\": \"Eritrea\", \"offsetgroup\": \"Eritrea\", \"orientation\": \"h\", \"showlegend\": true, \"textposition\": \"auto\", \"type\": \"bar\", \"x\": [42.0], \"xaxis\": \"x\", \"y\": [\"Eritrea\"], \"yaxis\": \"y\"}, {\"alignmentgroup\": \"True\", \"hovertemplate\": \"Country=%{y}<br>Total Deaths=%{x}<extra></extra>\", \"legendgroup\": \"Burundi\", \"marker\": {\"color\": \"#ab63fa\"}, \"name\": \"Burundi\", \"offsetgroup\": \"Burundi\", \"orientation\": \"h\", \"showlegend\": true, \"textposition\": \"auto\", \"type\": \"bar\", \"x\": [38.0], \"xaxis\": \"x\", \"y\": [\"Burundi\"], \"yaxis\": \"y\"}, {\"alignmentgroup\": \"True\", \"hovertemplate\": \"Country=%{y}<br>Total Deaths=%{x}<extra></extra>\", \"legendgroup\": \"Iceland\", \"marker\": {\"color\": \"#FFA15A\"}, \"name\": \"Iceland\", \"offsetgroup\": \"Iceland\", \"orientation\": \"h\", \"showlegend\": true, \"textposition\": \"auto\", \"type\": \"bar\", \"x\": [33.0], \"xaxis\": \"x\", \"y\": [\"Iceland\"], \"yaxis\": \"y\"}, {\"alignmentgroup\": \"True\", \"hovertemplate\": \"Country=%{y}<br>Total Deaths=%{x}<extra></extra>\", \"legendgroup\": \"Monaco\", \"marker\": {\"color\": \"#19d3f3\"}, \"name\": \"Monaco\", \"offsetgroup\": \"Monaco\", \"orientation\": \"h\", \"showlegend\": true, \"textposition\": \"auto\", \"type\": \"bar\", \"x\": [33.0], \"xaxis\": \"x\", \"y\": [\"Monaco\"], \"yaxis\": \"y\"}, {\"alignmentgroup\": \"True\", \"hovertemplate\": \"Country=%{y}<br>Total Deaths=%{x}<extra></extra>\", \"legendgroup\": \"New Zealand\", \"marker\": {\"color\": \"#FF6692\"}, \"name\": \"New Zealand\", \"offsetgroup\": \"New Zealand\", \"orientation\": \"h\", \"showlegend\": true, \"textposition\": \"auto\", \"type\": \"bar\", \"x\": [27.0], \"xaxis\": \"x\", \"y\": [\"New Zealand\"], \"yaxis\": \"y\"}, {\"alignmentgroup\": \"True\", \"hovertemplate\": \"Country=%{y}<br>Total Deaths=%{x}<extra></extra>\", \"legendgroup\": \"Saint Vincent and the Grenadines\", \"marker\": {\"color\": \"#B6E880\"}, \"name\": \"Saint Vincent and the Grenadines\", \"offsetgroup\": \"Saint Vincent and the Grenadines\", \"orientation\": \"h\", \"showlegend\": true, \"textposition\": \"auto\", \"type\": \"bar\", \"x\": [26.0], \"xaxis\": \"x\", \"y\": [\"Saint Vincent and the Grenadines\"], \"yaxis\": \"y\"}, {\"alignmentgroup\": \"True\", \"hovertemplate\": \"Country=%{y}<br>Total Deaths=%{x}<extra></extra>\", \"legendgroup\": \"Dominica\", \"marker\": {\"color\": \"#FF97FF\"}, \"name\": \"Dominica\", \"offsetgroup\": \"Dominica\", \"orientation\": \"h\", \"showlegend\": true, \"textposition\": \"auto\", \"type\": \"bar\", \"x\": [21.0], \"xaxis\": \"x\", \"y\": [\"Dominica\"], \"yaxis\": \"y\"}, {\"alignmentgroup\": \"True\", \"hovertemplate\": \"Country=%{y}<br>Total Deaths=%{x}<extra></extra>\", \"legendgroup\": \"Laos\", \"marker\": {\"color\": \"#FECB52\"}, \"name\": \"Laos\", \"offsetgroup\": \"Laos\", \"orientation\": \"h\", \"showlegend\": true, \"textposition\": \"auto\", \"type\": \"bar\", \"x\": [20.0], \"xaxis\": \"x\", \"y\": [\"Laos\"], \"yaxis\": \"y\"}, {\"alignmentgroup\": \"True\", \"hovertemplate\": \"Country=%{y}<br>Total Deaths=%{x}<extra></extra>\", \"legendgroup\": \"International\", \"marker\": {\"color\": \"#636efa\"}, \"name\": \"International\", \"offsetgroup\": \"International\", \"orientation\": \"h\", \"showlegend\": true, \"textposition\": \"auto\", \"type\": \"bar\", \"x\": [15.0], \"xaxis\": \"x\", \"y\": [\"International\"], \"yaxis\": \"y\"}, {\"alignmentgroup\": \"True\", \"hovertemplate\": \"Country=%{y}<br>Total Deaths=%{x}<extra></extra>\", \"legendgroup\": \"Saint Kitts and Nevis\", \"marker\": {\"color\": \"#EF553B\"}, \"name\": \"Saint Kitts and Nevis\", \"offsetgroup\": \"Saint Kitts and Nevis\", \"orientation\": \"h\", \"showlegend\": true, \"textposition\": \"auto\", \"type\": \"bar\", \"x\": [13.0], \"xaxis\": \"x\", \"y\": [\"Saint Kitts and Nevis\"], \"yaxis\": \"y\"}, {\"alignmentgroup\": \"True\", \"hovertemplate\": \"Country=%{y}<br>Total Deaths=%{x}<extra></extra>\", \"legendgroup\": \"Bhutan\", \"marker\": {\"color\": \"#00cc96\"}, \"name\": \"Bhutan\", \"offsetgroup\": \"Bhutan\", \"orientation\": \"h\", \"showlegend\": true, \"textposition\": \"auto\", \"type\": \"bar\", \"x\": [3.0], \"xaxis\": \"x\", \"y\": [\"Bhutan\"], \"yaxis\": \"y\"}, {\"alignmentgroup\": \"True\", \"hovertemplate\": \"Country=%{y}<br>Total Deaths=%{x}<extra></extra>\", \"legendgroup\": \"Vanuatu\", \"marker\": {\"color\": \"#ab63fa\"}, \"name\": \"Vanuatu\", \"offsetgroup\": \"Vanuatu\", \"orientation\": \"h\", \"showlegend\": true, \"textposition\": \"auto\", \"type\": \"bar\", \"x\": [1.0], \"xaxis\": \"x\", \"y\": [\"Vanuatu\"], \"yaxis\": \"y\"}, {\"alignmentgroup\": \"True\", \"hovertemplate\": \"Country=%{y}<br>Total Deaths=%{x}<extra></extra>\", \"legendgroup\": \"French Polynesia\", \"marker\": {\"color\": \"#FFA15A\"}, \"name\": \"French Polynesia\", \"offsetgroup\": \"French Polynesia\", \"orientation\": \"h\", \"showlegend\": true, \"textposition\": \"auto\", \"type\": \"bar\", \"x\": [0.0], \"xaxis\": \"x\", \"y\": [\"French Polynesia\"], \"yaxis\": \"y\"}, {\"alignmentgroup\": \"True\", \"hovertemplate\": \"Country=%{y}<br>Total Deaths=%{x}<extra></extra>\", \"legendgroup\": \"Turks and Caicos Islands\", \"marker\": {\"color\": \"#19d3f3\"}, \"name\": \"Turks and Caicos Islands\", \"offsetgroup\": \"Turks and Caicos Islands\", \"orientation\": \"h\", \"showlegend\": true, \"textposition\": \"auto\", \"type\": \"bar\", \"x\": [0.0], \"xaxis\": \"x\", \"y\": [\"Turks and Caicos Islands\"], \"yaxis\": \"y\"}, {\"alignmentgroup\": \"True\", \"hovertemplate\": \"Country=%{y}<br>Total Deaths=%{x}<extra></extra>\", \"legendgroup\": \"Tuvalu\", \"marker\": {\"color\": \"#FF6692\"}, \"name\": \"Tuvalu\", \"offsetgroup\": \"Tuvalu\", \"orientation\": \"h\", \"showlegend\": true, \"textposition\": \"auto\", \"type\": \"bar\", \"x\": [0.0], \"xaxis\": \"x\", \"y\": [\"Tuvalu\"], \"yaxis\": \"y\"}, {\"alignmentgroup\": \"True\", \"hovertemplate\": \"Country=%{y}<br>Total Deaths=%{x}<extra></extra>\", \"legendgroup\": \"Guernsey\", \"marker\": {\"color\": \"#B6E880\"}, \"name\": \"Guernsey\", \"offsetgroup\": \"Guernsey\", \"orientation\": \"h\", \"showlegend\": true, \"textposition\": \"auto\", \"type\": \"bar\", \"x\": [0.0], \"xaxis\": \"x\", \"y\": [\"Guernsey\"], \"yaxis\": \"y\"}, {\"alignmentgroup\": \"True\", \"hovertemplate\": \"Country=%{y}<br>Total Deaths=%{x}<extra></extra>\", \"legendgroup\": \"Montserrat\", \"marker\": {\"color\": \"#FF97FF\"}, \"name\": \"Montserrat\", \"offsetgroup\": \"Montserrat\", \"orientation\": \"h\", \"showlegend\": true, \"textposition\": \"auto\", \"type\": \"bar\", \"x\": [0.0], \"xaxis\": \"x\", \"y\": [\"Montserrat\"], \"yaxis\": \"y\"}, {\"alignmentgroup\": \"True\", \"hovertemplate\": \"Country=%{y}<br>Total Deaths=%{x}<extra></extra>\", \"legendgroup\": \"Micronesia (country)\", \"marker\": {\"color\": \"#FECB52\"}, \"name\": \"Micronesia (country)\", \"offsetgroup\": \"Micronesia (country)\", \"orientation\": \"h\", \"showlegend\": true, \"textposition\": \"auto\", \"type\": \"bar\", \"x\": [0.0], \"xaxis\": \"x\", \"y\": [\"Micronesia (country)\"], \"yaxis\": \"y\"}, {\"alignmentgroup\": \"True\", \"hovertemplate\": \"Country=%{y}<br>Total Deaths=%{x}<extra></extra>\", \"legendgroup\": \"Marshall Islands\", \"marker\": {\"color\": \"#636efa\"}, \"name\": \"Marshall Islands\", \"offsetgroup\": \"Marshall Islands\", \"orientation\": \"h\", \"showlegend\": true, \"textposition\": \"auto\", \"type\": \"bar\", \"x\": [0.0], \"xaxis\": \"x\", \"y\": [\"Marshall Islands\"], \"yaxis\": \"y\"}, {\"alignmentgroup\": \"True\", \"hovertemplate\": \"Country=%{y}<br>Total Deaths=%{x}<extra></extra>\", \"legendgroup\": \"Macao\", \"marker\": {\"color\": \"#EF553B\"}, \"name\": \"Macao\", \"offsetgroup\": \"Macao\", \"orientation\": \"h\", \"showlegend\": true, \"textposition\": \"auto\", \"type\": \"bar\", \"x\": [0.0], \"xaxis\": \"x\", \"y\": [\"Macao\"], \"yaxis\": \"y\"}, {\"alignmentgroup\": \"True\", \"hovertemplate\": \"Country=%{y}<br>Total Deaths=%{x}<extra></extra>\", \"legendgroup\": \"Solomon Islands\", \"marker\": {\"color\": \"#00cc96\"}, \"name\": \"Solomon Islands\", \"offsetgroup\": \"Solomon Islands\", \"orientation\": \"h\", \"showlegend\": true, \"textposition\": \"auto\", \"type\": \"bar\", \"x\": [0.0], \"xaxis\": \"x\", \"y\": [\"Solomon Islands\"], \"yaxis\": \"y\"}, {\"alignmentgroup\": \"True\", \"hovertemplate\": \"Country=%{y}<br>Total Deaths=%{x}<extra></extra>\", \"legendgroup\": \"Kiribati\", \"marker\": {\"color\": \"#ab63fa\"}, \"name\": \"Kiribati\", \"offsetgroup\": \"Kiribati\", \"orientation\": \"h\", \"showlegend\": true, \"textposition\": \"auto\", \"type\": \"bar\", \"x\": [0.0], \"xaxis\": \"x\", \"y\": [\"Kiribati\"], \"yaxis\": \"y\"}, {\"alignmentgroup\": \"True\", \"hovertemplate\": \"Country=%{y}<br>Total Deaths=%{x}<extra></extra>\", \"legendgroup\": \"Anguilla\", \"marker\": {\"color\": \"#FFA15A\"}, \"name\": \"Anguilla\", \"offsetgroup\": \"Anguilla\", \"orientation\": \"h\", \"showlegend\": true, \"textposition\": \"auto\", \"type\": \"bar\", \"x\": [0.0], \"xaxis\": \"x\", \"y\": [\"Anguilla\"], \"yaxis\": \"y\"}, {\"alignmentgroup\": \"True\", \"hovertemplate\": \"Country=%{y}<br>Total Deaths=%{x}<extra></extra>\", \"legendgroup\": \"Vatican\", \"marker\": {\"color\": \"#19d3f3\"}, \"name\": \"Vatican\", \"offsetgroup\": \"Vatican\", \"orientation\": \"h\", \"showlegend\": true, \"textposition\": \"auto\", \"type\": \"bar\", \"x\": [0.0], \"xaxis\": \"x\", \"y\": [\"Vatican\"], \"yaxis\": \"y\"}, {\"alignmentgroup\": \"True\", \"hovertemplate\": \"Country=%{y}<br>Total Deaths=%{x}<extra></extra>\", \"legendgroup\": \"Cook Islands\", \"marker\": {\"color\": \"#FF6692\"}, \"name\": \"Cook Islands\", \"offsetgroup\": \"Cook Islands\", \"orientation\": \"h\", \"showlegend\": true, \"textposition\": \"auto\", \"type\": \"bar\", \"x\": [0.0], \"xaxis\": \"x\", \"y\": [\"Cook Islands\"], \"yaxis\": \"y\"}, {\"alignmentgroup\": \"True\", \"hovertemplate\": \"Country=%{y}<br>Total Deaths=%{x}<extra></extra>\", \"legendgroup\": \"Jersey\", \"marker\": {\"color\": \"#B6E880\"}, \"name\": \"Jersey\", \"offsetgroup\": \"Jersey\", \"orientation\": \"h\", \"showlegend\": true, \"textposition\": \"auto\", \"type\": \"bar\", \"x\": [0.0], \"xaxis\": \"x\", \"y\": [\"Jersey\"], \"yaxis\": \"y\"}, {\"alignmentgroup\": \"True\", \"hovertemplate\": \"Country=%{y}<br>Total Deaths=%{x}<extra></extra>\", \"legendgroup\": \"Wallis and Futuna\", \"marker\": {\"color\": \"#FF97FF\"}, \"name\": \"Wallis and Futuna\", \"offsetgroup\": \"Wallis and Futuna\", \"orientation\": \"h\", \"showlegend\": true, \"textposition\": \"auto\", \"type\": \"bar\", \"x\": [0.0], \"xaxis\": \"x\", \"y\": [\"Wallis and Futuna\"], \"yaxis\": \"y\"}, {\"alignmentgroup\": \"True\", \"hovertemplate\": \"Country=%{y}<br>Total Deaths=%{x}<extra></extra>\", \"legendgroup\": \"Curacao\", \"marker\": {\"color\": \"#FECB52\"}, \"name\": \"Curacao\", \"offsetgroup\": \"Curacao\", \"orientation\": \"h\", \"showlegend\": true, \"textposition\": \"auto\", \"type\": \"bar\", \"x\": [0.0], \"xaxis\": \"x\", \"y\": [\"Curacao\"], \"yaxis\": \"y\"}, {\"alignmentgroup\": \"True\", \"hovertemplate\": \"Country=%{y}<br>Total Deaths=%{x}<extra></extra>\", \"legendgroup\": \"Isle of Man\", \"marker\": {\"color\": \"#636efa\"}, \"name\": \"Isle of Man\", \"offsetgroup\": \"Isle of Man\", \"orientation\": \"h\", \"showlegend\": true, \"textposition\": \"auto\", \"type\": \"bar\", \"x\": [0.0], \"xaxis\": \"x\", \"y\": [\"Isle of Man\"], \"yaxis\": \"y\"}, {\"alignmentgroup\": \"True\", \"hovertemplate\": \"Country=%{y}<br>Total Deaths=%{x}<extra></extra>\", \"legendgroup\": \"Turkmenistan\", \"marker\": {\"color\": \"#EF553B\"}, \"name\": \"Turkmenistan\", \"offsetgroup\": \"Turkmenistan\", \"orientation\": \"h\", \"showlegend\": true, \"textposition\": \"auto\", \"type\": \"bar\", \"x\": [0.0], \"xaxis\": \"x\", \"y\": [\"Turkmenistan\"], \"yaxis\": \"y\"}, {\"alignmentgroup\": \"True\", \"hovertemplate\": \"Country=%{y}<br>Total Deaths=%{x}<extra></extra>\", \"legendgroup\": \"Cayman Islands\", \"marker\": {\"color\": \"#00cc96\"}, \"name\": \"Cayman Islands\", \"offsetgroup\": \"Cayman Islands\", \"orientation\": \"h\", \"showlegend\": true, \"textposition\": \"auto\", \"type\": \"bar\", \"x\": [0.0], \"xaxis\": \"x\", \"y\": [\"Cayman Islands\"], \"yaxis\": \"y\"}, {\"alignmentgroup\": \"True\", \"hovertemplate\": \"Country=%{y}<br>Total Deaths=%{x}<extra></extra>\", \"legendgroup\": \"Nauru\", \"marker\": {\"color\": \"#ab63fa\"}, \"name\": \"Nauru\", \"offsetgroup\": \"Nauru\", \"orientation\": \"h\", \"showlegend\": true, \"textposition\": \"auto\", \"type\": \"bar\", \"x\": [0.0], \"xaxis\": \"x\", \"y\": [\"Nauru\"], \"yaxis\": \"y\"}, {\"alignmentgroup\": \"True\", \"hovertemplate\": \"Country=%{y}<br>Total Deaths=%{x}<extra></extra>\", \"legendgroup\": \"British Virgin Islands\", \"marker\": {\"color\": \"#FFA15A\"}, \"name\": \"British Virgin Islands\", \"offsetgroup\": \"British Virgin Islands\", \"orientation\": \"h\", \"showlegend\": true, \"textposition\": \"auto\", \"type\": \"bar\", \"x\": [0.0], \"xaxis\": \"x\", \"y\": [\"British Virgin Islands\"], \"yaxis\": \"y\"}, {\"alignmentgroup\": \"True\", \"hovertemplate\": \"Country=%{y}<br>Total Deaths=%{x}<extra></extra>\", \"legendgroup\": \"Sint Maarten (Dutch part)\", \"marker\": {\"color\": \"#19d3f3\"}, \"name\": \"Sint Maarten (Dutch part)\", \"offsetgroup\": \"Sint Maarten (Dutch part)\", \"orientation\": \"h\", \"showlegend\": true, \"textposition\": \"auto\", \"type\": \"bar\", \"x\": [0.0], \"xaxis\": \"x\", \"y\": [\"Sint Maarten (Dutch part)\"], \"yaxis\": \"y\"}, {\"alignmentgroup\": \"True\", \"hovertemplate\": \"Country=%{y}<br>Total Deaths=%{x}<extra></extra>\", \"legendgroup\": \"Samoa\", \"marker\": {\"color\": \"#FF6692\"}, \"name\": \"Samoa\", \"offsetgroup\": \"Samoa\", \"orientation\": \"h\", \"showlegend\": true, \"textposition\": \"auto\", \"type\": \"bar\", \"x\": [0.0], \"xaxis\": \"x\", \"y\": [\"Samoa\"], \"yaxis\": \"y\"}, {\"alignmentgroup\": \"True\", \"hovertemplate\": \"Country=%{y}<br>Total Deaths=%{x}<extra></extra>\", \"legendgroup\": \"Saint Helena\", \"marker\": {\"color\": \"#B6E880\"}, \"name\": \"Saint Helena\", \"offsetgroup\": \"Saint Helena\", \"orientation\": \"h\", \"showlegend\": true, \"textposition\": \"auto\", \"type\": \"bar\", \"x\": [0.0], \"xaxis\": \"x\", \"y\": [\"Saint Helena\"], \"yaxis\": \"y\"}, {\"alignmentgroup\": \"True\", \"hovertemplate\": \"Country=%{y}<br>Total Deaths=%{x}<extra></extra>\", \"legendgroup\": \"Bermuda\", \"marker\": {\"color\": \"#FF97FF\"}, \"name\": \"Bermuda\", \"offsetgroup\": \"Bermuda\", \"orientation\": \"h\", \"showlegend\": true, \"textposition\": \"auto\", \"type\": \"bar\", \"x\": [0.0], \"xaxis\": \"x\", \"y\": [\"Bermuda\"], \"yaxis\": \"y\"}, {\"alignmentgroup\": \"True\", \"hovertemplate\": \"Country=%{y}<br>Total Deaths=%{x}<extra></extra>\", \"legendgroup\": \"Bonaire Sint Eustatius and Saba\", \"marker\": {\"color\": \"#FECB52\"}, \"name\": \"Bonaire Sint Eustatius and Saba\", \"offsetgroup\": \"Bonaire Sint Eustatius and Saba\", \"orientation\": \"h\", \"showlegend\": true, \"textposition\": \"auto\", \"type\": \"bar\", \"x\": [0.0], \"xaxis\": \"x\", \"y\": [\"Bonaire Sint Eustatius and Saba\"], \"yaxis\": \"y\"}, {\"alignmentgroup\": \"True\", \"hovertemplate\": \"Country=%{y}<br>Total Deaths=%{x}<extra></extra>\", \"legendgroup\": \"Pitcairn\", \"marker\": {\"color\": \"#636efa\"}, \"name\": \"Pitcairn\", \"offsetgroup\": \"Pitcairn\", \"orientation\": \"h\", \"showlegend\": true, \"textposition\": \"auto\", \"type\": \"bar\", \"x\": [0.0], \"xaxis\": \"x\", \"y\": [\"Pitcairn\"], \"yaxis\": \"y\"}, {\"alignmentgroup\": \"True\", \"hovertemplate\": \"Country=%{y}<br>Total Deaths=%{x}<extra></extra>\", \"legendgroup\": \"Aruba\", \"marker\": {\"color\": \"#EF553B\"}, \"name\": \"Aruba\", \"offsetgroup\": \"Aruba\", \"orientation\": \"h\", \"showlegend\": true, \"textposition\": \"auto\", \"type\": \"bar\", \"x\": [0.0], \"xaxis\": \"x\", \"y\": [\"Aruba\"], \"yaxis\": \"y\"}, {\"alignmentgroup\": \"True\", \"hovertemplate\": \"Country=%{y}<br>Total Deaths=%{x}<extra></extra>\", \"legendgroup\": \"Greenland\", \"marker\": {\"color\": \"#00cc96\"}, \"name\": \"Greenland\", \"offsetgroup\": \"Greenland\", \"orientation\": \"h\", \"showlegend\": true, \"textposition\": \"auto\", \"type\": \"bar\", \"x\": [0.0], \"xaxis\": \"x\", \"y\": [\"Greenland\"], \"yaxis\": \"y\"}, {\"alignmentgroup\": \"True\", \"hovertemplate\": \"Country=%{y}<br>Total Deaths=%{x}<extra></extra>\", \"legendgroup\": \"Gibraltar\", \"marker\": {\"color\": \"#ab63fa\"}, \"name\": \"Gibraltar\", \"offsetgroup\": \"Gibraltar\", \"orientation\": \"h\", \"showlegend\": true, \"textposition\": \"auto\", \"type\": \"bar\", \"x\": [0.0], \"xaxis\": \"x\", \"y\": [\"Gibraltar\"], \"yaxis\": \"y\"}, {\"alignmentgroup\": \"True\", \"hovertemplate\": \"Country=%{y}<br>Total Deaths=%{x}<extra></extra>\", \"legendgroup\": \"Palau\", \"marker\": {\"color\": \"#FFA15A\"}, \"name\": \"Palau\", \"offsetgroup\": \"Palau\", \"orientation\": \"h\", \"showlegend\": true, \"textposition\": \"auto\", \"type\": \"bar\", \"x\": [0.0], \"xaxis\": \"x\", \"y\": [\"Palau\"], \"yaxis\": \"y\"}, {\"alignmentgroup\": \"True\", \"hovertemplate\": \"Country=%{y}<br>Total Deaths=%{x}<extra></extra>\", \"legendgroup\": \"Northern Cyprus\", \"marker\": {\"color\": \"#19d3f3\"}, \"name\": \"Northern Cyprus\", \"offsetgroup\": \"Northern Cyprus\", \"orientation\": \"h\", \"showlegend\": true, \"textposition\": \"auto\", \"type\": \"bar\", \"x\": [0.0], \"xaxis\": \"x\", \"y\": [\"Northern Cyprus\"], \"yaxis\": \"y\"}, {\"alignmentgroup\": \"True\", \"hovertemplate\": \"Country=%{y}<br>Total Deaths=%{x}<extra></extra>\", \"legendgroup\": \"Niue\", \"marker\": {\"color\": \"#FF6692\"}, \"name\": \"Niue\", \"offsetgroup\": \"Niue\", \"orientation\": \"h\", \"showlegend\": true, \"textposition\": \"auto\", \"type\": \"bar\", \"x\": [0.0], \"xaxis\": \"x\", \"y\": [\"Niue\"], \"yaxis\": \"y\"}, {\"alignmentgroup\": \"True\", \"hovertemplate\": \"Country=%{y}<br>Total Deaths=%{x}<extra></extra>\", \"legendgroup\": \"Falkland Islands\", \"marker\": {\"color\": \"#B6E880\"}, \"name\": \"Falkland Islands\", \"offsetgroup\": \"Falkland Islands\", \"orientation\": \"h\", \"showlegend\": true, \"textposition\": \"auto\", \"type\": \"bar\", \"x\": [0.0], \"xaxis\": \"x\", \"y\": [\"Falkland Islands\"], \"yaxis\": \"y\"}, {\"alignmentgroup\": \"True\", \"hovertemplate\": \"Country=%{y}<br>Total Deaths=%{x}<extra></extra>\", \"legendgroup\": \"New Caledonia\", \"marker\": {\"color\": \"#FF97FF\"}, \"name\": \"New Caledonia\", \"offsetgroup\": \"New Caledonia\", \"orientation\": \"h\", \"showlegend\": true, \"textposition\": \"auto\", \"type\": \"bar\", \"x\": [0.0], \"xaxis\": \"x\", \"y\": [\"New Caledonia\"], \"yaxis\": \"y\"}, {\"alignmentgroup\": \"True\", \"hovertemplate\": \"Country=%{y}<br>Total Deaths=%{x}<extra></extra>\", \"legendgroup\": \"Tokelau\", \"marker\": {\"color\": \"#FECB52\"}, \"name\": \"Tokelau\", \"offsetgroup\": \"Tokelau\", \"orientation\": \"h\", \"showlegend\": true, \"textposition\": \"auto\", \"type\": \"bar\", \"x\": [0.0], \"xaxis\": \"x\", \"y\": [\"Tokelau\"], \"yaxis\": \"y\"}, {\"alignmentgroup\": \"True\", \"hovertemplate\": \"Country=%{y}<br>Total Deaths=%{x}<extra></extra>\", \"legendgroup\": \"Tonga\", \"marker\": {\"color\": \"#636efa\"}, \"name\": \"Tonga\", \"offsetgroup\": \"Tonga\", \"orientation\": \"h\", \"showlegend\": true, \"textposition\": \"auto\", \"type\": \"bar\", \"x\": [0.0], \"xaxis\": \"x\", \"y\": [\"Tonga\"], \"yaxis\": \"y\"}, {\"alignmentgroup\": \"True\", \"hovertemplate\": \"Country=%{y}<br>Total Deaths=%{x}<extra></extra>\", \"legendgroup\": \"Faeroe Islands\", \"marker\": {\"color\": \"#EF553B\"}, \"name\": \"Faeroe Islands\", \"offsetgroup\": \"Faeroe Islands\", \"orientation\": \"h\", \"showlegend\": true, \"textposition\": \"auto\", \"type\": \"bar\", \"x\": [0.0], \"xaxis\": \"x\", \"y\": [\"Faeroe Islands\"], \"yaxis\": \"y\"}],                        {\"barmode\": \"relative\", \"legend\": {\"title\": {\"text\": \"Country\"}, \"tracegroupgap\": 0}, \"template\": {\"data\": {\"bar\": [{\"error_x\": {\"color\": \"#2a3f5f\"}, \"error_y\": {\"color\": \"#2a3f5f\"}, \"marker\": {\"line\": {\"color\": \"#E5ECF6\", \"width\": 0.5}}, \"type\": \"bar\"}], \"barpolar\": [{\"marker\": {\"line\": {\"color\": \"#E5ECF6\", \"width\": 0.5}}, \"type\": \"barpolar\"}], \"carpet\": [{\"aaxis\": {\"endlinecolor\": \"#2a3f5f\", \"gridcolor\": \"white\", \"linecolor\": \"white\", \"minorgridcolor\": \"white\", \"startlinecolor\": \"#2a3f5f\"}, \"baxis\": {\"endlinecolor\": \"#2a3f5f\", \"gridcolor\": \"white\", \"linecolor\": \"white\", \"minorgridcolor\": \"white\", \"startlinecolor\": \"#2a3f5f\"}, \"type\": \"carpet\"}], \"choropleth\": [{\"colorbar\": {\"outlinewidth\": 0, \"ticks\": \"\"}, \"type\": \"choropleth\"}], \"contour\": [{\"colorbar\": {\"outlinewidth\": 0, \"ticks\": \"\"}, \"colorscale\": [[0.0, \"#0d0887\"], [0.1111111111111111, \"#46039f\"], [0.2222222222222222, \"#7201a8\"], [0.3333333333333333, \"#9c179e\"], [0.4444444444444444, \"#bd3786\"], [0.5555555555555556, \"#d8576b\"], [0.6666666666666666, \"#ed7953\"], [0.7777777777777778, \"#fb9f3a\"], [0.8888888888888888, \"#fdca26\"], [1.0, \"#f0f921\"]], \"type\": \"contour\"}], \"contourcarpet\": [{\"colorbar\": {\"outlinewidth\": 0, \"ticks\": \"\"}, \"type\": \"contourcarpet\"}], \"heatmap\": [{\"colorbar\": {\"outlinewidth\": 0, \"ticks\": \"\"}, \"colorscale\": [[0.0, \"#0d0887\"], [0.1111111111111111, \"#46039f\"], [0.2222222222222222, \"#7201a8\"], [0.3333333333333333, \"#9c179e\"], [0.4444444444444444, \"#bd3786\"], [0.5555555555555556, \"#d8576b\"], [0.6666666666666666, \"#ed7953\"], [0.7777777777777778, \"#fb9f3a\"], [0.8888888888888888, \"#fdca26\"], [1.0, \"#f0f921\"]], \"type\": \"heatmap\"}], \"heatmapgl\": [{\"colorbar\": {\"outlinewidth\": 0, \"ticks\": \"\"}, \"colorscale\": [[0.0, \"#0d0887\"], [0.1111111111111111, \"#46039f\"], [0.2222222222222222, \"#7201a8\"], [0.3333333333333333, \"#9c179e\"], [0.4444444444444444, \"#bd3786\"], [0.5555555555555556, \"#d8576b\"], [0.6666666666666666, \"#ed7953\"], [0.7777777777777778, \"#fb9f3a\"], [0.8888888888888888, \"#fdca26\"], [1.0, \"#f0f921\"]], \"type\": \"heatmapgl\"}], \"histogram\": [{\"marker\": {\"colorbar\": {\"outlinewidth\": 0, \"ticks\": \"\"}}, \"type\": \"histogram\"}], \"histogram2d\": [{\"colorbar\": {\"outlinewidth\": 0, \"ticks\": \"\"}, \"colorscale\": [[0.0, \"#0d0887\"], [0.1111111111111111, \"#46039f\"], [0.2222222222222222, \"#7201a8\"], [0.3333333333333333, \"#9c179e\"], [0.4444444444444444, \"#bd3786\"], [0.5555555555555556, \"#d8576b\"], [0.6666666666666666, \"#ed7953\"], [0.7777777777777778, \"#fb9f3a\"], [0.8888888888888888, \"#fdca26\"], [1.0, \"#f0f921\"]], \"type\": \"histogram2d\"}], \"histogram2dcontour\": [{\"colorbar\": {\"outlinewidth\": 0, \"ticks\": \"\"}, \"colorscale\": [[0.0, \"#0d0887\"], [0.1111111111111111, \"#46039f\"], [0.2222222222222222, \"#7201a8\"], [0.3333333333333333, \"#9c179e\"], [0.4444444444444444, \"#bd3786\"], [0.5555555555555556, \"#d8576b\"], [0.6666666666666666, \"#ed7953\"], [0.7777777777777778, \"#fb9f3a\"], [0.8888888888888888, \"#fdca26\"], [1.0, \"#f0f921\"]], \"type\": \"histogram2dcontour\"}], \"mesh3d\": [{\"colorbar\": {\"outlinewidth\": 0, \"ticks\": \"\"}, \"type\": \"mesh3d\"}], \"parcoords\": [{\"line\": {\"colorbar\": {\"outlinewidth\": 0, \"ticks\": \"\"}}, \"type\": \"parcoords\"}], \"pie\": [{\"automargin\": true, \"type\": \"pie\"}], \"scatter\": [{\"marker\": {\"colorbar\": {\"outlinewidth\": 0, \"ticks\": \"\"}}, \"type\": \"scatter\"}], \"scatter3d\": [{\"line\": {\"colorbar\": {\"outlinewidth\": 0, \"ticks\": \"\"}}, \"marker\": {\"colorbar\": {\"outlinewidth\": 0, \"ticks\": \"\"}}, \"type\": \"scatter3d\"}], \"scattercarpet\": [{\"marker\": {\"colorbar\": {\"outlinewidth\": 0, \"ticks\": \"\"}}, \"type\": \"scattercarpet\"}], \"scattergeo\": [{\"marker\": {\"colorbar\": {\"outlinewidth\": 0, \"ticks\": \"\"}}, \"type\": \"scattergeo\"}], \"scattergl\": [{\"marker\": {\"colorbar\": {\"outlinewidth\": 0, \"ticks\": \"\"}}, \"type\": \"scattergl\"}], \"scattermapbox\": [{\"marker\": {\"colorbar\": {\"outlinewidth\": 0, \"ticks\": \"\"}}, \"type\": \"scattermapbox\"}], \"scatterpolar\": [{\"marker\": {\"colorbar\": {\"outlinewidth\": 0, \"ticks\": \"\"}}, \"type\": \"scatterpolar\"}], \"scatterpolargl\": [{\"marker\": {\"colorbar\": {\"outlinewidth\": 0, \"ticks\": \"\"}}, \"type\": \"scatterpolargl\"}], \"scatterternary\": [{\"marker\": {\"colorbar\": {\"outlinewidth\": 0, \"ticks\": \"\"}}, \"type\": \"scatterternary\"}], \"surface\": [{\"colorbar\": {\"outlinewidth\": 0, \"ticks\": \"\"}, \"colorscale\": [[0.0, \"#0d0887\"], [0.1111111111111111, \"#46039f\"], [0.2222222222222222, \"#7201a8\"], [0.3333333333333333, \"#9c179e\"], [0.4444444444444444, \"#bd3786\"], [0.5555555555555556, \"#d8576b\"], [0.6666666666666666, \"#ed7953\"], [0.7777777777777778, \"#fb9f3a\"], [0.8888888888888888, \"#fdca26\"], [1.0, \"#f0f921\"]], \"type\": \"surface\"}], \"table\": [{\"cells\": {\"fill\": {\"color\": \"#EBF0F8\"}, \"line\": {\"color\": \"white\"}}, \"header\": {\"fill\": {\"color\": \"#C8D4E3\"}, \"line\": {\"color\": \"white\"}}, \"type\": \"table\"}]}, \"layout\": {\"annotationdefaults\": {\"arrowcolor\": \"#2a3f5f\", \"arrowhead\": 0, \"arrowwidth\": 1}, \"autotypenumbers\": \"strict\", \"coloraxis\": {\"colorbar\": {\"outlinewidth\": 0, \"ticks\": \"\"}}, \"colorscale\": {\"diverging\": [[0, \"#8e0152\"], [0.1, \"#c51b7d\"], [0.2, \"#de77ae\"], [0.3, \"#f1b6da\"], [0.4, \"#fde0ef\"], [0.5, \"#f7f7f7\"], [0.6, \"#e6f5d0\"], [0.7, \"#b8e186\"], [0.8, \"#7fbc41\"], [0.9, \"#4d9221\"], [1, \"#276419\"]], \"sequential\": [[0.0, \"#0d0887\"], [0.1111111111111111, \"#46039f\"], [0.2222222222222222, \"#7201a8\"], [0.3333333333333333, \"#9c179e\"], [0.4444444444444444, \"#bd3786\"], [0.5555555555555556, \"#d8576b\"], [0.6666666666666666, \"#ed7953\"], [0.7777777777777778, \"#fb9f3a\"], [0.8888888888888888, \"#fdca26\"], [1.0, \"#f0f921\"]], \"sequentialminus\": [[0.0, \"#0d0887\"], [0.1111111111111111, \"#46039f\"], [0.2222222222222222, \"#7201a8\"], [0.3333333333333333, \"#9c179e\"], [0.4444444444444444, \"#bd3786\"], [0.5555555555555556, \"#d8576b\"], [0.6666666666666666, \"#ed7953\"], [0.7777777777777778, \"#fb9f3a\"], [0.8888888888888888, \"#fdca26\"], [1.0, \"#f0f921\"]]}, \"colorway\": [\"#636efa\", \"#EF553B\", \"#00cc96\", \"#ab63fa\", \"#FFA15A\", \"#19d3f3\", \"#FF6692\", \"#B6E880\", \"#FF97FF\", \"#FECB52\"], \"font\": {\"color\": \"#2a3f5f\"}, \"geo\": {\"bgcolor\": \"white\", \"lakecolor\": \"white\", \"landcolor\": \"#E5ECF6\", \"showlakes\": true, \"showland\": true, \"subunitcolor\": \"white\"}, \"hoverlabel\": {\"align\": \"left\"}, \"hovermode\": \"closest\", \"mapbox\": {\"style\": \"light\"}, \"paper_bgcolor\": \"white\", \"plot_bgcolor\": \"#E5ECF6\", \"polar\": {\"angularaxis\": {\"gridcolor\": \"white\", \"linecolor\": \"white\", \"ticks\": \"\"}, \"bgcolor\": \"#E5ECF6\", \"radialaxis\": {\"gridcolor\": \"white\", \"linecolor\": \"white\", \"ticks\": \"\"}}, \"scene\": {\"xaxis\": {\"backgroundcolor\": \"#E5ECF6\", \"gridcolor\": \"white\", \"gridwidth\": 2, \"linecolor\": \"white\", \"showbackground\": true, \"ticks\": \"\", \"zerolinecolor\": \"white\"}, \"yaxis\": {\"backgroundcolor\": \"#E5ECF6\", \"gridcolor\": \"white\", \"gridwidth\": 2, \"linecolor\": \"white\", \"showbackground\": true, \"ticks\": \"\", \"zerolinecolor\": \"white\"}, \"zaxis\": {\"backgroundcolor\": \"#E5ECF6\", \"gridcolor\": \"white\", \"gridwidth\": 2, \"linecolor\": \"white\", \"showbackground\": true, \"ticks\": \"\", \"zerolinecolor\": \"white\"}}, \"shapedefaults\": {\"line\": {\"color\": \"#2a3f5f\"}}, \"ternary\": {\"aaxis\": {\"gridcolor\": \"white\", \"linecolor\": \"white\", \"ticks\": \"\"}, \"baxis\": {\"gridcolor\": \"white\", \"linecolor\": \"white\", \"ticks\": \"\"}, \"bgcolor\": \"#E5ECF6\", \"caxis\": {\"gridcolor\": \"white\", \"linecolor\": \"white\", \"ticks\": \"\"}}, \"title\": {\"x\": 0.05}, \"xaxis\": {\"automargin\": true, \"gridcolor\": \"white\", \"linecolor\": \"white\", \"ticks\": \"\", \"title\": {\"standoff\": 15}, \"zerolinecolor\": \"white\", \"zerolinewidth\": 2}, \"yaxis\": {\"automargin\": true, \"gridcolor\": \"white\", \"linecolor\": \"white\", \"ticks\": \"\", \"title\": {\"standoff\": 15}, \"zerolinecolor\": \"white\", \"zerolinewidth\": 2}}}, \"title\": {\"text\": \"Deaths due to covid from 2020-01-01 to 2021-10-01\"}, \"xaxis\": {\"anchor\": \"y\", \"domain\": [0.0, 1.0], \"title\": {\"text\": \"Total Deaths\"}}, \"yaxis\": {\"anchor\": \"x\", \"categoryarray\": [\"Faeroe Islands\", \"Tonga\", \"Tokelau\", \"New Caledonia\", \"Falkland Islands\", \"Niue\", \"Northern Cyprus\", \"Palau\", \"Gibraltar\", \"Greenland\", \"Aruba\", \"Pitcairn\", \"Bonaire Sint Eustatius and Saba\", \"Bermuda\", \"Saint Helena\", \"Samoa\", \"Sint Maarten (Dutch part)\", \"British Virgin Islands\", \"Nauru\", \"Cayman Islands\", \"Turkmenistan\", \"Isle of Man\", \"Curacao\", \"Wallis and Futuna\", \"Jersey\", \"Cook Islands\", \"Vatican\", \"Anguilla\", \"Kiribati\", \"Solomon Islands\", \"Macao\", \"Marshall Islands\", \"Micronesia (country)\", \"Montserrat\", \"Guernsey\", \"Tuvalu\", \"Turks and Caicos Islands\", \"French Polynesia\", \"Vanuatu\", \"Bhutan\", \"Saint Kitts and Nevis\", \"International\", \"Laos\", \"Dominica\", \"Saint Vincent and the Grenadines\", \"New Zealand\", \"Monaco\", \"Iceland\", \"Burundi\", \"Eritrea\", \"Brunei\", \"Sao Tome and Principe\", \"Liechtenstein\", \"Barbados\", \"Antigua and Barbuda\", \"Mauritius\", \"San Marino\", \"Central African Republic\", \"Singapore\", \"Seychelles\", \"Timor\", \"Sierra Leone\", \"Tajikistan\", \"Andorra\", \"South Sudan\", \"Guinea-Bissau\", \"Comoros\", \"Equatorial Guinea\", \"Grenada\", \"Benin\", \"Djibouti\", \"Chad\", \"Burkina Faso\", \"Gabon\", \"Congo\", \"Niger\", \"Nicaragua\", \"Saint Lucia\", \"Hong Kong\", \"Togo\", \"Maldives\", \"Papua New Guinea\", \"Liberia\", \"Gambia\", \"Cape Verde\", \"Guinea\", \"Belize\", \"Malta\", \"Bahamas\", \"Mali\", \"Cyprus\", \"Qatar\", \"Haiti\", \"Fiji\", \"Cote d'Ivoire\", \"Lesotho\", \"Tanzania\", \"Mauritania\", \"Guyana\", \"Luxembourg\", \"Taiwan\", \"Norway\", \"Suriname\", \"Madagascar\", \"Finland\", \"Democratic Republic of Congo\", \"Somalia\", \"Ghana\", \"Eswatini\", \"Uzbekistan\", \"Rwanda\", \"Mongolia\", \"Australia\", \"Estonia\", \"Bahrain\", \"Cameroon\", \"Trinidad and Tobago\", \"Angola\", \"Yemen\", \"Senegal\", \"Jamaica\", \"Mozambique\", \"Montenegro\", \"United Arab Emirates\", \"Oceania\", \"Syria\", \"Malawi\", \"Cambodia\", \"Botswana\", \"Kuwait\", \"South Korea\", \"Kyrgyzstan\", \"Denmark\", \"Albania\", \"Latvia\", \"Nigeria\", \"Sudan\", \"Kosovo\", \"Uganda\", \"El Salvador\", \"Namibia\", \"Zambia\", \"Dominican Republic\", \"Oman\", \"Palestine\", \"Belarus\", \"Venezuela\", \"Slovenia\", \"China\", \"Zimbabwe\", \"Libya\", \"Lithuania\", \"Kenya\", \"Ireland\", \"Armenia\", \"Ethiopia\", \"Algeria\", \"Uruguay\", \"Costa Rica\", \"Azerbaijan\", \"North Macedonia\", \"Moldova\", \"Afghanistan\", \"Panama\", \"Cuba\", \"Israel\", \"Serbia\", \"Lebanon\", \"Croatia\", \"Saudi Arabia\", \"Georgia\", \"Honduras\", \"Bosnia and Herzegovina\", \"Jordan\", \"Austria\", \"Switzerland\", \"Nepal\", \"Slovakia\", \"Sri Lanka\", \"Guatemala\", \"Morocco\", \"Greece\", \"Sweden\", \"Kazakhstan\", \"Paraguay\", \"Thailand\", \"Egypt\", \"Japan\", \"Myanmar\", \"Portugal\", \"Netherlands\", \"Bolivia\", \"Vietnam\", \"Bulgaria\", \"Iraq\", \"Ecuador\", \"Tunisia\", \"Belgium\", \"Malaysia\", \"Bangladesh\", \"Pakistan\", \"Canada\", \"Hungary\", \"Czechia\", \"Romania\", \"Chile\", \"Philippines\", \"Ukraine\", \"Turkey\", \"Poland\", \"Spain\", \"South Africa\", \"Germany\", \"Argentina\", \"France\", \"Iran\", \"Colombia\", \"Italy\", \"United Kingdom\", \"Indonesia\", \"Peru\", \"Russia\", \"Africa\", \"Mexico\", \"India\", \"Brazil\", \"United States\", \"European Union\", \"North America\", \"Asia\", \"South America\", \"Europe\"], \"categoryorder\": \"array\", \"domain\": [0.0, 1.0], \"title\": {\"text\": \"Country\"}}},                        {\"responsive\": true}                    ).then(function(){\n",
       "                            \n",
       "var gd = document.getElementById('0efe34ca-c1b7-404e-88c4-f687927ea7dd');\n",
       "var x = new MutationObserver(function (mutations, observer) {{\n",
       "        var display = window.getComputedStyle(gd).display;\n",
       "        if (!display || display === 'none') {{\n",
       "            console.log([gd, 'removed!']);\n",
       "            Plotly.purge(gd);\n",
       "            observer.disconnect();\n",
       "        }}\n",
       "}});\n",
       "\n",
       "// Listen for the removal of the full notebook cells\n",
       "var notebookContainer = gd.closest('#notebook-container');\n",
       "if (notebookContainer) {{\n",
       "    x.observe(notebookContainer, {childList: true});\n",
       "}}\n",
       "\n",
       "// Listen for the clearing of the current output cell\n",
       "var outputEl = gd.closest('.output');\n",
       "if (outputEl) {{\n",
       "    x.observe(outputEl, {childList: true});\n",
       "}}\n",
       "\n",
       "                        })                };                });            </script>        </div>"
      ]
     },
     "metadata": {},
     "output_type": "display_data"
    }
   ],
   "source": [
    "death_country = df[['new_deaths','location']]\\\n",
    "                    .drop(df[df.location == 'World'].index)\\\n",
    "                    .groupby('location')\\\n",
    "                    .sum()\\\n",
    "                    .sort_values('new_deaths',ascending=False)\n",
    "# death_country = death_country[(death_country['location'] != 'World')]\n",
    "death_country = death_country\n",
    "fig = px.bar(death_country.reset_index(), x=\"new_deaths\", y=\"location\",\n",
    "             color='location', \n",
    "             hover_data=[\"new_deaths\", \"location\"],\n",
    "             title=f'Deaths due to covid from {df.date.min().date()} to {df.date.max().date()}',\n",
    "             labels={'new_deaths':'Total Deaths','location':'Country'},\n",
    "             orientation='h')\n",
    "fig.show()"
   ]
  },
  {
   "cell_type": "code",
   "execution_count": 26,
   "id": "dominican-helmet",
   "metadata": {},
   "outputs": [
    {
     "data": {
      "application/vnd.plotly.v1+json": {
       "config": {
        "plotlyServerURL": "https://plot.ly"
       },
       "data": [
        {
         "hovertemplate": "date=%{x}<br>new_cases=%{y}<extra></extra>",
         "legendgroup": "",
         "line": {
          "dash": "solid"
         },
         "mode": "lines",
         "name": "",
         "showlegend": false,
         "type": "scattergl",
         "x": [
          "2020-01-31T00:00:00",
          "2020-02-01T00:00:00",
          "2020-02-02T00:00:00",
          "2020-02-03T00:00:00",
          "2020-02-04T00:00:00",
          "2020-02-05T00:00:00",
          "2020-02-06T00:00:00",
          "2020-02-07T00:00:00",
          "2020-02-08T00:00:00",
          "2020-02-09T00:00:00",
          "2020-02-10T00:00:00",
          "2020-02-11T00:00:00",
          "2020-02-12T00:00:00",
          "2020-02-13T00:00:00",
          "2020-02-14T00:00:00",
          "2020-02-15T00:00:00",
          "2020-02-16T00:00:00",
          "2020-02-17T00:00:00",
          "2020-02-18T00:00:00",
          "2020-02-19T00:00:00",
          "2020-02-20T00:00:00",
          "2020-02-21T00:00:00",
          "2020-02-22T00:00:00",
          "2020-02-23T00:00:00",
          "2020-02-24T00:00:00",
          "2020-02-25T00:00:00",
          "2020-02-26T00:00:00",
          "2020-02-27T00:00:00",
          "2020-02-28T00:00:00",
          "2020-02-29T00:00:00",
          "2020-03-01T00:00:00",
          "2020-03-02T00:00:00",
          "2020-03-03T00:00:00",
          "2020-03-04T00:00:00",
          "2020-03-05T00:00:00",
          "2020-03-06T00:00:00",
          "2020-03-07T00:00:00",
          "2020-03-08T00:00:00",
          "2020-03-09T00:00:00",
          "2020-03-10T00:00:00",
          "2020-03-11T00:00:00",
          "2020-03-12T00:00:00",
          "2020-03-13T00:00:00",
          "2020-03-14T00:00:00",
          "2020-03-15T00:00:00",
          "2020-03-16T00:00:00",
          "2020-03-17T00:00:00",
          "2020-03-18T00:00:00",
          "2020-03-19T00:00:00",
          "2020-03-20T00:00:00",
          "2020-03-21T00:00:00",
          "2020-03-22T00:00:00",
          "2020-03-23T00:00:00",
          "2020-03-24T00:00:00",
          "2020-03-25T00:00:00",
          "2020-03-26T00:00:00",
          "2020-03-27T00:00:00",
          "2020-03-28T00:00:00",
          "2020-03-29T00:00:00",
          "2020-03-30T00:00:00",
          "2020-03-31T00:00:00",
          "2020-04-01T00:00:00",
          "2020-04-02T00:00:00",
          "2020-04-03T00:00:00",
          "2020-04-04T00:00:00",
          "2020-04-05T00:00:00",
          "2020-04-06T00:00:00",
          "2020-04-07T00:00:00",
          "2020-04-08T00:00:00",
          "2020-04-09T00:00:00",
          "2020-04-10T00:00:00",
          "2020-04-11T00:00:00",
          "2020-04-12T00:00:00",
          "2020-04-13T00:00:00",
          "2020-04-14T00:00:00",
          "2020-04-15T00:00:00",
          "2020-04-16T00:00:00",
          "2020-04-17T00:00:00",
          "2020-04-18T00:00:00",
          "2020-04-19T00:00:00",
          "2020-04-20T00:00:00",
          "2020-04-21T00:00:00",
          "2020-04-22T00:00:00",
          "2020-04-23T00:00:00",
          "2020-04-24T00:00:00",
          "2020-04-25T00:00:00",
          "2020-04-26T00:00:00",
          "2020-04-27T00:00:00",
          "2020-04-28T00:00:00",
          "2020-04-29T00:00:00",
          "2020-04-30T00:00:00",
          "2020-05-01T00:00:00",
          "2020-05-02T00:00:00",
          "2020-05-03T00:00:00",
          "2020-05-04T00:00:00",
          "2020-05-05T00:00:00",
          "2020-05-06T00:00:00",
          "2020-05-07T00:00:00",
          "2020-05-08T00:00:00",
          "2020-05-09T00:00:00",
          "2020-05-10T00:00:00",
          "2020-05-11T00:00:00",
          "2020-05-12T00:00:00",
          "2020-05-13T00:00:00",
          "2020-05-14T00:00:00",
          "2020-05-15T00:00:00",
          "2020-05-16T00:00:00",
          "2020-05-17T00:00:00",
          "2020-05-18T00:00:00",
          "2020-05-19T00:00:00",
          "2020-05-20T00:00:00",
          "2020-05-21T00:00:00",
          "2020-05-22T00:00:00",
          "2020-05-23T00:00:00",
          "2020-05-24T00:00:00",
          "2020-05-25T00:00:00",
          "2020-05-26T00:00:00",
          "2020-05-27T00:00:00",
          "2020-05-28T00:00:00",
          "2020-05-29T00:00:00",
          "2020-05-30T00:00:00",
          "2020-05-31T00:00:00",
          "2020-06-01T00:00:00",
          "2020-06-02T00:00:00",
          "2020-06-03T00:00:00",
          "2020-06-04T00:00:00",
          "2020-06-05T00:00:00",
          "2020-06-06T00:00:00",
          "2020-06-07T00:00:00",
          "2020-06-08T00:00:00",
          "2020-06-09T00:00:00",
          "2020-06-10T00:00:00",
          "2020-06-11T00:00:00",
          "2020-06-12T00:00:00",
          "2020-06-13T00:00:00",
          "2020-06-14T00:00:00",
          "2020-06-15T00:00:00",
          "2020-06-16T00:00:00",
          "2020-06-17T00:00:00",
          "2020-06-18T00:00:00",
          "2020-06-19T00:00:00",
          "2020-06-20T00:00:00",
          "2020-06-21T00:00:00",
          "2020-06-22T00:00:00",
          "2020-06-23T00:00:00",
          "2020-06-24T00:00:00",
          "2020-06-25T00:00:00",
          "2020-06-26T00:00:00",
          "2020-06-27T00:00:00",
          "2020-06-28T00:00:00",
          "2020-06-29T00:00:00",
          "2020-06-30T00:00:00",
          "2020-07-01T00:00:00",
          "2020-07-02T00:00:00",
          "2020-07-03T00:00:00",
          "2020-07-04T00:00:00",
          "2020-07-05T00:00:00",
          "2020-07-06T00:00:00",
          "2020-07-07T00:00:00",
          "2020-07-08T00:00:00",
          "2020-07-09T00:00:00",
          "2020-07-10T00:00:00",
          "2020-07-11T00:00:00",
          "2020-07-12T00:00:00",
          "2020-07-13T00:00:00",
          "2020-07-14T00:00:00",
          "2020-07-15T00:00:00",
          "2020-07-16T00:00:00",
          "2020-07-17T00:00:00",
          "2020-07-18T00:00:00",
          "2020-07-19T00:00:00",
          "2020-07-20T00:00:00",
          "2020-07-21T00:00:00",
          "2020-07-22T00:00:00",
          "2020-07-23T00:00:00",
          "2020-07-24T00:00:00",
          "2020-07-25T00:00:00",
          "2020-07-26T00:00:00",
          "2020-07-27T00:00:00",
          "2020-07-28T00:00:00",
          "2020-07-29T00:00:00",
          "2020-07-30T00:00:00",
          "2020-07-31T00:00:00",
          "2020-08-01T00:00:00",
          "2020-08-02T00:00:00",
          "2020-08-03T00:00:00",
          "2020-08-04T00:00:00",
          "2020-08-05T00:00:00",
          "2020-08-06T00:00:00",
          "2020-08-07T00:00:00",
          "2020-08-08T00:00:00",
          "2020-08-09T00:00:00",
          "2020-08-10T00:00:00",
          "2020-08-11T00:00:00",
          "2020-08-12T00:00:00",
          "2020-08-13T00:00:00",
          "2020-08-14T00:00:00",
          "2020-08-15T00:00:00",
          "2020-08-16T00:00:00",
          "2020-08-17T00:00:00",
          "2020-08-18T00:00:00",
          "2020-08-19T00:00:00",
          "2020-08-20T00:00:00",
          "2020-08-21T00:00:00",
          "2020-08-22T00:00:00",
          "2020-08-23T00:00:00",
          "2020-08-24T00:00:00",
          "2020-08-25T00:00:00",
          "2020-08-26T00:00:00",
          "2020-08-27T00:00:00",
          "2020-08-28T00:00:00",
          "2020-08-29T00:00:00",
          "2020-08-30T00:00:00",
          "2020-08-31T00:00:00",
          "2020-09-01T00:00:00",
          "2020-09-02T00:00:00",
          "2020-09-03T00:00:00",
          "2020-09-04T00:00:00",
          "2020-09-05T00:00:00",
          "2020-09-06T00:00:00",
          "2020-09-07T00:00:00",
          "2020-09-08T00:00:00",
          "2020-09-09T00:00:00",
          "2020-09-10T00:00:00",
          "2020-09-11T00:00:00",
          "2020-09-12T00:00:00",
          "2020-09-13T00:00:00",
          "2020-09-14T00:00:00",
          "2020-09-15T00:00:00",
          "2020-09-16T00:00:00",
          "2020-09-17T00:00:00",
          "2020-09-18T00:00:00",
          "2020-09-19T00:00:00",
          "2020-09-20T00:00:00",
          "2020-09-21T00:00:00",
          "2020-09-22T00:00:00",
          "2020-09-23T00:00:00",
          "2020-09-24T00:00:00",
          "2020-09-25T00:00:00",
          "2020-09-26T00:00:00",
          "2020-09-27T00:00:00",
          "2020-09-28T00:00:00",
          "2020-09-29T00:00:00",
          "2020-09-30T00:00:00",
          "2020-10-01T00:00:00",
          "2020-10-02T00:00:00",
          "2020-10-03T00:00:00",
          "2020-10-04T00:00:00",
          "2020-10-05T00:00:00",
          "2020-10-06T00:00:00",
          "2020-10-07T00:00:00",
          "2020-10-08T00:00:00",
          "2020-10-09T00:00:00",
          "2020-10-10T00:00:00",
          "2020-10-11T00:00:00",
          "2020-10-12T00:00:00",
          "2020-10-13T00:00:00",
          "2020-10-14T00:00:00",
          "2020-10-15T00:00:00",
          "2020-10-16T00:00:00",
          "2020-10-17T00:00:00",
          "2020-10-18T00:00:00",
          "2020-10-19T00:00:00",
          "2020-10-20T00:00:00",
          "2020-10-21T00:00:00",
          "2020-10-22T00:00:00",
          "2020-10-23T00:00:00",
          "2020-10-24T00:00:00",
          "2020-10-25T00:00:00",
          "2020-10-26T00:00:00",
          "2020-10-27T00:00:00",
          "2020-10-28T00:00:00",
          "2020-10-29T00:00:00",
          "2020-10-30T00:00:00",
          "2020-10-31T00:00:00",
          "2020-11-01T00:00:00",
          "2020-11-02T00:00:00",
          "2020-11-03T00:00:00",
          "2020-11-04T00:00:00",
          "2020-11-05T00:00:00",
          "2020-11-06T00:00:00",
          "2020-11-07T00:00:00",
          "2020-11-08T00:00:00",
          "2020-11-09T00:00:00",
          "2020-11-10T00:00:00",
          "2020-11-11T00:00:00",
          "2020-11-12T00:00:00",
          "2020-11-13T00:00:00",
          "2020-11-14T00:00:00",
          "2020-11-15T00:00:00",
          "2020-11-16T00:00:00",
          "2020-11-17T00:00:00",
          "2020-11-18T00:00:00",
          "2020-11-19T00:00:00",
          "2020-11-20T00:00:00",
          "2020-11-21T00:00:00",
          "2020-11-22T00:00:00",
          "2020-11-23T00:00:00",
          "2020-11-24T00:00:00",
          "2020-11-25T00:00:00",
          "2020-11-26T00:00:00",
          "2020-11-27T00:00:00",
          "2020-11-28T00:00:00",
          "2020-11-29T00:00:00",
          "2020-11-30T00:00:00",
          "2020-12-01T00:00:00",
          "2020-12-02T00:00:00",
          "2020-12-03T00:00:00",
          "2020-12-04T00:00:00",
          "2020-12-05T00:00:00",
          "2020-12-06T00:00:00",
          "2020-12-07T00:00:00",
          "2020-12-08T00:00:00",
          "2020-12-09T00:00:00",
          "2020-12-10T00:00:00",
          "2020-12-11T00:00:00",
          "2020-12-12T00:00:00",
          "2020-12-13T00:00:00",
          "2020-12-14T00:00:00",
          "2020-12-15T00:00:00",
          "2020-12-16T00:00:00",
          "2020-12-17T00:00:00",
          "2020-12-18T00:00:00",
          "2020-12-19T00:00:00",
          "2020-12-20T00:00:00",
          "2020-12-21T00:00:00",
          "2020-12-22T00:00:00",
          "2020-12-23T00:00:00",
          "2020-12-24T00:00:00",
          "2020-12-25T00:00:00",
          "2020-12-26T00:00:00",
          "2020-12-27T00:00:00",
          "2020-12-28T00:00:00",
          "2020-12-29T00:00:00",
          "2020-12-30T00:00:00"
         ],
         "xaxis": "x",
         "y": [
          2,
          0,
          0,
          0,
          0,
          0,
          0,
          1,
          0,
          0,
          0,
          0,
          0,
          0,
          0,
          0,
          0,
          0,
          0,
          0,
          0,
          17,
          42,
          93,
          74,
          93,
          131,
          202,
          233,
          240,
          566,
          342,
          466,
          587,
          769,
          778,
          1247,
          1492,
          1797,
          977,
          2313,
          2651,
          2547,
          3497,
          3590,
          3233,
          3526,
          4207,
          5322,
          5986,
          6557,
          5560,
          4789,
          5249,
          5210,
          6203,
          5909,
          5974,
          5217,
          4050,
          4053,
          4782,
          4668,
          4585,
          4805,
          4316,
          3599,
          3039,
          3836,
          4204,
          3951,
          4694,
          4092,
          3153,
          2972,
          2667,
          3786,
          3493,
          3491,
          3047,
          2256,
          2729,
          3370,
          2646,
          3021,
          2357,
          2324,
          1739,
          2091,
          2086,
          1872,
          1965,
          1900,
          1389,
          1221,
          1075,
          1444,
          1401,
          1327,
          1083,
          802,
          744,
          1402,
          888,
          992,
          789,
          875,
          675,
          451,
          813,
          665,
          642,
          652,
          669,
          531,
          300,
          397,
          584,
          593,
          516,
          416,
          333,
          200,
          318,
          321,
          177,
          518,
          270,
          197,
          280,
          283,
          202,
          379,
          163,
          346,
          338,
          301,
          210,
          328,
          331,
          -148,
          264,
          224,
          221,
          113,
          577,
          296,
          255,
          175,
          174,
          126,
          142,
          182,
          201,
          223,
          235,
          192,
          208,
          137,
          193,
          214,
          276,
          188,
          234,
          169,
          114,
          162,
          230,
          231,
          249,
          218,
          190,
          128,
          280,
          306,
          252,
          274,
          254,
          168,
          202,
          288,
          382,
          379,
          295,
          238,
          159,
          190,
          384,
          401,
          552,
          347,
          463,
          259,
          412,
          476,
          522,
          574,
          629,
          477,
          320,
          401,
          642,
          840,
          947,
          1071,
          1209,
          953,
          876,
          1366,
          1409,
          1460,
          1444,
          1365,
          996,
          975,
          1326,
          1397,
          1732,
          1694,
          1296,
          1150,
          1369,
          1430,
          1597,
          1616,
          1501,
          1456,
          1008,
          1229,
          1452,
          1583,
          1907,
          1637,
          1587,
          1350,
          1391,
          1640,
          1786,
          1912,
          1869,
          1766,
          1494,
          1647,
          1850,
          2548,
          2499,
          2843,
          2578,
          2257,
          2677,
          3677,
          4458,
          5372,
          5724,
          5456,
          4619,
          5898,
          7332,
          8803,
          10009,
          10925,
          11705,
          9337,
          10871,
          15199,
          16078,
          19143,
          19640,
          21273,
          17007,
          21989,
          24988,
          26829,
          31079,
          31756,
          29905,
          22253,
          28241,
          30548,
          34502,
          37802,
          39809,
          32614,
          25269,
          35090,
          32961,
          37977,
          40902,
          37249,
          33977,
          27352,
          32191,
          34280,
          36176,
          37239,
          34764,
          28337,
          22927,
          23227,
          25852,
          29001,
          28342,
          26315,
          20646,
          16376,
          19347,
          20709,
          23219,
          24110,
          21052,
          18887,
          13679,
          14837,
          12755,
          16998,
          18726,
          19902,
          17937,
          12025,
          14839,
          17568,
          18233,
          15401,
          16305,
          15102,
          10869,
          13316,
          13908,
          18039,
          19037,
          10405,
          8937,
          8581,
          11210,
          16202
         ],
         "yaxis": "y"
        },
        {
         "hovertemplate": "date=%{x}<br>total_cases=%{y}<extra></extra>",
         "legendgroup": "",
         "line": {
          "dash": "solid"
         },
         "mode": "lines",
         "name": "",
         "showlegend": false,
         "type": "scattergl",
         "x": [
          "2020-01-31T00:00:00",
          "2020-02-01T00:00:00",
          "2020-02-02T00:00:00",
          "2020-02-03T00:00:00",
          "2020-02-04T00:00:00",
          "2020-02-05T00:00:00",
          "2020-02-06T00:00:00",
          "2020-02-07T00:00:00",
          "2020-02-08T00:00:00",
          "2020-02-09T00:00:00",
          "2020-02-10T00:00:00",
          "2020-02-11T00:00:00",
          "2020-02-12T00:00:00",
          "2020-02-13T00:00:00",
          "2020-02-14T00:00:00",
          "2020-02-15T00:00:00",
          "2020-02-16T00:00:00",
          "2020-02-17T00:00:00",
          "2020-02-18T00:00:00",
          "2020-02-19T00:00:00",
          "2020-02-20T00:00:00",
          "2020-02-21T00:00:00",
          "2020-02-22T00:00:00",
          "2020-02-23T00:00:00",
          "2020-02-24T00:00:00",
          "2020-02-25T00:00:00",
          "2020-02-26T00:00:00",
          "2020-02-27T00:00:00",
          "2020-02-28T00:00:00",
          "2020-02-29T00:00:00",
          "2020-03-01T00:00:00",
          "2020-03-02T00:00:00",
          "2020-03-03T00:00:00",
          "2020-03-04T00:00:00",
          "2020-03-05T00:00:00",
          "2020-03-06T00:00:00",
          "2020-03-07T00:00:00",
          "2020-03-08T00:00:00",
          "2020-03-09T00:00:00",
          "2020-03-10T00:00:00",
          "2020-03-11T00:00:00",
          "2020-03-12T00:00:00",
          "2020-03-13T00:00:00",
          "2020-03-14T00:00:00",
          "2020-03-15T00:00:00",
          "2020-03-16T00:00:00",
          "2020-03-17T00:00:00",
          "2020-03-18T00:00:00",
          "2020-03-19T00:00:00",
          "2020-03-20T00:00:00",
          "2020-03-21T00:00:00",
          "2020-03-22T00:00:00",
          "2020-03-23T00:00:00",
          "2020-03-24T00:00:00",
          "2020-03-25T00:00:00",
          "2020-03-26T00:00:00",
          "2020-03-27T00:00:00",
          "2020-03-28T00:00:00",
          "2020-03-29T00:00:00",
          "2020-03-30T00:00:00",
          "2020-03-31T00:00:00",
          "2020-04-01T00:00:00",
          "2020-04-02T00:00:00",
          "2020-04-03T00:00:00",
          "2020-04-04T00:00:00",
          "2020-04-05T00:00:00",
          "2020-04-06T00:00:00",
          "2020-04-07T00:00:00",
          "2020-04-08T00:00:00",
          "2020-04-09T00:00:00",
          "2020-04-10T00:00:00",
          "2020-04-11T00:00:00",
          "2020-04-12T00:00:00",
          "2020-04-13T00:00:00",
          "2020-04-14T00:00:00",
          "2020-04-15T00:00:00",
          "2020-04-16T00:00:00",
          "2020-04-17T00:00:00",
          "2020-04-18T00:00:00",
          "2020-04-19T00:00:00",
          "2020-04-20T00:00:00",
          "2020-04-21T00:00:00",
          "2020-04-22T00:00:00",
          "2020-04-23T00:00:00",
          "2020-04-24T00:00:00",
          "2020-04-25T00:00:00",
          "2020-04-26T00:00:00",
          "2020-04-27T00:00:00",
          "2020-04-28T00:00:00",
          "2020-04-29T00:00:00",
          "2020-04-30T00:00:00",
          "2020-05-01T00:00:00",
          "2020-05-02T00:00:00",
          "2020-05-03T00:00:00",
          "2020-05-04T00:00:00",
          "2020-05-05T00:00:00",
          "2020-05-06T00:00:00",
          "2020-05-07T00:00:00",
          "2020-05-08T00:00:00",
          "2020-05-09T00:00:00",
          "2020-05-10T00:00:00",
          "2020-05-11T00:00:00",
          "2020-05-12T00:00:00",
          "2020-05-13T00:00:00",
          "2020-05-14T00:00:00",
          "2020-05-15T00:00:00",
          "2020-05-16T00:00:00",
          "2020-05-17T00:00:00",
          "2020-05-18T00:00:00",
          "2020-05-19T00:00:00",
          "2020-05-20T00:00:00",
          "2020-05-21T00:00:00",
          "2020-05-22T00:00:00",
          "2020-05-23T00:00:00",
          "2020-05-24T00:00:00",
          "2020-05-25T00:00:00",
          "2020-05-26T00:00:00",
          "2020-05-27T00:00:00",
          "2020-05-28T00:00:00",
          "2020-05-29T00:00:00",
          "2020-05-30T00:00:00",
          "2020-05-31T00:00:00",
          "2020-06-01T00:00:00",
          "2020-06-02T00:00:00",
          "2020-06-03T00:00:00",
          "2020-06-04T00:00:00",
          "2020-06-05T00:00:00",
          "2020-06-06T00:00:00",
          "2020-06-07T00:00:00",
          "2020-06-08T00:00:00",
          "2020-06-09T00:00:00",
          "2020-06-10T00:00:00",
          "2020-06-11T00:00:00",
          "2020-06-12T00:00:00",
          "2020-06-13T00:00:00",
          "2020-06-14T00:00:00",
          "2020-06-15T00:00:00",
          "2020-06-16T00:00:00",
          "2020-06-17T00:00:00",
          "2020-06-18T00:00:00",
          "2020-06-19T00:00:00",
          "2020-06-20T00:00:00",
          "2020-06-21T00:00:00",
          "2020-06-22T00:00:00",
          "2020-06-23T00:00:00",
          "2020-06-24T00:00:00",
          "2020-06-25T00:00:00",
          "2020-06-26T00:00:00",
          "2020-06-27T00:00:00",
          "2020-06-28T00:00:00",
          "2020-06-29T00:00:00",
          "2020-06-30T00:00:00",
          "2020-07-01T00:00:00",
          "2020-07-02T00:00:00",
          "2020-07-03T00:00:00",
          "2020-07-04T00:00:00",
          "2020-07-05T00:00:00",
          "2020-07-06T00:00:00",
          "2020-07-07T00:00:00",
          "2020-07-08T00:00:00",
          "2020-07-09T00:00:00",
          "2020-07-10T00:00:00",
          "2020-07-11T00:00:00",
          "2020-07-12T00:00:00",
          "2020-07-13T00:00:00",
          "2020-07-14T00:00:00",
          "2020-07-15T00:00:00",
          "2020-07-16T00:00:00",
          "2020-07-17T00:00:00",
          "2020-07-18T00:00:00",
          "2020-07-19T00:00:00",
          "2020-07-20T00:00:00",
          "2020-07-21T00:00:00",
          "2020-07-22T00:00:00",
          "2020-07-23T00:00:00",
          "2020-07-24T00:00:00",
          "2020-07-25T00:00:00",
          "2020-07-26T00:00:00",
          "2020-07-27T00:00:00",
          "2020-07-28T00:00:00",
          "2020-07-29T00:00:00",
          "2020-07-30T00:00:00",
          "2020-07-31T00:00:00",
          "2020-08-01T00:00:00",
          "2020-08-02T00:00:00",
          "2020-08-03T00:00:00",
          "2020-08-04T00:00:00",
          "2020-08-05T00:00:00",
          "2020-08-06T00:00:00",
          "2020-08-07T00:00:00",
          "2020-08-08T00:00:00",
          "2020-08-09T00:00:00",
          "2020-08-10T00:00:00",
          "2020-08-11T00:00:00",
          "2020-08-12T00:00:00",
          "2020-08-13T00:00:00",
          "2020-08-14T00:00:00",
          "2020-08-15T00:00:00",
          "2020-08-16T00:00:00",
          "2020-08-17T00:00:00",
          "2020-08-18T00:00:00",
          "2020-08-19T00:00:00",
          "2020-08-20T00:00:00",
          "2020-08-21T00:00:00",
          "2020-08-22T00:00:00",
          "2020-08-23T00:00:00",
          "2020-08-24T00:00:00",
          "2020-08-25T00:00:00",
          "2020-08-26T00:00:00",
          "2020-08-27T00:00:00",
          "2020-08-28T00:00:00",
          "2020-08-29T00:00:00",
          "2020-08-30T00:00:00",
          "2020-08-31T00:00:00",
          "2020-09-01T00:00:00",
          "2020-09-02T00:00:00",
          "2020-09-03T00:00:00",
          "2020-09-04T00:00:00",
          "2020-09-05T00:00:00",
          "2020-09-06T00:00:00",
          "2020-09-07T00:00:00",
          "2020-09-08T00:00:00",
          "2020-09-09T00:00:00",
          "2020-09-10T00:00:00",
          "2020-09-11T00:00:00",
          "2020-09-12T00:00:00",
          "2020-09-13T00:00:00",
          "2020-09-14T00:00:00",
          "2020-09-15T00:00:00",
          "2020-09-16T00:00:00",
          "2020-09-17T00:00:00",
          "2020-09-18T00:00:00",
          "2020-09-19T00:00:00",
          "2020-09-20T00:00:00",
          "2020-09-21T00:00:00",
          "2020-09-22T00:00:00",
          "2020-09-23T00:00:00",
          "2020-09-24T00:00:00",
          "2020-09-25T00:00:00",
          "2020-09-26T00:00:00",
          "2020-09-27T00:00:00",
          "2020-09-28T00:00:00",
          "2020-09-29T00:00:00",
          "2020-09-30T00:00:00",
          "2020-10-01T00:00:00",
          "2020-10-02T00:00:00",
          "2020-10-03T00:00:00",
          "2020-10-04T00:00:00",
          "2020-10-05T00:00:00",
          "2020-10-06T00:00:00",
          "2020-10-07T00:00:00",
          "2020-10-08T00:00:00",
          "2020-10-09T00:00:00",
          "2020-10-10T00:00:00",
          "2020-10-11T00:00:00",
          "2020-10-12T00:00:00",
          "2020-10-13T00:00:00",
          "2020-10-14T00:00:00",
          "2020-10-15T00:00:00",
          "2020-10-16T00:00:00",
          "2020-10-17T00:00:00",
          "2020-10-18T00:00:00",
          "2020-10-19T00:00:00",
          "2020-10-20T00:00:00",
          "2020-10-21T00:00:00",
          "2020-10-22T00:00:00",
          "2020-10-23T00:00:00",
          "2020-10-24T00:00:00",
          "2020-10-25T00:00:00",
          "2020-10-26T00:00:00",
          "2020-10-27T00:00:00",
          "2020-10-28T00:00:00",
          "2020-10-29T00:00:00",
          "2020-10-30T00:00:00",
          "2020-10-31T00:00:00",
          "2020-11-01T00:00:00",
          "2020-11-02T00:00:00",
          "2020-11-03T00:00:00",
          "2020-11-04T00:00:00",
          "2020-11-05T00:00:00",
          "2020-11-06T00:00:00",
          "2020-11-07T00:00:00",
          "2020-11-08T00:00:00",
          "2020-11-09T00:00:00",
          "2020-11-10T00:00:00",
          "2020-11-11T00:00:00",
          "2020-11-12T00:00:00",
          "2020-11-13T00:00:00",
          "2020-11-14T00:00:00",
          "2020-11-15T00:00:00",
          "2020-11-16T00:00:00",
          "2020-11-17T00:00:00",
          "2020-11-18T00:00:00",
          "2020-11-19T00:00:00",
          "2020-11-20T00:00:00",
          "2020-11-21T00:00:00",
          "2020-11-22T00:00:00",
          "2020-11-23T00:00:00",
          "2020-11-24T00:00:00",
          "2020-11-25T00:00:00",
          "2020-11-26T00:00:00",
          "2020-11-27T00:00:00",
          "2020-11-28T00:00:00",
          "2020-11-29T00:00:00",
          "2020-11-30T00:00:00",
          "2020-12-01T00:00:00",
          "2020-12-02T00:00:00",
          "2020-12-03T00:00:00",
          "2020-12-04T00:00:00",
          "2020-12-05T00:00:00",
          "2020-12-06T00:00:00",
          "2020-12-07T00:00:00",
          "2020-12-08T00:00:00",
          "2020-12-09T00:00:00",
          "2020-12-10T00:00:00",
          "2020-12-11T00:00:00",
          "2020-12-12T00:00:00",
          "2020-12-13T00:00:00",
          "2020-12-14T00:00:00",
          "2020-12-15T00:00:00",
          "2020-12-16T00:00:00",
          "2020-12-17T00:00:00",
          "2020-12-18T00:00:00",
          "2020-12-19T00:00:00",
          "2020-12-20T00:00:00",
          "2020-12-21T00:00:00",
          "2020-12-22T00:00:00",
          "2020-12-23T00:00:00",
          "2020-12-24T00:00:00",
          "2020-12-25T00:00:00",
          "2020-12-26T00:00:00",
          "2020-12-27T00:00:00",
          "2020-12-28T00:00:00",
          "2020-12-29T00:00:00",
          "2020-12-30T00:00:00"
         ],
         "xaxis": "x",
         "y": [
          2,
          2,
          2,
          2,
          2,
          2,
          2,
          3,
          3,
          3,
          3,
          3,
          3,
          3,
          3,
          3,
          3,
          3,
          3,
          3,
          3,
          20,
          62,
          155,
          229,
          322,
          453,
          655,
          888,
          1128,
          1694,
          2036,
          2502,
          3089,
          3858,
          4636,
          5883,
          7375,
          9172,
          10149,
          12462,
          15113,
          17660,
          21157,
          24747,
          27980,
          31506,
          35713,
          41035,
          47021,
          53578,
          59138,
          63927,
          69176,
          74386,
          80589,
          86498,
          92472,
          97689,
          101739,
          105792,
          110574,
          115242,
          119827,
          124632,
          128948,
          132547,
          135586,
          139422,
          143626,
          147577,
          152271,
          156363,
          159516,
          162488,
          165155,
          168941,
          172434,
          175925,
          178972,
          181228,
          183957,
          187327,
          189973,
          192994,
          195351,
          197675,
          199414,
          201505,
          203591,
          205463,
          207428,
          209328,
          210717,
          211938,
          213013,
          214457,
          215858,
          217185,
          218268,
          219070,
          219814,
          221216,
          222104,
          223096,
          223885,
          224760,
          225435,
          225886,
          226699,
          227364,
          228006,
          228658,
          229327,
          229858,
          230158,
          230555,
          231139,
          231732,
          232248,
          232664,
          232997,
          233197,
          233515,
          233836,
          234013,
          234531,
          234801,
          234998,
          235278,
          235561,
          235763,
          236142,
          236305,
          236651,
          236989,
          237290,
          237500,
          237828,
          238159,
          238011,
          238275,
          238499,
          238720,
          238833,
          239410,
          239706,
          239961,
          240136,
          240310,
          240436,
          240578,
          240760,
          240961,
          241184,
          241419,
          241611,
          241819,
          241956,
          242149,
          242363,
          242639,
          242827,
          243061,
          243230,
          243344,
          243506,
          243736,
          243967,
          244216,
          244434,
          244624,
          244752,
          245032,
          245338,
          245590,
          245864,
          246118,
          246286,
          246488,
          246776,
          247158,
          247537,
          247832,
          248070,
          248229,
          248419,
          248803,
          249204,
          249756,
          250103,
          250566,
          250825,
          251237,
          251713,
          252235,
          252809,
          253438,
          253915,
          254235,
          254636,
          255278,
          256118,
          257065,
          258136,
          259345,
          260298,
          261174,
          262540,
          263949,
          265409,
          266853,
          268218,
          269214,
          270189,
          271515,
          272912,
          274644,
          276338,
          277634,
          278784,
          280153,
          281583,
          283180,
          284796,
          286297,
          287753,
          288761,
          289990,
          291442,
          293025,
          294932,
          296569,
          298156,
          299506,
          300897,
          302537,
          304323,
          306235,
          308104,
          309870,
          311364,
          313011,
          314861,
          317409,
          319908,
          322751,
          325329,
          327586,
          330263,
          333940,
          338398,
          343770,
          349494,
          354950,
          359569,
          365467,
          372799,
          381602,
          391611,
          402536,
          414241,
          423578,
          434449,
          449648,
          465726,
          484869,
          504509,
          525782,
          542789,
          564778,
          589766,
          616595,
          647674,
          679430,
          709335,
          731588,
          759829,
          790377,
          824879,
          862681,
          902490,
          935104,
          960373,
          995463,
          1028424,
          1066401,
          1107303,
          1144552,
          1178529,
          1205881,
          1238072,
          1272352,
          1308528,
          1345767,
          1380531,
          1408868,
          1431795,
          1455022,
          1480874,
          1509875,
          1538217,
          1564532,
          1585178,
          1601554,
          1620901,
          1641610,
          1664829,
          1688939,
          1709991,
          1728878,
          1742557,
          1757394,
          1770149,
          1787147,
          1805873,
          1825775,
          1843712,
          1855737,
          1870576,
          1888144,
          1906377,
          1921778,
          1938083,
          1953185,
          1964054,
          1977370,
          1991278,
          2009317,
          2028354,
          2038759,
          2047696,
          2056277,
          2067487,
          2083689
         ],
         "yaxis": "y2"
        }
       ],
       "layout": {
        "template": {
         "data": {
          "bar": [
           {
            "error_x": {
             "color": "#2a3f5f"
            },
            "error_y": {
             "color": "#2a3f5f"
            },
            "marker": {
             "line": {
              "color": "#E5ECF6",
              "width": 0.5
             }
            },
            "type": "bar"
           }
          ],
          "barpolar": [
           {
            "marker": {
             "line": {
              "color": "#E5ECF6",
              "width": 0.5
             }
            },
            "type": "barpolar"
           }
          ],
          "carpet": [
           {
            "aaxis": {
             "endlinecolor": "#2a3f5f",
             "gridcolor": "white",
             "linecolor": "white",
             "minorgridcolor": "white",
             "startlinecolor": "#2a3f5f"
            },
            "baxis": {
             "endlinecolor": "#2a3f5f",
             "gridcolor": "white",
             "linecolor": "white",
             "minorgridcolor": "white",
             "startlinecolor": "#2a3f5f"
            },
            "type": "carpet"
           }
          ],
          "choropleth": [
           {
            "colorbar": {
             "outlinewidth": 0,
             "ticks": ""
            },
            "type": "choropleth"
           }
          ],
          "contour": [
           {
            "colorbar": {
             "outlinewidth": 0,
             "ticks": ""
            },
            "colorscale": [
             [
              0,
              "#0d0887"
             ],
             [
              0.1111111111111111,
              "#46039f"
             ],
             [
              0.2222222222222222,
              "#7201a8"
             ],
             [
              0.3333333333333333,
              "#9c179e"
             ],
             [
              0.4444444444444444,
              "#bd3786"
             ],
             [
              0.5555555555555556,
              "#d8576b"
             ],
             [
              0.6666666666666666,
              "#ed7953"
             ],
             [
              0.7777777777777778,
              "#fb9f3a"
             ],
             [
              0.8888888888888888,
              "#fdca26"
             ],
             [
              1,
              "#f0f921"
             ]
            ],
            "type": "contour"
           }
          ],
          "contourcarpet": [
           {
            "colorbar": {
             "outlinewidth": 0,
             "ticks": ""
            },
            "type": "contourcarpet"
           }
          ],
          "heatmap": [
           {
            "colorbar": {
             "outlinewidth": 0,
             "ticks": ""
            },
            "colorscale": [
             [
              0,
              "#0d0887"
             ],
             [
              0.1111111111111111,
              "#46039f"
             ],
             [
              0.2222222222222222,
              "#7201a8"
             ],
             [
              0.3333333333333333,
              "#9c179e"
             ],
             [
              0.4444444444444444,
              "#bd3786"
             ],
             [
              0.5555555555555556,
              "#d8576b"
             ],
             [
              0.6666666666666666,
              "#ed7953"
             ],
             [
              0.7777777777777778,
              "#fb9f3a"
             ],
             [
              0.8888888888888888,
              "#fdca26"
             ],
             [
              1,
              "#f0f921"
             ]
            ],
            "type": "heatmap"
           }
          ],
          "heatmapgl": [
           {
            "colorbar": {
             "outlinewidth": 0,
             "ticks": ""
            },
            "colorscale": [
             [
              0,
              "#0d0887"
             ],
             [
              0.1111111111111111,
              "#46039f"
             ],
             [
              0.2222222222222222,
              "#7201a8"
             ],
             [
              0.3333333333333333,
              "#9c179e"
             ],
             [
              0.4444444444444444,
              "#bd3786"
             ],
             [
              0.5555555555555556,
              "#d8576b"
             ],
             [
              0.6666666666666666,
              "#ed7953"
             ],
             [
              0.7777777777777778,
              "#fb9f3a"
             ],
             [
              0.8888888888888888,
              "#fdca26"
             ],
             [
              1,
              "#f0f921"
             ]
            ],
            "type": "heatmapgl"
           }
          ],
          "histogram": [
           {
            "marker": {
             "colorbar": {
              "outlinewidth": 0,
              "ticks": ""
             }
            },
            "type": "histogram"
           }
          ],
          "histogram2d": [
           {
            "colorbar": {
             "outlinewidth": 0,
             "ticks": ""
            },
            "colorscale": [
             [
              0,
              "#0d0887"
             ],
             [
              0.1111111111111111,
              "#46039f"
             ],
             [
              0.2222222222222222,
              "#7201a8"
             ],
             [
              0.3333333333333333,
              "#9c179e"
             ],
             [
              0.4444444444444444,
              "#bd3786"
             ],
             [
              0.5555555555555556,
              "#d8576b"
             ],
             [
              0.6666666666666666,
              "#ed7953"
             ],
             [
              0.7777777777777778,
              "#fb9f3a"
             ],
             [
              0.8888888888888888,
              "#fdca26"
             ],
             [
              1,
              "#f0f921"
             ]
            ],
            "type": "histogram2d"
           }
          ],
          "histogram2dcontour": [
           {
            "colorbar": {
             "outlinewidth": 0,
             "ticks": ""
            },
            "colorscale": [
             [
              0,
              "#0d0887"
             ],
             [
              0.1111111111111111,
              "#46039f"
             ],
             [
              0.2222222222222222,
              "#7201a8"
             ],
             [
              0.3333333333333333,
              "#9c179e"
             ],
             [
              0.4444444444444444,
              "#bd3786"
             ],
             [
              0.5555555555555556,
              "#d8576b"
             ],
             [
              0.6666666666666666,
              "#ed7953"
             ],
             [
              0.7777777777777778,
              "#fb9f3a"
             ],
             [
              0.8888888888888888,
              "#fdca26"
             ],
             [
              1,
              "#f0f921"
             ]
            ],
            "type": "histogram2dcontour"
           }
          ],
          "mesh3d": [
           {
            "colorbar": {
             "outlinewidth": 0,
             "ticks": ""
            },
            "type": "mesh3d"
           }
          ],
          "parcoords": [
           {
            "line": {
             "colorbar": {
              "outlinewidth": 0,
              "ticks": ""
             }
            },
            "type": "parcoords"
           }
          ],
          "pie": [
           {
            "automargin": true,
            "type": "pie"
           }
          ],
          "scatter": [
           {
            "marker": {
             "colorbar": {
              "outlinewidth": 0,
              "ticks": ""
             }
            },
            "type": "scatter"
           }
          ],
          "scatter3d": [
           {
            "line": {
             "colorbar": {
              "outlinewidth": 0,
              "ticks": ""
             }
            },
            "marker": {
             "colorbar": {
              "outlinewidth": 0,
              "ticks": ""
             }
            },
            "type": "scatter3d"
           }
          ],
          "scattercarpet": [
           {
            "marker": {
             "colorbar": {
              "outlinewidth": 0,
              "ticks": ""
             }
            },
            "type": "scattercarpet"
           }
          ],
          "scattergeo": [
           {
            "marker": {
             "colorbar": {
              "outlinewidth": 0,
              "ticks": ""
             }
            },
            "type": "scattergeo"
           }
          ],
          "scattergl": [
           {
            "marker": {
             "colorbar": {
              "outlinewidth": 0,
              "ticks": ""
             }
            },
            "type": "scattergl"
           }
          ],
          "scattermapbox": [
           {
            "marker": {
             "colorbar": {
              "outlinewidth": 0,
              "ticks": ""
             }
            },
            "type": "scattermapbox"
           }
          ],
          "scatterpolar": [
           {
            "marker": {
             "colorbar": {
              "outlinewidth": 0,
              "ticks": ""
             }
            },
            "type": "scatterpolar"
           }
          ],
          "scatterpolargl": [
           {
            "marker": {
             "colorbar": {
              "outlinewidth": 0,
              "ticks": ""
             }
            },
            "type": "scatterpolargl"
           }
          ],
          "scatterternary": [
           {
            "marker": {
             "colorbar": {
              "outlinewidth": 0,
              "ticks": ""
             }
            },
            "type": "scatterternary"
           }
          ],
          "surface": [
           {
            "colorbar": {
             "outlinewidth": 0,
             "ticks": ""
            },
            "colorscale": [
             [
              0,
              "#0d0887"
             ],
             [
              0.1111111111111111,
              "#46039f"
             ],
             [
              0.2222222222222222,
              "#7201a8"
             ],
             [
              0.3333333333333333,
              "#9c179e"
             ],
             [
              0.4444444444444444,
              "#bd3786"
             ],
             [
              0.5555555555555556,
              "#d8576b"
             ],
             [
              0.6666666666666666,
              "#ed7953"
             ],
             [
              0.7777777777777778,
              "#fb9f3a"
             ],
             [
              0.8888888888888888,
              "#fdca26"
             ],
             [
              1,
              "#f0f921"
             ]
            ],
            "type": "surface"
           }
          ],
          "table": [
           {
            "cells": {
             "fill": {
              "color": "#EBF0F8"
             },
             "line": {
              "color": "white"
             }
            },
            "header": {
             "fill": {
              "color": "#C8D4E3"
             },
             "line": {
              "color": "white"
             }
            },
            "type": "table"
           }
          ]
         },
         "layout": {
          "annotationdefaults": {
           "arrowcolor": "#2a3f5f",
           "arrowhead": 0,
           "arrowwidth": 1
          },
          "autotypenumbers": "strict",
          "coloraxis": {
           "colorbar": {
            "outlinewidth": 0,
            "ticks": ""
           }
          },
          "colorscale": {
           "diverging": [
            [
             0,
             "#8e0152"
            ],
            [
             0.1,
             "#c51b7d"
            ],
            [
             0.2,
             "#de77ae"
            ],
            [
             0.3,
             "#f1b6da"
            ],
            [
             0.4,
             "#fde0ef"
            ],
            [
             0.5,
             "#f7f7f7"
            ],
            [
             0.6,
             "#e6f5d0"
            ],
            [
             0.7,
             "#b8e186"
            ],
            [
             0.8,
             "#7fbc41"
            ],
            [
             0.9,
             "#4d9221"
            ],
            [
             1,
             "#276419"
            ]
           ],
           "sequential": [
            [
             0,
             "#0d0887"
            ],
            [
             0.1111111111111111,
             "#46039f"
            ],
            [
             0.2222222222222222,
             "#7201a8"
            ],
            [
             0.3333333333333333,
             "#9c179e"
            ],
            [
             0.4444444444444444,
             "#bd3786"
            ],
            [
             0.5555555555555556,
             "#d8576b"
            ],
            [
             0.6666666666666666,
             "#ed7953"
            ],
            [
             0.7777777777777778,
             "#fb9f3a"
            ],
            [
             0.8888888888888888,
             "#fdca26"
            ],
            [
             1,
             "#f0f921"
            ]
           ],
           "sequentialminus": [
            [
             0,
             "#0d0887"
            ],
            [
             0.1111111111111111,
             "#46039f"
            ],
            [
             0.2222222222222222,
             "#7201a8"
            ],
            [
             0.3333333333333333,
             "#9c179e"
            ],
            [
             0.4444444444444444,
             "#bd3786"
            ],
            [
             0.5555555555555556,
             "#d8576b"
            ],
            [
             0.6666666666666666,
             "#ed7953"
            ],
            [
             0.7777777777777778,
             "#fb9f3a"
            ],
            [
             0.8888888888888888,
             "#fdca26"
            ],
            [
             1,
             "#f0f921"
            ]
           ]
          },
          "colorway": [
           "#636efa",
           "#EF553B",
           "#00cc96",
           "#ab63fa",
           "#FFA15A",
           "#19d3f3",
           "#FF6692",
           "#B6E880",
           "#FF97FF",
           "#FECB52"
          ],
          "font": {
           "color": "#2a3f5f"
          },
          "geo": {
           "bgcolor": "white",
           "lakecolor": "white",
           "landcolor": "#E5ECF6",
           "showlakes": true,
           "showland": true,
           "subunitcolor": "white"
          },
          "hoverlabel": {
           "align": "left"
          },
          "hovermode": "closest",
          "mapbox": {
           "style": "light"
          },
          "paper_bgcolor": "white",
          "plot_bgcolor": "#E5ECF6",
          "polar": {
           "angularaxis": {
            "gridcolor": "white",
            "linecolor": "white",
            "ticks": ""
           },
           "bgcolor": "#E5ECF6",
           "radialaxis": {
            "gridcolor": "white",
            "linecolor": "white",
            "ticks": ""
           }
          },
          "scene": {
           "xaxis": {
            "backgroundcolor": "#E5ECF6",
            "gridcolor": "white",
            "gridwidth": 2,
            "linecolor": "white",
            "showbackground": true,
            "ticks": "",
            "zerolinecolor": "white"
           },
           "yaxis": {
            "backgroundcolor": "#E5ECF6",
            "gridcolor": "white",
            "gridwidth": 2,
            "linecolor": "white",
            "showbackground": true,
            "ticks": "",
            "zerolinecolor": "white"
           },
           "zaxis": {
            "backgroundcolor": "#E5ECF6",
            "gridcolor": "white",
            "gridwidth": 2,
            "linecolor": "white",
            "showbackground": true,
            "ticks": "",
            "zerolinecolor": "white"
           }
          },
          "shapedefaults": {
           "line": {
            "color": "#2a3f5f"
           }
          },
          "ternary": {
           "aaxis": {
            "gridcolor": "white",
            "linecolor": "white",
            "ticks": ""
           },
           "baxis": {
            "gridcolor": "white",
            "linecolor": "white",
            "ticks": ""
           },
           "bgcolor": "#E5ECF6",
           "caxis": {
            "gridcolor": "white",
            "linecolor": "white",
            "ticks": ""
           }
          },
          "title": {
           "x": 0.05
          },
          "xaxis": {
           "automargin": true,
           "gridcolor": "white",
           "linecolor": "white",
           "ticks": "",
           "title": {
            "standoff": 15
           },
           "zerolinecolor": "white",
           "zerolinewidth": 2
          },
          "yaxis": {
           "automargin": true,
           "gridcolor": "white",
           "linecolor": "white",
           "ticks": "",
           "title": {
            "standoff": 15
           },
           "zerolinecolor": "white",
           "zerolinewidth": 2
          }
         }
        },
        "title": {
         "text": "Daily Covid Cases (New & Cummulative) in Italy"
        },
        "xaxis": {
         "anchor": "y",
         "domain": [
          0,
          0.94
         ],
         "title": {
          "text": "Date"
         }
        },
        "yaxis": {
         "anchor": "x",
         "domain": [
          0,
          1
         ],
         "title": {
          "text": "New cases"
         }
        },
        "yaxis2": {
         "anchor": "x",
         "overlaying": "y",
         "side": "right",
         "title": {
          "text": "Total Cases"
         }
        }
       }
      },
      "text/html": [
       "<div>                            <div id=\"ef747c3d-65f3-4dae-93a2-908f3dda640b\" class=\"plotly-graph-div\" style=\"height:525px; width:100%;\"></div>            <script type=\"text/javascript\">                require([\"plotly\"], function(Plotly) {                    window.PLOTLYENV=window.PLOTLYENV || {};                                    if (document.getElementById(\"ef747c3d-65f3-4dae-93a2-908f3dda640b\")) {                    Plotly.newPlot(                        \"ef747c3d-65f3-4dae-93a2-908f3dda640b\",                        [{\"hovertemplate\": \"date=%{x}<br>new_cases=%{y}<extra></extra>\", \"legendgroup\": \"\", \"line\": {\"dash\": \"solid\"}, \"mode\": \"lines\", \"name\": \"\", \"showlegend\": false, \"type\": \"scattergl\", \"x\": [\"2020-01-31T00:00:00\", \"2020-02-01T00:00:00\", \"2020-02-02T00:00:00\", \"2020-02-03T00:00:00\", \"2020-02-04T00:00:00\", \"2020-02-05T00:00:00\", \"2020-02-06T00:00:00\", \"2020-02-07T00:00:00\", \"2020-02-08T00:00:00\", \"2020-02-09T00:00:00\", \"2020-02-10T00:00:00\", \"2020-02-11T00:00:00\", \"2020-02-12T00:00:00\", \"2020-02-13T00:00:00\", \"2020-02-14T00:00:00\", \"2020-02-15T00:00:00\", \"2020-02-16T00:00:00\", \"2020-02-17T00:00:00\", \"2020-02-18T00:00:00\", \"2020-02-19T00:00:00\", \"2020-02-20T00:00:00\", \"2020-02-21T00:00:00\", \"2020-02-22T00:00:00\", \"2020-02-23T00:00:00\", \"2020-02-24T00:00:00\", \"2020-02-25T00:00:00\", \"2020-02-26T00:00:00\", \"2020-02-27T00:00:00\", \"2020-02-28T00:00:00\", \"2020-02-29T00:00:00\", \"2020-03-01T00:00:00\", \"2020-03-02T00:00:00\", \"2020-03-03T00:00:00\", \"2020-03-04T00:00:00\", \"2020-03-05T00:00:00\", \"2020-03-06T00:00:00\", \"2020-03-07T00:00:00\", \"2020-03-08T00:00:00\", \"2020-03-09T00:00:00\", \"2020-03-10T00:00:00\", \"2020-03-11T00:00:00\", \"2020-03-12T00:00:00\", \"2020-03-13T00:00:00\", \"2020-03-14T00:00:00\", \"2020-03-15T00:00:00\", \"2020-03-16T00:00:00\", \"2020-03-17T00:00:00\", \"2020-03-18T00:00:00\", \"2020-03-19T00:00:00\", \"2020-03-20T00:00:00\", \"2020-03-21T00:00:00\", \"2020-03-22T00:00:00\", \"2020-03-23T00:00:00\", \"2020-03-24T00:00:00\", \"2020-03-25T00:00:00\", \"2020-03-26T00:00:00\", \"2020-03-27T00:00:00\", \"2020-03-28T00:00:00\", \"2020-03-29T00:00:00\", \"2020-03-30T00:00:00\", \"2020-03-31T00:00:00\", \"2020-04-01T00:00:00\", \"2020-04-02T00:00:00\", \"2020-04-03T00:00:00\", \"2020-04-04T00:00:00\", \"2020-04-05T00:00:00\", \"2020-04-06T00:00:00\", \"2020-04-07T00:00:00\", \"2020-04-08T00:00:00\", \"2020-04-09T00:00:00\", \"2020-04-10T00:00:00\", \"2020-04-11T00:00:00\", \"2020-04-12T00:00:00\", \"2020-04-13T00:00:00\", \"2020-04-14T00:00:00\", \"2020-04-15T00:00:00\", \"2020-04-16T00:00:00\", \"2020-04-17T00:00:00\", \"2020-04-18T00:00:00\", \"2020-04-19T00:00:00\", \"2020-04-20T00:00:00\", \"2020-04-21T00:00:00\", \"2020-04-22T00:00:00\", \"2020-04-23T00:00:00\", \"2020-04-24T00:00:00\", \"2020-04-25T00:00:00\", \"2020-04-26T00:00:00\", \"2020-04-27T00:00:00\", \"2020-04-28T00:00:00\", \"2020-04-29T00:00:00\", \"2020-04-30T00:00:00\", \"2020-05-01T00:00:00\", \"2020-05-02T00:00:00\", \"2020-05-03T00:00:00\", \"2020-05-04T00:00:00\", \"2020-05-05T00:00:00\", \"2020-05-06T00:00:00\", \"2020-05-07T00:00:00\", \"2020-05-08T00:00:00\", \"2020-05-09T00:00:00\", \"2020-05-10T00:00:00\", \"2020-05-11T00:00:00\", \"2020-05-12T00:00:00\", \"2020-05-13T00:00:00\", \"2020-05-14T00:00:00\", \"2020-05-15T00:00:00\", \"2020-05-16T00:00:00\", \"2020-05-17T00:00:00\", \"2020-05-18T00:00:00\", \"2020-05-19T00:00:00\", \"2020-05-20T00:00:00\", \"2020-05-21T00:00:00\", \"2020-05-22T00:00:00\", \"2020-05-23T00:00:00\", \"2020-05-24T00:00:00\", \"2020-05-25T00:00:00\", \"2020-05-26T00:00:00\", \"2020-05-27T00:00:00\", \"2020-05-28T00:00:00\", \"2020-05-29T00:00:00\", \"2020-05-30T00:00:00\", \"2020-05-31T00:00:00\", \"2020-06-01T00:00:00\", \"2020-06-02T00:00:00\", \"2020-06-03T00:00:00\", \"2020-06-04T00:00:00\", \"2020-06-05T00:00:00\", \"2020-06-06T00:00:00\", \"2020-06-07T00:00:00\", \"2020-06-08T00:00:00\", \"2020-06-09T00:00:00\", \"2020-06-10T00:00:00\", \"2020-06-11T00:00:00\", \"2020-06-12T00:00:00\", \"2020-06-13T00:00:00\", \"2020-06-14T00:00:00\", \"2020-06-15T00:00:00\", \"2020-06-16T00:00:00\", \"2020-06-17T00:00:00\", \"2020-06-18T00:00:00\", \"2020-06-19T00:00:00\", \"2020-06-20T00:00:00\", \"2020-06-21T00:00:00\", \"2020-06-22T00:00:00\", \"2020-06-23T00:00:00\", \"2020-06-24T00:00:00\", \"2020-06-25T00:00:00\", \"2020-06-26T00:00:00\", \"2020-06-27T00:00:00\", \"2020-06-28T00:00:00\", \"2020-06-29T00:00:00\", \"2020-06-30T00:00:00\", \"2020-07-01T00:00:00\", \"2020-07-02T00:00:00\", \"2020-07-03T00:00:00\", \"2020-07-04T00:00:00\", \"2020-07-05T00:00:00\", \"2020-07-06T00:00:00\", \"2020-07-07T00:00:00\", \"2020-07-08T00:00:00\", \"2020-07-09T00:00:00\", \"2020-07-10T00:00:00\", \"2020-07-11T00:00:00\", \"2020-07-12T00:00:00\", \"2020-07-13T00:00:00\", \"2020-07-14T00:00:00\", \"2020-07-15T00:00:00\", \"2020-07-16T00:00:00\", \"2020-07-17T00:00:00\", \"2020-07-18T00:00:00\", \"2020-07-19T00:00:00\", \"2020-07-20T00:00:00\", \"2020-07-21T00:00:00\", \"2020-07-22T00:00:00\", \"2020-07-23T00:00:00\", \"2020-07-24T00:00:00\", \"2020-07-25T00:00:00\", \"2020-07-26T00:00:00\", \"2020-07-27T00:00:00\", \"2020-07-28T00:00:00\", \"2020-07-29T00:00:00\", \"2020-07-30T00:00:00\", \"2020-07-31T00:00:00\", \"2020-08-01T00:00:00\", \"2020-08-02T00:00:00\", \"2020-08-03T00:00:00\", \"2020-08-04T00:00:00\", \"2020-08-05T00:00:00\", \"2020-08-06T00:00:00\", \"2020-08-07T00:00:00\", \"2020-08-08T00:00:00\", \"2020-08-09T00:00:00\", \"2020-08-10T00:00:00\", \"2020-08-11T00:00:00\", \"2020-08-12T00:00:00\", \"2020-08-13T00:00:00\", \"2020-08-14T00:00:00\", \"2020-08-15T00:00:00\", \"2020-08-16T00:00:00\", \"2020-08-17T00:00:00\", \"2020-08-18T00:00:00\", \"2020-08-19T00:00:00\", \"2020-08-20T00:00:00\", \"2020-08-21T00:00:00\", \"2020-08-22T00:00:00\", \"2020-08-23T00:00:00\", \"2020-08-24T00:00:00\", \"2020-08-25T00:00:00\", \"2020-08-26T00:00:00\", \"2020-08-27T00:00:00\", \"2020-08-28T00:00:00\", \"2020-08-29T00:00:00\", \"2020-08-30T00:00:00\", \"2020-08-31T00:00:00\", \"2020-09-01T00:00:00\", \"2020-09-02T00:00:00\", \"2020-09-03T00:00:00\", \"2020-09-04T00:00:00\", \"2020-09-05T00:00:00\", \"2020-09-06T00:00:00\", \"2020-09-07T00:00:00\", \"2020-09-08T00:00:00\", \"2020-09-09T00:00:00\", \"2020-09-10T00:00:00\", \"2020-09-11T00:00:00\", \"2020-09-12T00:00:00\", \"2020-09-13T00:00:00\", \"2020-09-14T00:00:00\", \"2020-09-15T00:00:00\", \"2020-09-16T00:00:00\", \"2020-09-17T00:00:00\", \"2020-09-18T00:00:00\", \"2020-09-19T00:00:00\", \"2020-09-20T00:00:00\", \"2020-09-21T00:00:00\", \"2020-09-22T00:00:00\", \"2020-09-23T00:00:00\", \"2020-09-24T00:00:00\", \"2020-09-25T00:00:00\", \"2020-09-26T00:00:00\", \"2020-09-27T00:00:00\", \"2020-09-28T00:00:00\", \"2020-09-29T00:00:00\", \"2020-09-30T00:00:00\", \"2020-10-01T00:00:00\", \"2020-10-02T00:00:00\", \"2020-10-03T00:00:00\", \"2020-10-04T00:00:00\", \"2020-10-05T00:00:00\", \"2020-10-06T00:00:00\", \"2020-10-07T00:00:00\", \"2020-10-08T00:00:00\", \"2020-10-09T00:00:00\", \"2020-10-10T00:00:00\", \"2020-10-11T00:00:00\", \"2020-10-12T00:00:00\", \"2020-10-13T00:00:00\", \"2020-10-14T00:00:00\", \"2020-10-15T00:00:00\", \"2020-10-16T00:00:00\", \"2020-10-17T00:00:00\", \"2020-10-18T00:00:00\", \"2020-10-19T00:00:00\", \"2020-10-20T00:00:00\", \"2020-10-21T00:00:00\", \"2020-10-22T00:00:00\", \"2020-10-23T00:00:00\", \"2020-10-24T00:00:00\", \"2020-10-25T00:00:00\", \"2020-10-26T00:00:00\", \"2020-10-27T00:00:00\", \"2020-10-28T00:00:00\", \"2020-10-29T00:00:00\", \"2020-10-30T00:00:00\", \"2020-10-31T00:00:00\", \"2020-11-01T00:00:00\", \"2020-11-02T00:00:00\", \"2020-11-03T00:00:00\", \"2020-11-04T00:00:00\", \"2020-11-05T00:00:00\", \"2020-11-06T00:00:00\", \"2020-11-07T00:00:00\", \"2020-11-08T00:00:00\", \"2020-11-09T00:00:00\", \"2020-11-10T00:00:00\", \"2020-11-11T00:00:00\", \"2020-11-12T00:00:00\", \"2020-11-13T00:00:00\", \"2020-11-14T00:00:00\", \"2020-11-15T00:00:00\", \"2020-11-16T00:00:00\", \"2020-11-17T00:00:00\", \"2020-11-18T00:00:00\", \"2020-11-19T00:00:00\", \"2020-11-20T00:00:00\", \"2020-11-21T00:00:00\", \"2020-11-22T00:00:00\", \"2020-11-23T00:00:00\", \"2020-11-24T00:00:00\", \"2020-11-25T00:00:00\", \"2020-11-26T00:00:00\", \"2020-11-27T00:00:00\", \"2020-11-28T00:00:00\", \"2020-11-29T00:00:00\", \"2020-11-30T00:00:00\", \"2020-12-01T00:00:00\", \"2020-12-02T00:00:00\", \"2020-12-03T00:00:00\", \"2020-12-04T00:00:00\", \"2020-12-05T00:00:00\", \"2020-12-06T00:00:00\", \"2020-12-07T00:00:00\", \"2020-12-08T00:00:00\", \"2020-12-09T00:00:00\", \"2020-12-10T00:00:00\", \"2020-12-11T00:00:00\", \"2020-12-12T00:00:00\", \"2020-12-13T00:00:00\", \"2020-12-14T00:00:00\", \"2020-12-15T00:00:00\", \"2020-12-16T00:00:00\", \"2020-12-17T00:00:00\", \"2020-12-18T00:00:00\", \"2020-12-19T00:00:00\", \"2020-12-20T00:00:00\", \"2020-12-21T00:00:00\", \"2020-12-22T00:00:00\", \"2020-12-23T00:00:00\", \"2020-12-24T00:00:00\", \"2020-12-25T00:00:00\", \"2020-12-26T00:00:00\", \"2020-12-27T00:00:00\", \"2020-12-28T00:00:00\", \"2020-12-29T00:00:00\", \"2020-12-30T00:00:00\"], \"xaxis\": \"x\", \"y\": [2.0, 0.0, 0.0, 0.0, 0.0, 0.0, 0.0, 1.0, 0.0, 0.0, 0.0, 0.0, 0.0, 0.0, 0.0, 0.0, 0.0, 0.0, 0.0, 0.0, 0.0, 17.0, 42.0, 93.0, 74.0, 93.0, 131.0, 202.0, 233.0, 240.0, 566.0, 342.0, 466.0, 587.0, 769.0, 778.0, 1247.0, 1492.0, 1797.0, 977.0, 2313.0, 2651.0, 2547.0, 3497.0, 3590.0, 3233.0, 3526.0, 4207.0, 5322.0, 5986.0, 6557.0, 5560.0, 4789.0, 5249.0, 5210.0, 6203.0, 5909.0, 5974.0, 5217.0, 4050.0, 4053.0, 4782.0, 4668.0, 4585.0, 4805.0, 4316.0, 3599.0, 3039.0, 3836.0, 4204.0, 3951.0, 4694.0, 4092.0, 3153.0, 2972.0, 2667.0, 3786.0, 3493.0, 3491.0, 3047.0, 2256.0, 2729.0, 3370.0, 2646.0, 3021.0, 2357.0, 2324.0, 1739.0, 2091.0, 2086.0, 1872.0, 1965.0, 1900.0, 1389.0, 1221.0, 1075.0, 1444.0, 1401.0, 1327.0, 1083.0, 802.0, 744.0, 1402.0, 888.0, 992.0, 789.0, 875.0, 675.0, 451.0, 813.0, 665.0, 642.0, 652.0, 669.0, 531.0, 300.0, 397.0, 584.0, 593.0, 516.0, 416.0, 333.0, 200.0, 318.0, 321.0, 177.0, 518.0, 270.0, 197.0, 280.0, 283.0, 202.0, 379.0, 163.0, 346.0, 338.0, 301.0, 210.0, 328.0, 331.0, -148.0, 264.0, 224.0, 221.0, 113.0, 577.0, 296.0, 255.0, 175.0, 174.0, 126.0, 142.0, 182.0, 201.0, 223.0, 235.0, 192.0, 208.0, 137.0, 193.0, 214.0, 276.0, 188.0, 234.0, 169.0, 114.0, 162.0, 230.0, 231.0, 249.0, 218.0, 190.0, 128.0, 280.0, 306.0, 252.0, 274.0, 254.0, 168.0, 202.0, 288.0, 382.0, 379.0, 295.0, 238.0, 159.0, 190.0, 384.0, 401.0, 552.0, 347.0, 463.0, 259.0, 412.0, 476.0, 522.0, 574.0, 629.0, 477.0, 320.0, 401.0, 642.0, 840.0, 947.0, 1071.0, 1209.0, 953.0, 876.0, 1366.0, 1409.0, 1460.0, 1444.0, 1365.0, 996.0, 975.0, 1326.0, 1397.0, 1732.0, 1694.0, 1296.0, 1150.0, 1369.0, 1430.0, 1597.0, 1616.0, 1501.0, 1456.0, 1008.0, 1229.0, 1452.0, 1583.0, 1907.0, 1637.0, 1587.0, 1350.0, 1391.0, 1640.0, 1786.0, 1912.0, 1869.0, 1766.0, 1494.0, 1647.0, 1850.0, 2548.0, 2499.0, 2843.0, 2578.0, 2257.0, 2677.0, 3677.0, 4458.0, 5372.0, 5724.0, 5456.0, 4619.0, 5898.0, 7332.0, 8803.0, 10009.0, 10925.0, 11705.0, 9337.0, 10871.0, 15199.0, 16078.0, 19143.0, 19640.0, 21273.0, 17007.0, 21989.0, 24988.0, 26829.0, 31079.0, 31756.0, 29905.0, 22253.0, 28241.0, 30548.0, 34502.0, 37802.0, 39809.0, 32614.0, 25269.0, 35090.0, 32961.0, 37977.0, 40902.0, 37249.0, 33977.0, 27352.0, 32191.0, 34280.0, 36176.0, 37239.0, 34764.0, 28337.0, 22927.0, 23227.0, 25852.0, 29001.0, 28342.0, 26315.0, 20646.0, 16376.0, 19347.0, 20709.0, 23219.0, 24110.0, 21052.0, 18887.0, 13679.0, 14837.0, 12755.0, 16998.0, 18726.0, 19902.0, 17937.0, 12025.0, 14839.0, 17568.0, 18233.0, 15401.0, 16305.0, 15102.0, 10869.0, 13316.0, 13908.0, 18039.0, 19037.0, 10405.0, 8937.0, 8581.0, 11210.0, 16202.0], \"yaxis\": \"y\"}, {\"hovertemplate\": \"date=%{x}<br>total_cases=%{y}<extra></extra>\", \"legendgroup\": \"\", \"line\": {\"dash\": \"solid\"}, \"mode\": \"lines\", \"name\": \"\", \"showlegend\": false, \"type\": \"scattergl\", \"x\": [\"2020-01-31T00:00:00\", \"2020-02-01T00:00:00\", \"2020-02-02T00:00:00\", \"2020-02-03T00:00:00\", \"2020-02-04T00:00:00\", \"2020-02-05T00:00:00\", \"2020-02-06T00:00:00\", \"2020-02-07T00:00:00\", \"2020-02-08T00:00:00\", \"2020-02-09T00:00:00\", \"2020-02-10T00:00:00\", \"2020-02-11T00:00:00\", \"2020-02-12T00:00:00\", \"2020-02-13T00:00:00\", \"2020-02-14T00:00:00\", \"2020-02-15T00:00:00\", \"2020-02-16T00:00:00\", \"2020-02-17T00:00:00\", \"2020-02-18T00:00:00\", \"2020-02-19T00:00:00\", \"2020-02-20T00:00:00\", \"2020-02-21T00:00:00\", \"2020-02-22T00:00:00\", \"2020-02-23T00:00:00\", \"2020-02-24T00:00:00\", \"2020-02-25T00:00:00\", \"2020-02-26T00:00:00\", \"2020-02-27T00:00:00\", \"2020-02-28T00:00:00\", \"2020-02-29T00:00:00\", \"2020-03-01T00:00:00\", \"2020-03-02T00:00:00\", \"2020-03-03T00:00:00\", \"2020-03-04T00:00:00\", \"2020-03-05T00:00:00\", \"2020-03-06T00:00:00\", \"2020-03-07T00:00:00\", \"2020-03-08T00:00:00\", \"2020-03-09T00:00:00\", \"2020-03-10T00:00:00\", \"2020-03-11T00:00:00\", \"2020-03-12T00:00:00\", \"2020-03-13T00:00:00\", \"2020-03-14T00:00:00\", \"2020-03-15T00:00:00\", \"2020-03-16T00:00:00\", \"2020-03-17T00:00:00\", \"2020-03-18T00:00:00\", \"2020-03-19T00:00:00\", \"2020-03-20T00:00:00\", \"2020-03-21T00:00:00\", \"2020-03-22T00:00:00\", \"2020-03-23T00:00:00\", \"2020-03-24T00:00:00\", \"2020-03-25T00:00:00\", \"2020-03-26T00:00:00\", \"2020-03-27T00:00:00\", \"2020-03-28T00:00:00\", \"2020-03-29T00:00:00\", \"2020-03-30T00:00:00\", \"2020-03-31T00:00:00\", \"2020-04-01T00:00:00\", \"2020-04-02T00:00:00\", \"2020-04-03T00:00:00\", \"2020-04-04T00:00:00\", \"2020-04-05T00:00:00\", \"2020-04-06T00:00:00\", \"2020-04-07T00:00:00\", \"2020-04-08T00:00:00\", \"2020-04-09T00:00:00\", \"2020-04-10T00:00:00\", \"2020-04-11T00:00:00\", \"2020-04-12T00:00:00\", \"2020-04-13T00:00:00\", \"2020-04-14T00:00:00\", \"2020-04-15T00:00:00\", \"2020-04-16T00:00:00\", \"2020-04-17T00:00:00\", \"2020-04-18T00:00:00\", \"2020-04-19T00:00:00\", \"2020-04-20T00:00:00\", \"2020-04-21T00:00:00\", \"2020-04-22T00:00:00\", \"2020-04-23T00:00:00\", \"2020-04-24T00:00:00\", \"2020-04-25T00:00:00\", \"2020-04-26T00:00:00\", \"2020-04-27T00:00:00\", \"2020-04-28T00:00:00\", \"2020-04-29T00:00:00\", \"2020-04-30T00:00:00\", \"2020-05-01T00:00:00\", \"2020-05-02T00:00:00\", \"2020-05-03T00:00:00\", \"2020-05-04T00:00:00\", \"2020-05-05T00:00:00\", \"2020-05-06T00:00:00\", \"2020-05-07T00:00:00\", \"2020-05-08T00:00:00\", \"2020-05-09T00:00:00\", \"2020-05-10T00:00:00\", \"2020-05-11T00:00:00\", \"2020-05-12T00:00:00\", \"2020-05-13T00:00:00\", \"2020-05-14T00:00:00\", \"2020-05-15T00:00:00\", \"2020-05-16T00:00:00\", \"2020-05-17T00:00:00\", \"2020-05-18T00:00:00\", \"2020-05-19T00:00:00\", \"2020-05-20T00:00:00\", \"2020-05-21T00:00:00\", \"2020-05-22T00:00:00\", \"2020-05-23T00:00:00\", \"2020-05-24T00:00:00\", \"2020-05-25T00:00:00\", \"2020-05-26T00:00:00\", \"2020-05-27T00:00:00\", \"2020-05-28T00:00:00\", \"2020-05-29T00:00:00\", \"2020-05-30T00:00:00\", \"2020-05-31T00:00:00\", \"2020-06-01T00:00:00\", \"2020-06-02T00:00:00\", \"2020-06-03T00:00:00\", \"2020-06-04T00:00:00\", \"2020-06-05T00:00:00\", \"2020-06-06T00:00:00\", \"2020-06-07T00:00:00\", \"2020-06-08T00:00:00\", \"2020-06-09T00:00:00\", \"2020-06-10T00:00:00\", \"2020-06-11T00:00:00\", \"2020-06-12T00:00:00\", \"2020-06-13T00:00:00\", \"2020-06-14T00:00:00\", \"2020-06-15T00:00:00\", \"2020-06-16T00:00:00\", \"2020-06-17T00:00:00\", \"2020-06-18T00:00:00\", \"2020-06-19T00:00:00\", \"2020-06-20T00:00:00\", \"2020-06-21T00:00:00\", \"2020-06-22T00:00:00\", \"2020-06-23T00:00:00\", \"2020-06-24T00:00:00\", \"2020-06-25T00:00:00\", \"2020-06-26T00:00:00\", \"2020-06-27T00:00:00\", \"2020-06-28T00:00:00\", \"2020-06-29T00:00:00\", \"2020-06-30T00:00:00\", \"2020-07-01T00:00:00\", \"2020-07-02T00:00:00\", \"2020-07-03T00:00:00\", \"2020-07-04T00:00:00\", \"2020-07-05T00:00:00\", \"2020-07-06T00:00:00\", \"2020-07-07T00:00:00\", \"2020-07-08T00:00:00\", \"2020-07-09T00:00:00\", \"2020-07-10T00:00:00\", \"2020-07-11T00:00:00\", \"2020-07-12T00:00:00\", \"2020-07-13T00:00:00\", \"2020-07-14T00:00:00\", \"2020-07-15T00:00:00\", \"2020-07-16T00:00:00\", \"2020-07-17T00:00:00\", \"2020-07-18T00:00:00\", \"2020-07-19T00:00:00\", \"2020-07-20T00:00:00\", \"2020-07-21T00:00:00\", \"2020-07-22T00:00:00\", \"2020-07-23T00:00:00\", \"2020-07-24T00:00:00\", \"2020-07-25T00:00:00\", \"2020-07-26T00:00:00\", \"2020-07-27T00:00:00\", \"2020-07-28T00:00:00\", \"2020-07-29T00:00:00\", \"2020-07-30T00:00:00\", \"2020-07-31T00:00:00\", \"2020-08-01T00:00:00\", \"2020-08-02T00:00:00\", \"2020-08-03T00:00:00\", \"2020-08-04T00:00:00\", \"2020-08-05T00:00:00\", \"2020-08-06T00:00:00\", \"2020-08-07T00:00:00\", \"2020-08-08T00:00:00\", \"2020-08-09T00:00:00\", \"2020-08-10T00:00:00\", \"2020-08-11T00:00:00\", \"2020-08-12T00:00:00\", \"2020-08-13T00:00:00\", \"2020-08-14T00:00:00\", \"2020-08-15T00:00:00\", \"2020-08-16T00:00:00\", \"2020-08-17T00:00:00\", \"2020-08-18T00:00:00\", \"2020-08-19T00:00:00\", \"2020-08-20T00:00:00\", \"2020-08-21T00:00:00\", \"2020-08-22T00:00:00\", \"2020-08-23T00:00:00\", \"2020-08-24T00:00:00\", \"2020-08-25T00:00:00\", \"2020-08-26T00:00:00\", \"2020-08-27T00:00:00\", \"2020-08-28T00:00:00\", \"2020-08-29T00:00:00\", \"2020-08-30T00:00:00\", \"2020-08-31T00:00:00\", \"2020-09-01T00:00:00\", \"2020-09-02T00:00:00\", \"2020-09-03T00:00:00\", \"2020-09-04T00:00:00\", \"2020-09-05T00:00:00\", \"2020-09-06T00:00:00\", \"2020-09-07T00:00:00\", \"2020-09-08T00:00:00\", \"2020-09-09T00:00:00\", \"2020-09-10T00:00:00\", \"2020-09-11T00:00:00\", \"2020-09-12T00:00:00\", \"2020-09-13T00:00:00\", \"2020-09-14T00:00:00\", \"2020-09-15T00:00:00\", \"2020-09-16T00:00:00\", \"2020-09-17T00:00:00\", \"2020-09-18T00:00:00\", \"2020-09-19T00:00:00\", \"2020-09-20T00:00:00\", \"2020-09-21T00:00:00\", \"2020-09-22T00:00:00\", \"2020-09-23T00:00:00\", \"2020-09-24T00:00:00\", \"2020-09-25T00:00:00\", \"2020-09-26T00:00:00\", \"2020-09-27T00:00:00\", \"2020-09-28T00:00:00\", \"2020-09-29T00:00:00\", \"2020-09-30T00:00:00\", \"2020-10-01T00:00:00\", \"2020-10-02T00:00:00\", \"2020-10-03T00:00:00\", \"2020-10-04T00:00:00\", \"2020-10-05T00:00:00\", \"2020-10-06T00:00:00\", \"2020-10-07T00:00:00\", \"2020-10-08T00:00:00\", \"2020-10-09T00:00:00\", \"2020-10-10T00:00:00\", \"2020-10-11T00:00:00\", \"2020-10-12T00:00:00\", \"2020-10-13T00:00:00\", \"2020-10-14T00:00:00\", \"2020-10-15T00:00:00\", \"2020-10-16T00:00:00\", \"2020-10-17T00:00:00\", \"2020-10-18T00:00:00\", \"2020-10-19T00:00:00\", \"2020-10-20T00:00:00\", \"2020-10-21T00:00:00\", \"2020-10-22T00:00:00\", \"2020-10-23T00:00:00\", \"2020-10-24T00:00:00\", \"2020-10-25T00:00:00\", \"2020-10-26T00:00:00\", \"2020-10-27T00:00:00\", \"2020-10-28T00:00:00\", \"2020-10-29T00:00:00\", \"2020-10-30T00:00:00\", \"2020-10-31T00:00:00\", \"2020-11-01T00:00:00\", \"2020-11-02T00:00:00\", \"2020-11-03T00:00:00\", \"2020-11-04T00:00:00\", \"2020-11-05T00:00:00\", \"2020-11-06T00:00:00\", \"2020-11-07T00:00:00\", \"2020-11-08T00:00:00\", \"2020-11-09T00:00:00\", \"2020-11-10T00:00:00\", \"2020-11-11T00:00:00\", \"2020-11-12T00:00:00\", \"2020-11-13T00:00:00\", \"2020-11-14T00:00:00\", \"2020-11-15T00:00:00\", \"2020-11-16T00:00:00\", \"2020-11-17T00:00:00\", \"2020-11-18T00:00:00\", \"2020-11-19T00:00:00\", \"2020-11-20T00:00:00\", \"2020-11-21T00:00:00\", \"2020-11-22T00:00:00\", \"2020-11-23T00:00:00\", \"2020-11-24T00:00:00\", \"2020-11-25T00:00:00\", \"2020-11-26T00:00:00\", \"2020-11-27T00:00:00\", \"2020-11-28T00:00:00\", \"2020-11-29T00:00:00\", \"2020-11-30T00:00:00\", \"2020-12-01T00:00:00\", \"2020-12-02T00:00:00\", \"2020-12-03T00:00:00\", \"2020-12-04T00:00:00\", \"2020-12-05T00:00:00\", \"2020-12-06T00:00:00\", \"2020-12-07T00:00:00\", \"2020-12-08T00:00:00\", \"2020-12-09T00:00:00\", \"2020-12-10T00:00:00\", \"2020-12-11T00:00:00\", \"2020-12-12T00:00:00\", \"2020-12-13T00:00:00\", \"2020-12-14T00:00:00\", \"2020-12-15T00:00:00\", \"2020-12-16T00:00:00\", \"2020-12-17T00:00:00\", \"2020-12-18T00:00:00\", \"2020-12-19T00:00:00\", \"2020-12-20T00:00:00\", \"2020-12-21T00:00:00\", \"2020-12-22T00:00:00\", \"2020-12-23T00:00:00\", \"2020-12-24T00:00:00\", \"2020-12-25T00:00:00\", \"2020-12-26T00:00:00\", \"2020-12-27T00:00:00\", \"2020-12-28T00:00:00\", \"2020-12-29T00:00:00\", \"2020-12-30T00:00:00\"], \"xaxis\": \"x\", \"y\": [2.0, 2.0, 2.0, 2.0, 2.0, 2.0, 2.0, 3.0, 3.0, 3.0, 3.0, 3.0, 3.0, 3.0, 3.0, 3.0, 3.0, 3.0, 3.0, 3.0, 3.0, 20.0, 62.0, 155.0, 229.0, 322.0, 453.0, 655.0, 888.0, 1128.0, 1694.0, 2036.0, 2502.0, 3089.0, 3858.0, 4636.0, 5883.0, 7375.0, 9172.0, 10149.0, 12462.0, 15113.0, 17660.0, 21157.0, 24747.0, 27980.0, 31506.0, 35713.0, 41035.0, 47021.0, 53578.0, 59138.0, 63927.0, 69176.0, 74386.0, 80589.0, 86498.0, 92472.0, 97689.0, 101739.0, 105792.0, 110574.0, 115242.0, 119827.0, 124632.0, 128948.0, 132547.0, 135586.0, 139422.0, 143626.0, 147577.0, 152271.0, 156363.0, 159516.0, 162488.0, 165155.0, 168941.0, 172434.0, 175925.0, 178972.0, 181228.0, 183957.0, 187327.0, 189973.0, 192994.0, 195351.0, 197675.0, 199414.0, 201505.0, 203591.0, 205463.0, 207428.0, 209328.0, 210717.0, 211938.0, 213013.0, 214457.0, 215858.0, 217185.0, 218268.0, 219070.0, 219814.0, 221216.0, 222104.0, 223096.0, 223885.0, 224760.0, 225435.0, 225886.0, 226699.0, 227364.0, 228006.0, 228658.0, 229327.0, 229858.0, 230158.0, 230555.0, 231139.0, 231732.0, 232248.0, 232664.0, 232997.0, 233197.0, 233515.0, 233836.0, 234013.0, 234531.0, 234801.0, 234998.0, 235278.0, 235561.0, 235763.0, 236142.0, 236305.0, 236651.0, 236989.0, 237290.0, 237500.0, 237828.0, 238159.0, 238011.0, 238275.0, 238499.0, 238720.0, 238833.0, 239410.0, 239706.0, 239961.0, 240136.0, 240310.0, 240436.0, 240578.0, 240760.0, 240961.0, 241184.0, 241419.0, 241611.0, 241819.0, 241956.0, 242149.0, 242363.0, 242639.0, 242827.0, 243061.0, 243230.0, 243344.0, 243506.0, 243736.0, 243967.0, 244216.0, 244434.0, 244624.0, 244752.0, 245032.0, 245338.0, 245590.0, 245864.0, 246118.0, 246286.0, 246488.0, 246776.0, 247158.0, 247537.0, 247832.0, 248070.0, 248229.0, 248419.0, 248803.0, 249204.0, 249756.0, 250103.0, 250566.0, 250825.0, 251237.0, 251713.0, 252235.0, 252809.0, 253438.0, 253915.0, 254235.0, 254636.0, 255278.0, 256118.0, 257065.0, 258136.0, 259345.0, 260298.0, 261174.0, 262540.0, 263949.0, 265409.0, 266853.0, 268218.0, 269214.0, 270189.0, 271515.0, 272912.0, 274644.0, 276338.0, 277634.0, 278784.0, 280153.0, 281583.0, 283180.0, 284796.0, 286297.0, 287753.0, 288761.0, 289990.0, 291442.0, 293025.0, 294932.0, 296569.0, 298156.0, 299506.0, 300897.0, 302537.0, 304323.0, 306235.0, 308104.0, 309870.0, 311364.0, 313011.0, 314861.0, 317409.0, 319908.0, 322751.0, 325329.0, 327586.0, 330263.0, 333940.0, 338398.0, 343770.0, 349494.0, 354950.0, 359569.0, 365467.0, 372799.0, 381602.0, 391611.0, 402536.0, 414241.0, 423578.0, 434449.0, 449648.0, 465726.0, 484869.0, 504509.0, 525782.0, 542789.0, 564778.0, 589766.0, 616595.0, 647674.0, 679430.0, 709335.0, 731588.0, 759829.0, 790377.0, 824879.0, 862681.0, 902490.0, 935104.0, 960373.0, 995463.0, 1028424.0, 1066401.0, 1107303.0, 1144552.0, 1178529.0, 1205881.0, 1238072.0, 1272352.0, 1308528.0, 1345767.0, 1380531.0, 1408868.0, 1431795.0, 1455022.0, 1480874.0, 1509875.0, 1538217.0, 1564532.0, 1585178.0, 1601554.0, 1620901.0, 1641610.0, 1664829.0, 1688939.0, 1709991.0, 1728878.0, 1742557.0, 1757394.0, 1770149.0, 1787147.0, 1805873.0, 1825775.0, 1843712.0, 1855737.0, 1870576.0, 1888144.0, 1906377.0, 1921778.0, 1938083.0, 1953185.0, 1964054.0, 1977370.0, 1991278.0, 2009317.0, 2028354.0, 2038759.0, 2047696.0, 2056277.0, 2067487.0, 2083689.0], \"yaxis\": \"y2\"}],                        {\"template\": {\"data\": {\"bar\": [{\"error_x\": {\"color\": \"#2a3f5f\"}, \"error_y\": {\"color\": \"#2a3f5f\"}, \"marker\": {\"line\": {\"color\": \"#E5ECF6\", \"width\": 0.5}}, \"type\": \"bar\"}], \"barpolar\": [{\"marker\": {\"line\": {\"color\": \"#E5ECF6\", \"width\": 0.5}}, \"type\": \"barpolar\"}], \"carpet\": [{\"aaxis\": {\"endlinecolor\": \"#2a3f5f\", \"gridcolor\": \"white\", \"linecolor\": \"white\", \"minorgridcolor\": \"white\", \"startlinecolor\": \"#2a3f5f\"}, \"baxis\": {\"endlinecolor\": \"#2a3f5f\", \"gridcolor\": \"white\", \"linecolor\": \"white\", \"minorgridcolor\": \"white\", \"startlinecolor\": \"#2a3f5f\"}, \"type\": \"carpet\"}], \"choropleth\": [{\"colorbar\": {\"outlinewidth\": 0, \"ticks\": \"\"}, \"type\": \"choropleth\"}], \"contour\": [{\"colorbar\": {\"outlinewidth\": 0, \"ticks\": \"\"}, \"colorscale\": [[0.0, \"#0d0887\"], [0.1111111111111111, \"#46039f\"], [0.2222222222222222, \"#7201a8\"], [0.3333333333333333, \"#9c179e\"], [0.4444444444444444, \"#bd3786\"], [0.5555555555555556, \"#d8576b\"], [0.6666666666666666, \"#ed7953\"], [0.7777777777777778, \"#fb9f3a\"], [0.8888888888888888, \"#fdca26\"], [1.0, \"#f0f921\"]], \"type\": \"contour\"}], \"contourcarpet\": [{\"colorbar\": {\"outlinewidth\": 0, \"ticks\": \"\"}, \"type\": \"contourcarpet\"}], \"heatmap\": [{\"colorbar\": {\"outlinewidth\": 0, \"ticks\": \"\"}, \"colorscale\": [[0.0, \"#0d0887\"], [0.1111111111111111, \"#46039f\"], [0.2222222222222222, \"#7201a8\"], [0.3333333333333333, \"#9c179e\"], [0.4444444444444444, \"#bd3786\"], [0.5555555555555556, \"#d8576b\"], [0.6666666666666666, \"#ed7953\"], [0.7777777777777778, \"#fb9f3a\"], [0.8888888888888888, \"#fdca26\"], [1.0, \"#f0f921\"]], \"type\": \"heatmap\"}], \"heatmapgl\": [{\"colorbar\": {\"outlinewidth\": 0, \"ticks\": \"\"}, \"colorscale\": [[0.0, \"#0d0887\"], [0.1111111111111111, \"#46039f\"], [0.2222222222222222, \"#7201a8\"], [0.3333333333333333, \"#9c179e\"], [0.4444444444444444, \"#bd3786\"], [0.5555555555555556, \"#d8576b\"], [0.6666666666666666, \"#ed7953\"], [0.7777777777777778, \"#fb9f3a\"], [0.8888888888888888, \"#fdca26\"], [1.0, \"#f0f921\"]], \"type\": \"heatmapgl\"}], \"histogram\": [{\"marker\": {\"colorbar\": {\"outlinewidth\": 0, \"ticks\": \"\"}}, \"type\": \"histogram\"}], \"histogram2d\": [{\"colorbar\": {\"outlinewidth\": 0, \"ticks\": \"\"}, \"colorscale\": [[0.0, \"#0d0887\"], [0.1111111111111111, \"#46039f\"], [0.2222222222222222, \"#7201a8\"], [0.3333333333333333, \"#9c179e\"], [0.4444444444444444, \"#bd3786\"], [0.5555555555555556, \"#d8576b\"], [0.6666666666666666, \"#ed7953\"], [0.7777777777777778, \"#fb9f3a\"], [0.8888888888888888, \"#fdca26\"], [1.0, \"#f0f921\"]], \"type\": \"histogram2d\"}], \"histogram2dcontour\": [{\"colorbar\": {\"outlinewidth\": 0, \"ticks\": \"\"}, \"colorscale\": [[0.0, \"#0d0887\"], [0.1111111111111111, \"#46039f\"], [0.2222222222222222, \"#7201a8\"], [0.3333333333333333, \"#9c179e\"], [0.4444444444444444, \"#bd3786\"], [0.5555555555555556, \"#d8576b\"], [0.6666666666666666, \"#ed7953\"], [0.7777777777777778, \"#fb9f3a\"], [0.8888888888888888, \"#fdca26\"], [1.0, \"#f0f921\"]], \"type\": \"histogram2dcontour\"}], \"mesh3d\": [{\"colorbar\": {\"outlinewidth\": 0, \"ticks\": \"\"}, \"type\": \"mesh3d\"}], \"parcoords\": [{\"line\": {\"colorbar\": {\"outlinewidth\": 0, \"ticks\": \"\"}}, \"type\": \"parcoords\"}], \"pie\": [{\"automargin\": true, \"type\": \"pie\"}], \"scatter\": [{\"marker\": {\"colorbar\": {\"outlinewidth\": 0, \"ticks\": \"\"}}, \"type\": \"scatter\"}], \"scatter3d\": [{\"line\": {\"colorbar\": {\"outlinewidth\": 0, \"ticks\": \"\"}}, \"marker\": {\"colorbar\": {\"outlinewidth\": 0, \"ticks\": \"\"}}, \"type\": \"scatter3d\"}], \"scattercarpet\": [{\"marker\": {\"colorbar\": {\"outlinewidth\": 0, \"ticks\": \"\"}}, \"type\": \"scattercarpet\"}], \"scattergeo\": [{\"marker\": {\"colorbar\": {\"outlinewidth\": 0, \"ticks\": \"\"}}, \"type\": \"scattergeo\"}], \"scattergl\": [{\"marker\": {\"colorbar\": {\"outlinewidth\": 0, \"ticks\": \"\"}}, \"type\": \"scattergl\"}], \"scattermapbox\": [{\"marker\": {\"colorbar\": {\"outlinewidth\": 0, \"ticks\": \"\"}}, \"type\": \"scattermapbox\"}], \"scatterpolar\": [{\"marker\": {\"colorbar\": {\"outlinewidth\": 0, \"ticks\": \"\"}}, \"type\": \"scatterpolar\"}], \"scatterpolargl\": [{\"marker\": {\"colorbar\": {\"outlinewidth\": 0, \"ticks\": \"\"}}, \"type\": \"scatterpolargl\"}], \"scatterternary\": [{\"marker\": {\"colorbar\": {\"outlinewidth\": 0, \"ticks\": \"\"}}, \"type\": \"scatterternary\"}], \"surface\": [{\"colorbar\": {\"outlinewidth\": 0, \"ticks\": \"\"}, \"colorscale\": [[0.0, \"#0d0887\"], [0.1111111111111111, \"#46039f\"], [0.2222222222222222, \"#7201a8\"], [0.3333333333333333, \"#9c179e\"], [0.4444444444444444, \"#bd3786\"], [0.5555555555555556, \"#d8576b\"], [0.6666666666666666, \"#ed7953\"], [0.7777777777777778, \"#fb9f3a\"], [0.8888888888888888, \"#fdca26\"], [1.0, \"#f0f921\"]], \"type\": \"surface\"}], \"table\": [{\"cells\": {\"fill\": {\"color\": \"#EBF0F8\"}, \"line\": {\"color\": \"white\"}}, \"header\": {\"fill\": {\"color\": \"#C8D4E3\"}, \"line\": {\"color\": \"white\"}}, \"type\": \"table\"}]}, \"layout\": {\"annotationdefaults\": {\"arrowcolor\": \"#2a3f5f\", \"arrowhead\": 0, \"arrowwidth\": 1}, \"autotypenumbers\": \"strict\", \"coloraxis\": {\"colorbar\": {\"outlinewidth\": 0, \"ticks\": \"\"}}, \"colorscale\": {\"diverging\": [[0, \"#8e0152\"], [0.1, \"#c51b7d\"], [0.2, \"#de77ae\"], [0.3, \"#f1b6da\"], [0.4, \"#fde0ef\"], [0.5, \"#f7f7f7\"], [0.6, \"#e6f5d0\"], [0.7, \"#b8e186\"], [0.8, \"#7fbc41\"], [0.9, \"#4d9221\"], [1, \"#276419\"]], \"sequential\": [[0.0, \"#0d0887\"], [0.1111111111111111, \"#46039f\"], [0.2222222222222222, \"#7201a8\"], [0.3333333333333333, \"#9c179e\"], [0.4444444444444444, \"#bd3786\"], [0.5555555555555556, \"#d8576b\"], [0.6666666666666666, \"#ed7953\"], [0.7777777777777778, \"#fb9f3a\"], [0.8888888888888888, \"#fdca26\"], [1.0, \"#f0f921\"]], \"sequentialminus\": [[0.0, \"#0d0887\"], [0.1111111111111111, \"#46039f\"], [0.2222222222222222, \"#7201a8\"], [0.3333333333333333, \"#9c179e\"], [0.4444444444444444, \"#bd3786\"], [0.5555555555555556, \"#d8576b\"], [0.6666666666666666, \"#ed7953\"], [0.7777777777777778, \"#fb9f3a\"], [0.8888888888888888, \"#fdca26\"], [1.0, \"#f0f921\"]]}, \"colorway\": [\"#636efa\", \"#EF553B\", \"#00cc96\", \"#ab63fa\", \"#FFA15A\", \"#19d3f3\", \"#FF6692\", \"#B6E880\", \"#FF97FF\", \"#FECB52\"], \"font\": {\"color\": \"#2a3f5f\"}, \"geo\": {\"bgcolor\": \"white\", \"lakecolor\": \"white\", \"landcolor\": \"#E5ECF6\", \"showlakes\": true, \"showland\": true, \"subunitcolor\": \"white\"}, \"hoverlabel\": {\"align\": \"left\"}, \"hovermode\": \"closest\", \"mapbox\": {\"style\": \"light\"}, \"paper_bgcolor\": \"white\", \"plot_bgcolor\": \"#E5ECF6\", \"polar\": {\"angularaxis\": {\"gridcolor\": \"white\", \"linecolor\": \"white\", \"ticks\": \"\"}, \"bgcolor\": \"#E5ECF6\", \"radialaxis\": {\"gridcolor\": \"white\", \"linecolor\": \"white\", \"ticks\": \"\"}}, \"scene\": {\"xaxis\": {\"backgroundcolor\": \"#E5ECF6\", \"gridcolor\": \"white\", \"gridwidth\": 2, \"linecolor\": \"white\", \"showbackground\": true, \"ticks\": \"\", \"zerolinecolor\": \"white\"}, \"yaxis\": {\"backgroundcolor\": \"#E5ECF6\", \"gridcolor\": \"white\", \"gridwidth\": 2, \"linecolor\": \"white\", \"showbackground\": true, \"ticks\": \"\", \"zerolinecolor\": \"white\"}, \"zaxis\": {\"backgroundcolor\": \"#E5ECF6\", \"gridcolor\": \"white\", \"gridwidth\": 2, \"linecolor\": \"white\", \"showbackground\": true, \"ticks\": \"\", \"zerolinecolor\": \"white\"}}, \"shapedefaults\": {\"line\": {\"color\": \"#2a3f5f\"}}, \"ternary\": {\"aaxis\": {\"gridcolor\": \"white\", \"linecolor\": \"white\", \"ticks\": \"\"}, \"baxis\": {\"gridcolor\": \"white\", \"linecolor\": \"white\", \"ticks\": \"\"}, \"bgcolor\": \"#E5ECF6\", \"caxis\": {\"gridcolor\": \"white\", \"linecolor\": \"white\", \"ticks\": \"\"}}, \"title\": {\"x\": 0.05}, \"xaxis\": {\"automargin\": true, \"gridcolor\": \"white\", \"linecolor\": \"white\", \"ticks\": \"\", \"title\": {\"standoff\": 15}, \"zerolinecolor\": \"white\", \"zerolinewidth\": 2}, \"yaxis\": {\"automargin\": true, \"gridcolor\": \"white\", \"linecolor\": \"white\", \"ticks\": \"\", \"title\": {\"standoff\": 15}, \"zerolinecolor\": \"white\", \"zerolinewidth\": 2}}}, \"title\": {\"text\": \"Daily Covid Cases (New & Cummulative) in Italy\"}, \"xaxis\": {\"anchor\": \"y\", \"domain\": [0.0, 0.94], \"title\": {\"text\": \"Date\"}}, \"yaxis\": {\"anchor\": \"x\", \"domain\": [0.0, 1.0], \"title\": {\"text\": \"New cases\"}}, \"yaxis2\": {\"anchor\": \"x\", \"overlaying\": \"y\", \"side\": \"right\", \"title\": {\"text\": \"Total Cases\"}}},                        {\"responsive\": true}                    ).then(function(){\n",
       "                            \n",
       "var gd = document.getElementById('ef747c3d-65f3-4dae-93a2-908f3dda640b');\n",
       "var x = new MutationObserver(function (mutations, observer) {{\n",
       "        var display = window.getComputedStyle(gd).display;\n",
       "        if (!display || display === 'none') {{\n",
       "            console.log([gd, 'removed!']);\n",
       "            Plotly.purge(gd);\n",
       "            observer.disconnect();\n",
       "        }}\n",
       "}});\n",
       "\n",
       "// Listen for the removal of the full notebook cells\n",
       "var notebookContainer = gd.closest('#notebook-container');\n",
       "if (notebookContainer) {{\n",
       "    x.observe(notebookContainer, {childList: true});\n",
       "}}\n",
       "\n",
       "// Listen for the clearing of the current output cell\n",
       "var outputEl = gd.closest('.output');\n",
       "if (outputEl) {{\n",
       "    x.observe(outputEl, {childList: true});\n",
       "}}\n",
       "\n",
       "                        })                };                });            </script>        </div>"
      ]
     },
     "metadata": {},
     "output_type": "display_data"
    }
   ],
   "source": [
    "df_2020 = df[(df['date'] > '2020-01-01') & (df['date'] < '2020-12-31')]\n",
    "df_2020_italy = df_2020[df_2020['location'] == 'Italy']\n",
    "df_2020_italy.head()\n",
    "subfig = make_subplots(specs=[[{\"secondary_y\": True}]])\n",
    "\n",
    "# create two independent figures with px.line each containing data from multiple columns\n",
    "fig = px.line(df_2020_italy,x=\"date\", y=\"new_cases\", render_mode=\"webgl\",)\n",
    "fig2 = px.line(df_2020_italy,x=\"date\", y=\"total_cases\", render_mode=\"webgl\",)\n",
    "\n",
    "fig2.update_traces(yaxis=\"y2\")\n",
    "\n",
    "subfig.add_traces(fig.data + fig2.data)\n",
    "subfig.layout.xaxis.title=\"Date\"\n",
    "subfig.layout.yaxis.title=\"New cases\"\n",
    "# subfig.layout.yaxis2.type=\"log\"\n",
    "subfig.layout.yaxis2.title=\"Total Cases\"\n",
    "subfig.layout.title ='Daily Covid Cases (New & Cummulative) in Italy'\n",
    "# recoloring is necessary otherwise lines from fig und fig2 would share each color\n",
    "# e.g. Linear-, Log- = blue; Linear+, Log+ = red... we don't want this\n",
    "subfig.for_each_trace(lambda t: t.update(line=dict(color=t.marker.color)))\n",
    "subfig.show()"
   ]
  },
  {
   "cell_type": "code",
   "execution_count": 32,
   "id": "expired-crown",
   "metadata": {},
   "outputs": [
    {
     "data": {
      "application/vnd.jupyter.widget-view+json": {
       "model_id": "d328bd4f39ef43f982dd0a1780e3c9f2",
       "version_major": 2,
       "version_minor": 0
      },
      "text/plain": [
       "interactive(children=(DatePicker(value=datetime.date(2020, 1, 1), description='From'), DatePicker(value=dateti…"
      ]
     },
     "metadata": {},
     "output_type": "display_data"
    },
    {
     "data": {
      "application/vnd.jupyter.widget-view+json": {
       "model_id": "5b3db6f02c1147a582015a03389dff98",
       "version_major": 2,
       "version_minor": 0
      },
      "text/plain": [
       "interactive(children=(SelectMultiple(description='Country', options=('Afghanistan', 'Africa', 'Albania', 'Alge…"
      ]
     },
     "metadata": {},
     "output_type": "display_data"
    },
    {
     "data": {
      "text/plain": [
       "<function __main__.filter_by_country(columns)>"
      ]
     },
     "execution_count": 32,
     "metadata": {},
     "output_type": "execute_result"
    }
   ],
   "source": [
    "import ipywidgets as widgets\n",
    "from ipywidgets import interact, interact_manual\n",
    "def filter_by_date(start_date,end_date):\n",
    "    df_filtered = df[(df['date'] >= str(start_date)) & (df['date'] <= str(end_date))]\n",
    "    df_filtered.to_csv('data/filtered_date.csv')\n",
    "#     return df_filtered\n",
    "\n",
    "def filter_by_country(columns):\n",
    "#     df_date_filtered = pd.read_csv('data/filtered_date.csv',parse_dates=['date'])\n",
    "    df_location_filtered = df_date_filtered[(df_date_filtered['location'].isin(columns))]\n",
    "    df_location_filtered.to_csv('data/filtered_location.csv')\n",
    "#     return df_location_filtered\n",
    "    \n",
    "interact(filter_by_date,\n",
    "        start_date=widgets.DatePicker(value=df.date.min().date(),description='From'),\n",
    "        end_date=widgets.DatePicker(value=df.date.max().date(),description='To'))\n",
    "\n",
    "df_date_filtered = pd.read_csv('data/filtered_date.csv',parse_dates=['date'])\n",
    "interact(filter_by_country,\n",
    "        columns = widgets.SelectMultiple(\n",
    "            options=df_date_filtered['location'].unique(),\n",
    "            #rows=10,\n",
    "            description='Country',\n",
    "            disabled=False))"
   ]
  },
  {
   "cell_type": "code",
   "execution_count": 63,
   "id": "significant-divorce",
   "metadata": {},
   "outputs": [],
   "source": [
    "df_filtered = pd.read_csv('data/filtered_location.csv',parse_dates=['date'])\n",
    "df_filtered = df_filtered.loc[:,~df_filtered.columns.str.match(\"Unnamed\")]\n"
   ]
  },
  {
   "cell_type": "code",
   "execution_count": 64,
   "id": "arbitrary-throw",
   "metadata": {},
   "outputs": [
    {
     "data": {
      "application/vnd.plotly.v1+json": {
       "config": {
        "plotlyServerURL": "https://plot.ly"
       },
       "data": [
        {
         "alignmentgroup": "True",
         "hovertemplate": "Date=%{x}<br>Daily new cases=%{y}<br>Test Positivity Rate=%{marker.color}<extra></extra>",
         "legendgroup": "",
         "marker": {
          "color": [
           null,
           null,
           null,
           null,
           null,
           null,
           0.06,
           0.05528571428571428,
           0.05857142857142857,
           0.11285714285714286,
           0.17485714285714285,
           0.19799999999999998,
           0.18214285714285713,
           0.15185714285714288,
           0.11257142857142856,
           0.087,
           0.062285714285714285,
           0.05542857142857143,
           0.047999999999999994,
           0.041999999999999996,
           0.03885714285714286,
           0.04071428571428572,
           0.05185714285714286,
           0.061142857142857145,
           0.0672857142857143,
           0.06942857142857144,
           0.06871428571428571,
           0.06957142857142858,
           0.0642857142857143,
           0.06028571428571428,
           0.05428571428571428,
           0.04914285714285714,
           0.047857142857142855,
           0.04499999999999999,
           0.04214285714285714,
           0.04457142857142856,
           0.043714285714285706,
           0.043142857142857136,
           0.048571428571428564,
           0.05485714285714286,
           0.061857142857142854,
           0.07828571428571429,
           0.09014285714285712,
           0.09557142857142856,
           0.09585714285714285,
           0.108,
           0.1172857142857143,
           0.12214285714285714,
           0.118,
           0.1305714285714286,
           0.14085714285714285,
           0.12971428571428573,
           0.11042857142857142,
           0.09714285714285713,
           0.08585714285714285,
           0.07228571428571429,
           0.06357142857142857,
           0.053714285714285714,
           0.048857142857142856,
           0.044285714285714275,
           0.04514285714285714,
           0.04771428571428571,
           0.053142857142857144,
           0.05457142857142857,
           0.05457142857142857,
           0.049428571428571426,
           0.04257142857142857,
           0.04,
           0.03442857142857143,
           0.030571428571428572,
           0.027142857142857142,
           0.02214285714285714,
           0.019857142857142858,
           0.018714285714285715,
           0.019,
           0.021999999999999995,
           0.031142857142857146,
           0.045285714285714276,
           0.06185714285714287,
           0.08128571428571428,
           0.09614285714285713,
           0.10328571428571429,
           0.10585714285714286,
           0.10285714285714286,
           0.09971428571428571,
           0.09742857142857142,
           0.09228571428571428,
           0.082,
           0.092
          ],
          "coloraxis": "coloraxis"
         },
         "name": "",
         "offsetgroup": "",
         "orientation": "v",
         "showlegend": false,
         "textposition": "auto",
         "type": "bar",
         "x": [
          "2020-01-26T00:00:00",
          "2020-02-02T00:00:00",
          "2020-02-09T00:00:00",
          "2020-02-16T00:00:00",
          "2020-02-23T00:00:00",
          "2020-03-01T00:00:00",
          "2020-03-08T00:00:00",
          "2020-03-15T00:00:00",
          "2020-03-22T00:00:00",
          "2020-03-29T00:00:00",
          "2020-04-05T00:00:00",
          "2020-04-12T00:00:00",
          "2020-04-19T00:00:00",
          "2020-04-26T00:00:00",
          "2020-05-03T00:00:00",
          "2020-05-10T00:00:00",
          "2020-05-17T00:00:00",
          "2020-05-24T00:00:00",
          "2020-05-31T00:00:00",
          "2020-06-07T00:00:00",
          "2020-06-14T00:00:00",
          "2020-06-21T00:00:00",
          "2020-06-28T00:00:00",
          "2020-07-05T00:00:00",
          "2020-07-12T00:00:00",
          "2020-07-19T00:00:00",
          "2020-07-26T00:00:00",
          "2020-08-02T00:00:00",
          "2020-08-09T00:00:00",
          "2020-08-16T00:00:00",
          "2020-08-23T00:00:00",
          "2020-08-30T00:00:00",
          "2020-09-06T00:00:00",
          "2020-09-13T00:00:00",
          "2020-09-20T00:00:00",
          "2020-09-27T00:00:00",
          "2020-10-04T00:00:00",
          "2020-10-11T00:00:00",
          "2020-10-18T00:00:00",
          "2020-10-25T00:00:00",
          "2020-11-01T00:00:00",
          "2020-11-08T00:00:00",
          "2020-11-15T00:00:00",
          "2020-11-22T00:00:00",
          "2020-11-29T00:00:00",
          "2020-12-06T00:00:00",
          "2020-12-13T00:00:00",
          "2020-12-20T00:00:00",
          "2020-12-27T00:00:00",
          "2021-01-03T00:00:00",
          "2021-01-10T00:00:00",
          "2021-01-17T00:00:00",
          "2021-01-24T00:00:00",
          "2021-01-31T00:00:00",
          "2021-02-07T00:00:00",
          "2021-02-14T00:00:00",
          "2021-02-21T00:00:00",
          "2021-02-28T00:00:00",
          "2021-03-07T00:00:00",
          "2021-03-14T00:00:00",
          "2021-03-21T00:00:00",
          "2021-03-28T00:00:00",
          "2021-04-04T00:00:00",
          "2021-04-11T00:00:00",
          "2021-04-18T00:00:00",
          "2021-04-25T00:00:00",
          "2021-05-02T00:00:00",
          "2021-05-09T00:00:00",
          "2021-05-16T00:00:00",
          "2021-05-23T00:00:00",
          "2021-05-30T00:00:00",
          "2021-06-06T00:00:00",
          "2021-06-13T00:00:00",
          "2021-06-20T00:00:00",
          "2021-06-27T00:00:00",
          "2021-07-04T00:00:00",
          "2021-07-11T00:00:00",
          "2021-07-18T00:00:00",
          "2021-07-25T00:00:00",
          "2021-08-01T00:00:00",
          "2021-08-08T00:00:00",
          "2021-08-15T00:00:00",
          "2021-08-22T00:00:00",
          "2021-08-29T00:00:00",
          "2021-09-05T00:00:00",
          "2021-09-12T00:00:00",
          "2021-09-19T00:00:00",
          "2021-09-26T00:00:00",
          "2021-10-03T00:00:00"
         ],
         "xaxis": "x",
         "y": [
          4,
          3,
          4,
          2,
          2,
          16,
          487,
          2693,
          31732,
          108600,
          207169,
          220099,
          198439,
          207620,
          190706,
          171533,
          156899,
          156800,
          146865,
          144443,
          147910,
          188386,
          274707,
          347781,
          411546,
          465875,
          461264,
          430159,
          377192,
          356983,
          295319,
          291193,
          285572,
          244108,
          287417,
          308434,
          301479,
          352679,
          394740,
          496262,
          609667,
          819746,
          1059524,
          1218087,
          1154333,
          1413243,
          1525504,
          1536300,
          1304136,
          1513946,
          1733671,
          1529284,
          1184642,
          1035762,
          824374,
          636829,
          463976,
          475474,
          415582,
          375426,
          382539,
          443055,
          446366,
          489749,
          472033,
          407872,
          344745,
          286350,
          232437,
          177164,
          140472,
          101062,
          99844,
          80516,
          86336,
          89764,
          140469,
          231461,
          367481,
          566864,
          761374,
          920580,
          1035433,
          1094592,
          1148169,
          1022148,
          1033144,
          837213,
          686766
         ],
         "yaxis": "y"
        }
       ],
       "layout": {
        "barmode": "relative",
        "coloraxis": {
         "colorbar": {
          "title": {
           "text": "Test Positivity Rate"
          }
         },
         "colorscale": [
          [
           0,
           "#0d0887"
          ],
          [
           0.1111111111111111,
           "#46039f"
          ],
          [
           0.2222222222222222,
           "#7201a8"
          ],
          [
           0.3333333333333333,
           "#9c179e"
          ],
          [
           0.4444444444444444,
           "#bd3786"
          ],
          [
           0.5555555555555556,
           "#d8576b"
          ],
          [
           0.6666666666666666,
           "#ed7953"
          ],
          [
           0.7777777777777778,
           "#fb9f3a"
          ],
          [
           0.8888888888888888,
           "#fdca26"
          ],
          [
           1,
           "#f0f921"
          ]
         ]
        },
        "legend": {
         "tracegroupgap": 0
        },
        "template": {
         "data": {
          "bar": [
           {
            "error_x": {
             "color": "#2a3f5f"
            },
            "error_y": {
             "color": "#2a3f5f"
            },
            "marker": {
             "line": {
              "color": "#E5ECF6",
              "width": 0.5
             }
            },
            "type": "bar"
           }
          ],
          "barpolar": [
           {
            "marker": {
             "line": {
              "color": "#E5ECF6",
              "width": 0.5
             }
            },
            "type": "barpolar"
           }
          ],
          "carpet": [
           {
            "aaxis": {
             "endlinecolor": "#2a3f5f",
             "gridcolor": "white",
             "linecolor": "white",
             "minorgridcolor": "white",
             "startlinecolor": "#2a3f5f"
            },
            "baxis": {
             "endlinecolor": "#2a3f5f",
             "gridcolor": "white",
             "linecolor": "white",
             "minorgridcolor": "white",
             "startlinecolor": "#2a3f5f"
            },
            "type": "carpet"
           }
          ],
          "choropleth": [
           {
            "colorbar": {
             "outlinewidth": 0,
             "ticks": ""
            },
            "type": "choropleth"
           }
          ],
          "contour": [
           {
            "colorbar": {
             "outlinewidth": 0,
             "ticks": ""
            },
            "colorscale": [
             [
              0,
              "#0d0887"
             ],
             [
              0.1111111111111111,
              "#46039f"
             ],
             [
              0.2222222222222222,
              "#7201a8"
             ],
             [
              0.3333333333333333,
              "#9c179e"
             ],
             [
              0.4444444444444444,
              "#bd3786"
             ],
             [
              0.5555555555555556,
              "#d8576b"
             ],
             [
              0.6666666666666666,
              "#ed7953"
             ],
             [
              0.7777777777777778,
              "#fb9f3a"
             ],
             [
              0.8888888888888888,
              "#fdca26"
             ],
             [
              1,
              "#f0f921"
             ]
            ],
            "type": "contour"
           }
          ],
          "contourcarpet": [
           {
            "colorbar": {
             "outlinewidth": 0,
             "ticks": ""
            },
            "type": "contourcarpet"
           }
          ],
          "heatmap": [
           {
            "colorbar": {
             "outlinewidth": 0,
             "ticks": ""
            },
            "colorscale": [
             [
              0,
              "#0d0887"
             ],
             [
              0.1111111111111111,
              "#46039f"
             ],
             [
              0.2222222222222222,
              "#7201a8"
             ],
             [
              0.3333333333333333,
              "#9c179e"
             ],
             [
              0.4444444444444444,
              "#bd3786"
             ],
             [
              0.5555555555555556,
              "#d8576b"
             ],
             [
              0.6666666666666666,
              "#ed7953"
             ],
             [
              0.7777777777777778,
              "#fb9f3a"
             ],
             [
              0.8888888888888888,
              "#fdca26"
             ],
             [
              1,
              "#f0f921"
             ]
            ],
            "type": "heatmap"
           }
          ],
          "heatmapgl": [
           {
            "colorbar": {
             "outlinewidth": 0,
             "ticks": ""
            },
            "colorscale": [
             [
              0,
              "#0d0887"
             ],
             [
              0.1111111111111111,
              "#46039f"
             ],
             [
              0.2222222222222222,
              "#7201a8"
             ],
             [
              0.3333333333333333,
              "#9c179e"
             ],
             [
              0.4444444444444444,
              "#bd3786"
             ],
             [
              0.5555555555555556,
              "#d8576b"
             ],
             [
              0.6666666666666666,
              "#ed7953"
             ],
             [
              0.7777777777777778,
              "#fb9f3a"
             ],
             [
              0.8888888888888888,
              "#fdca26"
             ],
             [
              1,
              "#f0f921"
             ]
            ],
            "type": "heatmapgl"
           }
          ],
          "histogram": [
           {
            "marker": {
             "colorbar": {
              "outlinewidth": 0,
              "ticks": ""
             }
            },
            "type": "histogram"
           }
          ],
          "histogram2d": [
           {
            "colorbar": {
             "outlinewidth": 0,
             "ticks": ""
            },
            "colorscale": [
             [
              0,
              "#0d0887"
             ],
             [
              0.1111111111111111,
              "#46039f"
             ],
             [
              0.2222222222222222,
              "#7201a8"
             ],
             [
              0.3333333333333333,
              "#9c179e"
             ],
             [
              0.4444444444444444,
              "#bd3786"
             ],
             [
              0.5555555555555556,
              "#d8576b"
             ],
             [
              0.6666666666666666,
              "#ed7953"
             ],
             [
              0.7777777777777778,
              "#fb9f3a"
             ],
             [
              0.8888888888888888,
              "#fdca26"
             ],
             [
              1,
              "#f0f921"
             ]
            ],
            "type": "histogram2d"
           }
          ],
          "histogram2dcontour": [
           {
            "colorbar": {
             "outlinewidth": 0,
             "ticks": ""
            },
            "colorscale": [
             [
              0,
              "#0d0887"
             ],
             [
              0.1111111111111111,
              "#46039f"
             ],
             [
              0.2222222222222222,
              "#7201a8"
             ],
             [
              0.3333333333333333,
              "#9c179e"
             ],
             [
              0.4444444444444444,
              "#bd3786"
             ],
             [
              0.5555555555555556,
              "#d8576b"
             ],
             [
              0.6666666666666666,
              "#ed7953"
             ],
             [
              0.7777777777777778,
              "#fb9f3a"
             ],
             [
              0.8888888888888888,
              "#fdca26"
             ],
             [
              1,
              "#f0f921"
             ]
            ],
            "type": "histogram2dcontour"
           }
          ],
          "mesh3d": [
           {
            "colorbar": {
             "outlinewidth": 0,
             "ticks": ""
            },
            "type": "mesh3d"
           }
          ],
          "parcoords": [
           {
            "line": {
             "colorbar": {
              "outlinewidth": 0,
              "ticks": ""
             }
            },
            "type": "parcoords"
           }
          ],
          "pie": [
           {
            "automargin": true,
            "type": "pie"
           }
          ],
          "scatter": [
           {
            "marker": {
             "colorbar": {
              "outlinewidth": 0,
              "ticks": ""
             }
            },
            "type": "scatter"
           }
          ],
          "scatter3d": [
           {
            "line": {
             "colorbar": {
              "outlinewidth": 0,
              "ticks": ""
             }
            },
            "marker": {
             "colorbar": {
              "outlinewidth": 0,
              "ticks": ""
             }
            },
            "type": "scatter3d"
           }
          ],
          "scattercarpet": [
           {
            "marker": {
             "colorbar": {
              "outlinewidth": 0,
              "ticks": ""
             }
            },
            "type": "scattercarpet"
           }
          ],
          "scattergeo": [
           {
            "marker": {
             "colorbar": {
              "outlinewidth": 0,
              "ticks": ""
             }
            },
            "type": "scattergeo"
           }
          ],
          "scattergl": [
           {
            "marker": {
             "colorbar": {
              "outlinewidth": 0,
              "ticks": ""
             }
            },
            "type": "scattergl"
           }
          ],
          "scattermapbox": [
           {
            "marker": {
             "colorbar": {
              "outlinewidth": 0,
              "ticks": ""
             }
            },
            "type": "scattermapbox"
           }
          ],
          "scatterpolar": [
           {
            "marker": {
             "colorbar": {
              "outlinewidth": 0,
              "ticks": ""
             }
            },
            "type": "scatterpolar"
           }
          ],
          "scatterpolargl": [
           {
            "marker": {
             "colorbar": {
              "outlinewidth": 0,
              "ticks": ""
             }
            },
            "type": "scatterpolargl"
           }
          ],
          "scatterternary": [
           {
            "marker": {
             "colorbar": {
              "outlinewidth": 0,
              "ticks": ""
             }
            },
            "type": "scatterternary"
           }
          ],
          "surface": [
           {
            "colorbar": {
             "outlinewidth": 0,
             "ticks": ""
            },
            "colorscale": [
             [
              0,
              "#0d0887"
             ],
             [
              0.1111111111111111,
              "#46039f"
             ],
             [
              0.2222222222222222,
              "#7201a8"
             ],
             [
              0.3333333333333333,
              "#9c179e"
             ],
             [
              0.4444444444444444,
              "#bd3786"
             ],
             [
              0.5555555555555556,
              "#d8576b"
             ],
             [
              0.6666666666666666,
              "#ed7953"
             ],
             [
              0.7777777777777778,
              "#fb9f3a"
             ],
             [
              0.8888888888888888,
              "#fdca26"
             ],
             [
              1,
              "#f0f921"
             ]
            ],
            "type": "surface"
           }
          ],
          "table": [
           {
            "cells": {
             "fill": {
              "color": "#EBF0F8"
             },
             "line": {
              "color": "white"
             }
            },
            "header": {
             "fill": {
              "color": "#C8D4E3"
             },
             "line": {
              "color": "white"
             }
            },
            "type": "table"
           }
          ]
         },
         "layout": {
          "annotationdefaults": {
           "arrowcolor": "#2a3f5f",
           "arrowhead": 0,
           "arrowwidth": 1
          },
          "autotypenumbers": "strict",
          "coloraxis": {
           "colorbar": {
            "outlinewidth": 0,
            "ticks": ""
           }
          },
          "colorscale": {
           "diverging": [
            [
             0,
             "#8e0152"
            ],
            [
             0.1,
             "#c51b7d"
            ],
            [
             0.2,
             "#de77ae"
            ],
            [
             0.3,
             "#f1b6da"
            ],
            [
             0.4,
             "#fde0ef"
            ],
            [
             0.5,
             "#f7f7f7"
            ],
            [
             0.6,
             "#e6f5d0"
            ],
            [
             0.7,
             "#b8e186"
            ],
            [
             0.8,
             "#7fbc41"
            ],
            [
             0.9,
             "#4d9221"
            ],
            [
             1,
             "#276419"
            ]
           ],
           "sequential": [
            [
             0,
             "#0d0887"
            ],
            [
             0.1111111111111111,
             "#46039f"
            ],
            [
             0.2222222222222222,
             "#7201a8"
            ],
            [
             0.3333333333333333,
             "#9c179e"
            ],
            [
             0.4444444444444444,
             "#bd3786"
            ],
            [
             0.5555555555555556,
             "#d8576b"
            ],
            [
             0.6666666666666666,
             "#ed7953"
            ],
            [
             0.7777777777777778,
             "#fb9f3a"
            ],
            [
             0.8888888888888888,
             "#fdca26"
            ],
            [
             1,
             "#f0f921"
            ]
           ],
           "sequentialminus": [
            [
             0,
             "#0d0887"
            ],
            [
             0.1111111111111111,
             "#46039f"
            ],
            [
             0.2222222222222222,
             "#7201a8"
            ],
            [
             0.3333333333333333,
             "#9c179e"
            ],
            [
             0.4444444444444444,
             "#bd3786"
            ],
            [
             0.5555555555555556,
             "#d8576b"
            ],
            [
             0.6666666666666666,
             "#ed7953"
            ],
            [
             0.7777777777777778,
             "#fb9f3a"
            ],
            [
             0.8888888888888888,
             "#fdca26"
            ],
            [
             1,
             "#f0f921"
            ]
           ]
          },
          "colorway": [
           "#636efa",
           "#EF553B",
           "#00cc96",
           "#ab63fa",
           "#FFA15A",
           "#19d3f3",
           "#FF6692",
           "#B6E880",
           "#FF97FF",
           "#FECB52"
          ],
          "font": {
           "color": "#2a3f5f"
          },
          "geo": {
           "bgcolor": "white",
           "lakecolor": "white",
           "landcolor": "#E5ECF6",
           "showlakes": true,
           "showland": true,
           "subunitcolor": "white"
          },
          "hoverlabel": {
           "align": "left"
          },
          "hovermode": "closest",
          "mapbox": {
           "style": "light"
          },
          "paper_bgcolor": "white",
          "plot_bgcolor": "#E5ECF6",
          "polar": {
           "angularaxis": {
            "gridcolor": "white",
            "linecolor": "white",
            "ticks": ""
           },
           "bgcolor": "#E5ECF6",
           "radialaxis": {
            "gridcolor": "white",
            "linecolor": "white",
            "ticks": ""
           }
          },
          "scene": {
           "xaxis": {
            "backgroundcolor": "#E5ECF6",
            "gridcolor": "white",
            "gridwidth": 2,
            "linecolor": "white",
            "showbackground": true,
            "ticks": "",
            "zerolinecolor": "white"
           },
           "yaxis": {
            "backgroundcolor": "#E5ECF6",
            "gridcolor": "white",
            "gridwidth": 2,
            "linecolor": "white",
            "showbackground": true,
            "ticks": "",
            "zerolinecolor": "white"
           },
           "zaxis": {
            "backgroundcolor": "#E5ECF6",
            "gridcolor": "white",
            "gridwidth": 2,
            "linecolor": "white",
            "showbackground": true,
            "ticks": "",
            "zerolinecolor": "white"
           }
          },
          "shapedefaults": {
           "line": {
            "color": "#2a3f5f"
           }
          },
          "ternary": {
           "aaxis": {
            "gridcolor": "white",
            "linecolor": "white",
            "ticks": ""
           },
           "baxis": {
            "gridcolor": "white",
            "linecolor": "white",
            "ticks": ""
           },
           "bgcolor": "#E5ECF6",
           "caxis": {
            "gridcolor": "white",
            "linecolor": "white",
            "ticks": ""
           }
          },
          "title": {
           "x": 0.05
          },
          "xaxis": {
           "automargin": true,
           "gridcolor": "white",
           "linecolor": "white",
           "ticks": "",
           "title": {
            "standoff": 15
           },
           "zerolinecolor": "white",
           "zerolinewidth": 2
          },
          "yaxis": {
           "automargin": true,
           "gridcolor": "white",
           "linecolor": "white",
           "ticks": "",
           "title": {
            "standoff": 15
           },
           "zerolinecolor": "white",
           "zerolinewidth": 2
          }
         }
        },
        "title": {
         "text": "Weekly new cases + Test positivity Rate in United States"
        },
        "xaxis": {
         "anchor": "y",
         "domain": [
          0,
          1
         ],
         "title": {
          "text": "Date"
         }
        },
        "yaxis": {
         "anchor": "x",
         "domain": [
          0,
          1
         ],
         "title": {
          "text": "Daily new cases"
         }
        }
       }
      },
      "text/html": [
       "<div>                            <div id=\"54779934-312e-4bce-b04c-1018a8f0f39e\" class=\"plotly-graph-div\" style=\"height:525px; width:100%;\"></div>            <script type=\"text/javascript\">                require([\"plotly\"], function(Plotly) {                    window.PLOTLYENV=window.PLOTLYENV || {};                                    if (document.getElementById(\"54779934-312e-4bce-b04c-1018a8f0f39e\")) {                    Plotly.newPlot(                        \"54779934-312e-4bce-b04c-1018a8f0f39e\",                        [{\"alignmentgroup\": \"True\", \"hovertemplate\": \"Date=%{x}<br>Daily new cases=%{y}<br>Test Positivity Rate=%{marker.color}<extra></extra>\", \"legendgroup\": \"\", \"marker\": {\"color\": [null, null, null, null, null, null, 0.06, 0.05528571428571428, 0.05857142857142857, 0.11285714285714286, 0.17485714285714285, 0.19799999999999998, 0.18214285714285713, 0.15185714285714288, 0.11257142857142856, 0.087, 0.062285714285714285, 0.05542857142857143, 0.047999999999999994, 0.041999999999999996, 0.03885714285714286, 0.04071428571428572, 0.05185714285714286, 0.061142857142857145, 0.0672857142857143, 0.06942857142857144, 0.06871428571428571, 0.06957142857142858, 0.0642857142857143, 0.06028571428571428, 0.05428571428571428, 0.04914285714285714, 0.047857142857142855, 0.04499999999999999, 0.04214285714285714, 0.04457142857142856, 0.043714285714285706, 0.043142857142857136, 0.048571428571428564, 0.05485714285714286, 0.061857142857142854, 0.07828571428571429, 0.09014285714285712, 0.09557142857142856, 0.09585714285714285, 0.108, 0.1172857142857143, 0.12214285714285714, 0.118, 0.1305714285714286, 0.14085714285714285, 0.12971428571428573, 0.11042857142857142, 0.09714285714285713, 0.08585714285714285, 0.07228571428571429, 0.06357142857142857, 0.053714285714285714, 0.048857142857142856, 0.044285714285714275, 0.04514285714285714, 0.04771428571428571, 0.053142857142857144, 0.05457142857142857, 0.05457142857142857, 0.049428571428571426, 0.04257142857142857, 0.04, 0.03442857142857143, 0.030571428571428572, 0.027142857142857142, 0.02214285714285714, 0.019857142857142858, 0.018714285714285715, 0.019, 0.021999999999999995, 0.031142857142857146, 0.045285714285714276, 0.06185714285714287, 0.08128571428571428, 0.09614285714285713, 0.10328571428571429, 0.10585714285714286, 0.10285714285714286, 0.09971428571428571, 0.09742857142857142, 0.09228571428571428, 0.082, 0.092], \"coloraxis\": \"coloraxis\"}, \"name\": \"\", \"offsetgroup\": \"\", \"orientation\": \"v\", \"showlegend\": false, \"textposition\": \"auto\", \"type\": \"bar\", \"x\": [\"2020-01-26T00:00:00\", \"2020-02-02T00:00:00\", \"2020-02-09T00:00:00\", \"2020-02-16T00:00:00\", \"2020-02-23T00:00:00\", \"2020-03-01T00:00:00\", \"2020-03-08T00:00:00\", \"2020-03-15T00:00:00\", \"2020-03-22T00:00:00\", \"2020-03-29T00:00:00\", \"2020-04-05T00:00:00\", \"2020-04-12T00:00:00\", \"2020-04-19T00:00:00\", \"2020-04-26T00:00:00\", \"2020-05-03T00:00:00\", \"2020-05-10T00:00:00\", \"2020-05-17T00:00:00\", \"2020-05-24T00:00:00\", \"2020-05-31T00:00:00\", \"2020-06-07T00:00:00\", \"2020-06-14T00:00:00\", \"2020-06-21T00:00:00\", \"2020-06-28T00:00:00\", \"2020-07-05T00:00:00\", \"2020-07-12T00:00:00\", \"2020-07-19T00:00:00\", \"2020-07-26T00:00:00\", \"2020-08-02T00:00:00\", \"2020-08-09T00:00:00\", \"2020-08-16T00:00:00\", \"2020-08-23T00:00:00\", \"2020-08-30T00:00:00\", \"2020-09-06T00:00:00\", \"2020-09-13T00:00:00\", \"2020-09-20T00:00:00\", \"2020-09-27T00:00:00\", \"2020-10-04T00:00:00\", \"2020-10-11T00:00:00\", \"2020-10-18T00:00:00\", \"2020-10-25T00:00:00\", \"2020-11-01T00:00:00\", \"2020-11-08T00:00:00\", \"2020-11-15T00:00:00\", \"2020-11-22T00:00:00\", \"2020-11-29T00:00:00\", \"2020-12-06T00:00:00\", \"2020-12-13T00:00:00\", \"2020-12-20T00:00:00\", \"2020-12-27T00:00:00\", \"2021-01-03T00:00:00\", \"2021-01-10T00:00:00\", \"2021-01-17T00:00:00\", \"2021-01-24T00:00:00\", \"2021-01-31T00:00:00\", \"2021-02-07T00:00:00\", \"2021-02-14T00:00:00\", \"2021-02-21T00:00:00\", \"2021-02-28T00:00:00\", \"2021-03-07T00:00:00\", \"2021-03-14T00:00:00\", \"2021-03-21T00:00:00\", \"2021-03-28T00:00:00\", \"2021-04-04T00:00:00\", \"2021-04-11T00:00:00\", \"2021-04-18T00:00:00\", \"2021-04-25T00:00:00\", \"2021-05-02T00:00:00\", \"2021-05-09T00:00:00\", \"2021-05-16T00:00:00\", \"2021-05-23T00:00:00\", \"2021-05-30T00:00:00\", \"2021-06-06T00:00:00\", \"2021-06-13T00:00:00\", \"2021-06-20T00:00:00\", \"2021-06-27T00:00:00\", \"2021-07-04T00:00:00\", \"2021-07-11T00:00:00\", \"2021-07-18T00:00:00\", \"2021-07-25T00:00:00\", \"2021-08-01T00:00:00\", \"2021-08-08T00:00:00\", \"2021-08-15T00:00:00\", \"2021-08-22T00:00:00\", \"2021-08-29T00:00:00\", \"2021-09-05T00:00:00\", \"2021-09-12T00:00:00\", \"2021-09-19T00:00:00\", \"2021-09-26T00:00:00\", \"2021-10-03T00:00:00\"], \"xaxis\": \"x\", \"y\": [4.0, 3.0, 4.0, 2.0, 2.0, 16.0, 487.0, 2693.0, 31732.0, 108600.0, 207169.0, 220099.0, 198439.0, 207620.0, 190706.0, 171533.0, 156899.0, 156800.0, 146865.0, 144443.0, 147910.0, 188386.0, 274707.0, 347781.0, 411546.0, 465875.0, 461264.0, 430159.0, 377192.0, 356983.0, 295319.0, 291193.0, 285572.0, 244108.0, 287417.0, 308434.0, 301479.0, 352679.0, 394740.0, 496262.0, 609667.0, 819746.0, 1059524.0, 1218087.0, 1154333.0, 1413243.0, 1525504.0, 1536300.0, 1304136.0, 1513946.0, 1733671.0, 1529284.0, 1184642.0, 1035762.0, 824374.0, 636829.0, 463976.0, 475474.0, 415582.0, 375426.0, 382539.0, 443055.0, 446366.0, 489749.0, 472033.0, 407872.0, 344745.0, 286350.0, 232437.0, 177164.0, 140472.0, 101062.0, 99844.0, 80516.0, 86336.0, 89764.0, 140469.0, 231461.0, 367481.0, 566864.0, 761374.0, 920580.0, 1035433.0, 1094592.0, 1148169.0, 1022148.0, 1033144.0, 837213.0, 686766.0], \"yaxis\": \"y\"}],                        {\"barmode\": \"relative\", \"coloraxis\": {\"colorbar\": {\"title\": {\"text\": \"Test Positivity Rate\"}}, \"colorscale\": [[0.0, \"#0d0887\"], [0.1111111111111111, \"#46039f\"], [0.2222222222222222, \"#7201a8\"], [0.3333333333333333, \"#9c179e\"], [0.4444444444444444, \"#bd3786\"], [0.5555555555555556, \"#d8576b\"], [0.6666666666666666, \"#ed7953\"], [0.7777777777777778, \"#fb9f3a\"], [0.8888888888888888, \"#fdca26\"], [1.0, \"#f0f921\"]]}, \"legend\": {\"tracegroupgap\": 0}, \"template\": {\"data\": {\"bar\": [{\"error_x\": {\"color\": \"#2a3f5f\"}, \"error_y\": {\"color\": \"#2a3f5f\"}, \"marker\": {\"line\": {\"color\": \"#E5ECF6\", \"width\": 0.5}}, \"type\": \"bar\"}], \"barpolar\": [{\"marker\": {\"line\": {\"color\": \"#E5ECF6\", \"width\": 0.5}}, \"type\": \"barpolar\"}], \"carpet\": [{\"aaxis\": {\"endlinecolor\": \"#2a3f5f\", \"gridcolor\": \"white\", \"linecolor\": \"white\", \"minorgridcolor\": \"white\", \"startlinecolor\": \"#2a3f5f\"}, \"baxis\": {\"endlinecolor\": \"#2a3f5f\", \"gridcolor\": \"white\", \"linecolor\": \"white\", \"minorgridcolor\": \"white\", \"startlinecolor\": \"#2a3f5f\"}, \"type\": \"carpet\"}], \"choropleth\": [{\"colorbar\": {\"outlinewidth\": 0, \"ticks\": \"\"}, \"type\": \"choropleth\"}], \"contour\": [{\"colorbar\": {\"outlinewidth\": 0, \"ticks\": \"\"}, \"colorscale\": [[0.0, \"#0d0887\"], [0.1111111111111111, \"#46039f\"], [0.2222222222222222, \"#7201a8\"], [0.3333333333333333, \"#9c179e\"], [0.4444444444444444, \"#bd3786\"], [0.5555555555555556, \"#d8576b\"], [0.6666666666666666, \"#ed7953\"], [0.7777777777777778, \"#fb9f3a\"], [0.8888888888888888, \"#fdca26\"], [1.0, \"#f0f921\"]], \"type\": \"contour\"}], \"contourcarpet\": [{\"colorbar\": {\"outlinewidth\": 0, \"ticks\": \"\"}, \"type\": \"contourcarpet\"}], \"heatmap\": [{\"colorbar\": {\"outlinewidth\": 0, \"ticks\": \"\"}, \"colorscale\": [[0.0, \"#0d0887\"], [0.1111111111111111, \"#46039f\"], [0.2222222222222222, \"#7201a8\"], [0.3333333333333333, \"#9c179e\"], [0.4444444444444444, \"#bd3786\"], [0.5555555555555556, \"#d8576b\"], [0.6666666666666666, \"#ed7953\"], [0.7777777777777778, \"#fb9f3a\"], [0.8888888888888888, \"#fdca26\"], [1.0, \"#f0f921\"]], \"type\": \"heatmap\"}], \"heatmapgl\": [{\"colorbar\": {\"outlinewidth\": 0, \"ticks\": \"\"}, \"colorscale\": [[0.0, \"#0d0887\"], [0.1111111111111111, \"#46039f\"], [0.2222222222222222, \"#7201a8\"], [0.3333333333333333, \"#9c179e\"], [0.4444444444444444, \"#bd3786\"], [0.5555555555555556, \"#d8576b\"], [0.6666666666666666, \"#ed7953\"], [0.7777777777777778, \"#fb9f3a\"], [0.8888888888888888, \"#fdca26\"], [1.0, \"#f0f921\"]], \"type\": \"heatmapgl\"}], \"histogram\": [{\"marker\": {\"colorbar\": {\"outlinewidth\": 0, \"ticks\": \"\"}}, \"type\": \"histogram\"}], \"histogram2d\": [{\"colorbar\": {\"outlinewidth\": 0, \"ticks\": \"\"}, \"colorscale\": [[0.0, \"#0d0887\"], [0.1111111111111111, \"#46039f\"], [0.2222222222222222, \"#7201a8\"], [0.3333333333333333, \"#9c179e\"], [0.4444444444444444, \"#bd3786\"], [0.5555555555555556, \"#d8576b\"], [0.6666666666666666, \"#ed7953\"], [0.7777777777777778, \"#fb9f3a\"], [0.8888888888888888, \"#fdca26\"], [1.0, \"#f0f921\"]], \"type\": \"histogram2d\"}], \"histogram2dcontour\": [{\"colorbar\": {\"outlinewidth\": 0, \"ticks\": \"\"}, \"colorscale\": [[0.0, \"#0d0887\"], [0.1111111111111111, \"#46039f\"], [0.2222222222222222, \"#7201a8\"], [0.3333333333333333, \"#9c179e\"], [0.4444444444444444, \"#bd3786\"], [0.5555555555555556, \"#d8576b\"], [0.6666666666666666, \"#ed7953\"], [0.7777777777777778, \"#fb9f3a\"], [0.8888888888888888, \"#fdca26\"], [1.0, \"#f0f921\"]], \"type\": \"histogram2dcontour\"}], \"mesh3d\": [{\"colorbar\": {\"outlinewidth\": 0, \"ticks\": \"\"}, \"type\": \"mesh3d\"}], \"parcoords\": [{\"line\": {\"colorbar\": {\"outlinewidth\": 0, \"ticks\": \"\"}}, \"type\": \"parcoords\"}], \"pie\": [{\"automargin\": true, \"type\": \"pie\"}], \"scatter\": [{\"marker\": {\"colorbar\": {\"outlinewidth\": 0, \"ticks\": \"\"}}, \"type\": \"scatter\"}], \"scatter3d\": [{\"line\": {\"colorbar\": {\"outlinewidth\": 0, \"ticks\": \"\"}}, \"marker\": {\"colorbar\": {\"outlinewidth\": 0, \"ticks\": \"\"}}, \"type\": \"scatter3d\"}], \"scattercarpet\": [{\"marker\": {\"colorbar\": {\"outlinewidth\": 0, \"ticks\": \"\"}}, \"type\": \"scattercarpet\"}], \"scattergeo\": [{\"marker\": {\"colorbar\": {\"outlinewidth\": 0, \"ticks\": \"\"}}, \"type\": \"scattergeo\"}], \"scattergl\": [{\"marker\": {\"colorbar\": {\"outlinewidth\": 0, \"ticks\": \"\"}}, \"type\": \"scattergl\"}], \"scattermapbox\": [{\"marker\": {\"colorbar\": {\"outlinewidth\": 0, \"ticks\": \"\"}}, \"type\": \"scattermapbox\"}], \"scatterpolar\": [{\"marker\": {\"colorbar\": {\"outlinewidth\": 0, \"ticks\": \"\"}}, \"type\": \"scatterpolar\"}], \"scatterpolargl\": [{\"marker\": {\"colorbar\": {\"outlinewidth\": 0, \"ticks\": \"\"}}, \"type\": \"scatterpolargl\"}], \"scatterternary\": [{\"marker\": {\"colorbar\": {\"outlinewidth\": 0, \"ticks\": \"\"}}, \"type\": \"scatterternary\"}], \"surface\": [{\"colorbar\": {\"outlinewidth\": 0, \"ticks\": \"\"}, \"colorscale\": [[0.0, \"#0d0887\"], [0.1111111111111111, \"#46039f\"], [0.2222222222222222, \"#7201a8\"], [0.3333333333333333, \"#9c179e\"], [0.4444444444444444, \"#bd3786\"], [0.5555555555555556, \"#d8576b\"], [0.6666666666666666, \"#ed7953\"], [0.7777777777777778, \"#fb9f3a\"], [0.8888888888888888, \"#fdca26\"], [1.0, \"#f0f921\"]], \"type\": \"surface\"}], \"table\": [{\"cells\": {\"fill\": {\"color\": \"#EBF0F8\"}, \"line\": {\"color\": \"white\"}}, \"header\": {\"fill\": {\"color\": \"#C8D4E3\"}, \"line\": {\"color\": \"white\"}}, \"type\": \"table\"}]}, \"layout\": {\"annotationdefaults\": {\"arrowcolor\": \"#2a3f5f\", \"arrowhead\": 0, \"arrowwidth\": 1}, \"autotypenumbers\": \"strict\", \"coloraxis\": {\"colorbar\": {\"outlinewidth\": 0, \"ticks\": \"\"}}, \"colorscale\": {\"diverging\": [[0, \"#8e0152\"], [0.1, \"#c51b7d\"], [0.2, \"#de77ae\"], [0.3, \"#f1b6da\"], [0.4, \"#fde0ef\"], [0.5, \"#f7f7f7\"], [0.6, \"#e6f5d0\"], [0.7, \"#b8e186\"], [0.8, \"#7fbc41\"], [0.9, \"#4d9221\"], [1, \"#276419\"]], \"sequential\": [[0.0, \"#0d0887\"], [0.1111111111111111, \"#46039f\"], [0.2222222222222222, \"#7201a8\"], [0.3333333333333333, \"#9c179e\"], [0.4444444444444444, \"#bd3786\"], [0.5555555555555556, \"#d8576b\"], [0.6666666666666666, \"#ed7953\"], [0.7777777777777778, \"#fb9f3a\"], [0.8888888888888888, \"#fdca26\"], [1.0, \"#f0f921\"]], \"sequentialminus\": [[0.0, \"#0d0887\"], [0.1111111111111111, \"#46039f\"], [0.2222222222222222, \"#7201a8\"], [0.3333333333333333, \"#9c179e\"], [0.4444444444444444, \"#bd3786\"], [0.5555555555555556, \"#d8576b\"], [0.6666666666666666, \"#ed7953\"], [0.7777777777777778, \"#fb9f3a\"], [0.8888888888888888, \"#fdca26\"], [1.0, \"#f0f921\"]]}, \"colorway\": [\"#636efa\", \"#EF553B\", \"#00cc96\", \"#ab63fa\", \"#FFA15A\", \"#19d3f3\", \"#FF6692\", \"#B6E880\", \"#FF97FF\", \"#FECB52\"], \"font\": {\"color\": \"#2a3f5f\"}, \"geo\": {\"bgcolor\": \"white\", \"lakecolor\": \"white\", \"landcolor\": \"#E5ECF6\", \"showlakes\": true, \"showland\": true, \"subunitcolor\": \"white\"}, \"hoverlabel\": {\"align\": \"left\"}, \"hovermode\": \"closest\", \"mapbox\": {\"style\": \"light\"}, \"paper_bgcolor\": \"white\", \"plot_bgcolor\": \"#E5ECF6\", \"polar\": {\"angularaxis\": {\"gridcolor\": \"white\", \"linecolor\": \"white\", \"ticks\": \"\"}, \"bgcolor\": \"#E5ECF6\", \"radialaxis\": {\"gridcolor\": \"white\", \"linecolor\": \"white\", \"ticks\": \"\"}}, \"scene\": {\"xaxis\": {\"backgroundcolor\": \"#E5ECF6\", \"gridcolor\": \"white\", \"gridwidth\": 2, \"linecolor\": \"white\", \"showbackground\": true, \"ticks\": \"\", \"zerolinecolor\": \"white\"}, \"yaxis\": {\"backgroundcolor\": \"#E5ECF6\", \"gridcolor\": \"white\", \"gridwidth\": 2, \"linecolor\": \"white\", \"showbackground\": true, \"ticks\": \"\", \"zerolinecolor\": \"white\"}, \"zaxis\": {\"backgroundcolor\": \"#E5ECF6\", \"gridcolor\": \"white\", \"gridwidth\": 2, \"linecolor\": \"white\", \"showbackground\": true, \"ticks\": \"\", \"zerolinecolor\": \"white\"}}, \"shapedefaults\": {\"line\": {\"color\": \"#2a3f5f\"}}, \"ternary\": {\"aaxis\": {\"gridcolor\": \"white\", \"linecolor\": \"white\", \"ticks\": \"\"}, \"baxis\": {\"gridcolor\": \"white\", \"linecolor\": \"white\", \"ticks\": \"\"}, \"bgcolor\": \"#E5ECF6\", \"caxis\": {\"gridcolor\": \"white\", \"linecolor\": \"white\", \"ticks\": \"\"}}, \"title\": {\"x\": 0.05}, \"xaxis\": {\"automargin\": true, \"gridcolor\": \"white\", \"linecolor\": \"white\", \"ticks\": \"\", \"title\": {\"standoff\": 15}, \"zerolinecolor\": \"white\", \"zerolinewidth\": 2}, \"yaxis\": {\"automargin\": true, \"gridcolor\": \"white\", \"linecolor\": \"white\", \"ticks\": \"\", \"title\": {\"standoff\": 15}, \"zerolinecolor\": \"white\", \"zerolinewidth\": 2}}}, \"title\": {\"text\": \"Weekly new cases + Test positivity Rate in United States\"}, \"xaxis\": {\"anchor\": \"y\", \"domain\": [0.0, 1.0], \"title\": {\"text\": \"Date\"}}, \"yaxis\": {\"anchor\": \"x\", \"domain\": [0.0, 1.0], \"title\": {\"text\": \"Daily new cases\"}}},                        {\"responsive\": true}                    ).then(function(){\n",
       "                            \n",
       "var gd = document.getElementById('54779934-312e-4bce-b04c-1018a8f0f39e');\n",
       "var x = new MutationObserver(function (mutations, observer) {{\n",
       "        var display = window.getComputedStyle(gd).display;\n",
       "        if (!display || display === 'none') {{\n",
       "            console.log([gd, 'removed!']);\n",
       "            Plotly.purge(gd);\n",
       "            observer.disconnect();\n",
       "        }}\n",
       "}});\n",
       "\n",
       "// Listen for the removal of the full notebook cells\n",
       "var notebookContainer = gd.closest('#notebook-container');\n",
       "if (notebookContainer) {{\n",
       "    x.observe(notebookContainer, {childList: true});\n",
       "}}\n",
       "\n",
       "// Listen for the clearing of the current output cell\n",
       "var outputEl = gd.closest('.output');\n",
       "if (outputEl) {{\n",
       "    x.observe(outputEl, {childList: true});\n",
       "}}\n",
       "\n",
       "                        })                };                });            </script>        </div>"
      ]
     },
     "metadata": {},
     "output_type": "display_data"
    }
   ],
   "source": [
    "fig = px.bar(df_filtered.resample('W', on='date').agg({'new_cases': np.sum, 'positive_rate': np.mean}).reset_index(), \n",
    "             x='date', y='new_cases', color='positive_rate',\n",
    "             labels={'new_cases':'Daily new cases','date':'Date','positive_rate':'Test Positivity Rate'}, \n",
    "             title=f'Weekly new cases + Test positivity Rate in {df_filtered.location.unique()[0]}')\n",
    "fig.show()"
   ]
  },
  {
   "cell_type": "code",
   "execution_count": null,
   "id": "empty-facility",
   "metadata": {},
   "outputs": [],
   "source": []
  }
 ],
 "metadata": {
  "kernelspec": {
   "display_name": "Python 3",
   "language": "python",
   "name": "python3"
  },
  "language_info": {
   "codemirror_mode": {
    "name": "ipython",
    "version": 3
   },
   "file_extension": ".py",
   "mimetype": "text/x-python",
   "name": "python",
   "nbconvert_exporter": "python",
   "pygments_lexer": "ipython3",
   "version": "3.7.9"
  }
 },
 "nbformat": 4,
 "nbformat_minor": 5
}
