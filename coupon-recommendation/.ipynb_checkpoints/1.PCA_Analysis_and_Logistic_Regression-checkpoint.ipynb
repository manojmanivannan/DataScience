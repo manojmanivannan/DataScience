{
 "cells": [
  {
   "cell_type": "markdown",
   "id": "dynamic-understanding",
   "metadata": {},
   "source": [
    "# Data Exploration"
   ]
  },
  {
   "cell_type": "markdown",
   "id": "verified-fancy",
   "metadata": {},
   "source": [
    "### Import necessary packages"
   ]
  },
  {
   "cell_type": "code",
   "execution_count": 1,
   "id": "pharmaceutical-vegetation",
   "metadata": {},
   "outputs": [],
   "source": [
    "import pandas as pd\n",
    "import numpy as np\n",
    "from sklearn.decomposition import PCA\n",
    "from sklearn.preprocessing import scale\n",
    "from plotly.subplots import make_subplots\n",
    "import plotly.graph_objects as go\n",
    "from sklearn.tree import DecisionTreeClassifier\n",
    "from sklearn.model_selection import train_test_split\n",
    "from sklearn import preprocessing\n",
    "from sklearn.metrics import classification_report, confusion_matrix\n",
    "from sklearn.metrics import roc_auc_score\n",
    "from sklearn.metrics import roc_curve\n",
    "# plt.rcParams['figure.figsize'] = [15, 10]"
   ]
  },
  {
   "cell_type": "code",
   "execution_count": 2,
   "id": "linear-applicant",
   "metadata": {},
   "outputs": [
    {
     "data": {
      "text/html": [
       "<div>\n",
       "<style scoped>\n",
       "    .dataframe tbody tr th:only-of-type {\n",
       "        vertical-align: middle;\n",
       "    }\n",
       "\n",
       "    .dataframe tbody tr th {\n",
       "        vertical-align: top;\n",
       "    }\n",
       "\n",
       "    .dataframe thead th {\n",
       "        text-align: right;\n",
       "    }\n",
       "</style>\n",
       "<table border=\"1\" class=\"dataframe\">\n",
       "  <thead>\n",
       "    <tr style=\"text-align: right;\">\n",
       "      <th></th>\n",
       "      <th>destination</th>\n",
       "      <th>passanger</th>\n",
       "      <th>weather</th>\n",
       "      <th>temperature</th>\n",
       "      <th>time</th>\n",
       "      <th>coupon</th>\n",
       "      <th>expiration</th>\n",
       "      <th>gender</th>\n",
       "      <th>age</th>\n",
       "      <th>maritalStatus</th>\n",
       "      <th>...</th>\n",
       "      <th>CoffeeHouse</th>\n",
       "      <th>CarryAway</th>\n",
       "      <th>RestaurantLessThan20</th>\n",
       "      <th>Restaurant20To50</th>\n",
       "      <th>toCoupon_GEQ5min</th>\n",
       "      <th>toCoupon_GEQ15min</th>\n",
       "      <th>toCoupon_GEQ25min</th>\n",
       "      <th>direction_same</th>\n",
       "      <th>direction_opp</th>\n",
       "      <th>Y</th>\n",
       "    </tr>\n",
       "  </thead>\n",
       "  <tbody>\n",
       "    <tr>\n",
       "      <th>0</th>\n",
       "      <td>No Urgent Place</td>\n",
       "      <td>Alone</td>\n",
       "      <td>Sunny</td>\n",
       "      <td>55</td>\n",
       "      <td>2PM</td>\n",
       "      <td>Restaurant(&lt;20)</td>\n",
       "      <td>1d</td>\n",
       "      <td>Female</td>\n",
       "      <td>21</td>\n",
       "      <td>Unmarried partner</td>\n",
       "      <td>...</td>\n",
       "      <td>never</td>\n",
       "      <td>NaN</td>\n",
       "      <td>4~8</td>\n",
       "      <td>1~3</td>\n",
       "      <td>1</td>\n",
       "      <td>0</td>\n",
       "      <td>0</td>\n",
       "      <td>0</td>\n",
       "      <td>1</td>\n",
       "      <td>1</td>\n",
       "    </tr>\n",
       "    <tr>\n",
       "      <th>1</th>\n",
       "      <td>No Urgent Place</td>\n",
       "      <td>Friend(s)</td>\n",
       "      <td>Sunny</td>\n",
       "      <td>80</td>\n",
       "      <td>10AM</td>\n",
       "      <td>Coffee House</td>\n",
       "      <td>2h</td>\n",
       "      <td>Female</td>\n",
       "      <td>21</td>\n",
       "      <td>Unmarried partner</td>\n",
       "      <td>...</td>\n",
       "      <td>never</td>\n",
       "      <td>NaN</td>\n",
       "      <td>4~8</td>\n",
       "      <td>1~3</td>\n",
       "      <td>1</td>\n",
       "      <td>0</td>\n",
       "      <td>0</td>\n",
       "      <td>0</td>\n",
       "      <td>1</td>\n",
       "      <td>0</td>\n",
       "    </tr>\n",
       "    <tr>\n",
       "      <th>2</th>\n",
       "      <td>No Urgent Place</td>\n",
       "      <td>Friend(s)</td>\n",
       "      <td>Sunny</td>\n",
       "      <td>80</td>\n",
       "      <td>10AM</td>\n",
       "      <td>Carry out &amp; Take away</td>\n",
       "      <td>2h</td>\n",
       "      <td>Female</td>\n",
       "      <td>21</td>\n",
       "      <td>Unmarried partner</td>\n",
       "      <td>...</td>\n",
       "      <td>never</td>\n",
       "      <td>NaN</td>\n",
       "      <td>4~8</td>\n",
       "      <td>1~3</td>\n",
       "      <td>1</td>\n",
       "      <td>1</td>\n",
       "      <td>0</td>\n",
       "      <td>0</td>\n",
       "      <td>1</td>\n",
       "      <td>1</td>\n",
       "    </tr>\n",
       "    <tr>\n",
       "      <th>3</th>\n",
       "      <td>No Urgent Place</td>\n",
       "      <td>Friend(s)</td>\n",
       "      <td>Sunny</td>\n",
       "      <td>80</td>\n",
       "      <td>2PM</td>\n",
       "      <td>Coffee House</td>\n",
       "      <td>2h</td>\n",
       "      <td>Female</td>\n",
       "      <td>21</td>\n",
       "      <td>Unmarried partner</td>\n",
       "      <td>...</td>\n",
       "      <td>never</td>\n",
       "      <td>NaN</td>\n",
       "      <td>4~8</td>\n",
       "      <td>1~3</td>\n",
       "      <td>1</td>\n",
       "      <td>1</td>\n",
       "      <td>0</td>\n",
       "      <td>0</td>\n",
       "      <td>1</td>\n",
       "      <td>0</td>\n",
       "    </tr>\n",
       "    <tr>\n",
       "      <th>4</th>\n",
       "      <td>No Urgent Place</td>\n",
       "      <td>Friend(s)</td>\n",
       "      <td>Sunny</td>\n",
       "      <td>80</td>\n",
       "      <td>2PM</td>\n",
       "      <td>Coffee House</td>\n",
       "      <td>1d</td>\n",
       "      <td>Female</td>\n",
       "      <td>21</td>\n",
       "      <td>Unmarried partner</td>\n",
       "      <td>...</td>\n",
       "      <td>never</td>\n",
       "      <td>NaN</td>\n",
       "      <td>4~8</td>\n",
       "      <td>1~3</td>\n",
       "      <td>1</td>\n",
       "      <td>1</td>\n",
       "      <td>0</td>\n",
       "      <td>0</td>\n",
       "      <td>1</td>\n",
       "      <td>0</td>\n",
       "    </tr>\n",
       "  </tbody>\n",
       "</table>\n",
       "<p>5 rows × 26 columns</p>\n",
       "</div>"
      ],
      "text/plain": [
       "       destination  passanger weather  temperature  time  \\\n",
       "0  No Urgent Place      Alone   Sunny           55   2PM   \n",
       "1  No Urgent Place  Friend(s)   Sunny           80  10AM   \n",
       "2  No Urgent Place  Friend(s)   Sunny           80  10AM   \n",
       "3  No Urgent Place  Friend(s)   Sunny           80   2PM   \n",
       "4  No Urgent Place  Friend(s)   Sunny           80   2PM   \n",
       "\n",
       "                  coupon expiration  gender age      maritalStatus  ...  \\\n",
       "0        Restaurant(<20)         1d  Female  21  Unmarried partner  ...   \n",
       "1           Coffee House         2h  Female  21  Unmarried partner  ...   \n",
       "2  Carry out & Take away         2h  Female  21  Unmarried partner  ...   \n",
       "3           Coffee House         2h  Female  21  Unmarried partner  ...   \n",
       "4           Coffee House         1d  Female  21  Unmarried partner  ...   \n",
       "\n",
       "   CoffeeHouse CarryAway RestaurantLessThan20 Restaurant20To50  \\\n",
       "0        never       NaN                  4~8              1~3   \n",
       "1        never       NaN                  4~8              1~3   \n",
       "2        never       NaN                  4~8              1~3   \n",
       "3        never       NaN                  4~8              1~3   \n",
       "4        never       NaN                  4~8              1~3   \n",
       "\n",
       "  toCoupon_GEQ5min toCoupon_GEQ15min toCoupon_GEQ25min direction_same  \\\n",
       "0                1                 0                 0              0   \n",
       "1                1                 0                 0              0   \n",
       "2                1                 1                 0              0   \n",
       "3                1                 1                 0              0   \n",
       "4                1                 1                 0              0   \n",
       "\n",
       "  direction_opp  Y  \n",
       "0             1  1  \n",
       "1             1  0  \n",
       "2             1  1  \n",
       "3             1  0  \n",
       "4             1  0  \n",
       "\n",
       "[5 rows x 26 columns]"
      ]
     },
     "execution_count": 2,
     "metadata": {},
     "output_type": "execute_result"
    }
   ],
   "source": [
    "df = pd.read_csv('data/in-vehicle-coupon-recommendation.csv')\n",
    "df.head()"
   ]
  },
  {
   "cell_type": "code",
   "execution_count": 3,
   "id": "particular-republic",
   "metadata": {},
   "outputs": [
    {
     "data": {
      "text/plain": [
       "(12684, 26)"
      ]
     },
     "execution_count": 3,
     "metadata": {},
     "output_type": "execute_result"
    }
   ],
   "source": [
    "df.shape"
   ]
  },
  {
   "cell_type": "markdown",
   "id": "widespread-peripheral",
   "metadata": {},
   "source": [
    "### Clean the datasetup\n",
    "Looking at the [data description](data_description.txt), we will convert several columns to more analysis friends form. Since many columns have categorical data, we will use label encoder."
   ]
  },
  {
   "cell_type": "code",
   "execution_count": 4,
   "id": "lucky-scholarship",
   "metadata": {},
   "outputs": [
    {
     "data": {
      "text/html": [
       "<div>\n",
       "<style scoped>\n",
       "    .dataframe tbody tr th:only-of-type {\n",
       "        vertical-align: middle;\n",
       "    }\n",
       "\n",
       "    .dataframe tbody tr th {\n",
       "        vertical-align: top;\n",
       "    }\n",
       "\n",
       "    .dataframe thead th {\n",
       "        text-align: right;\n",
       "    }\n",
       "</style>\n",
       "<table border=\"1\" class=\"dataframe\">\n",
       "  <thead>\n",
       "    <tr style=\"text-align: right;\">\n",
       "      <th></th>\n",
       "      <th>destination</th>\n",
       "      <th>passanger</th>\n",
       "      <th>weather</th>\n",
       "      <th>time</th>\n",
       "      <th>coupon</th>\n",
       "      <th>expiration</th>\n",
       "      <th>gender</th>\n",
       "      <th>age</th>\n",
       "      <th>maritalStatus</th>\n",
       "      <th>education</th>\n",
       "      <th>occupation</th>\n",
       "      <th>income</th>\n",
       "      <th>car</th>\n",
       "      <th>Bar</th>\n",
       "      <th>CoffeeHouse</th>\n",
       "      <th>CarryAway</th>\n",
       "      <th>RestaurantLessThan20</th>\n",
       "      <th>Restaurant20To50</th>\n",
       "    </tr>\n",
       "  </thead>\n",
       "  <tbody>\n",
       "    <tr>\n",
       "      <th>0</th>\n",
       "      <td>No Urgent Place</td>\n",
       "      <td>Alone</td>\n",
       "      <td>Sunny</td>\n",
       "      <td>2PM</td>\n",
       "      <td>Restaurant(&lt;20)</td>\n",
       "      <td>1d</td>\n",
       "      <td>Female</td>\n",
       "      <td>21</td>\n",
       "      <td>Unmarried partner</td>\n",
       "      <td>Some college - no degree</td>\n",
       "      <td>Unemployed</td>\n",
       "      <td>$37500 - $49999</td>\n",
       "      <td>NaN</td>\n",
       "      <td>never</td>\n",
       "      <td>never</td>\n",
       "      <td>NaN</td>\n",
       "      <td>4~8</td>\n",
       "      <td>1~3</td>\n",
       "    </tr>\n",
       "    <tr>\n",
       "      <th>1</th>\n",
       "      <td>No Urgent Place</td>\n",
       "      <td>Friend(s)</td>\n",
       "      <td>Sunny</td>\n",
       "      <td>10AM</td>\n",
       "      <td>Coffee House</td>\n",
       "      <td>2h</td>\n",
       "      <td>Female</td>\n",
       "      <td>21</td>\n",
       "      <td>Unmarried partner</td>\n",
       "      <td>Some college - no degree</td>\n",
       "      <td>Unemployed</td>\n",
       "      <td>$37500 - $49999</td>\n",
       "      <td>NaN</td>\n",
       "      <td>never</td>\n",
       "      <td>never</td>\n",
       "      <td>NaN</td>\n",
       "      <td>4~8</td>\n",
       "      <td>1~3</td>\n",
       "    </tr>\n",
       "    <tr>\n",
       "      <th>2</th>\n",
       "      <td>No Urgent Place</td>\n",
       "      <td>Friend(s)</td>\n",
       "      <td>Sunny</td>\n",
       "      <td>10AM</td>\n",
       "      <td>Carry out &amp; Take away</td>\n",
       "      <td>2h</td>\n",
       "      <td>Female</td>\n",
       "      <td>21</td>\n",
       "      <td>Unmarried partner</td>\n",
       "      <td>Some college - no degree</td>\n",
       "      <td>Unemployed</td>\n",
       "      <td>$37500 - $49999</td>\n",
       "      <td>NaN</td>\n",
       "      <td>never</td>\n",
       "      <td>never</td>\n",
       "      <td>NaN</td>\n",
       "      <td>4~8</td>\n",
       "      <td>1~3</td>\n",
       "    </tr>\n",
       "    <tr>\n",
       "      <th>3</th>\n",
       "      <td>No Urgent Place</td>\n",
       "      <td>Friend(s)</td>\n",
       "      <td>Sunny</td>\n",
       "      <td>2PM</td>\n",
       "      <td>Coffee House</td>\n",
       "      <td>2h</td>\n",
       "      <td>Female</td>\n",
       "      <td>21</td>\n",
       "      <td>Unmarried partner</td>\n",
       "      <td>Some college - no degree</td>\n",
       "      <td>Unemployed</td>\n",
       "      <td>$37500 - $49999</td>\n",
       "      <td>NaN</td>\n",
       "      <td>never</td>\n",
       "      <td>never</td>\n",
       "      <td>NaN</td>\n",
       "      <td>4~8</td>\n",
       "      <td>1~3</td>\n",
       "    </tr>\n",
       "    <tr>\n",
       "      <th>4</th>\n",
       "      <td>No Urgent Place</td>\n",
       "      <td>Friend(s)</td>\n",
       "      <td>Sunny</td>\n",
       "      <td>2PM</td>\n",
       "      <td>Coffee House</td>\n",
       "      <td>1d</td>\n",
       "      <td>Female</td>\n",
       "      <td>21</td>\n",
       "      <td>Unmarried partner</td>\n",
       "      <td>Some college - no degree</td>\n",
       "      <td>Unemployed</td>\n",
       "      <td>$37500 - $49999</td>\n",
       "      <td>NaN</td>\n",
       "      <td>never</td>\n",
       "      <td>never</td>\n",
       "      <td>NaN</td>\n",
       "      <td>4~8</td>\n",
       "      <td>1~3</td>\n",
       "    </tr>\n",
       "  </tbody>\n",
       "</table>\n",
       "</div>"
      ],
      "text/plain": [
       "       destination  passanger weather  time                 coupon expiration  \\\n",
       "0  No Urgent Place      Alone   Sunny   2PM        Restaurant(<20)         1d   \n",
       "1  No Urgent Place  Friend(s)   Sunny  10AM           Coffee House         2h   \n",
       "2  No Urgent Place  Friend(s)   Sunny  10AM  Carry out & Take away         2h   \n",
       "3  No Urgent Place  Friend(s)   Sunny   2PM           Coffee House         2h   \n",
       "4  No Urgent Place  Friend(s)   Sunny   2PM           Coffee House         1d   \n",
       "\n",
       "   gender age      maritalStatus                 education  occupation  \\\n",
       "0  Female  21  Unmarried partner  Some college - no degree  Unemployed   \n",
       "1  Female  21  Unmarried partner  Some college - no degree  Unemployed   \n",
       "2  Female  21  Unmarried partner  Some college - no degree  Unemployed   \n",
       "3  Female  21  Unmarried partner  Some college - no degree  Unemployed   \n",
       "4  Female  21  Unmarried partner  Some college - no degree  Unemployed   \n",
       "\n",
       "            income  car    Bar CoffeeHouse CarryAway RestaurantLessThan20  \\\n",
       "0  $37500 - $49999  NaN  never       never       NaN                  4~8   \n",
       "1  $37500 - $49999  NaN  never       never       NaN                  4~8   \n",
       "2  $37500 - $49999  NaN  never       never       NaN                  4~8   \n",
       "3  $37500 - $49999  NaN  never       never       NaN                  4~8   \n",
       "4  $37500 - $49999  NaN  never       never       NaN                  4~8   \n",
       "\n",
       "  Restaurant20To50  \n",
       "0              1~3  \n",
       "1              1~3  \n",
       "2              1~3  \n",
       "3              1~3  \n",
       "4              1~3  "
      ]
     },
     "execution_count": 4,
     "metadata": {},
     "output_type": "execute_result"
    }
   ],
   "source": [
    "obj_df = df.select_dtypes(include=['object']).copy()\n",
    "obj_df.head()"
   ]
  },
  {
   "cell_type": "code",
   "execution_count": 5,
   "id": "wound-dover",
   "metadata": {},
   "outputs": [
    {
     "data": {
      "text/plain": [
       "destination                 0\n",
       "passanger                   0\n",
       "weather                     0\n",
       "time                        0\n",
       "coupon                      0\n",
       "expiration                  0\n",
       "gender                      0\n",
       "age                         0\n",
       "maritalStatus               0\n",
       "education                   0\n",
       "occupation                  0\n",
       "income                      0\n",
       "car                     12576\n",
       "Bar                       107\n",
       "CoffeeHouse               217\n",
       "CarryAway                 151\n",
       "RestaurantLessThan20      130\n",
       "Restaurant20To50          189\n",
       "dtype: int64"
      ]
     },
     "execution_count": 5,
     "metadata": {},
     "output_type": "execute_result"
    }
   ],
   "source": [
    "obj_df.isna().sum()"
   ]
  },
  {
   "cell_type": "code",
   "execution_count": 6,
   "id": "intense-walker",
   "metadata": {},
   "outputs": [],
   "source": [
    "# Of 12684 records, column 'car' contains NaN for 12576 records, lets drop it.\n",
    "obj_df.drop('car',axis=1,inplace=True)"
   ]
  },
  {
   "cell_type": "code",
   "execution_count": 7,
   "id": "distant-craps",
   "metadata": {},
   "outputs": [
    {
     "data": {
      "text/plain": [
       "less1    6077\n",
       "1~3      3290\n",
       "never    2136\n",
       "4~8       728\n",
       "gt8       264\n",
       "Name: Restaurant20To50, dtype: int64"
      ]
     },
     "execution_count": 7,
     "metadata": {},
     "output_type": "execute_result"
    }
   ],
   "source": [
    "# For each column which has NaN counts greater than 0, check what is the most common values in the column\n",
    "# for simplicity sake, also a little meaningful to replace the NaN with the most common values.\n",
    "obj_df[\"Restaurant20To50\"].value_counts()"
   ]
  },
  {
   "cell_type": "code",
   "execution_count": 8,
   "id": "passive-trigger",
   "metadata": {},
   "outputs": [],
   "source": [
    "obj_df = obj_df.fillna({\"Bar\": \"never\",\n",
    "                        \"CoffeeHouse\":\"less1\",\n",
    "                        \"CarryAway\":\"1~3\",\n",
    "                        \"RestaurantLessThan20\":\"1~3\",\n",
    "                        \"Restaurant20To50\":\"less1\"\n",
    "                       })"
   ]
  },
  {
   "cell_type": "code",
   "execution_count": 9,
   "id": "declared-logan",
   "metadata": {},
   "outputs": [
    {
     "data": {
      "text/plain": [
       "destination             0\n",
       "passanger               0\n",
       "weather                 0\n",
       "time                    0\n",
       "coupon                  0\n",
       "expiration              0\n",
       "gender                  0\n",
       "age                     0\n",
       "maritalStatus           0\n",
       "education               0\n",
       "occupation              0\n",
       "income                  0\n",
       "Bar                     0\n",
       "CoffeeHouse             0\n",
       "CarryAway               0\n",
       "RestaurantLessThan20    0\n",
       "Restaurant20To50        0\n",
       "dtype: int64"
      ]
     },
     "execution_count": 9,
     "metadata": {},
     "output_type": "execute_result"
    }
   ],
   "source": [
    "# Verify no NaN values are present in the dataframe\n",
    "obj_df.isna().sum()"
   ]
  },
  {
   "cell_type": "code",
   "execution_count": 10,
   "id": "reverse-knock",
   "metadata": {},
   "outputs": [],
   "source": [
    "# Let's perform on-hot Encoding using the pandas get_dummies method.\n",
    "obj_encoded=pd.get_dummies(obj_df)"
   ]
  },
  {
   "cell_type": "code",
   "execution_count": 11,
   "id": "electoral-level",
   "metadata": {},
   "outputs": [
    {
     "data": {
      "text/html": [
       "<div>\n",
       "<style scoped>\n",
       "    .dataframe tbody tr th:only-of-type {\n",
       "        vertical-align: middle;\n",
       "    }\n",
       "\n",
       "    .dataframe tbody tr th {\n",
       "        vertical-align: top;\n",
       "    }\n",
       "\n",
       "    .dataframe thead th {\n",
       "        text-align: right;\n",
       "    }\n",
       "</style>\n",
       "<table border=\"1\" class=\"dataframe\">\n",
       "  <thead>\n",
       "    <tr style=\"text-align: right;\">\n",
       "      <th></th>\n",
       "      <th>temperature</th>\n",
       "      <th>has_children</th>\n",
       "      <th>toCoupon_GEQ5min</th>\n",
       "      <th>toCoupon_GEQ15min</th>\n",
       "      <th>toCoupon_GEQ25min</th>\n",
       "      <th>direction_same</th>\n",
       "      <th>direction_opp</th>\n",
       "      <th>destination_Home</th>\n",
       "      <th>destination_No Urgent Place</th>\n",
       "      <th>destination_Work</th>\n",
       "      <th>...</th>\n",
       "      <th>RestaurantLessThan20_1~3</th>\n",
       "      <th>RestaurantLessThan20_4~8</th>\n",
       "      <th>RestaurantLessThan20_gt8</th>\n",
       "      <th>RestaurantLessThan20_less1</th>\n",
       "      <th>RestaurantLessThan20_never</th>\n",
       "      <th>Restaurant20To50_1~3</th>\n",
       "      <th>Restaurant20To50_4~8</th>\n",
       "      <th>Restaurant20To50_gt8</th>\n",
       "      <th>Restaurant20To50_less1</th>\n",
       "      <th>Restaurant20To50_never</th>\n",
       "    </tr>\n",
       "  </thead>\n",
       "  <tbody>\n",
       "    <tr>\n",
       "      <th>0</th>\n",
       "      <td>55</td>\n",
       "      <td>1</td>\n",
       "      <td>1</td>\n",
       "      <td>0</td>\n",
       "      <td>0</td>\n",
       "      <td>0</td>\n",
       "      <td>1</td>\n",
       "      <td>0</td>\n",
       "      <td>1</td>\n",
       "      <td>0</td>\n",
       "      <td>...</td>\n",
       "      <td>0</td>\n",
       "      <td>1</td>\n",
       "      <td>0</td>\n",
       "      <td>0</td>\n",
       "      <td>0</td>\n",
       "      <td>1</td>\n",
       "      <td>0</td>\n",
       "      <td>0</td>\n",
       "      <td>0</td>\n",
       "      <td>0</td>\n",
       "    </tr>\n",
       "    <tr>\n",
       "      <th>1</th>\n",
       "      <td>80</td>\n",
       "      <td>1</td>\n",
       "      <td>1</td>\n",
       "      <td>0</td>\n",
       "      <td>0</td>\n",
       "      <td>0</td>\n",
       "      <td>1</td>\n",
       "      <td>0</td>\n",
       "      <td>1</td>\n",
       "      <td>0</td>\n",
       "      <td>...</td>\n",
       "      <td>0</td>\n",
       "      <td>1</td>\n",
       "      <td>0</td>\n",
       "      <td>0</td>\n",
       "      <td>0</td>\n",
       "      <td>1</td>\n",
       "      <td>0</td>\n",
       "      <td>0</td>\n",
       "      <td>0</td>\n",
       "      <td>0</td>\n",
       "    </tr>\n",
       "    <tr>\n",
       "      <th>2</th>\n",
       "      <td>80</td>\n",
       "      <td>1</td>\n",
       "      <td>1</td>\n",
       "      <td>1</td>\n",
       "      <td>0</td>\n",
       "      <td>0</td>\n",
       "      <td>1</td>\n",
       "      <td>0</td>\n",
       "      <td>1</td>\n",
       "      <td>0</td>\n",
       "      <td>...</td>\n",
       "      <td>0</td>\n",
       "      <td>1</td>\n",
       "      <td>0</td>\n",
       "      <td>0</td>\n",
       "      <td>0</td>\n",
       "      <td>1</td>\n",
       "      <td>0</td>\n",
       "      <td>0</td>\n",
       "      <td>0</td>\n",
       "      <td>0</td>\n",
       "    </tr>\n",
       "    <tr>\n",
       "      <th>3</th>\n",
       "      <td>80</td>\n",
       "      <td>1</td>\n",
       "      <td>1</td>\n",
       "      <td>1</td>\n",
       "      <td>0</td>\n",
       "      <td>0</td>\n",
       "      <td>1</td>\n",
       "      <td>0</td>\n",
       "      <td>1</td>\n",
       "      <td>0</td>\n",
       "      <td>...</td>\n",
       "      <td>0</td>\n",
       "      <td>1</td>\n",
       "      <td>0</td>\n",
       "      <td>0</td>\n",
       "      <td>0</td>\n",
       "      <td>1</td>\n",
       "      <td>0</td>\n",
       "      <td>0</td>\n",
       "      <td>0</td>\n",
       "      <td>0</td>\n",
       "    </tr>\n",
       "    <tr>\n",
       "      <th>4</th>\n",
       "      <td>80</td>\n",
       "      <td>1</td>\n",
       "      <td>1</td>\n",
       "      <td>1</td>\n",
       "      <td>0</td>\n",
       "      <td>0</td>\n",
       "      <td>1</td>\n",
       "      <td>0</td>\n",
       "      <td>1</td>\n",
       "      <td>0</td>\n",
       "      <td>...</td>\n",
       "      <td>0</td>\n",
       "      <td>1</td>\n",
       "      <td>0</td>\n",
       "      <td>0</td>\n",
       "      <td>0</td>\n",
       "      <td>1</td>\n",
       "      <td>0</td>\n",
       "      <td>0</td>\n",
       "      <td>0</td>\n",
       "      <td>0</td>\n",
       "    </tr>\n",
       "  </tbody>\n",
       "</table>\n",
       "<p>5 rows × 109 columns</p>\n",
       "</div>"
      ],
      "text/plain": [
       "   temperature  has_children  toCoupon_GEQ5min  toCoupon_GEQ15min  \\\n",
       "0           55             1                 1                  0   \n",
       "1           80             1                 1                  0   \n",
       "2           80             1                 1                  1   \n",
       "3           80             1                 1                  1   \n",
       "4           80             1                 1                  1   \n",
       "\n",
       "   toCoupon_GEQ25min  direction_same  direction_opp  destination_Home  \\\n",
       "0                  0               0              1                 0   \n",
       "1                  0               0              1                 0   \n",
       "2                  0               0              1                 0   \n",
       "3                  0               0              1                 0   \n",
       "4                  0               0              1                 0   \n",
       "\n",
       "   destination_No Urgent Place  destination_Work  ...  \\\n",
       "0                            1                 0  ...   \n",
       "1                            1                 0  ...   \n",
       "2                            1                 0  ...   \n",
       "3                            1                 0  ...   \n",
       "4                            1                 0  ...   \n",
       "\n",
       "   RestaurantLessThan20_1~3  RestaurantLessThan20_4~8  \\\n",
       "0                         0                         1   \n",
       "1                         0                         1   \n",
       "2                         0                         1   \n",
       "3                         0                         1   \n",
       "4                         0                         1   \n",
       "\n",
       "   RestaurantLessThan20_gt8  RestaurantLessThan20_less1  \\\n",
       "0                         0                           0   \n",
       "1                         0                           0   \n",
       "2                         0                           0   \n",
       "3                         0                           0   \n",
       "4                         0                           0   \n",
       "\n",
       "   RestaurantLessThan20_never  Restaurant20To50_1~3  Restaurant20To50_4~8  \\\n",
       "0                           0                     1                     0   \n",
       "1                           0                     1                     0   \n",
       "2                           0                     1                     0   \n",
       "3                           0                     1                     0   \n",
       "4                           0                     1                     0   \n",
       "\n",
       "   Restaurant20To50_gt8  Restaurant20To50_less1  Restaurant20To50_never  \n",
       "0                     0                       0                       0  \n",
       "1                     0                       0                       0  \n",
       "2                     0                       0                       0  \n",
       "3                     0                       0                       0  \n",
       "4                     0                       0                       0  \n",
       "\n",
       "[5 rows x 109 columns]"
      ]
     },
     "execution_count": 11,
     "metadata": {},
     "output_type": "execute_result"
    }
   ],
   "source": [
    "# Removed from original dataframe, those columns which are already encoded\n",
    "df_without_enc = df.drop(df.select_dtypes(include=['object']).columns,axis=1)\n",
    "\n",
    "# And join the encoded dataframe to the df_without_enc\n",
    "df_encoded = df_without_enc.join(obj_encoded)\n",
    "\n",
    "target = df_encoded[['Y']]\n",
    "df_encoded = df_encoded.drop('Y', axis=1)\n",
    "\n",
    "df_encoded.head()"
   ]
  },
  {
   "cell_type": "code",
   "execution_count": 12,
   "id": "entitled-helena",
   "metadata": {},
   "outputs": [
    {
     "name": "stdout",
     "output_type": "stream",
     "text": [
      "Using 63 components, we can explain 86.33% of the variability in the original data.\n"
     ]
    }
   ],
   "source": [
    "# Loop Function to identify number of principal components that explain at least 85% of the variance\n",
    "for comp in range(3, df_encoded.shape[1]):\n",
    "    pca = PCA(n_components= comp, random_state=42)\n",
    "    pca.fit(scale(df_encoded))\n",
    "    comp_check = pca.explained_variance_ratio_\n",
    "    final_comp = comp\n",
    "    if comp_check.sum() > 0.86:\n",
    "        break\n",
    "        \n",
    "Final_PCA = PCA(n_components= final_comp,random_state=42)\n",
    "Final_PCA.fit(df_encoded)\n",
    "\n",
    "num_comps = comp_check.shape[0]\n",
    "print(\"Using {} components, we can explain {}% of the variability in the original data.\".format(final_comp,round(comp_check.sum()*100,2)))"
   ]
  },
  {
   "cell_type": "code",
   "execution_count": 13,
   "id": "exciting-entity",
   "metadata": {},
   "outputs": [
    {
     "data": {
      "text/plain": [
       "PCA(n_components=63, random_state=42)"
      ]
     },
     "execution_count": 13,
     "metadata": {},
     "output_type": "execute_result"
    }
   ],
   "source": [
    "pca = PCA(n_components=final_comp, random_state=42)\n",
    "pca.fit(scale(df_encoded))"
   ]
  },
  {
   "cell_type": "code",
   "execution_count": 23,
   "id": "dressed-recall",
   "metadata": {},
   "outputs": [
    {
     "data": {
      "application/vnd.plotly.v1+json": {
       "config": {
        "plotlyServerURL": "https://plot.ly"
       },
       "data": [
        {
         "name": "% of variance explained",
         "type": "bar",
         "x": [
          1,
          2,
          3,
          4,
          5,
          6,
          7,
          8,
          9,
          10,
          11,
          12,
          13,
          14,
          15,
          16,
          17,
          18,
          19,
          20,
          21,
          22,
          23,
          24,
          25,
          26,
          27,
          28,
          29,
          30,
          31,
          32,
          33,
          34,
          35,
          36,
          37,
          38,
          39,
          40,
          41,
          42,
          43,
          44,
          45,
          46,
          47,
          48,
          49,
          50,
          51,
          52,
          53,
          54,
          55,
          56,
          57,
          58,
          59,
          60,
          61,
          62,
          63
         ],
         "xaxis": "x",
         "y": [
          0.04413496659481997,
          0.032951012700206374,
          0.02896806310957515,
          0.027098708477396663,
          0.023255957035267158,
          0.023051694582714565,
          0.021061830634836916,
          0.020340002474262243,
          0.01948455302819319,
          0.01933110204246382,
          0.01853955847974732,
          0.017541336408553158,
          0.016921180251664582,
          0.016497109604042333,
          0.016105481590469192,
          0.01592950361211877,
          0.015378303335003698,
          0.015203403165198135,
          0.01455721537996961,
          0.014505335601040061,
          0.014207933633268131,
          0.013951456933807966,
          0.013736340926569775,
          0.013483274702965613,
          0.013192381348950436,
          0.012868751691600963,
          0.012788555031889966,
          0.012657497096457273,
          0.012409892312613916,
          0.012207432890586225,
          0.011765228766093238,
          0.011629825556886157,
          0.011303712452474622,
          0.01127904746078792,
          0.010902518499421344,
          0.010817338309860789,
          0.01065709056491404,
          0.01054487192893153,
          0.010370108838691293,
          0.010273575334323307,
          0.010155989168617138,
          0.010002711481599556,
          0.009872365457010297,
          0.009724645278784366,
          0.00957256531173768,
          0.009526657618888202,
          0.009356889621689051,
          0.009318566421004959,
          0.009279297381295877,
          0.009138743099346156,
          0.008925730954016636,
          0.008733759955284446,
          0.008703203049853668,
          0.008497846379232243,
          0.008333781290777293,
          0.00830816457163013,
          0.00815304942627169,
          0.008091847398307511,
          0.007842051239225893,
          0.007789973906303043,
          0.007577494534974638,
          0.007374661679900201,
          0.007090094726064231
         ],
         "yaxis": "y"
        },
        {
         "name": "% of cumulative variance explained",
         "type": "scatter",
         "x": [
          1,
          2,
          3,
          4,
          5,
          6,
          7,
          8,
          9,
          10,
          11,
          12,
          13,
          14,
          15,
          16,
          17,
          18,
          19,
          20,
          21,
          22,
          23,
          24,
          25,
          26,
          27,
          28,
          29,
          30,
          31,
          32,
          33,
          34,
          35,
          36,
          37,
          38,
          39,
          40,
          41,
          42,
          43,
          44,
          45,
          46,
          47,
          48,
          49,
          50,
          51,
          52,
          53,
          54,
          55,
          56,
          57,
          58,
          59,
          60,
          61,
          62,
          63
         ],
         "xaxis": "x2",
         "y": [
          0.04413496659481997,
          0.07708597929502634,
          0.10605404240460148,
          0.13315275088199813,
          0.1564087079172653,
          0.17946040249997985,
          0.20052223313481676,
          0.220862235609079,
          0.24034678863727219,
          0.259677890679736,
          0.2782174491594833,
          0.2957587855680365,
          0.31267996581970103,
          0.32917707542374336,
          0.34528255701421257,
          0.3612120606263313,
          0.376590363961335,
          0.39179376712653313,
          0.40635098250650276,
          0.4208563181075428,
          0.4350642517408109,
          0.4490157086746189,
          0.46275204960118865,
          0.4762353243041543,
          0.4894277056531047,
          0.5022964573447057,
          0.5150850123765957,
          0.5277425094730529,
          0.5401524017856668,
          0.552359834676253,
          0.5641250634423463,
          0.5757548889992324,
          0.5870586014517071,
          0.598337648912495,
          0.6092401674119163,
          0.6200575057217771,
          0.6307145962866911,
          0.6412594682156226,
          0.6516295770543139,
          0.6619031523886372,
          0.6720591415572543,
          0.6820618530388539,
          0.6919342184958642,
          0.7016588637746486,
          0.7112314290863863,
          0.7207580867052744,
          0.7301149763269634,
          0.7394335427479684,
          0.7487128401292642,
          0.7578515832286103,
          0.766777314182627,
          0.7755110741379114,
          0.784214277187765,
          0.7927121235669973,
          0.8010459048577746,
          0.8093540694294047,
          0.8175071188556764,
          0.8255989662539839,
          0.8334410174932098,
          0.8412309913995129,
          0.8488084859344875,
          0.8561831476143877,
          0.863273242340452
         ],
         "yaxis": "y2"
        }
       ],
       "layout": {
        "autosize": true,
        "template": {
         "data": {
          "bar": [
           {
            "error_x": {
             "color": "#2a3f5f"
            },
            "error_y": {
             "color": "#2a3f5f"
            },
            "marker": {
             "line": {
              "color": "#E5ECF6",
              "width": 0.5
             }
            },
            "type": "bar"
           }
          ],
          "barpolar": [
           {
            "marker": {
             "line": {
              "color": "#E5ECF6",
              "width": 0.5
             }
            },
            "type": "barpolar"
           }
          ],
          "carpet": [
           {
            "aaxis": {
             "endlinecolor": "#2a3f5f",
             "gridcolor": "white",
             "linecolor": "white",
             "minorgridcolor": "white",
             "startlinecolor": "#2a3f5f"
            },
            "baxis": {
             "endlinecolor": "#2a3f5f",
             "gridcolor": "white",
             "linecolor": "white",
             "minorgridcolor": "white",
             "startlinecolor": "#2a3f5f"
            },
            "type": "carpet"
           }
          ],
          "choropleth": [
           {
            "colorbar": {
             "outlinewidth": 0,
             "ticks": ""
            },
            "type": "choropleth"
           }
          ],
          "contour": [
           {
            "colorbar": {
             "outlinewidth": 0,
             "ticks": ""
            },
            "colorscale": [
             [
              0,
              "#0d0887"
             ],
             [
              0.1111111111111111,
              "#46039f"
             ],
             [
              0.2222222222222222,
              "#7201a8"
             ],
             [
              0.3333333333333333,
              "#9c179e"
             ],
             [
              0.4444444444444444,
              "#bd3786"
             ],
             [
              0.5555555555555556,
              "#d8576b"
             ],
             [
              0.6666666666666666,
              "#ed7953"
             ],
             [
              0.7777777777777778,
              "#fb9f3a"
             ],
             [
              0.8888888888888888,
              "#fdca26"
             ],
             [
              1,
              "#f0f921"
             ]
            ],
            "type": "contour"
           }
          ],
          "contourcarpet": [
           {
            "colorbar": {
             "outlinewidth": 0,
             "ticks": ""
            },
            "type": "contourcarpet"
           }
          ],
          "heatmap": [
           {
            "colorbar": {
             "outlinewidth": 0,
             "ticks": ""
            },
            "colorscale": [
             [
              0,
              "#0d0887"
             ],
             [
              0.1111111111111111,
              "#46039f"
             ],
             [
              0.2222222222222222,
              "#7201a8"
             ],
             [
              0.3333333333333333,
              "#9c179e"
             ],
             [
              0.4444444444444444,
              "#bd3786"
             ],
             [
              0.5555555555555556,
              "#d8576b"
             ],
             [
              0.6666666666666666,
              "#ed7953"
             ],
             [
              0.7777777777777778,
              "#fb9f3a"
             ],
             [
              0.8888888888888888,
              "#fdca26"
             ],
             [
              1,
              "#f0f921"
             ]
            ],
            "type": "heatmap"
           }
          ],
          "heatmapgl": [
           {
            "colorbar": {
             "outlinewidth": 0,
             "ticks": ""
            },
            "colorscale": [
             [
              0,
              "#0d0887"
             ],
             [
              0.1111111111111111,
              "#46039f"
             ],
             [
              0.2222222222222222,
              "#7201a8"
             ],
             [
              0.3333333333333333,
              "#9c179e"
             ],
             [
              0.4444444444444444,
              "#bd3786"
             ],
             [
              0.5555555555555556,
              "#d8576b"
             ],
             [
              0.6666666666666666,
              "#ed7953"
             ],
             [
              0.7777777777777778,
              "#fb9f3a"
             ],
             [
              0.8888888888888888,
              "#fdca26"
             ],
             [
              1,
              "#f0f921"
             ]
            ],
            "type": "heatmapgl"
           }
          ],
          "histogram": [
           {
            "marker": {
             "colorbar": {
              "outlinewidth": 0,
              "ticks": ""
             }
            },
            "type": "histogram"
           }
          ],
          "histogram2d": [
           {
            "colorbar": {
             "outlinewidth": 0,
             "ticks": ""
            },
            "colorscale": [
             [
              0,
              "#0d0887"
             ],
             [
              0.1111111111111111,
              "#46039f"
             ],
             [
              0.2222222222222222,
              "#7201a8"
             ],
             [
              0.3333333333333333,
              "#9c179e"
             ],
             [
              0.4444444444444444,
              "#bd3786"
             ],
             [
              0.5555555555555556,
              "#d8576b"
             ],
             [
              0.6666666666666666,
              "#ed7953"
             ],
             [
              0.7777777777777778,
              "#fb9f3a"
             ],
             [
              0.8888888888888888,
              "#fdca26"
             ],
             [
              1,
              "#f0f921"
             ]
            ],
            "type": "histogram2d"
           }
          ],
          "histogram2dcontour": [
           {
            "colorbar": {
             "outlinewidth": 0,
             "ticks": ""
            },
            "colorscale": [
             [
              0,
              "#0d0887"
             ],
             [
              0.1111111111111111,
              "#46039f"
             ],
             [
              0.2222222222222222,
              "#7201a8"
             ],
             [
              0.3333333333333333,
              "#9c179e"
             ],
             [
              0.4444444444444444,
              "#bd3786"
             ],
             [
              0.5555555555555556,
              "#d8576b"
             ],
             [
              0.6666666666666666,
              "#ed7953"
             ],
             [
              0.7777777777777778,
              "#fb9f3a"
             ],
             [
              0.8888888888888888,
              "#fdca26"
             ],
             [
              1,
              "#f0f921"
             ]
            ],
            "type": "histogram2dcontour"
           }
          ],
          "mesh3d": [
           {
            "colorbar": {
             "outlinewidth": 0,
             "ticks": ""
            },
            "type": "mesh3d"
           }
          ],
          "parcoords": [
           {
            "line": {
             "colorbar": {
              "outlinewidth": 0,
              "ticks": ""
             }
            },
            "type": "parcoords"
           }
          ],
          "pie": [
           {
            "automargin": true,
            "type": "pie"
           }
          ],
          "scatter": [
           {
            "marker": {
             "colorbar": {
              "outlinewidth": 0,
              "ticks": ""
             }
            },
            "type": "scatter"
           }
          ],
          "scatter3d": [
           {
            "line": {
             "colorbar": {
              "outlinewidth": 0,
              "ticks": ""
             }
            },
            "marker": {
             "colorbar": {
              "outlinewidth": 0,
              "ticks": ""
             }
            },
            "type": "scatter3d"
           }
          ],
          "scattercarpet": [
           {
            "marker": {
             "colorbar": {
              "outlinewidth": 0,
              "ticks": ""
             }
            },
            "type": "scattercarpet"
           }
          ],
          "scattergeo": [
           {
            "marker": {
             "colorbar": {
              "outlinewidth": 0,
              "ticks": ""
             }
            },
            "type": "scattergeo"
           }
          ],
          "scattergl": [
           {
            "marker": {
             "colorbar": {
              "outlinewidth": 0,
              "ticks": ""
             }
            },
            "type": "scattergl"
           }
          ],
          "scattermapbox": [
           {
            "marker": {
             "colorbar": {
              "outlinewidth": 0,
              "ticks": ""
             }
            },
            "type": "scattermapbox"
           }
          ],
          "scatterpolar": [
           {
            "marker": {
             "colorbar": {
              "outlinewidth": 0,
              "ticks": ""
             }
            },
            "type": "scatterpolar"
           }
          ],
          "scatterpolargl": [
           {
            "marker": {
             "colorbar": {
              "outlinewidth": 0,
              "ticks": ""
             }
            },
            "type": "scatterpolargl"
           }
          ],
          "scatterternary": [
           {
            "marker": {
             "colorbar": {
              "outlinewidth": 0,
              "ticks": ""
             }
            },
            "type": "scatterternary"
           }
          ],
          "surface": [
           {
            "colorbar": {
             "outlinewidth": 0,
             "ticks": ""
            },
            "colorscale": [
             [
              0,
              "#0d0887"
             ],
             [
              0.1111111111111111,
              "#46039f"
             ],
             [
              0.2222222222222222,
              "#7201a8"
             ],
             [
              0.3333333333333333,
              "#9c179e"
             ],
             [
              0.4444444444444444,
              "#bd3786"
             ],
             [
              0.5555555555555556,
              "#d8576b"
             ],
             [
              0.6666666666666666,
              "#ed7953"
             ],
             [
              0.7777777777777778,
              "#fb9f3a"
             ],
             [
              0.8888888888888888,
              "#fdca26"
             ],
             [
              1,
              "#f0f921"
             ]
            ],
            "type": "surface"
           }
          ],
          "table": [
           {
            "cells": {
             "fill": {
              "color": "#EBF0F8"
             },
             "line": {
              "color": "white"
             }
            },
            "header": {
             "fill": {
              "color": "#C8D4E3"
             },
             "line": {
              "color": "white"
             }
            },
            "type": "table"
           }
          ]
         },
         "layout": {
          "annotationdefaults": {
           "arrowcolor": "#2a3f5f",
           "arrowhead": 0,
           "arrowwidth": 1
          },
          "autotypenumbers": "strict",
          "coloraxis": {
           "colorbar": {
            "outlinewidth": 0,
            "ticks": ""
           }
          },
          "colorscale": {
           "diverging": [
            [
             0,
             "#8e0152"
            ],
            [
             0.1,
             "#c51b7d"
            ],
            [
             0.2,
             "#de77ae"
            ],
            [
             0.3,
             "#f1b6da"
            ],
            [
             0.4,
             "#fde0ef"
            ],
            [
             0.5,
             "#f7f7f7"
            ],
            [
             0.6,
             "#e6f5d0"
            ],
            [
             0.7,
             "#b8e186"
            ],
            [
             0.8,
             "#7fbc41"
            ],
            [
             0.9,
             "#4d9221"
            ],
            [
             1,
             "#276419"
            ]
           ],
           "sequential": [
            [
             0,
             "#0d0887"
            ],
            [
             0.1111111111111111,
             "#46039f"
            ],
            [
             0.2222222222222222,
             "#7201a8"
            ],
            [
             0.3333333333333333,
             "#9c179e"
            ],
            [
             0.4444444444444444,
             "#bd3786"
            ],
            [
             0.5555555555555556,
             "#d8576b"
            ],
            [
             0.6666666666666666,
             "#ed7953"
            ],
            [
             0.7777777777777778,
             "#fb9f3a"
            ],
            [
             0.8888888888888888,
             "#fdca26"
            ],
            [
             1,
             "#f0f921"
            ]
           ],
           "sequentialminus": [
            [
             0,
             "#0d0887"
            ],
            [
             0.1111111111111111,
             "#46039f"
            ],
            [
             0.2222222222222222,
             "#7201a8"
            ],
            [
             0.3333333333333333,
             "#9c179e"
            ],
            [
             0.4444444444444444,
             "#bd3786"
            ],
            [
             0.5555555555555556,
             "#d8576b"
            ],
            [
             0.6666666666666666,
             "#ed7953"
            ],
            [
             0.7777777777777778,
             "#fb9f3a"
            ],
            [
             0.8888888888888888,
             "#fdca26"
            ],
            [
             1,
             "#f0f921"
            ]
           ]
          },
          "colorway": [
           "#636efa",
           "#EF553B",
           "#00cc96",
           "#ab63fa",
           "#FFA15A",
           "#19d3f3",
           "#FF6692",
           "#B6E880",
           "#FF97FF",
           "#FECB52"
          ],
          "font": {
           "color": "#2a3f5f"
          },
          "geo": {
           "bgcolor": "white",
           "lakecolor": "white",
           "landcolor": "#E5ECF6",
           "showlakes": true,
           "showland": true,
           "subunitcolor": "white"
          },
          "hoverlabel": {
           "align": "left"
          },
          "hovermode": "closest",
          "mapbox": {
           "style": "light"
          },
          "paper_bgcolor": "white",
          "plot_bgcolor": "#E5ECF6",
          "polar": {
           "angularaxis": {
            "gridcolor": "white",
            "linecolor": "white",
            "ticks": ""
           },
           "bgcolor": "#E5ECF6",
           "radialaxis": {
            "gridcolor": "white",
            "linecolor": "white",
            "ticks": ""
           }
          },
          "scene": {
           "xaxis": {
            "backgroundcolor": "#E5ECF6",
            "gridcolor": "white",
            "gridwidth": 2,
            "linecolor": "white",
            "showbackground": true,
            "ticks": "",
            "zerolinecolor": "white"
           },
           "yaxis": {
            "backgroundcolor": "#E5ECF6",
            "gridcolor": "white",
            "gridwidth": 2,
            "linecolor": "white",
            "showbackground": true,
            "ticks": "",
            "zerolinecolor": "white"
           },
           "zaxis": {
            "backgroundcolor": "#E5ECF6",
            "gridcolor": "white",
            "gridwidth": 2,
            "linecolor": "white",
            "showbackground": true,
            "ticks": "",
            "zerolinecolor": "white"
           }
          },
          "shapedefaults": {
           "line": {
            "color": "#2a3f5f"
           }
          },
          "ternary": {
           "aaxis": {
            "gridcolor": "white",
            "linecolor": "white",
            "ticks": ""
           },
           "baxis": {
            "gridcolor": "white",
            "linecolor": "white",
            "ticks": ""
           },
           "bgcolor": "#E5ECF6",
           "caxis": {
            "gridcolor": "white",
            "linecolor": "white",
            "ticks": ""
           }
          },
          "title": {
           "x": 0.05
          },
          "xaxis": {
           "automargin": true,
           "gridcolor": "white",
           "linecolor": "white",
           "ticks": "",
           "title": {
            "standoff": 15
           },
           "zerolinecolor": "white",
           "zerolinewidth": 2
          },
          "yaxis": {
           "automargin": true,
           "gridcolor": "white",
           "linecolor": "white",
           "ticks": "",
           "title": {
            "standoff": 15
           },
           "zerolinecolor": "white",
           "zerolinewidth": 2
          }
         }
        },
        "title": {
         "text": "Principle Component Analysis"
        },
        "xaxis": {
         "anchor": "y",
         "domain": [
          0,
          1
         ],
         "range": [
          1,
          63
         ],
         "tickmode": "linear",
         "title": {
          "text": "Principle Components"
         },
         "type": "linear"
        },
        "xaxis2": {
         "anchor": "y2",
         "autorange": true,
         "domain": [
          0,
          1
         ],
         "range": [
          1,
          63
         ],
         "tickmode": "linear",
         "type": "linear"
        },
        "yaxis": {
         "anchor": "x",
         "domain": [
          0.575,
          1
         ],
         "range": [
          0,
          0.05
         ],
         "tickformat": "%",
         "title": {
          "text": "Explained Variance"
         },
         "type": "linear"
        },
        "yaxis2": {
         "anchor": "x2",
         "autorange": true,
         "domain": [
          0,
          0.425
         ],
         "range": [
          -0.0013727153910484888,
          0.9087809243263204
         ],
         "tickformat": "%",
         "type": "linear"
        }
       }
      },
      "image/png": "[encoded data removed]",
      "text/html": [
       "<div>                            <div id=\"bed18d83-faba-49a2-b5da-2aa9af0a1ffc\" class=\"plotly-graph-div\" style=\"height:600px; width:100%;\"></div>            <script type=\"text/javascript\">                require([\"plotly\"], function(Plotly) {                    window.PLOTLYENV=window.PLOTLYENV || {};                                    if (document.getElementById(\"bed18d83-faba-49a2-b5da-2aa9af0a1ffc\")) {                    Plotly.newPlot(                        \"bed18d83-faba-49a2-b5da-2aa9af0a1ffc\",                        [{\"name\": \"% of variance explained\", \"type\": \"bar\", \"x\": [1, 2, 3, 4, 5, 6, 7, 8, 9, 10, 11, 12, 13, 14, 15, 16, 17, 18, 19, 20, 21, 22, 23, 24, 25, 26, 27, 28, 29, 30, 31, 32, 33, 34, 35, 36, 37, 38, 39, 40, 41, 42, 43, 44, 45, 46, 47, 48, 49, 50, 51, 52, 53, 54, 55, 56, 57, 58, 59, 60, 61, 62, 63], \"xaxis\": \"x\", \"y\": [0.04413496659481997, 0.032951012700206374, 0.02896806310957515, 0.027098708477396663, 0.023255957035267158, 0.023051694582714565, 0.021061830634836916, 0.020340002474262243, 0.01948455302819319, 0.01933110204246382, 0.01853955847974732, 0.017541336408553158, 0.016921180251664582, 0.016497109604042333, 0.016105481590469192, 0.01592950361211877, 0.015378303335003698, 0.015203403165198135, 0.01455721537996961, 0.014505335601040061, 0.014207933633268131, 0.013951456933807966, 0.013736340926569775, 0.013483274702965613, 0.013192381348950436, 0.012868751691600963, 0.012788555031889966, 0.012657497096457273, 0.012409892312613916, 0.012207432890586225, 0.011765228766093238, 0.011629825556886157, 0.011303712452474622, 0.01127904746078792, 0.010902518499421344, 0.010817338309860789, 0.01065709056491404, 0.01054487192893153, 0.010370108838691293, 0.010273575334323307, 0.010155989168617138, 0.010002711481599556, 0.009872365457010297, 0.009724645278784366, 0.00957256531173768, 0.009526657618888202, 0.009356889621689051, 0.009318566421004959, 0.009279297381295877, 0.009138743099346156, 0.008925730954016636, 0.008733759955284446, 0.008703203049853668, 0.008497846379232243, 0.008333781290777293, 0.00830816457163013, 0.00815304942627169, 0.008091847398307511, 0.007842051239225893, 0.007789973906303043, 0.007577494534974638, 0.007374661679900201, 0.007090094726064231], \"yaxis\": \"y\"}, {\"name\": \"% of cumulative variance explained\", \"type\": \"scatter\", \"x\": [1, 2, 3, 4, 5, 6, 7, 8, 9, 10, 11, 12, 13, 14, 15, 16, 17, 18, 19, 20, 21, 22, 23, 24, 25, 26, 27, 28, 29, 30, 31, 32, 33, 34, 35, 36, 37, 38, 39, 40, 41, 42, 43, 44, 45, 46, 47, 48, 49, 50, 51, 52, 53, 54, 55, 56, 57, 58, 59, 60, 61, 62, 63], \"xaxis\": \"x2\", \"y\": [0.04413496659481997, 0.07708597929502634, 0.10605404240460148, 0.13315275088199813, 0.1564087079172653, 0.17946040249997985, 0.20052223313481676, 0.220862235609079, 0.24034678863727219, 0.259677890679736, 0.2782174491594833, 0.2957587855680365, 0.31267996581970103, 0.32917707542374336, 0.34528255701421257, 0.3612120606263313, 0.376590363961335, 0.39179376712653313, 0.40635098250650276, 0.4208563181075428, 0.4350642517408109, 0.4490157086746189, 0.46275204960118865, 0.4762353243041543, 0.4894277056531047, 0.5022964573447057, 0.5150850123765957, 0.5277425094730529, 0.5401524017856668, 0.552359834676253, 0.5641250634423463, 0.5757548889992324, 0.5870586014517071, 0.598337648912495, 0.6092401674119163, 0.6200575057217771, 0.6307145962866911, 0.6412594682156226, 0.6516295770543139, 0.6619031523886372, 0.6720591415572543, 0.6820618530388539, 0.6919342184958642, 0.7016588637746486, 0.7112314290863863, 0.7207580867052744, 0.7301149763269634, 0.7394335427479684, 0.7487128401292642, 0.7578515832286103, 0.766777314182627, 0.7755110741379114, 0.784214277187765, 0.7927121235669973, 0.8010459048577746, 0.8093540694294047, 0.8175071188556764, 0.8255989662539839, 0.8334410174932098, 0.8412309913995129, 0.8488084859344875, 0.8561831476143877, 0.863273242340452], \"yaxis\": \"y2\"}],                        {\"height\": 600, \"template\": {\"data\": {\"bar\": [{\"error_x\": {\"color\": \"#2a3f5f\"}, \"error_y\": {\"color\": \"#2a3f5f\"}, \"marker\": {\"line\": {\"color\": \"#E5ECF6\", \"width\": 0.5}}, \"type\": \"bar\"}], \"barpolar\": [{\"marker\": {\"line\": {\"color\": \"#E5ECF6\", \"width\": 0.5}}, \"type\": \"barpolar\"}], \"carpet\": [{\"aaxis\": {\"endlinecolor\": \"#2a3f5f\", \"gridcolor\": \"white\", \"linecolor\": \"white\", \"minorgridcolor\": \"white\", \"startlinecolor\": \"#2a3f5f\"}, \"baxis\": {\"endlinecolor\": \"#2a3f5f\", \"gridcolor\": \"white\", \"linecolor\": \"white\", \"minorgridcolor\": \"white\", \"startlinecolor\": \"#2a3f5f\"}, \"type\": \"carpet\"}], \"choropleth\": [{\"colorbar\": {\"outlinewidth\": 0, \"ticks\": \"\"}, \"type\": \"choropleth\"}], \"contour\": [{\"colorbar\": {\"outlinewidth\": 0, \"ticks\": \"\"}, \"colorscale\": [[0.0, \"#0d0887\"], [0.1111111111111111, \"#46039f\"], [0.2222222222222222, \"#7201a8\"], [0.3333333333333333, \"#9c179e\"], [0.4444444444444444, \"#bd3786\"], [0.5555555555555556, \"#d8576b\"], [0.6666666666666666, \"#ed7953\"], [0.7777777777777778, \"#fb9f3a\"], [0.8888888888888888, \"#fdca26\"], [1.0, \"#f0f921\"]], \"type\": \"contour\"}], \"contourcarpet\": [{\"colorbar\": {\"outlinewidth\": 0, \"ticks\": \"\"}, \"type\": \"contourcarpet\"}], \"heatmap\": [{\"colorbar\": {\"outlinewidth\": 0, \"ticks\": \"\"}, \"colorscale\": [[0.0, \"#0d0887\"], [0.1111111111111111, \"#46039f\"], [0.2222222222222222, \"#7201a8\"], [0.3333333333333333, \"#9c179e\"], [0.4444444444444444, \"#bd3786\"], [0.5555555555555556, \"#d8576b\"], [0.6666666666666666, \"#ed7953\"], [0.7777777777777778, \"#fb9f3a\"], [0.8888888888888888, \"#fdca26\"], [1.0, \"#f0f921\"]], \"type\": \"heatmap\"}], \"heatmapgl\": [{\"colorbar\": {\"outlinewidth\": 0, \"ticks\": \"\"}, \"colorscale\": [[0.0, \"#0d0887\"], [0.1111111111111111, \"#46039f\"], [0.2222222222222222, \"#7201a8\"], [0.3333333333333333, \"#9c179e\"], [0.4444444444444444, \"#bd3786\"], [0.5555555555555556, \"#d8576b\"], [0.6666666666666666, \"#ed7953\"], [0.7777777777777778, \"#fb9f3a\"], [0.8888888888888888, \"#fdca26\"], [1.0, \"#f0f921\"]], \"type\": \"heatmapgl\"}], \"histogram\": [{\"marker\": {\"colorbar\": {\"outlinewidth\": 0, \"ticks\": \"\"}}, \"type\": \"histogram\"}], \"histogram2d\": [{\"colorbar\": {\"outlinewidth\": 0, \"ticks\": \"\"}, \"colorscale\": [[0.0, \"#0d0887\"], [0.1111111111111111, \"#46039f\"], [0.2222222222222222, \"#7201a8\"], [0.3333333333333333, \"#9c179e\"], [0.4444444444444444, \"#bd3786\"], [0.5555555555555556, \"#d8576b\"], [0.6666666666666666, \"#ed7953\"], [0.7777777777777778, \"#fb9f3a\"], [0.8888888888888888, \"#fdca26\"], [1.0, \"#f0f921\"]], \"type\": \"histogram2d\"}], \"histogram2dcontour\": [{\"colorbar\": {\"outlinewidth\": 0, \"ticks\": \"\"}, \"colorscale\": [[0.0, \"#0d0887\"], [0.1111111111111111, \"#46039f\"], [0.2222222222222222, \"#7201a8\"], [0.3333333333333333, \"#9c179e\"], [0.4444444444444444, \"#bd3786\"], [0.5555555555555556, \"#d8576b\"], [0.6666666666666666, \"#ed7953\"], [0.7777777777777778, \"#fb9f3a\"], [0.8888888888888888, \"#fdca26\"], [1.0, \"#f0f921\"]], \"type\": \"histogram2dcontour\"}], \"mesh3d\": [{\"colorbar\": {\"outlinewidth\": 0, \"ticks\": \"\"}, \"type\": \"mesh3d\"}], \"parcoords\": [{\"line\": {\"colorbar\": {\"outlinewidth\": 0, \"ticks\": \"\"}}, \"type\": \"parcoords\"}], \"pie\": [{\"automargin\": true, \"type\": \"pie\"}], \"scatter\": [{\"marker\": {\"colorbar\": {\"outlinewidth\": 0, \"ticks\": \"\"}}, \"type\": \"scatter\"}], \"scatter3d\": [{\"line\": {\"colorbar\": {\"outlinewidth\": 0, \"ticks\": \"\"}}, \"marker\": {\"colorbar\": {\"outlinewidth\": 0, \"ticks\": \"\"}}, \"type\": \"scatter3d\"}], \"scattercarpet\": [{\"marker\": {\"colorbar\": {\"outlinewidth\": 0, \"ticks\": \"\"}}, \"type\": \"scattercarpet\"}], \"scattergeo\": [{\"marker\": {\"colorbar\": {\"outlinewidth\": 0, \"ticks\": \"\"}}, \"type\": \"scattergeo\"}], \"scattergl\": [{\"marker\": {\"colorbar\": {\"outlinewidth\": 0, \"ticks\": \"\"}}, \"type\": \"scattergl\"}], \"scattermapbox\": [{\"marker\": {\"colorbar\": {\"outlinewidth\": 0, \"ticks\": \"\"}}, \"type\": \"scattermapbox\"}], \"scatterpolar\": [{\"marker\": {\"colorbar\": {\"outlinewidth\": 0, \"ticks\": \"\"}}, \"type\": \"scatterpolar\"}], \"scatterpolargl\": [{\"marker\": {\"colorbar\": {\"outlinewidth\": 0, \"ticks\": \"\"}}, \"type\": \"scatterpolargl\"}], \"scatterternary\": [{\"marker\": {\"colorbar\": {\"outlinewidth\": 0, \"ticks\": \"\"}}, \"type\": \"scatterternary\"}], \"surface\": [{\"colorbar\": {\"outlinewidth\": 0, \"ticks\": \"\"}, \"colorscale\": [[0.0, \"#0d0887\"], [0.1111111111111111, \"#46039f\"], [0.2222222222222222, \"#7201a8\"], [0.3333333333333333, \"#9c179e\"], [0.4444444444444444, \"#bd3786\"], [0.5555555555555556, \"#d8576b\"], [0.6666666666666666, \"#ed7953\"], [0.7777777777777778, \"#fb9f3a\"], [0.8888888888888888, \"#fdca26\"], [1.0, \"#f0f921\"]], \"type\": \"surface\"}], \"table\": [{\"cells\": {\"fill\": {\"color\": \"#EBF0F8\"}, \"line\": {\"color\": \"white\"}}, \"header\": {\"fill\": {\"color\": \"#C8D4E3\"}, \"line\": {\"color\": \"white\"}}, \"type\": \"table\"}]}, \"layout\": {\"annotationdefaults\": {\"arrowcolor\": \"#2a3f5f\", \"arrowhead\": 0, \"arrowwidth\": 1}, \"autotypenumbers\": \"strict\", \"coloraxis\": {\"colorbar\": {\"outlinewidth\": 0, \"ticks\": \"\"}}, \"colorscale\": {\"diverging\": [[0, \"#8e0152\"], [0.1, \"#c51b7d\"], [0.2, \"#de77ae\"], [0.3, \"#f1b6da\"], [0.4, \"#fde0ef\"], [0.5, \"#f7f7f7\"], [0.6, \"#e6f5d0\"], [0.7, \"#b8e186\"], [0.8, \"#7fbc41\"], [0.9, \"#4d9221\"], [1, \"#276419\"]], \"sequential\": [[0.0, \"#0d0887\"], [0.1111111111111111, \"#46039f\"], [0.2222222222222222, \"#7201a8\"], [0.3333333333333333, \"#9c179e\"], [0.4444444444444444, \"#bd3786\"], [0.5555555555555556, \"#d8576b\"], [0.6666666666666666, \"#ed7953\"], [0.7777777777777778, \"#fb9f3a\"], [0.8888888888888888, \"#fdca26\"], [1.0, \"#f0f921\"]], \"sequentialminus\": [[0.0, \"#0d0887\"], [0.1111111111111111, \"#46039f\"], [0.2222222222222222, \"#7201a8\"], [0.3333333333333333, \"#9c179e\"], [0.4444444444444444, \"#bd3786\"], [0.5555555555555556, \"#d8576b\"], [0.6666666666666666, \"#ed7953\"], [0.7777777777777778, \"#fb9f3a\"], [0.8888888888888888, \"#fdca26\"], [1.0, \"#f0f921\"]]}, \"colorway\": [\"#636efa\", \"#EF553B\", \"#00cc96\", \"#ab63fa\", \"#FFA15A\", \"#19d3f3\", \"#FF6692\", \"#B6E880\", \"#FF97FF\", \"#FECB52\"], \"font\": {\"color\": \"#2a3f5f\"}, \"geo\": {\"bgcolor\": \"white\", \"lakecolor\": \"white\", \"landcolor\": \"#E5ECF6\", \"showlakes\": true, \"showland\": true, \"subunitcolor\": \"white\"}, \"hoverlabel\": {\"align\": \"left\"}, \"hovermode\": \"closest\", \"mapbox\": {\"style\": \"light\"}, \"paper_bgcolor\": \"white\", \"plot_bgcolor\": \"#E5ECF6\", \"polar\": {\"angularaxis\": {\"gridcolor\": \"white\", \"linecolor\": \"white\", \"ticks\": \"\"}, \"bgcolor\": \"#E5ECF6\", \"radialaxis\": {\"gridcolor\": \"white\", \"linecolor\": \"white\", \"ticks\": \"\"}}, \"scene\": {\"xaxis\": {\"backgroundcolor\": \"#E5ECF6\", \"gridcolor\": \"white\", \"gridwidth\": 2, \"linecolor\": \"white\", \"showbackground\": true, \"ticks\": \"\", \"zerolinecolor\": \"white\"}, \"yaxis\": {\"backgroundcolor\": \"#E5ECF6\", \"gridcolor\": \"white\", \"gridwidth\": 2, \"linecolor\": \"white\", \"showbackground\": true, \"ticks\": \"\", \"zerolinecolor\": \"white\"}, \"zaxis\": {\"backgroundcolor\": \"#E5ECF6\", \"gridcolor\": \"white\", \"gridwidth\": 2, \"linecolor\": \"white\", \"showbackground\": true, \"ticks\": \"\", \"zerolinecolor\": \"white\"}}, \"shapedefaults\": {\"line\": {\"color\": \"#2a3f5f\"}}, \"ternary\": {\"aaxis\": {\"gridcolor\": \"white\", \"linecolor\": \"white\", \"ticks\": \"\"}, \"baxis\": {\"gridcolor\": \"white\", \"linecolor\": \"white\", \"ticks\": \"\"}, \"bgcolor\": \"#E5ECF6\", \"caxis\": {\"gridcolor\": \"white\", \"linecolor\": \"white\", \"ticks\": \"\"}}, \"title\": {\"x\": 0.05}, \"xaxis\": {\"automargin\": true, \"gridcolor\": \"white\", \"linecolor\": \"white\", \"ticks\": \"\", \"title\": {\"standoff\": 15}, \"zerolinecolor\": \"white\", \"zerolinewidth\": 2}, \"yaxis\": {\"automargin\": true, \"gridcolor\": \"white\", \"linecolor\": \"white\", \"ticks\": \"\", \"title\": {\"standoff\": 15}, \"zerolinecolor\": \"white\", \"zerolinewidth\": 2}}}, \"title\": {\"text\": \"Principle Component Analysis\"}, \"xaxis\": {\"anchor\": \"y\", \"domain\": [0.0, 1.0], \"range\": [1, 63], \"tickmode\": \"linear\", \"title\": {\"text\": \"Principle Components\"}}, \"xaxis2\": {\"anchor\": \"y2\", \"domain\": [0.0, 1.0], \"tickmode\": \"linear\"}, \"yaxis\": {\"anchor\": \"x\", \"domain\": [0.575, 1.0], \"range\": [0, 0.05], \"tickformat\": \"%\", \"title\": {\"text\": \"Explained Variance\"}}, \"yaxis2\": {\"anchor\": \"x2\", \"domain\": [0.0, 0.425], \"tickformat\": \"%\"}},                        {\"responsive\": true}                    ).then(function(){\n",
       "                            \n",
       "var gd = document.getElementById('bed18d83-faba-49a2-b5da-2aa9af0a1ffc');\n",
       "var x = new MutationObserver(function (mutations, observer) {{\n",
       "        var display = window.getComputedStyle(gd).display;\n",
       "        if (!display || display === 'none') {{\n",
       "            console.log([gd, 'removed!']);\n",
       "            Plotly.purge(gd);\n",
       "            observer.disconnect();\n",
       "        }}\n",
       "}});\n",
       "\n",
       "// Listen for the removal of the full notebook cells\n",
       "var notebookContainer = gd.closest('#notebook-container');\n",
       "if (notebookContainer) {{\n",
       "    x.observe(notebookContainer, {childList: true});\n",
       "}}\n",
       "\n",
       "// Listen for the clearing of the current output cell\n",
       "var outputEl = gd.closest('.output');\n",
       "if (outputEl) {{\n",
       "    x.observe(outputEl, {childList: true});\n",
       "}}\n",
       "\n",
       "                        })                };                });            </script>        </div>"
      ]
     },
     "metadata": {},
     "output_type": "display_data"
    }
   ],
   "source": [
    "bar_range = pca.n_components_+1\n",
    "\n",
    "fig = make_subplots(rows=2, cols=1)\n",
    "\n",
    "fig.add_trace(go.Bar(x=list(range(1, bar_range)), y=pca.explained_variance_ratio_, name=\"% of variance explained\"),row=1, col=1)\n",
    "\n",
    "fig.add_trace(go.Scatter(x=list(range(1, bar_range)), y=np.cumsum(pca.explained_variance_ratio_), name='% of cumulative variance explained'),row=2, col=1)\n",
    "\n",
    "fig.update_xaxes(title_text=\"Principle Components\", range=[1,pca.n_components], row=1, col=1)\n",
    "fig.update_yaxes(title_text=\"Explained Variance\",range=[0,0.05], row=1, col=1)\n",
    "fig.update_layout(height=600,\n",
    "                  title_text=\"Principle Component Analysis\",\n",
    "                  yaxis1_tickformat = '%',\n",
    "                  yaxis2_tickformat = '%',\n",
    "                  xaxis1=dict(tickmode='linear'),\n",
    "                  xaxis2=dict(tickmode='linear'))\n",
    "fig.show()"
   ]
  },
  {
   "cell_type": "code",
   "execution_count": 68,
   "id": "collected-apache",
   "metadata": {},
   "outputs": [
    {
     "data": {
      "image/png": "[encoded data removed]",
      "text/plain": [
       "<Figure size 1080x720 with 2 Axes>"
      ]
     },
     "metadata": {
      "needs_background": "light"
     },
     "output_type": "display_data"
    }
   ],
   "source": [
    "import matplotlib.pyplot as plt\n",
    "import matplotlib.ticker as mtick\n",
    "plt.rcParams['figure.figsize'] = [15, 10]\n",
    "\n",
    "fig = plt.figure()\n",
    "ax1 = fig.add_subplot(211)\n",
    "ax2 = fig.add_subplot(212)\n",
    "\n",
    "fig.suptitle('Principle component Analysis')\n",
    "\n",
    "\n",
    "ax1.bar(list(range(1, bar_range)),pca.explained_variance_ratio_,color='g',label=\"% of variance explained\")\n",
    "ax1.legend(loc='upper right')\n",
    "\n",
    "\n",
    "ax2.plot(list(range(1, bar_range)), np.cumsum(pca.explained_variance_ratio_), color='r',label=\"% of cumulative variance explained\")\n",
    "ax2.legend(loc='upper left')\n",
    "\n",
    "for ax in [ax1,ax2]:\n",
    "    ax.set_xlim([1,60])\n",
    "    ax.yaxis.set_major_formatter(mtick.PercentFormatter(1.0,decimals=1))\n",
    "    ax.set_xlabel('Principle components')\n",
    "    ax.set_ylabel('Explained variance')\n",
    "    plt.setp(ax, xticks=[s for s in range(1, bar_range) if s%5==0])\n",
    "    \n",
    "\n",
    "plt.show()"
   ]
  },
  {
   "cell_type": "code",
   "execution_count": 15,
   "id": "underlying-premium",
   "metadata": {},
   "outputs": [],
   "source": [
    "cluster_df=Final_PCA.transform(df_encoded)\n",
    "pca_df = pd.DataFrame(cluster_df,columns=[f'PC{i}' for i in range(1,final_comp+1)])"
   ]
  },
  {
   "cell_type": "markdown",
   "id": "secure-prime",
   "metadata": {},
   "source": [
    "# Logistic Regression\n",
    "## Split the dataset"
   ]
  },
  {
   "cell_type": "code",
   "execution_count": 16,
   "id": "combined-accountability",
   "metadata": {},
   "outputs": [],
   "source": [
    "X_train, X_test, Y_train, Y_test = train_test_split(pca_df,target['Y'],train_size=0.9, test_size=0.1, random_state=42)"
   ]
  },
  {
   "cell_type": "code",
   "execution_count": 17,
   "id": "japanese-preservation",
   "metadata": {},
   "outputs": [],
   "source": [
    "from sklearn.linear_model import LogisticRegression\n",
    "model = LogisticRegression(C=1.5,random_state=42)"
   ]
  },
  {
   "cell_type": "code",
   "execution_count": 18,
   "id": "expired-newark",
   "metadata": {},
   "outputs": [],
   "source": [
    "model.fit(X_train, Y_train)\n",
    "Y_pred = model.predict(X_test)"
   ]
  },
  {
   "cell_type": "code",
   "execution_count": 19,
   "id": "passing-ancient",
   "metadata": {},
   "outputs": [
    {
     "name": "stdout",
     "output_type": "stream",
     "text": [
      "Accuracy of logistic regression classifier on test set: 0.68\n"
     ]
    }
   ],
   "source": [
    "print('Accuracy of logistic regression classifier on test set: {:.2f}'.format(model.score(X_test, Y_test)))"
   ]
  },
  {
   "cell_type": "code",
   "execution_count": 20,
   "id": "hindu-lingerie",
   "metadata": {},
   "outputs": [
    {
     "name": "stdout",
     "output_type": "stream",
     "text": [
      "[[316 243]\n",
      " [162 548]]\n"
     ]
    }
   ],
   "source": [
    "confusion_matrix = confusion_matrix(Y_test, Y_pred)\n",
    "print(confusion_matrix)"
   ]
  },
  {
   "cell_type": "markdown",
   "id": "measured-image",
   "metadata": {},
   "source": [
    "### we have 316 + 548 correct predictions and 162+243 incorrect predictions"
   ]
  },
  {
   "cell_type": "markdown",
   "id": "automatic-drain",
   "metadata": {},
   "source": [
    "#### Compute precision, recall, F-measure and support\n",
    "To quote from [Scikit Learn](https://scikit-learn.org/stable/index.html):\n",
    "\n",
    "The precision is the ratio tp / (tp + fp) where tp is the number of true positives and fp the number of false positives. The precision is intuitively the ability of the classifier to not label a sample as positive if it is negative.\n",
    "\n",
    "The recall is the ratio tp / (tp + fn) where tp is the number of true positives and fn the number of false negatives. The recall is intuitively the ability of the classifier to find all the positive samples.\n",
    "\n",
    "The F-beta score can be interpreted as a weighted harmonic mean of the precision and recall, where an F-beta score reaches its best value at 1 and worst score at 0.\n",
    "\n",
    "The F-beta score weights the recall more than the precision by a factor of beta. beta = 1.0 means recall and precision are equally important.\n",
    "\n",
    "The support is the number of occurrences of each class in y_test."
   ]
  },
  {
   "cell_type": "code",
   "execution_count": 21,
   "id": "powerful-paraguay",
   "metadata": {},
   "outputs": [
    {
     "name": "stdout",
     "output_type": "stream",
     "text": [
      "              precision    recall  f1-score   support\n",
      "\n",
      "           0       0.66      0.57      0.61       559\n",
      "           1       0.69      0.77      0.73       710\n",
      "\n",
      "    accuracy                           0.68      1269\n",
      "   macro avg       0.68      0.67      0.67      1269\n",
      "weighted avg       0.68      0.68      0.68      1269\n",
      "\n"
     ]
    }
   ],
   "source": [
    "print(classification_report(Y_test, Y_pred))"
   ]
  },
  {
   "cell_type": "markdown",
   "id": "hollow-catch",
   "metadata": {},
   "source": [
    "### Interpretation\n",
    "From the test set, 68% of the recommendation were recommendations that people chose for."
   ]
  },
  {
   "cell_type": "code",
   "execution_count": 22,
   "id": "framed-mobile",
   "metadata": {},
   "outputs": [
    {
     "name": "stderr",
     "output_type": "stream",
     "text": [
      "/home/manoj/.virtualenvs/datascience/lib/python3.8/site-packages/plotly/graph_objs/_deprecations.py:378: DeprecationWarning:\n",
      "\n",
      "plotly.graph_objs.Line is deprecated.\n",
      "Please replace it with one of the following more specific types\n",
      "  - plotly.graph_objs.scatter.Line\n",
      "  - plotly.graph_objs.layout.shape.Line\n",
      "  - etc.\n",
      "\n",
      "\n"
     ]
    },
    {
     "data": {
      "application/vnd.plotly.v1+json": {
       "config": {
        "plotlyServerURL": "https://plot.ly"
       },
       "data": [
        {
         "name": "Logistic Regression 0.6685630779309127",
         "type": "scatter",
         "x": [
          0,
          0,
          0,
          0.0017889087656529517,
          0.0017889087656529517,
          0.0035778175313059034,
          0.0035778175313059034,
          0.005366726296958855,
          0.005366726296958855,
          0.008944543828264758,
          0.008944543828264758,
          0.01073345259391771,
          0.01073345259391771,
          0.014311270125223614,
          0.014311270125223614,
          0.016100178890876567,
          0.016100178890876567,
          0.017889087656529516,
          0.017889087656529516,
          0.01967799642218247,
          0.01967799642218247,
          0.02146690518783542,
          0.02146690518783542,
          0.023255813953488372,
          0.023255813953488372,
          0.025044722719141325,
          0.025044722719141325,
          0.026833631484794274,
          0.026833631484794274,
          0.028622540250447227,
          0.028622540250447227,
          0.03041144901610018,
          0.03041144901610018,
          0.03220035778175313,
          0.03220035778175313,
          0.03398926654740608,
          0.03398926654740608,
          0.03577817531305903,
          0.03577817531305903,
          0.03756708407871199,
          0.03756708407871199,
          0.03935599284436494,
          0.03935599284436494,
          0.04114490161001789,
          0.04114490161001789,
          0.04293381037567084,
          0.04293381037567084,
          0.046511627906976744,
          0.046511627906976744,
          0.04830053667262969,
          0.04830053667262969,
          0.05366726296958855,
          0.05366726296958855,
          0.059033989266547404,
          0.059033989266547404,
          0.06082289803220036,
          0.06082289803220036,
          0.0626118067978533,
          0.0626118067978533,
          0.06440071556350627,
          0.06440071556350627,
          0.06618962432915922,
          0.06618962432915922,
          0.07155635062611806,
          0.07155635062611806,
          0.07334525939177101,
          0.07334525939177101,
          0.07513416815742398,
          0.07513416815742398,
          0.07692307692307693,
          0.07692307692307693,
          0.08228980322003578,
          0.08228980322003578,
          0.08586762075134168,
          0.08586762075134168,
          0.08765652951699464,
          0.08765652951699464,
          0.09123434704830054,
          0.09123434704830054,
          0.09302325581395349,
          0.09302325581395349,
          0.09660107334525939,
          0.09660107334525939,
          0.09838998211091235,
          0.09838998211091235,
          0.1001788908765653,
          0.1001788908765653,
          0.1037567084078712,
          0.1037567084078712,
          0.10554561717352415,
          0.10554561717352415,
          0.10912343470483005,
          0.10912343470483005,
          0.11091234347048301,
          0.11091234347048301,
          0.11270125223613596,
          0.11270125223613596,
          0.11627906976744186,
          0.11627906976744186,
          0.11985688729874776,
          0.11985688729874776,
          0.12164579606440072,
          0.12164579606440072,
          0.12343470483005367,
          0.12343470483005367,
          0.1252236135957066,
          0.1252236135957066,
          0.12880143112701253,
          0.12880143112701253,
          0.13059033989266547,
          0.13059033989266547,
          0.13237924865831843,
          0.13237924865831843,
          0.13416815742397137,
          0.13416815742397137,
          0.13595706618962433,
          0.13595706618962433,
          0.13774597495527727,
          0.13774597495527727,
          0.14311270125223613,
          0.14311270125223613,
          0.1449016100178891,
          0.1449016100178891,
          0.14669051878354203,
          0.14669051878354203,
          0.1520572450805009,
          0.1520572450805009,
          0.15384615384615385,
          0.15384615384615385,
          0.1556350626118068,
          0.1556350626118068,
          0.15742397137745975,
          0.15742397137745975,
          0.1592128801431127,
          0.1592128801431127,
          0.16279069767441862,
          0.16279069767441862,
          0.16636851520572452,
          0.16636851520572452,
          0.17173524150268335,
          0.17173524150268335,
          0.17531305903398928,
          0.17531305903398928,
          0.1771019677996422,
          0.1771019677996422,
          0.17889087656529518,
          0.17889087656529518,
          0.1806797853309481,
          0.1806797853309481,
          0.18246869409660108,
          0.18246869409660108,
          0.18962432915921287,
          0.18962432915921287,
          0.19141323792486584,
          0.19141323792486584,
          0.19856887298747763,
          0.19856887298747763,
          0.2003577817531306,
          0.2003577817531306,
          0.2039355992844365,
          0.2039355992844365,
          0.20572450805008943,
          0.20572450805008943,
          0.21288014311270126,
          0.21288014311270126,
          0.2146690518783542,
          0.2146690518783542,
          0.21645796064400716,
          0.21645796064400716,
          0.22182468694096602,
          0.22182468694096602,
          0.22361359570661896,
          0.22361359570661896,
          0.22540250447227192,
          0.22540250447227192,
          0.22719141323792486,
          0.22719141323792486,
          0.23434704830053668,
          0.23434704830053668,
          0.23613595706618962,
          0.23613595706618962,
          0.23792486583184258,
          0.23792486583184258,
          0.24150268336314848,
          0.24150268336314848,
          0.24686940966010734,
          0.24686940966010734,
          0.2504472271914132,
          0.2504472271914132,
          0.2522361359570662,
          0.2522361359570662,
          0.25402504472271914,
          0.25402504472271914,
          0.2558139534883721,
          0.2558139534883721,
          0.25760286225402507,
          0.25760286225402507,
          0.259391771019678,
          0.259391771019678,
          0.2629695885509839,
          0.2629695885509839,
          0.2701252236135957,
          0.2701252236135957,
          0.27191413237924866,
          0.27191413237924866,
          0.2772808586762075,
          0.2772808586762075,
          0.27906976744186046,
          0.27906976744186046,
          0.2826475849731664,
          0.2826475849731664,
          0.2880143112701252,
          0.2880143112701252,
          0.2898032200357782,
          0.2898032200357782,
          0.29159212880143115,
          0.29159212880143115,
          0.29338103756708406,
          0.29338103756708406,
          0.29695885509839,
          0.29695885509839,
          0.3005366726296959,
          0.3005366726296959,
          0.3023255813953488,
          0.3023255813953488,
          0.3041144901610018,
          0.3041144901610018,
          0.30590339892665475,
          0.30590339892665475,
          0.3076923076923077,
          0.3076923076923077,
          0.3094812164579606,
          0.3094812164579606,
          0.3112701252236136,
          0.3112701252236136,
          0.3148479427549195,
          0.3148479427549195,
          0.31663685152057247,
          0.31663685152057247,
          0.32021466905187834,
          0.32021466905187834,
          0.32558139534883723,
          0.32558139534883723,
          0.32737030411449014,
          0.32737030411449014,
          0.3291592128801431,
          0.3291592128801431,
          0.33094812164579607,
          0.33094812164579607,
          0.334525939177102,
          0.334525939177102,
          0.3363148479427549,
          0.3363148479427549,
          0.33989266547406083,
          0.33989266547406083,
          0.3416815742397138,
          0.3416815742397138,
          0.3434704830053667,
          0.3434704830053667,
          0.34525939177101966,
          0.34525939177101966,
          0.3470483005366726,
          0.3470483005366726,
          0.3488372093023256,
          0.3488372093023256,
          0.35062611806797855,
          0.35062611806797855,
          0.3542039355992844,
          0.3542039355992844,
          0.3559928443649374,
          0.3559928443649374,
          0.35778175313059035,
          0.35778175313059035,
          0.3595706618962433,
          0.3595706618962433,
          0.3631484794275492,
          0.3631484794275492,
          0.36493738819320215,
          0.36493738819320215,
          0.3667262969588551,
          0.3667262969588551,
          0.3756708407871199,
          0.3756708407871199,
          0.3810375670840787,
          0.3810375670840787,
          0.38461538461538464,
          0.38461538461538464,
          0.38640429338103754,
          0.38640429338103754,
          0.3881932021466905,
          0.3881932021466905,
          0.3935599284436494,
          0.3935599284436494,
          0.3953488372093023,
          0.3953488372093023,
          0.4007155635062612,
          0.4007155635062612,
          0.40250447227191416,
          0.40250447227191416,
          0.40608228980322003,
          0.40608228980322003,
          0.41144901610017887,
          0.41144901610017887,
          0.41323792486583183,
          0.41323792486583183,
          0.41681574239713776,
          0.41681574239713776,
          0.4186046511627907,
          0.4186046511627907,
          0.4203935599284436,
          0.4203935599284436,
          0.42397137745974955,
          0.42397137745974955,
          0.4257602862254025,
          0.4257602862254025,
          0.43112701252236135,
          0.43112701252236135,
          0.4329159212880143,
          0.4329159212880143,
          0.4347048300536673,
          0.4347048300536673,
          0.4364937388193202,
          0.4364937388193202,
          0.43828264758497315,
          0.43828264758497315,
          0.44364937388193204,
          0.44364937388193204,
          0.4472271914132379,
          0.4472271914132379,
          0.4490161001788909,
          0.4490161001788909,
          0.4525939177101968,
          0.4525939177101968,
          0.4543828264758497,
          0.4543828264758497,
          0.4561717352415027,
          0.4561717352415027,
          0.45796064400715564,
          0.45796064400715564,
          0.4597495527728086,
          0.4597495527728086,
          0.46332737030411447,
          0.46332737030411447,
          0.46511627906976744,
          0.46511627906976744,
          0.4669051878354204,
          0.4669051878354204,
          0.47227191413237923,
          0.47227191413237923,
          0.47584973166368516,
          0.47584973166368516,
          0.47942754919499103,
          0.47942754919499103,
          0.481216457960644,
          0.481216457960644,
          0.4865831842576029,
          0.4865831842576029,
          0.4883720930232558,
          0.4883720930232558,
          0.4919499105545617,
          0.4919499105545617,
          0.49731663685152055,
          0.49731663685152055,
          0.4991055456171735,
          0.4991055456171735,
          0.5008944543828264,
          0.5008944543828264,
          0.5026833631484794,
          0.5026833631484794,
          0.5044722719141324,
          0.5044722719141324,
          0.5062611806797853,
          0.5062611806797853,
          0.5134168157423972,
          0.5134168157423972,
          0.5152057245080501,
          0.5152057245080501,
          0.5241502683363148,
          0.5241502683363148,
          0.5295169946332737,
          0.5295169946332737,
          0.5420393559928444,
          0.5420393559928444,
          0.5438282647584973,
          0.5438282647584973,
          0.5509838998211091,
          0.5509838998211091,
          0.5581395348837209,
          0.5581395348837209,
          0.5635062611806798,
          0.5635062611806798,
          0.5652951699463328,
          0.5652951699463328,
          0.5724508050089445,
          0.5724508050089445,
          0.5778175313059034,
          0.5778175313059034,
          0.5831842576028623,
          0.5831842576028623,
          0.5867620751341681,
          0.5867620751341681,
          0.590339892665474,
          0.590339892665474,
          0.592128801431127,
          0.592128801431127,
          0.5974955277280859,
          0.5974955277280859,
          0.5992844364937389,
          0.5992844364937389,
          0.6028622540250447,
          0.6028622540250447,
          0.6118067978533095,
          0.6118067978533095,
          0.6135957066189625,
          0.6135957066189625,
          0.6189624329159212,
          0.6189624329159212,
          0.6207513416815742,
          0.6207513416815742,
          0.6243291592128801,
          0.6243291592128801,
          0.6261180679785331,
          0.6261180679785331,
          0.627906976744186,
          0.627906976744186,
          0.631484794275492,
          0.631484794275492,
          0.6350626118067979,
          0.6350626118067979,
          0.6368515205724508,
          0.6368515205724508,
          0.6457960644007156,
          0.6457960644007156,
          0.6475849731663685,
          0.6475849731663685,
          0.6547406082289803,
          0.6547406082289803,
          0.6583184257602862,
          0.6583184257602862,
          0.6601073345259392,
          0.6601073345259392,
          0.6636851520572451,
          0.6636851520572451,
          0.667262969588551,
          0.667262969588551,
          0.6833631484794276,
          0.6833631484794276,
          0.6869409660107334,
          0.6869409660107334,
          0.6940966010733453,
          0.6940966010733453,
          0.6976744186046512,
          0.6976744186046512,
          0.6994633273703041,
          0.6994633273703041,
          0.7066189624329159,
          0.7066189624329159,
          0.7119856887298748,
          0.7119856887298748,
          0.7173524150268337,
          0.7173524150268337,
          0.7191413237924866,
          0.7191413237924866,
          0.7245080500894454,
          0.7245080500894454,
          0.7280858676207513,
          0.7280858676207513,
          0.7298747763864043,
          0.7298747763864043,
          0.740608228980322,
          0.740608228980322,
          0.7423971377459749,
          0.7423971377459749,
          0.7495527728085868,
          0.7495527728085868,
          0.7567084078711985,
          0.7567084078711985,
          0.7584973166368515,
          0.7584973166368515,
          0.7638640429338104,
          0.7638640429338104,
          0.7692307692307693,
          0.7692307692307693,
          0.7728085867620751,
          0.7728085867620751,
          0.774597495527728,
          0.774597495527728,
          0.778175313059034,
          0.778175313059034,
          0.7889087656529516,
          0.7889087656529516,
          0.7906976744186046,
          0.7906976744186046,
          0.7924865831842576,
          0.7924865831842576,
          0.7978533094812165,
          0.7978533094812165,
          0.8050089445438283,
          0.8050089445438283,
          0.8103756708407871,
          0.8103756708407871,
          0.813953488372093,
          0.813953488372093,
          0.817531305903399,
          0.817531305903399,
          0.8300536672629696,
          0.8300536672629696,
          0.8372093023255814,
          0.8372093023255814,
          0.8425760286225402,
          0.8425760286225402,
          0.8443649373881932,
          0.8443649373881932,
          0.851520572450805,
          0.851520572450805,
          0.855098389982111,
          0.855098389982111,
          0.8819320214669052,
          0.8819320214669052,
          0.8926654740608229,
          0.8926654740608229,
          0.8980322003577818,
          0.8980322003577818,
          0.9087656529516994,
          0.9087656529516994,
          0.9194991055456172,
          0.9194991055456172,
          0.9230769230769231,
          0.9230769230769231,
          0.9284436493738819,
          0.9284436493738819,
          0.9355992844364938,
          0.9355992844364938,
          0.9499105545617174,
          0.9499105545617174,
          0.962432915921288,
          0.962432915921288,
          0.9695885509838998,
          0.9695885509838998,
          0.9713774597495528,
          0.9713774597495528,
          0.9874776386404294,
          0.9874776386404294,
          1
         ],
         "xaxis": "x",
         "y": [
          0,
          0.0014084507042253522,
          0.004225352112676056,
          0.004225352112676056,
          0.04507042253521127,
          0.04507042253521127,
          0.04647887323943662,
          0.04647887323943662,
          0.05211267605633803,
          0.05211267605633803,
          0.05352112676056338,
          0.05352112676056338,
          0.059154929577464786,
          0.059154929577464786,
          0.08591549295774648,
          0.08591549295774648,
          0.09436619718309859,
          0.09436619718309859,
          0.10704225352112676,
          0.10704225352112676,
          0.11549295774647887,
          0.11549295774647887,
          0.11830985915492957,
          0.11830985915492957,
          0.11971830985915492,
          0.11971830985915492,
          0.12816901408450704,
          0.12816901408450704,
          0.14647887323943662,
          0.14647887323943662,
          0.14929577464788732,
          0.14929577464788732,
          0.15211267605633802,
          0.15211267605633802,
          0.1591549295774648,
          0.1591549295774648,
          0.1676056338028169,
          0.1676056338028169,
          0.1732394366197183,
          0.1732394366197183,
          0.17887323943661973,
          0.17887323943661973,
          0.18450704225352113,
          0.18450704225352113,
          0.18732394366197183,
          0.18732394366197183,
          0.20140845070422536,
          0.20140845070422536,
          0.20422535211267606,
          0.20422535211267606,
          0.2056338028169014,
          0.2056338028169014,
          0.21267605633802816,
          0.21267605633802816,
          0.21549295774647886,
          0.21549295774647886,
          0.22253521126760564,
          0.22253521126760564,
          0.22816901408450704,
          0.22816901408450704,
          0.2295774647887324,
          0.2295774647887324,
          0.2352112676056338,
          0.2352112676056338,
          0.24366197183098592,
          0.24366197183098592,
          0.2549295774647887,
          0.2549295774647887,
          0.2591549295774648,
          0.2591549295774648,
          0.2661971830985915,
          0.2661971830985915,
          0.2704225352112676,
          0.2704225352112676,
          0.2746478873239437,
          0.2746478873239437,
          0.27887323943661974,
          0.27887323943661974,
          0.2859154929577465,
          0.2859154929577465,
          0.2915492957746479,
          0.2915492957746479,
          0.2943661971830986,
          0.2943661971830986,
          0.29577464788732394,
          0.29577464788732394,
          0.29859154929577464,
          0.29859154929577464,
          0.3,
          0.3,
          0.30140845070422534,
          0.30140845070422534,
          0.3028169014084507,
          0.3028169014084507,
          0.30985915492957744,
          0.30985915492957744,
          0.3154929577464789,
          0.3154929577464789,
          0.31690140845070425,
          0.31690140845070425,
          0.323943661971831,
          0.323943661971831,
          0.32535211267605635,
          0.32535211267605635,
          0.3352112676056338,
          0.3352112676056338,
          0.3380281690140845,
          0.3380281690140845,
          0.33943661971830985,
          0.33943661971830985,
          0.3492957746478873,
          0.3492957746478873,
          0.35774647887323946,
          0.35774647887323946,
          0.3619718309859155,
          0.3619718309859155,
          0.37183098591549296,
          0.37183098591549296,
          0.38028169014084506,
          0.38028169014084506,
          0.3929577464788732,
          0.3929577464788732,
          0.3957746478873239,
          0.3957746478873239,
          0.3971830985915493,
          0.3971830985915493,
          0.4154929577464789,
          0.4154929577464789,
          0.4225352112676056,
          0.4225352112676056,
          0.423943661971831,
          0.423943661971831,
          0.4295774647887324,
          0.4295774647887324,
          0.4309859154929577,
          0.4309859154929577,
          0.4323943661971831,
          0.4323943661971831,
          0.43380281690140843,
          0.43380281690140843,
          0.4352112676056338,
          0.4352112676056338,
          0.44084507042253523,
          0.44084507042253523,
          0.44366197183098594,
          0.44366197183098594,
          0.44647887323943664,
          0.44647887323943664,
          0.4507042253521127,
          0.4507042253521127,
          0.4535211267605634,
          0.4535211267605634,
          0.45492957746478874,
          0.45492957746478874,
          0.4591549295774648,
          0.4591549295774648,
          0.46338028169014084,
          0.46338028169014084,
          0.4647887323943662,
          0.4647887323943662,
          0.4704225352112676,
          0.4704225352112676,
          0.476056338028169,
          0.476056338028169,
          0.4802816901408451,
          0.4802816901408451,
          0.48450704225352115,
          0.48450704225352115,
          0.4859154929577465,
          0.4859154929577465,
          0.4887323943661972,
          0.4887323943661972,
          0.49295774647887325,
          0.49295774647887325,
          0.5014084507042254,
          0.5014084507042254,
          0.504225352112676,
          0.504225352112676,
          0.5070422535211268,
          0.5070422535211268,
          0.5112676056338028,
          0.5112676056338028,
          0.5126760563380282,
          0.5126760563380282,
          0.5154929577464789,
          0.5154929577464789,
          0.5183098591549296,
          0.5183098591549296,
          0.5225352112676056,
          0.5225352112676056,
          0.523943661971831,
          0.523943661971831,
          0.5267605633802817,
          0.5267605633802817,
          0.5352112676056338,
          0.5352112676056338,
          0.5366197183098591,
          0.5366197183098591,
          0.5380281690140845,
          0.5380281690140845,
          0.5464788732394367,
          0.5464788732394367,
          0.547887323943662,
          0.547887323943662,
          0.5492957746478874,
          0.5492957746478874,
          0.5507042253521127,
          0.5507042253521127,
          0.5549295774647888,
          0.5549295774647888,
          0.5746478873239437,
          0.5746478873239437,
          0.5774647887323944,
          0.5774647887323944,
          0.5816901408450704,
          0.5816901408450704,
          0.5859154929577465,
          0.5859154929577465,
          0.5957746478873239,
          0.5957746478873239,
          0.5971830985915493,
          0.5971830985915493,
          0.604225352112676,
          0.604225352112676,
          0.6056338028169014,
          0.6056338028169014,
          0.6084507042253521,
          0.6084507042253521,
          0.6154929577464788,
          0.6154929577464788,
          0.6169014084507042,
          0.6169014084507042,
          0.6197183098591549,
          0.6197183098591549,
          0.6225352112676056,
          0.6225352112676056,
          0.6323943661971831,
          0.6323943661971831,
          0.6338028169014085,
          0.6338028169014085,
          0.6366197183098592,
          0.6366197183098592,
          0.6380281690140845,
          0.6380281690140845,
          0.6394366197183099,
          0.6394366197183099,
          0.6408450704225352,
          0.6408450704225352,
          0.643661971830986,
          0.643661971830986,
          0.6450704225352113,
          0.6450704225352113,
          0.6492957746478873,
          0.6492957746478873,
          0.6507042253521127,
          0.6507042253521127,
          0.652112676056338,
          0.652112676056338,
          0.6549295774647887,
          0.6549295774647887,
          0.6563380281690141,
          0.6563380281690141,
          0.6591549295774648,
          0.6591549295774648,
          0.6647887323943662,
          0.6647887323943662,
          0.6676056338028169,
          0.6676056338028169,
          0.6690140845070423,
          0.6690140845070423,
          0.676056338028169,
          0.676056338028169,
          0.6830985915492958,
          0.6830985915492958,
          0.6873239436619718,
          0.6873239436619718,
          0.6887323943661972,
          0.6887323943661972,
          0.6901408450704225,
          0.6901408450704225,
          0.6929577464788732,
          0.6929577464788732,
          0.7084507042253522,
          0.7084507042253522,
          0.7154929577464789,
          0.7154929577464789,
          0.7169014084507043,
          0.7169014084507043,
          0.7295774647887324,
          0.7295774647887324,
          0.7309859154929578,
          0.7309859154929578,
          0.7338028169014085,
          0.7338028169014085,
          0.7352112676056338,
          0.7352112676056338,
          0.7366197183098592,
          0.7366197183098592,
          0.7436619718309859,
          0.7436619718309859,
          0.7450704225352113,
          0.7450704225352113,
          0.7464788732394366,
          0.7464788732394366,
          0.7492957746478873,
          0.7492957746478873,
          0.7549295774647887,
          0.7549295774647887,
          0.7577464788732394,
          0.7577464788732394,
          0.7605633802816901,
          0.7605633802816901,
          0.7619718309859155,
          0.7619718309859155,
          0.7633802816901408,
          0.7633802816901408,
          0.7676056338028169,
          0.7676056338028169,
          0.7704225352112676,
          0.7704225352112676,
          0.7718309859154929,
          0.7718309859154929,
          0.7746478873239436,
          0.7746478873239436,
          0.776056338028169,
          0.776056338028169,
          0.7774647887323943,
          0.7774647887323943,
          0.780281690140845,
          0.780281690140845,
          0.7816901408450704,
          0.7816901408450704,
          0.7830985915492957,
          0.7830985915492957,
          0.7845070422535211,
          0.7845070422535211,
          0.7859154929577464,
          0.7859154929577464,
          0.7873239436619718,
          0.7873239436619718,
          0.7887323943661971,
          0.7887323943661971,
          0.7929577464788733,
          0.7929577464788733,
          0.7943661971830986,
          0.7943661971830986,
          0.795774647887324,
          0.795774647887324,
          0.7971830985915493,
          0.7971830985915493,
          0.7985915492957747,
          0.7985915492957747,
          0.8,
          0.8,
          0.8014084507042254,
          0.8014084507042254,
          0.8028169014084507,
          0.8028169014084507,
          0.8042253521126761,
          0.8042253521126761,
          0.8070422535211268,
          0.8070422535211268,
          0.8084507042253521,
          0.8084507042253521,
          0.8098591549295775,
          0.8098591549295775,
          0.8112676056338028,
          0.8112676056338028,
          0.8154929577464789,
          0.8154929577464789,
          0.8169014084507042,
          0.8169014084507042,
          0.8183098591549296,
          0.8183098591549296,
          0.819718309859155,
          0.819718309859155,
          0.8225352112676056,
          0.8225352112676056,
          0.823943661971831,
          0.823943661971831,
          0.828169014084507,
          0.828169014084507,
          0.8338028169014085,
          0.8338028169014085,
          0.8352112676056338,
          0.8352112676056338,
          0.8366197183098592,
          0.8366197183098592,
          0.8380281690140845,
          0.8380281690140845,
          0.8394366197183099,
          0.8394366197183099,
          0.8408450704225352,
          0.8408450704225352,
          0.8450704225352113,
          0.8450704225352113,
          0.8464788732394366,
          0.8464788732394366,
          0.8507042253521127,
          0.8507042253521127,
          0.8535211267605634,
          0.8535211267605634,
          0.856338028169014,
          0.856338028169014,
          0.8577464788732394,
          0.8577464788732394,
          0.8591549295774648,
          0.8591549295774648,
          0.8619718309859155,
          0.8619718309859155,
          0.8633802816901408,
          0.8633802816901408,
          0.8647887323943662,
          0.8647887323943662,
          0.8676056338028169,
          0.8676056338028169,
          0.8704225352112676,
          0.8704225352112676,
          0.8732394366197183,
          0.8732394366197183,
          0.8746478873239436,
          0.8746478873239436,
          0.8760563380281691,
          0.8760563380281691,
          0.8774647887323944,
          0.8774647887323944,
          0.8788732394366198,
          0.8788732394366198,
          0.8802816901408451,
          0.8802816901408451,
          0.8816901408450705,
          0.8816901408450705,
          0.8830985915492958,
          0.8830985915492958,
          0.8845070422535212,
          0.8845070422535212,
          0.8873239436619719,
          0.8873239436619719,
          0.9014084507042254,
          0.9014084507042254,
          0.9028169014084507,
          0.9028169014084507,
          0.9042253521126761,
          0.9042253521126761,
          0.9056338028169014,
          0.9056338028169014,
          0.9070422535211268,
          0.9070422535211268,
          0.9084507042253521,
          0.9084507042253521,
          0.9098591549295775,
          0.9098591549295775,
          0.9140845070422535,
          0.9140845070422535,
          0.9154929577464789,
          0.9154929577464789,
          0.9183098591549296,
          0.9183098591549296,
          0.9211267605633803,
          0.9211267605633803,
          0.9225352112676056,
          0.9225352112676056,
          0.9253521126760563,
          0.9253521126760563,
          0.9295774647887324,
          0.9295774647887324,
          0.9309859154929577,
          0.9309859154929577,
          0.9323943661971831,
          0.9323943661971831,
          0.9338028169014084,
          0.9338028169014084,
          0.9352112676056338,
          0.9352112676056338,
          0.9366197183098591,
          0.9366197183098591,
          0.9380281690140845,
          0.9380281690140845,
          0.9394366197183098,
          0.9394366197183098,
          0.9422535211267605,
          0.9422535211267605,
          0.9436619718309859,
          0.9436619718309859,
          0.9450704225352112,
          0.9450704225352112,
          0.9464788732394366,
          0.9464788732394366,
          0.9478873239436619,
          0.9478873239436619,
          0.9492957746478873,
          0.9492957746478873,
          0.9507042253521126,
          0.9507042253521126,
          0.952112676056338,
          0.952112676056338,
          0.9535211267605633,
          0.9535211267605633,
          0.9577464788732394,
          0.9577464788732394,
          0.9591549295774648,
          0.9591549295774648,
          0.9605633802816902,
          0.9605633802816902,
          0.9633802816901409,
          0.9633802816901409,
          0.967605633802817,
          0.967605633802817,
          0.971830985915493,
          0.971830985915493,
          0.9732394366197183,
          0.9732394366197183,
          0.9746478873239437,
          0.9746478873239437,
          0.976056338028169,
          0.976056338028169,
          0.9774647887323944,
          0.9774647887323944,
          0.9788732394366197,
          0.9788732394366197,
          0.9802816901408451,
          0.9802816901408451,
          0.9816901408450704,
          0.9816901408450704,
          0.9830985915492958,
          0.9830985915492958,
          0.9845070422535211,
          0.9845070422535211,
          0.9873239436619718,
          0.9873239436619718,
          0.9887323943661972,
          0.9887323943661972,
          0.9901408450704225,
          0.9901408450704225,
          0.9929577464788732,
          0.9929577464788732,
          0.995774647887324,
          0.995774647887324,
          0.9971830985915493,
          0.9971830985915493,
          0.9985915492957746,
          0.9985915492957746,
          1,
          1
         ],
         "yaxis": "y"
        },
        {
         "showlegend": false,
         "type": "scatter",
         "x": [
          0,
          1
         ],
         "xaxis": "x",
         "y": [
          0,
          1
         ],
         "yaxis": "y"
        }
       ],
       "layout": {
        "height": 600,
        "template": {
         "data": {
          "bar": [
           {
            "error_x": {
             "color": "#2a3f5f"
            },
            "error_y": {
             "color": "#2a3f5f"
            },
            "marker": {
             "line": {
              "color": "#E5ECF6",
              "width": 0.5
             }
            },
            "type": "bar"
           }
          ],
          "barpolar": [
           {
            "marker": {
             "line": {
              "color": "#E5ECF6",
              "width": 0.5
             }
            },
            "type": "barpolar"
           }
          ],
          "carpet": [
           {
            "aaxis": {
             "endlinecolor": "#2a3f5f",
             "gridcolor": "white",
             "linecolor": "white",
             "minorgridcolor": "white",
             "startlinecolor": "#2a3f5f"
            },
            "baxis": {
             "endlinecolor": "#2a3f5f",
             "gridcolor": "white",
             "linecolor": "white",
             "minorgridcolor": "white",
             "startlinecolor": "#2a3f5f"
            },
            "type": "carpet"
           }
          ],
          "choropleth": [
           {
            "colorbar": {
             "outlinewidth": 0,
             "ticks": ""
            },
            "type": "choropleth"
           }
          ],
          "contour": [
           {
            "colorbar": {
             "outlinewidth": 0,
             "ticks": ""
            },
            "colorscale": [
             [
              0,
              "#0d0887"
             ],
             [
              0.1111111111111111,
              "#46039f"
             ],
             [
              0.2222222222222222,
              "#7201a8"
             ],
             [
              0.3333333333333333,
              "#9c179e"
             ],
             [
              0.4444444444444444,
              "#bd3786"
             ],
             [
              0.5555555555555556,
              "#d8576b"
             ],
             [
              0.6666666666666666,
              "#ed7953"
             ],
             [
              0.7777777777777778,
              "#fb9f3a"
             ],
             [
              0.8888888888888888,
              "#fdca26"
             ],
             [
              1,
              "#f0f921"
             ]
            ],
            "type": "contour"
           }
          ],
          "contourcarpet": [
           {
            "colorbar": {
             "outlinewidth": 0,
             "ticks": ""
            },
            "type": "contourcarpet"
           }
          ],
          "heatmap": [
           {
            "colorbar": {
             "outlinewidth": 0,
             "ticks": ""
            },
            "colorscale": [
             [
              0,
              "#0d0887"
             ],
             [
              0.1111111111111111,
              "#46039f"
             ],
             [
              0.2222222222222222,
              "#7201a8"
             ],
             [
              0.3333333333333333,
              "#9c179e"
             ],
             [
              0.4444444444444444,
              "#bd3786"
             ],
             [
              0.5555555555555556,
              "#d8576b"
             ],
             [
              0.6666666666666666,
              "#ed7953"
             ],
             [
              0.7777777777777778,
              "#fb9f3a"
             ],
             [
              0.8888888888888888,
              "#fdca26"
             ],
             [
              1,
              "#f0f921"
             ]
            ],
            "type": "heatmap"
           }
          ],
          "heatmapgl": [
           {
            "colorbar": {
             "outlinewidth": 0,
             "ticks": ""
            },
            "colorscale": [
             [
              0,
              "#0d0887"
             ],
             [
              0.1111111111111111,
              "#46039f"
             ],
             [
              0.2222222222222222,
              "#7201a8"
             ],
             [
              0.3333333333333333,
              "#9c179e"
             ],
             [
              0.4444444444444444,
              "#bd3786"
             ],
             [
              0.5555555555555556,
              "#d8576b"
             ],
             [
              0.6666666666666666,
              "#ed7953"
             ],
             [
              0.7777777777777778,
              "#fb9f3a"
             ],
             [
              0.8888888888888888,
              "#fdca26"
             ],
             [
              1,
              "#f0f921"
             ]
            ],
            "type": "heatmapgl"
           }
          ],
          "histogram": [
           {
            "marker": {
             "colorbar": {
              "outlinewidth": 0,
              "ticks": ""
             }
            },
            "type": "histogram"
           }
          ],
          "histogram2d": [
           {
            "colorbar": {
             "outlinewidth": 0,
             "ticks": ""
            },
            "colorscale": [
             [
              0,
              "#0d0887"
             ],
             [
              0.1111111111111111,
              "#46039f"
             ],
             [
              0.2222222222222222,
              "#7201a8"
             ],
             [
              0.3333333333333333,
              "#9c179e"
             ],
             [
              0.4444444444444444,
              "#bd3786"
             ],
             [
              0.5555555555555556,
              "#d8576b"
             ],
             [
              0.6666666666666666,
              "#ed7953"
             ],
             [
              0.7777777777777778,
              "#fb9f3a"
             ],
             [
              0.8888888888888888,
              "#fdca26"
             ],
             [
              1,
              "#f0f921"
             ]
            ],
            "type": "histogram2d"
           }
          ],
          "histogram2dcontour": [
           {
            "colorbar": {
             "outlinewidth": 0,
             "ticks": ""
            },
            "colorscale": [
             [
              0,
              "#0d0887"
             ],
             [
              0.1111111111111111,
              "#46039f"
             ],
             [
              0.2222222222222222,
              "#7201a8"
             ],
             [
              0.3333333333333333,
              "#9c179e"
             ],
             [
              0.4444444444444444,
              "#bd3786"
             ],
             [
              0.5555555555555556,
              "#d8576b"
             ],
             [
              0.6666666666666666,
              "#ed7953"
             ],
             [
              0.7777777777777778,
              "#fb9f3a"
             ],
             [
              0.8888888888888888,
              "#fdca26"
             ],
             [
              1,
              "#f0f921"
             ]
            ],
            "type": "histogram2dcontour"
           }
          ],
          "mesh3d": [
           {
            "colorbar": {
             "outlinewidth": 0,
             "ticks": ""
            },
            "type": "mesh3d"
           }
          ],
          "parcoords": [
           {
            "line": {
             "colorbar": {
              "outlinewidth": 0,
              "ticks": ""
             }
            },
            "type": "parcoords"
           }
          ],
          "pie": [
           {
            "automargin": true,
            "type": "pie"
           }
          ],
          "scatter": [
           {
            "marker": {
             "colorbar": {
              "outlinewidth": 0,
              "ticks": ""
             }
            },
            "type": "scatter"
           }
          ],
          "scatter3d": [
           {
            "line": {
             "colorbar": {
              "outlinewidth": 0,
              "ticks": ""
             }
            },
            "marker": {
             "colorbar": {
              "outlinewidth": 0,
              "ticks": ""
             }
            },
            "type": "scatter3d"
           }
          ],
          "scattercarpet": [
           {
            "marker": {
             "colorbar": {
              "outlinewidth": 0,
              "ticks": ""
             }
            },
            "type": "scattercarpet"
           }
          ],
          "scattergeo": [
           {
            "marker": {
             "colorbar": {
              "outlinewidth": 0,
              "ticks": ""
             }
            },
            "type": "scattergeo"
           }
          ],
          "scattergl": [
           {
            "marker": {
             "colorbar": {
              "outlinewidth": 0,
              "ticks": ""
             }
            },
            "type": "scattergl"
           }
          ],
          "scattermapbox": [
           {
            "marker": {
             "colorbar": {
              "outlinewidth": 0,
              "ticks": ""
             }
            },
            "type": "scattermapbox"
           }
          ],
          "scatterpolar": [
           {
            "marker": {
             "colorbar": {
              "outlinewidth": 0,
              "ticks": ""
             }
            },
            "type": "scatterpolar"
           }
          ],
          "scatterpolargl": [
           {
            "marker": {
             "colorbar": {
              "outlinewidth": 0,
              "ticks": ""
             }
            },
            "type": "scatterpolargl"
           }
          ],
          "scatterternary": [
           {
            "marker": {
             "colorbar": {
              "outlinewidth": 0,
              "ticks": ""
             }
            },
            "type": "scatterternary"
           }
          ],
          "surface": [
           {
            "colorbar": {
             "outlinewidth": 0,
             "ticks": ""
            },
            "colorscale": [
             [
              0,
              "#0d0887"
             ],
             [
              0.1111111111111111,
              "#46039f"
             ],
             [
              0.2222222222222222,
              "#7201a8"
             ],
             [
              0.3333333333333333,
              "#9c179e"
             ],
             [
              0.4444444444444444,
              "#bd3786"
             ],
             [
              0.5555555555555556,
              "#d8576b"
             ],
             [
              0.6666666666666666,
              "#ed7953"
             ],
             [
              0.7777777777777778,
              "#fb9f3a"
             ],
             [
              0.8888888888888888,
              "#fdca26"
             ],
             [
              1,
              "#f0f921"
             ]
            ],
            "type": "surface"
           }
          ],
          "table": [
           {
            "cells": {
             "fill": {
              "color": "#EBF0F8"
             },
             "line": {
              "color": "white"
             }
            },
            "header": {
             "fill": {
              "color": "#C8D4E3"
             },
             "line": {
              "color": "white"
             }
            },
            "type": "table"
           }
          ]
         },
         "layout": {
          "annotationdefaults": {
           "arrowcolor": "#2a3f5f",
           "arrowhead": 0,
           "arrowwidth": 1
          },
          "autotypenumbers": "strict",
          "coloraxis": {
           "colorbar": {
            "outlinewidth": 0,
            "ticks": ""
           }
          },
          "colorscale": {
           "diverging": [
            [
             0,
             "#8e0152"
            ],
            [
             0.1,
             "#c51b7d"
            ],
            [
             0.2,
             "#de77ae"
            ],
            [
             0.3,
             "#f1b6da"
            ],
            [
             0.4,
             "#fde0ef"
            ],
            [
             0.5,
             "#f7f7f7"
            ],
            [
             0.6,
             "#e6f5d0"
            ],
            [
             0.7,
             "#b8e186"
            ],
            [
             0.8,
             "#7fbc41"
            ],
            [
             0.9,
             "#4d9221"
            ],
            [
             1,
             "#276419"
            ]
           ],
           "sequential": [
            [
             0,
             "#0d0887"
            ],
            [
             0.1111111111111111,
             "#46039f"
            ],
            [
             0.2222222222222222,
             "#7201a8"
            ],
            [
             0.3333333333333333,
             "#9c179e"
            ],
            [
             0.4444444444444444,
             "#bd3786"
            ],
            [
             0.5555555555555556,
             "#d8576b"
            ],
            [
             0.6666666666666666,
             "#ed7953"
            ],
            [
             0.7777777777777778,
             "#fb9f3a"
            ],
            [
             0.8888888888888888,
             "#fdca26"
            ],
            [
             1,
             "#f0f921"
            ]
           ],
           "sequentialminus": [
            [
             0,
             "#0d0887"
            ],
            [
             0.1111111111111111,
             "#46039f"
            ],
            [
             0.2222222222222222,
             "#7201a8"
            ],
            [
             0.3333333333333333,
             "#9c179e"
            ],
            [
             0.4444444444444444,
             "#bd3786"
            ],
            [
             0.5555555555555556,
             "#d8576b"
            ],
            [
             0.6666666666666666,
             "#ed7953"
            ],
            [
             0.7777777777777778,
             "#fb9f3a"
            ],
            [
             0.8888888888888888,
             "#fdca26"
            ],
            [
             1,
             "#f0f921"
            ]
           ]
          },
          "colorway": [
           "#636efa",
           "#EF553B",
           "#00cc96",
           "#ab63fa",
           "#FFA15A",
           "#19d3f3",
           "#FF6692",
           "#B6E880",
           "#FF97FF",
           "#FECB52"
          ],
          "font": {
           "color": "#2a3f5f"
          },
          "geo": {
           "bgcolor": "white",
           "lakecolor": "white",
           "landcolor": "#E5ECF6",
           "showlakes": true,
           "showland": true,
           "subunitcolor": "white"
          },
          "hoverlabel": {
           "align": "left"
          },
          "hovermode": "closest",
          "mapbox": {
           "style": "light"
          },
          "paper_bgcolor": "white",
          "plot_bgcolor": "#E5ECF6",
          "polar": {
           "angularaxis": {
            "gridcolor": "white",
            "linecolor": "white",
            "ticks": ""
           },
           "bgcolor": "#E5ECF6",
           "radialaxis": {
            "gridcolor": "white",
            "linecolor": "white",
            "ticks": ""
           }
          },
          "scene": {
           "xaxis": {
            "backgroundcolor": "#E5ECF6",
            "gridcolor": "white",
            "gridwidth": 2,
            "linecolor": "white",
            "showbackground": true,
            "ticks": "",
            "zerolinecolor": "white"
           },
           "yaxis": {
            "backgroundcolor": "#E5ECF6",
            "gridcolor": "white",
            "gridwidth": 2,
            "linecolor": "white",
            "showbackground": true,
            "ticks": "",
            "zerolinecolor": "white"
           },
           "zaxis": {
            "backgroundcolor": "#E5ECF6",
            "gridcolor": "white",
            "gridwidth": 2,
            "linecolor": "white",
            "showbackground": true,
            "ticks": "",
            "zerolinecolor": "white"
           }
          },
          "shapedefaults": {
           "line": {
            "color": "#2a3f5f"
           }
          },
          "ternary": {
           "aaxis": {
            "gridcolor": "white",
            "linecolor": "white",
            "ticks": ""
           },
           "baxis": {
            "gridcolor": "white",
            "linecolor": "white",
            "ticks": ""
           },
           "bgcolor": "#E5ECF6",
           "caxis": {
            "gridcolor": "white",
            "linecolor": "white",
            "ticks": ""
           }
          },
          "title": {
           "x": 0.05
          },
          "xaxis": {
           "automargin": true,
           "gridcolor": "white",
           "linecolor": "white",
           "ticks": "",
           "title": {
            "standoff": 15
           },
           "zerolinecolor": "white",
           "zerolinewidth": 2
          },
          "yaxis": {
           "automargin": true,
           "gridcolor": "white",
           "linecolor": "white",
           "ticks": "",
           "title": {
            "standoff": 15
           },
           "zerolinecolor": "white",
           "zerolinewidth": 2
          }
         }
        },
        "title": {
         "text": "Receiver operating characteristic (ROC Curve)"
        },
        "width": 1200,
        "xaxis": {
         "anchor": "y",
         "domain": [
          0,
          1
         ],
         "range": [
          0,
          1
         ],
         "title": {
          "text": "False Positive Rate"
         },
         "type": "linear"
        },
        "yaxis": {
         "anchor": "x",
         "domain": [
          0,
          1
         ],
         "range": [
          0,
          1
         ],
         "title": {
          "text": "True Positive Rate"
         },
         "type": "linear"
        }
       }
      },
      "image/png": "[encoded data removed]",
      "text/html": [
       "<div>                            <div id=\"ac401bc1-dfe8-45e4-801d-a76a8ac72c5a\" class=\"plotly-graph-div\" style=\"height:600px; width:1200px;\"></div>            <script type=\"text/javascript\">                require([\"plotly\"], function(Plotly) {                    window.PLOTLYENV=window.PLOTLYENV || {};                                    if (document.getElementById(\"ac401bc1-dfe8-45e4-801d-a76a8ac72c5a\")) {                    Plotly.newPlot(                        \"ac401bc1-dfe8-45e4-801d-a76a8ac72c5a\",                        [{\"name\": \"Logistic Regression 0.6685630779309127\", \"type\": \"scatter\", \"x\": [0.0, 0.0, 0.0, 0.0017889087656529517, 0.0017889087656529517, 0.0035778175313059034, 0.0035778175313059034, 0.005366726296958855, 0.005366726296958855, 0.008944543828264758, 0.008944543828264758, 0.01073345259391771, 0.01073345259391771, 0.014311270125223614, 0.014311270125223614, 0.016100178890876567, 0.016100178890876567, 0.017889087656529516, 0.017889087656529516, 0.01967799642218247, 0.01967799642218247, 0.02146690518783542, 0.02146690518783542, 0.023255813953488372, 0.023255813953488372, 0.025044722719141325, 0.025044722719141325, 0.026833631484794274, 0.026833631484794274, 0.028622540250447227, 0.028622540250447227, 0.03041144901610018, 0.03041144901610018, 0.03220035778175313, 0.03220035778175313, 0.03398926654740608, 0.03398926654740608, 0.03577817531305903, 0.03577817531305903, 0.03756708407871199, 0.03756708407871199, 0.03935599284436494, 0.03935599284436494, 0.04114490161001789, 0.04114490161001789, 0.04293381037567084, 0.04293381037567084, 0.046511627906976744, 0.046511627906976744, 0.04830053667262969, 0.04830053667262969, 0.05366726296958855, 0.05366726296958855, 0.059033989266547404, 0.059033989266547404, 0.06082289803220036, 0.06082289803220036, 0.0626118067978533, 0.0626118067978533, 0.06440071556350627, 0.06440071556350627, 0.06618962432915922, 0.06618962432915922, 0.07155635062611806, 0.07155635062611806, 0.07334525939177101, 0.07334525939177101, 0.07513416815742398, 0.07513416815742398, 0.07692307692307693, 0.07692307692307693, 0.08228980322003578, 0.08228980322003578, 0.08586762075134168, 0.08586762075134168, 0.08765652951699464, 0.08765652951699464, 0.09123434704830054, 0.09123434704830054, 0.09302325581395349, 0.09302325581395349, 0.09660107334525939, 0.09660107334525939, 0.09838998211091235, 0.09838998211091235, 0.1001788908765653, 0.1001788908765653, 0.1037567084078712, 0.1037567084078712, 0.10554561717352415, 0.10554561717352415, 0.10912343470483005, 0.10912343470483005, 0.11091234347048301, 0.11091234347048301, 0.11270125223613596, 0.11270125223613596, 0.11627906976744186, 0.11627906976744186, 0.11985688729874776, 0.11985688729874776, 0.12164579606440072, 0.12164579606440072, 0.12343470483005367, 0.12343470483005367, 0.1252236135957066, 0.1252236135957066, 0.12880143112701253, 0.12880143112701253, 0.13059033989266547, 0.13059033989266547, 0.13237924865831843, 0.13237924865831843, 0.13416815742397137, 0.13416815742397137, 0.13595706618962433, 0.13595706618962433, 0.13774597495527727, 0.13774597495527727, 0.14311270125223613, 0.14311270125223613, 0.1449016100178891, 0.1449016100178891, 0.14669051878354203, 0.14669051878354203, 0.1520572450805009, 0.1520572450805009, 0.15384615384615385, 0.15384615384615385, 0.1556350626118068, 0.1556350626118068, 0.15742397137745975, 0.15742397137745975, 0.1592128801431127, 0.1592128801431127, 0.16279069767441862, 0.16279069767441862, 0.16636851520572452, 0.16636851520572452, 0.17173524150268335, 0.17173524150268335, 0.17531305903398928, 0.17531305903398928, 0.1771019677996422, 0.1771019677996422, 0.17889087656529518, 0.17889087656529518, 0.1806797853309481, 0.1806797853309481, 0.18246869409660108, 0.18246869409660108, 0.18962432915921287, 0.18962432915921287, 0.19141323792486584, 0.19141323792486584, 0.19856887298747763, 0.19856887298747763, 0.2003577817531306, 0.2003577817531306, 0.2039355992844365, 0.2039355992844365, 0.20572450805008943, 0.20572450805008943, 0.21288014311270126, 0.21288014311270126, 0.2146690518783542, 0.2146690518783542, 0.21645796064400716, 0.21645796064400716, 0.22182468694096602, 0.22182468694096602, 0.22361359570661896, 0.22361359570661896, 0.22540250447227192, 0.22540250447227192, 0.22719141323792486, 0.22719141323792486, 0.23434704830053668, 0.23434704830053668, 0.23613595706618962, 0.23613595706618962, 0.23792486583184258, 0.23792486583184258, 0.24150268336314848, 0.24150268336314848, 0.24686940966010734, 0.24686940966010734, 0.2504472271914132, 0.2504472271914132, 0.2522361359570662, 0.2522361359570662, 0.25402504472271914, 0.25402504472271914, 0.2558139534883721, 0.2558139534883721, 0.25760286225402507, 0.25760286225402507, 0.259391771019678, 0.259391771019678, 0.2629695885509839, 0.2629695885509839, 0.2701252236135957, 0.2701252236135957, 0.27191413237924866, 0.27191413237924866, 0.2772808586762075, 0.2772808586762075, 0.27906976744186046, 0.27906976744186046, 0.2826475849731664, 0.2826475849731664, 0.2880143112701252, 0.2880143112701252, 0.2898032200357782, 0.2898032200357782, 0.29159212880143115, 0.29159212880143115, 0.29338103756708406, 0.29338103756708406, 0.29695885509839, 0.29695885509839, 0.3005366726296959, 0.3005366726296959, 0.3023255813953488, 0.3023255813953488, 0.3041144901610018, 0.3041144901610018, 0.30590339892665475, 0.30590339892665475, 0.3076923076923077, 0.3076923076923077, 0.3094812164579606, 0.3094812164579606, 0.3112701252236136, 0.3112701252236136, 0.3148479427549195, 0.3148479427549195, 0.31663685152057247, 0.31663685152057247, 0.32021466905187834, 0.32021466905187834, 0.32558139534883723, 0.32558139534883723, 0.32737030411449014, 0.32737030411449014, 0.3291592128801431, 0.3291592128801431, 0.33094812164579607, 0.33094812164579607, 0.334525939177102, 0.334525939177102, 0.3363148479427549, 0.3363148479427549, 0.33989266547406083, 0.33989266547406083, 0.3416815742397138, 0.3416815742397138, 0.3434704830053667, 0.3434704830053667, 0.34525939177101966, 0.34525939177101966, 0.3470483005366726, 0.3470483005366726, 0.3488372093023256, 0.3488372093023256, 0.35062611806797855, 0.35062611806797855, 0.3542039355992844, 0.3542039355992844, 0.3559928443649374, 0.3559928443649374, 0.35778175313059035, 0.35778175313059035, 0.3595706618962433, 0.3595706618962433, 0.3631484794275492, 0.3631484794275492, 0.36493738819320215, 0.36493738819320215, 0.3667262969588551, 0.3667262969588551, 0.3756708407871199, 0.3756708407871199, 0.3810375670840787, 0.3810375670840787, 0.38461538461538464, 0.38461538461538464, 0.38640429338103754, 0.38640429338103754, 0.3881932021466905, 0.3881932021466905, 0.3935599284436494, 0.3935599284436494, 0.3953488372093023, 0.3953488372093023, 0.4007155635062612, 0.4007155635062612, 0.40250447227191416, 0.40250447227191416, 0.40608228980322003, 0.40608228980322003, 0.41144901610017887, 0.41144901610017887, 0.41323792486583183, 0.41323792486583183, 0.41681574239713776, 0.41681574239713776, 0.4186046511627907, 0.4186046511627907, 0.4203935599284436, 0.4203935599284436, 0.42397137745974955, 0.42397137745974955, 0.4257602862254025, 0.4257602862254025, 0.43112701252236135, 0.43112701252236135, 0.4329159212880143, 0.4329159212880143, 0.4347048300536673, 0.4347048300536673, 0.4364937388193202, 0.4364937388193202, 0.43828264758497315, 0.43828264758497315, 0.44364937388193204, 0.44364937388193204, 0.4472271914132379, 0.4472271914132379, 0.4490161001788909, 0.4490161001788909, 0.4525939177101968, 0.4525939177101968, 0.4543828264758497, 0.4543828264758497, 0.4561717352415027, 0.4561717352415027, 0.45796064400715564, 0.45796064400715564, 0.4597495527728086, 0.4597495527728086, 0.46332737030411447, 0.46332737030411447, 0.46511627906976744, 0.46511627906976744, 0.4669051878354204, 0.4669051878354204, 0.47227191413237923, 0.47227191413237923, 0.47584973166368516, 0.47584973166368516, 0.47942754919499103, 0.47942754919499103, 0.481216457960644, 0.481216457960644, 0.4865831842576029, 0.4865831842576029, 0.4883720930232558, 0.4883720930232558, 0.4919499105545617, 0.4919499105545617, 0.49731663685152055, 0.49731663685152055, 0.4991055456171735, 0.4991055456171735, 0.5008944543828264, 0.5008944543828264, 0.5026833631484794, 0.5026833631484794, 0.5044722719141324, 0.5044722719141324, 0.5062611806797853, 0.5062611806797853, 0.5134168157423972, 0.5134168157423972, 0.5152057245080501, 0.5152057245080501, 0.5241502683363148, 0.5241502683363148, 0.5295169946332737, 0.5295169946332737, 0.5420393559928444, 0.5420393559928444, 0.5438282647584973, 0.5438282647584973, 0.5509838998211091, 0.5509838998211091, 0.5581395348837209, 0.5581395348837209, 0.5635062611806798, 0.5635062611806798, 0.5652951699463328, 0.5652951699463328, 0.5724508050089445, 0.5724508050089445, 0.5778175313059034, 0.5778175313059034, 0.5831842576028623, 0.5831842576028623, 0.5867620751341681, 0.5867620751341681, 0.590339892665474, 0.590339892665474, 0.592128801431127, 0.592128801431127, 0.5974955277280859, 0.5974955277280859, 0.5992844364937389, 0.5992844364937389, 0.6028622540250447, 0.6028622540250447, 0.6118067978533095, 0.6118067978533095, 0.6135957066189625, 0.6135957066189625, 0.6189624329159212, 0.6189624329159212, 0.6207513416815742, 0.6207513416815742, 0.6243291592128801, 0.6243291592128801, 0.6261180679785331, 0.6261180679785331, 0.627906976744186, 0.627906976744186, 0.631484794275492, 0.631484794275492, 0.6350626118067979, 0.6350626118067979, 0.6368515205724508, 0.6368515205724508, 0.6457960644007156, 0.6457960644007156, 0.6475849731663685, 0.6475849731663685, 0.6547406082289803, 0.6547406082289803, 0.6583184257602862, 0.6583184257602862, 0.6601073345259392, 0.6601073345259392, 0.6636851520572451, 0.6636851520572451, 0.667262969588551, 0.667262969588551, 0.6833631484794276, 0.6833631484794276, 0.6869409660107334, 0.6869409660107334, 0.6940966010733453, 0.6940966010733453, 0.6976744186046512, 0.6976744186046512, 0.6994633273703041, 0.6994633273703041, 0.7066189624329159, 0.7066189624329159, 0.7119856887298748, 0.7119856887298748, 0.7173524150268337, 0.7173524150268337, 0.7191413237924866, 0.7191413237924866, 0.7245080500894454, 0.7245080500894454, 0.7280858676207513, 0.7280858676207513, 0.7298747763864043, 0.7298747763864043, 0.740608228980322, 0.740608228980322, 0.7423971377459749, 0.7423971377459749, 0.7495527728085868, 0.7495527728085868, 0.7567084078711985, 0.7567084078711985, 0.7584973166368515, 0.7584973166368515, 0.7638640429338104, 0.7638640429338104, 0.7692307692307693, 0.7692307692307693, 0.7728085867620751, 0.7728085867620751, 0.774597495527728, 0.774597495527728, 0.778175313059034, 0.778175313059034, 0.7889087656529516, 0.7889087656529516, 0.7906976744186046, 0.7906976744186046, 0.7924865831842576, 0.7924865831842576, 0.7978533094812165, 0.7978533094812165, 0.8050089445438283, 0.8050089445438283, 0.8103756708407871, 0.8103756708407871, 0.813953488372093, 0.813953488372093, 0.817531305903399, 0.817531305903399, 0.8300536672629696, 0.8300536672629696, 0.8372093023255814, 0.8372093023255814, 0.8425760286225402, 0.8425760286225402, 0.8443649373881932, 0.8443649373881932, 0.851520572450805, 0.851520572450805, 0.855098389982111, 0.855098389982111, 0.8819320214669052, 0.8819320214669052, 0.8926654740608229, 0.8926654740608229, 0.8980322003577818, 0.8980322003577818, 0.9087656529516994, 0.9087656529516994, 0.9194991055456172, 0.9194991055456172, 0.9230769230769231, 0.9230769230769231, 0.9284436493738819, 0.9284436493738819, 0.9355992844364938, 0.9355992844364938, 0.9499105545617174, 0.9499105545617174, 0.962432915921288, 0.962432915921288, 0.9695885509838998, 0.9695885509838998, 0.9713774597495528, 0.9713774597495528, 0.9874776386404294, 0.9874776386404294, 1.0], \"xaxis\": \"x\", \"y\": [0.0, 0.0014084507042253522, 0.004225352112676056, 0.004225352112676056, 0.04507042253521127, 0.04507042253521127, 0.04647887323943662, 0.04647887323943662, 0.05211267605633803, 0.05211267605633803, 0.05352112676056338, 0.05352112676056338, 0.059154929577464786, 0.059154929577464786, 0.08591549295774648, 0.08591549295774648, 0.09436619718309859, 0.09436619718309859, 0.10704225352112676, 0.10704225352112676, 0.11549295774647887, 0.11549295774647887, 0.11830985915492957, 0.11830985915492957, 0.11971830985915492, 0.11971830985915492, 0.12816901408450704, 0.12816901408450704, 0.14647887323943662, 0.14647887323943662, 0.14929577464788732, 0.14929577464788732, 0.15211267605633802, 0.15211267605633802, 0.1591549295774648, 0.1591549295774648, 0.1676056338028169, 0.1676056338028169, 0.1732394366197183, 0.1732394366197183, 0.17887323943661973, 0.17887323943661973, 0.18450704225352113, 0.18450704225352113, 0.18732394366197183, 0.18732394366197183, 0.20140845070422536, 0.20140845070422536, 0.20422535211267606, 0.20422535211267606, 0.2056338028169014, 0.2056338028169014, 0.21267605633802816, 0.21267605633802816, 0.21549295774647886, 0.21549295774647886, 0.22253521126760564, 0.22253521126760564, 0.22816901408450704, 0.22816901408450704, 0.2295774647887324, 0.2295774647887324, 0.2352112676056338, 0.2352112676056338, 0.24366197183098592, 0.24366197183098592, 0.2549295774647887, 0.2549295774647887, 0.2591549295774648, 0.2591549295774648, 0.2661971830985915, 0.2661971830985915, 0.2704225352112676, 0.2704225352112676, 0.2746478873239437, 0.2746478873239437, 0.27887323943661974, 0.27887323943661974, 0.2859154929577465, 0.2859154929577465, 0.2915492957746479, 0.2915492957746479, 0.2943661971830986, 0.2943661971830986, 0.29577464788732394, 0.29577464788732394, 0.29859154929577464, 0.29859154929577464, 0.3, 0.3, 0.30140845070422534, 0.30140845070422534, 0.3028169014084507, 0.3028169014084507, 0.30985915492957744, 0.30985915492957744, 0.3154929577464789, 0.3154929577464789, 0.31690140845070425, 0.31690140845070425, 0.323943661971831, 0.323943661971831, 0.32535211267605635, 0.32535211267605635, 0.3352112676056338, 0.3352112676056338, 0.3380281690140845, 0.3380281690140845, 0.33943661971830985, 0.33943661971830985, 0.3492957746478873, 0.3492957746478873, 0.35774647887323946, 0.35774647887323946, 0.3619718309859155, 0.3619718309859155, 0.37183098591549296, 0.37183098591549296, 0.38028169014084506, 0.38028169014084506, 0.3929577464788732, 0.3929577464788732, 0.3957746478873239, 0.3957746478873239, 0.3971830985915493, 0.3971830985915493, 0.4154929577464789, 0.4154929577464789, 0.4225352112676056, 0.4225352112676056, 0.423943661971831, 0.423943661971831, 0.4295774647887324, 0.4295774647887324, 0.4309859154929577, 0.4309859154929577, 0.4323943661971831, 0.4323943661971831, 0.43380281690140843, 0.43380281690140843, 0.4352112676056338, 0.4352112676056338, 0.44084507042253523, 0.44084507042253523, 0.44366197183098594, 0.44366197183098594, 0.44647887323943664, 0.44647887323943664, 0.4507042253521127, 0.4507042253521127, 0.4535211267605634, 0.4535211267605634, 0.45492957746478874, 0.45492957746478874, 0.4591549295774648, 0.4591549295774648, 0.46338028169014084, 0.46338028169014084, 0.4647887323943662, 0.4647887323943662, 0.4704225352112676, 0.4704225352112676, 0.476056338028169, 0.476056338028169, 0.4802816901408451, 0.4802816901408451, 0.48450704225352115, 0.48450704225352115, 0.4859154929577465, 0.4859154929577465, 0.4887323943661972, 0.4887323943661972, 0.49295774647887325, 0.49295774647887325, 0.5014084507042254, 0.5014084507042254, 0.504225352112676, 0.504225352112676, 0.5070422535211268, 0.5070422535211268, 0.5112676056338028, 0.5112676056338028, 0.5126760563380282, 0.5126760563380282, 0.5154929577464789, 0.5154929577464789, 0.5183098591549296, 0.5183098591549296, 0.5225352112676056, 0.5225352112676056, 0.523943661971831, 0.523943661971831, 0.5267605633802817, 0.5267605633802817, 0.5352112676056338, 0.5352112676056338, 0.5366197183098591, 0.5366197183098591, 0.5380281690140845, 0.5380281690140845, 0.5464788732394367, 0.5464788732394367, 0.547887323943662, 0.547887323943662, 0.5492957746478874, 0.5492957746478874, 0.5507042253521127, 0.5507042253521127, 0.5549295774647888, 0.5549295774647888, 0.5746478873239437, 0.5746478873239437, 0.5774647887323944, 0.5774647887323944, 0.5816901408450704, 0.5816901408450704, 0.5859154929577465, 0.5859154929577465, 0.5957746478873239, 0.5957746478873239, 0.5971830985915493, 0.5971830985915493, 0.604225352112676, 0.604225352112676, 0.6056338028169014, 0.6056338028169014, 0.6084507042253521, 0.6084507042253521, 0.6154929577464788, 0.6154929577464788, 0.6169014084507042, 0.6169014084507042, 0.6197183098591549, 0.6197183098591549, 0.6225352112676056, 0.6225352112676056, 0.6323943661971831, 0.6323943661971831, 0.6338028169014085, 0.6338028169014085, 0.6366197183098592, 0.6366197183098592, 0.6380281690140845, 0.6380281690140845, 0.6394366197183099, 0.6394366197183099, 0.6408450704225352, 0.6408450704225352, 0.643661971830986, 0.643661971830986, 0.6450704225352113, 0.6450704225352113, 0.6492957746478873, 0.6492957746478873, 0.6507042253521127, 0.6507042253521127, 0.652112676056338, 0.652112676056338, 0.6549295774647887, 0.6549295774647887, 0.6563380281690141, 0.6563380281690141, 0.6591549295774648, 0.6591549295774648, 0.6647887323943662, 0.6647887323943662, 0.6676056338028169, 0.6676056338028169, 0.6690140845070423, 0.6690140845070423, 0.676056338028169, 0.676056338028169, 0.6830985915492958, 0.6830985915492958, 0.6873239436619718, 0.6873239436619718, 0.6887323943661972, 0.6887323943661972, 0.6901408450704225, 0.6901408450704225, 0.6929577464788732, 0.6929577464788732, 0.7084507042253522, 0.7084507042253522, 0.7154929577464789, 0.7154929577464789, 0.7169014084507043, 0.7169014084507043, 0.7295774647887324, 0.7295774647887324, 0.7309859154929578, 0.7309859154929578, 0.7338028169014085, 0.7338028169014085, 0.7352112676056338, 0.7352112676056338, 0.7366197183098592, 0.7366197183098592, 0.7436619718309859, 0.7436619718309859, 0.7450704225352113, 0.7450704225352113, 0.7464788732394366, 0.7464788732394366, 0.7492957746478873, 0.7492957746478873, 0.7549295774647887, 0.7549295774647887, 0.7577464788732394, 0.7577464788732394, 0.7605633802816901, 0.7605633802816901, 0.7619718309859155, 0.7619718309859155, 0.7633802816901408, 0.7633802816901408, 0.7676056338028169, 0.7676056338028169, 0.7704225352112676, 0.7704225352112676, 0.7718309859154929, 0.7718309859154929, 0.7746478873239436, 0.7746478873239436, 0.776056338028169, 0.776056338028169, 0.7774647887323943, 0.7774647887323943, 0.780281690140845, 0.780281690140845, 0.7816901408450704, 0.7816901408450704, 0.7830985915492957, 0.7830985915492957, 0.7845070422535211, 0.7845070422535211, 0.7859154929577464, 0.7859154929577464, 0.7873239436619718, 0.7873239436619718, 0.7887323943661971, 0.7887323943661971, 0.7929577464788733, 0.7929577464788733, 0.7943661971830986, 0.7943661971830986, 0.795774647887324, 0.795774647887324, 0.7971830985915493, 0.7971830985915493, 0.7985915492957747, 0.7985915492957747, 0.8, 0.8, 0.8014084507042254, 0.8014084507042254, 0.8028169014084507, 0.8028169014084507, 0.8042253521126761, 0.8042253521126761, 0.8070422535211268, 0.8070422535211268, 0.8084507042253521, 0.8084507042253521, 0.8098591549295775, 0.8098591549295775, 0.8112676056338028, 0.8112676056338028, 0.8154929577464789, 0.8154929577464789, 0.8169014084507042, 0.8169014084507042, 0.8183098591549296, 0.8183098591549296, 0.819718309859155, 0.819718309859155, 0.8225352112676056, 0.8225352112676056, 0.823943661971831, 0.823943661971831, 0.828169014084507, 0.828169014084507, 0.8338028169014085, 0.8338028169014085, 0.8352112676056338, 0.8352112676056338, 0.8366197183098592, 0.8366197183098592, 0.8380281690140845, 0.8380281690140845, 0.8394366197183099, 0.8394366197183099, 0.8408450704225352, 0.8408450704225352, 0.8450704225352113, 0.8450704225352113, 0.8464788732394366, 0.8464788732394366, 0.8507042253521127, 0.8507042253521127, 0.8535211267605634, 0.8535211267605634, 0.856338028169014, 0.856338028169014, 0.8577464788732394, 0.8577464788732394, 0.8591549295774648, 0.8591549295774648, 0.8619718309859155, 0.8619718309859155, 0.8633802816901408, 0.8633802816901408, 0.8647887323943662, 0.8647887323943662, 0.8676056338028169, 0.8676056338028169, 0.8704225352112676, 0.8704225352112676, 0.8732394366197183, 0.8732394366197183, 0.8746478873239436, 0.8746478873239436, 0.8760563380281691, 0.8760563380281691, 0.8774647887323944, 0.8774647887323944, 0.8788732394366198, 0.8788732394366198, 0.8802816901408451, 0.8802816901408451, 0.8816901408450705, 0.8816901408450705, 0.8830985915492958, 0.8830985915492958, 0.8845070422535212, 0.8845070422535212, 0.8873239436619719, 0.8873239436619719, 0.9014084507042254, 0.9014084507042254, 0.9028169014084507, 0.9028169014084507, 0.9042253521126761, 0.9042253521126761, 0.9056338028169014, 0.9056338028169014, 0.9070422535211268, 0.9070422535211268, 0.9084507042253521, 0.9084507042253521, 0.9098591549295775, 0.9098591549295775, 0.9140845070422535, 0.9140845070422535, 0.9154929577464789, 0.9154929577464789, 0.9183098591549296, 0.9183098591549296, 0.9211267605633803, 0.9211267605633803, 0.9225352112676056, 0.9225352112676056, 0.9253521126760563, 0.9253521126760563, 0.9295774647887324, 0.9295774647887324, 0.9309859154929577, 0.9309859154929577, 0.9323943661971831, 0.9323943661971831, 0.9338028169014084, 0.9338028169014084, 0.9352112676056338, 0.9352112676056338, 0.9366197183098591, 0.9366197183098591, 0.9380281690140845, 0.9380281690140845, 0.9394366197183098, 0.9394366197183098, 0.9422535211267605, 0.9422535211267605, 0.9436619718309859, 0.9436619718309859, 0.9450704225352112, 0.9450704225352112, 0.9464788732394366, 0.9464788732394366, 0.9478873239436619, 0.9478873239436619, 0.9492957746478873, 0.9492957746478873, 0.9507042253521126, 0.9507042253521126, 0.952112676056338, 0.952112676056338, 0.9535211267605633, 0.9535211267605633, 0.9577464788732394, 0.9577464788732394, 0.9591549295774648, 0.9591549295774648, 0.9605633802816902, 0.9605633802816902, 0.9633802816901409, 0.9633802816901409, 0.967605633802817, 0.967605633802817, 0.971830985915493, 0.971830985915493, 0.9732394366197183, 0.9732394366197183, 0.9746478873239437, 0.9746478873239437, 0.976056338028169, 0.976056338028169, 0.9774647887323944, 0.9774647887323944, 0.9788732394366197, 0.9788732394366197, 0.9802816901408451, 0.9802816901408451, 0.9816901408450704, 0.9816901408450704, 0.9830985915492958, 0.9830985915492958, 0.9845070422535211, 0.9845070422535211, 0.9873239436619718, 0.9873239436619718, 0.9887323943661972, 0.9887323943661972, 0.9901408450704225, 0.9901408450704225, 0.9929577464788732, 0.9929577464788732, 0.995774647887324, 0.995774647887324, 0.9971830985915493, 0.9971830985915493, 0.9985915492957746, 0.9985915492957746, 1.0, 1.0], \"yaxis\": \"y\"}, {\"showlegend\": false, \"type\": \"scatter\", \"x\": [0, 1], \"xaxis\": \"x\", \"y\": [0, 1], \"yaxis\": \"y\"}],                        {\"height\": 600, \"template\": {\"data\": {\"bar\": [{\"error_x\": {\"color\": \"#2a3f5f\"}, \"error_y\": {\"color\": \"#2a3f5f\"}, \"marker\": {\"line\": {\"color\": \"#E5ECF6\", \"width\": 0.5}}, \"type\": \"bar\"}], \"barpolar\": [{\"marker\": {\"line\": {\"color\": \"#E5ECF6\", \"width\": 0.5}}, \"type\": \"barpolar\"}], \"carpet\": [{\"aaxis\": {\"endlinecolor\": \"#2a3f5f\", \"gridcolor\": \"white\", \"linecolor\": \"white\", \"minorgridcolor\": \"white\", \"startlinecolor\": \"#2a3f5f\"}, \"baxis\": {\"endlinecolor\": \"#2a3f5f\", \"gridcolor\": \"white\", \"linecolor\": \"white\", \"minorgridcolor\": \"white\", \"startlinecolor\": \"#2a3f5f\"}, \"type\": \"carpet\"}], \"choropleth\": [{\"colorbar\": {\"outlinewidth\": 0, \"ticks\": \"\"}, \"type\": \"choropleth\"}], \"contour\": [{\"colorbar\": {\"outlinewidth\": 0, \"ticks\": \"\"}, \"colorscale\": [[0.0, \"#0d0887\"], [0.1111111111111111, \"#46039f\"], [0.2222222222222222, \"#7201a8\"], [0.3333333333333333, \"#9c179e\"], [0.4444444444444444, \"#bd3786\"], [0.5555555555555556, \"#d8576b\"], [0.6666666666666666, \"#ed7953\"], [0.7777777777777778, \"#fb9f3a\"], [0.8888888888888888, \"#fdca26\"], [1.0, \"#f0f921\"]], \"type\": \"contour\"}], \"contourcarpet\": [{\"colorbar\": {\"outlinewidth\": 0, \"ticks\": \"\"}, \"type\": \"contourcarpet\"}], \"heatmap\": [{\"colorbar\": {\"outlinewidth\": 0, \"ticks\": \"\"}, \"colorscale\": [[0.0, \"#0d0887\"], [0.1111111111111111, \"#46039f\"], [0.2222222222222222, \"#7201a8\"], [0.3333333333333333, \"#9c179e\"], [0.4444444444444444, \"#bd3786\"], [0.5555555555555556, \"#d8576b\"], [0.6666666666666666, \"#ed7953\"], [0.7777777777777778, \"#fb9f3a\"], [0.8888888888888888, \"#fdca26\"], [1.0, \"#f0f921\"]], \"type\": \"heatmap\"}], \"heatmapgl\": [{\"colorbar\": {\"outlinewidth\": 0, \"ticks\": \"\"}, \"colorscale\": [[0.0, \"#0d0887\"], [0.1111111111111111, \"#46039f\"], [0.2222222222222222, \"#7201a8\"], [0.3333333333333333, \"#9c179e\"], [0.4444444444444444, \"#bd3786\"], [0.5555555555555556, \"#d8576b\"], [0.6666666666666666, \"#ed7953\"], [0.7777777777777778, \"#fb9f3a\"], [0.8888888888888888, \"#fdca26\"], [1.0, \"#f0f921\"]], \"type\": \"heatmapgl\"}], \"histogram\": [{\"marker\": {\"colorbar\": {\"outlinewidth\": 0, \"ticks\": \"\"}}, \"type\": \"histogram\"}], \"histogram2d\": [{\"colorbar\": {\"outlinewidth\": 0, \"ticks\": \"\"}, \"colorscale\": [[0.0, \"#0d0887\"], [0.1111111111111111, \"#46039f\"], [0.2222222222222222, \"#7201a8\"], [0.3333333333333333, \"#9c179e\"], [0.4444444444444444, \"#bd3786\"], [0.5555555555555556, \"#d8576b\"], [0.6666666666666666, \"#ed7953\"], [0.7777777777777778, \"#fb9f3a\"], [0.8888888888888888, \"#fdca26\"], [1.0, \"#f0f921\"]], \"type\": \"histogram2d\"}], \"histogram2dcontour\": [{\"colorbar\": {\"outlinewidth\": 0, \"ticks\": \"\"}, \"colorscale\": [[0.0, \"#0d0887\"], [0.1111111111111111, \"#46039f\"], [0.2222222222222222, \"#7201a8\"], [0.3333333333333333, \"#9c179e\"], [0.4444444444444444, \"#bd3786\"], [0.5555555555555556, \"#d8576b\"], [0.6666666666666666, \"#ed7953\"], [0.7777777777777778, \"#fb9f3a\"], [0.8888888888888888, \"#fdca26\"], [1.0, \"#f0f921\"]], \"type\": \"histogram2dcontour\"}], \"mesh3d\": [{\"colorbar\": {\"outlinewidth\": 0, \"ticks\": \"\"}, \"type\": \"mesh3d\"}], \"parcoords\": [{\"line\": {\"colorbar\": {\"outlinewidth\": 0, \"ticks\": \"\"}}, \"type\": \"parcoords\"}], \"pie\": [{\"automargin\": true, \"type\": \"pie\"}], \"scatter\": [{\"marker\": {\"colorbar\": {\"outlinewidth\": 0, \"ticks\": \"\"}}, \"type\": \"scatter\"}], \"scatter3d\": [{\"line\": {\"colorbar\": {\"outlinewidth\": 0, \"ticks\": \"\"}}, \"marker\": {\"colorbar\": {\"outlinewidth\": 0, \"ticks\": \"\"}}, \"type\": \"scatter3d\"}], \"scattercarpet\": [{\"marker\": {\"colorbar\": {\"outlinewidth\": 0, \"ticks\": \"\"}}, \"type\": \"scattercarpet\"}], \"scattergeo\": [{\"marker\": {\"colorbar\": {\"outlinewidth\": 0, \"ticks\": \"\"}}, \"type\": \"scattergeo\"}], \"scattergl\": [{\"marker\": {\"colorbar\": {\"outlinewidth\": 0, \"ticks\": \"\"}}, \"type\": \"scattergl\"}], \"scattermapbox\": [{\"marker\": {\"colorbar\": {\"outlinewidth\": 0, \"ticks\": \"\"}}, \"type\": \"scattermapbox\"}], \"scatterpolar\": [{\"marker\": {\"colorbar\": {\"outlinewidth\": 0, \"ticks\": \"\"}}, \"type\": \"scatterpolar\"}], \"scatterpolargl\": [{\"marker\": {\"colorbar\": {\"outlinewidth\": 0, \"ticks\": \"\"}}, \"type\": \"scatterpolargl\"}], \"scatterternary\": [{\"marker\": {\"colorbar\": {\"outlinewidth\": 0, \"ticks\": \"\"}}, \"type\": \"scatterternary\"}], \"surface\": [{\"colorbar\": {\"outlinewidth\": 0, \"ticks\": \"\"}, \"colorscale\": [[0.0, \"#0d0887\"], [0.1111111111111111, \"#46039f\"], [0.2222222222222222, \"#7201a8\"], [0.3333333333333333, \"#9c179e\"], [0.4444444444444444, \"#bd3786\"], [0.5555555555555556, \"#d8576b\"], [0.6666666666666666, \"#ed7953\"], [0.7777777777777778, \"#fb9f3a\"], [0.8888888888888888, \"#fdca26\"], [1.0, \"#f0f921\"]], \"type\": \"surface\"}], \"table\": [{\"cells\": {\"fill\": {\"color\": \"#EBF0F8\"}, \"line\": {\"color\": \"white\"}}, \"header\": {\"fill\": {\"color\": \"#C8D4E3\"}, \"line\": {\"color\": \"white\"}}, \"type\": \"table\"}]}, \"layout\": {\"annotationdefaults\": {\"arrowcolor\": \"#2a3f5f\", \"arrowhead\": 0, \"arrowwidth\": 1}, \"autotypenumbers\": \"strict\", \"coloraxis\": {\"colorbar\": {\"outlinewidth\": 0, \"ticks\": \"\"}}, \"colorscale\": {\"diverging\": [[0, \"#8e0152\"], [0.1, \"#c51b7d\"], [0.2, \"#de77ae\"], [0.3, \"#f1b6da\"], [0.4, \"#fde0ef\"], [0.5, \"#f7f7f7\"], [0.6, \"#e6f5d0\"], [0.7, \"#b8e186\"], [0.8, \"#7fbc41\"], [0.9, \"#4d9221\"], [1, \"#276419\"]], \"sequential\": [[0.0, \"#0d0887\"], [0.1111111111111111, \"#46039f\"], [0.2222222222222222, \"#7201a8\"], [0.3333333333333333, \"#9c179e\"], [0.4444444444444444, \"#bd3786\"], [0.5555555555555556, \"#d8576b\"], [0.6666666666666666, \"#ed7953\"], [0.7777777777777778, \"#fb9f3a\"], [0.8888888888888888, \"#fdca26\"], [1.0, \"#f0f921\"]], \"sequentialminus\": [[0.0, \"#0d0887\"], [0.1111111111111111, \"#46039f\"], [0.2222222222222222, \"#7201a8\"], [0.3333333333333333, \"#9c179e\"], [0.4444444444444444, \"#bd3786\"], [0.5555555555555556, \"#d8576b\"], [0.6666666666666666, \"#ed7953\"], [0.7777777777777778, \"#fb9f3a\"], [0.8888888888888888, \"#fdca26\"], [1.0, \"#f0f921\"]]}, \"colorway\": [\"#636efa\", \"#EF553B\", \"#00cc96\", \"#ab63fa\", \"#FFA15A\", \"#19d3f3\", \"#FF6692\", \"#B6E880\", \"#FF97FF\", \"#FECB52\"], \"font\": {\"color\": \"#2a3f5f\"}, \"geo\": {\"bgcolor\": \"white\", \"lakecolor\": \"white\", \"landcolor\": \"#E5ECF6\", \"showlakes\": true, \"showland\": true, \"subunitcolor\": \"white\"}, \"hoverlabel\": {\"align\": \"left\"}, \"hovermode\": \"closest\", \"mapbox\": {\"style\": \"light\"}, \"paper_bgcolor\": \"white\", \"plot_bgcolor\": \"#E5ECF6\", \"polar\": {\"angularaxis\": {\"gridcolor\": \"white\", \"linecolor\": \"white\", \"ticks\": \"\"}, \"bgcolor\": \"#E5ECF6\", \"radialaxis\": {\"gridcolor\": \"white\", \"linecolor\": \"white\", \"ticks\": \"\"}}, \"scene\": {\"xaxis\": {\"backgroundcolor\": \"#E5ECF6\", \"gridcolor\": \"white\", \"gridwidth\": 2, \"linecolor\": \"white\", \"showbackground\": true, \"ticks\": \"\", \"zerolinecolor\": \"white\"}, \"yaxis\": {\"backgroundcolor\": \"#E5ECF6\", \"gridcolor\": \"white\", \"gridwidth\": 2, \"linecolor\": \"white\", \"showbackground\": true, \"ticks\": \"\", \"zerolinecolor\": \"white\"}, \"zaxis\": {\"backgroundcolor\": \"#E5ECF6\", \"gridcolor\": \"white\", \"gridwidth\": 2, \"linecolor\": \"white\", \"showbackground\": true, \"ticks\": \"\", \"zerolinecolor\": \"white\"}}, \"shapedefaults\": {\"line\": {\"color\": \"#2a3f5f\"}}, \"ternary\": {\"aaxis\": {\"gridcolor\": \"white\", \"linecolor\": \"white\", \"ticks\": \"\"}, \"baxis\": {\"gridcolor\": \"white\", \"linecolor\": \"white\", \"ticks\": \"\"}, \"bgcolor\": \"#E5ECF6\", \"caxis\": {\"gridcolor\": \"white\", \"linecolor\": \"white\", \"ticks\": \"\"}}, \"title\": {\"x\": 0.05}, \"xaxis\": {\"automargin\": true, \"gridcolor\": \"white\", \"linecolor\": \"white\", \"ticks\": \"\", \"title\": {\"standoff\": 15}, \"zerolinecolor\": \"white\", \"zerolinewidth\": 2}, \"yaxis\": {\"automargin\": true, \"gridcolor\": \"white\", \"linecolor\": \"white\", \"ticks\": \"\", \"title\": {\"standoff\": 15}, \"zerolinecolor\": \"white\", \"zerolinewidth\": 2}}}, \"title\": {\"text\": \"Receiver operating characteristic (ROC Curve)\"}, \"width\": 1200, \"xaxis\": {\"anchor\": \"y\", \"domain\": [0.0, 1.0], \"range\": [0, 1], \"title\": {\"text\": \"False Positive Rate\"}}, \"yaxis\": {\"anchor\": \"x\", \"domain\": [0.0, 1.0], \"range\": [0, 1], \"title\": {\"text\": \"True Positive Rate\"}}},                        {\"responsive\": true}                    ).then(function(){\n",
       "                            \n",
       "var gd = document.getElementById('ac401bc1-dfe8-45e4-801d-a76a8ac72c5a');\n",
       "var x = new MutationObserver(function (mutations, observer) {{\n",
       "        var display = window.getComputedStyle(gd).display;\n",
       "        if (!display || display === 'none') {{\n",
       "            console.log([gd, 'removed!']);\n",
       "            Plotly.purge(gd);\n",
       "            observer.disconnect();\n",
       "        }}\n",
       "}});\n",
       "\n",
       "// Listen for the removal of the full notebook cells\n",
       "var notebookContainer = gd.closest('#notebook-container');\n",
       "if (notebookContainer) {{\n",
       "    x.observe(notebookContainer, {childList: true});\n",
       "}}\n",
       "\n",
       "// Listen for the clearing of the current output cell\n",
       "var outputEl = gd.closest('.output');\n",
       "if (outputEl) {{\n",
       "    x.observe(outputEl, {childList: true});\n",
       "}}\n",
       "\n",
       "                        })                };                });            </script>        </div>"
      ]
     },
     "metadata": {},
     "output_type": "display_data"
    }
   ],
   "source": [
    "logit_roc_auc = roc_auc_score(Y_test, model.predict(X_test))\n",
    "fpr, tpr, thresholds = roc_curve(Y_test, model.predict_proba(X_test)[:,1])\n",
    "fig = make_subplots(rows=1, cols=1)\n",
    "\n",
    "fig.add_trace(go.Line(x=fpr, y=tpr, name=\"Logistic Regression {}\".format(logit_roc_auc)),row=1, col=1)\n",
    "\n",
    "fig.add_trace(go.Line(x=[0,1], y=[0,1],showlegend=False ),row=1, col=1)\n",
    "\n",
    "fig.update_xaxes(title_text=\"False Positive Rate\", range=[0,1], row=1, col=1)\n",
    "fig.update_yaxes(title_text=\"True Positive Rate\",range=[0,1], row=1, col=1)\n",
    "fig.update_layout(height=600,width=1200, title_text=\"Receiver operating characteristic (ROC Curve)\",)"
   ]
  },
  {
   "cell_type": "code",
   "execution_count": null,
   "id": "still-percentage",
   "metadata": {},
   "outputs": [],
   "source": []
  }
 ],
 "metadata": {
  "kernelspec": {
   "display_name": "Python 3",
   "language": "python",
   "name": "python3"
  },
  "language_info": {
   "codemirror_mode": {
    "name": "ipython",
    "version": 3
   },
   "file_extension": ".py",
   "mimetype": "text/x-python",
   "name": "python",
   "nbconvert_exporter": "python",
   "pygments_lexer": "ipython3",
   "version": "3.8.5"
  }
 },
 "nbformat": 4,
 "nbformat_minor": 5
}
